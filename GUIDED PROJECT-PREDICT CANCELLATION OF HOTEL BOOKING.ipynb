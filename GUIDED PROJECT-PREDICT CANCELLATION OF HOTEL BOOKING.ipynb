{
 "cells": [
  {
   "cell_type": "code",
   "execution_count": 1,
   "id": "1a3d4339",
   "metadata": {},
   "outputs": [],
   "source": [
    "# BUSINESS PROBLEM : using machine learning , we need to figure out whether a hotel booing will be caancelled or not"
   ]
  },
  {
   "cell_type": "raw",
   "id": "45c5a513",
   "metadata": {},
   "source": [
    "DATAFRAMES:\n",
    "    DF1: ORIGINAL\n",
    "    DF2 : REMOVED IMPOSSIBLE CONDITION\n",
    "    DF3: REMOVED UNWANTED COLUMNS BEFORE CATEGORISING INTO NUMERICAL AND CATEGORICAL VALUES\n",
    "    DF4: REMOVING OVERFITTING/UNDERFITTING FEATURES"
   ]
  },
  {
   "cell_type": "code",
   "execution_count": 2,
   "id": "cff814bc",
   "metadata": {},
   "outputs": [
    {
     "data": {
      "text/html": [
       "        <script type=\"text/javascript\">\n",
       "        window.PlotlyConfig = {MathJaxConfig: 'local'};\n",
       "        if (window.MathJax && window.MathJax.Hub && window.MathJax.Hub.Config) {window.MathJax.Hub.Config({SVG: {font: \"STIX-Web\"}});}\n",
       "        if (typeof require !== 'undefined') {\n",
       "        require.undef(\"plotly\");\n",
       "        requirejs.config({\n",
       "            paths: {\n",
       "                'plotly': ['https://cdn.plot.ly/plotly-2.16.1.min']\n",
       "            }\n",
       "        });\n",
       "        require(['plotly'], function(Plotly) {\n",
       "            window._Plotly = Plotly;\n",
       "        });\n",
       "        }\n",
       "        </script>\n",
       "        "
      ]
     },
     "metadata": {},
     "output_type": "display_data"
    },
    {
     "name": "stderr",
     "output_type": "stream",
     "text": [
      "C:\\Users\\hp\\anaconda3\\lib\\site-packages\\scipy\\__init__.py:138: UserWarning:\n",
      "\n",
      "A NumPy version >=1.16.5 and <1.23.0 is required for this version of SciPy (detected version 1.24.2)\n",
      "\n"
     ]
    }
   ],
   "source": [
    "import numpy as np\n",
    "import pandas as pd\n",
    "import plotly\n",
    "import chart_studio.plotly as py\n",
    "from plotly.offline import download_plotlyjs, init_notebook_mode,plot, iplot\n",
    "init_notebook_mode(connected =True)\n",
    "import plotly.express as ps\n",
    "import seaborn as sns\n",
    "import matplotlib.pyplot as plt\n",
    "import warnings\n",
    "from warnings import filterwarnings\n",
    "filterwarnings('ignore')"
   ]
  },
  {
   "cell_type": "code",
   "execution_count": 3,
   "id": "bbbac674",
   "metadata": {},
   "outputs": [
    {
     "data": {
      "text/plain": [
       "Index(['hotel', 'is_canceled', 'lead_time', 'arrival_date_year',\n",
       "       'arrival_date_month', 'arrival_date_week_number',\n",
       "       'arrival_date_day_of_month', 'stays_in_weekend_nights',\n",
       "       'stays_in_week_nights', 'adults', 'children', 'babies', 'meal',\n",
       "       'country', 'market_segment', 'distribution_channel',\n",
       "       'is_repeated_guest', 'previous_cancellations',\n",
       "       'previous_bookings_not_canceled', 'reserved_room_type',\n",
       "       'assigned_room_type', 'booking_changes', 'deposit_type', 'agent',\n",
       "       'company', 'days_in_waiting_list', 'customer_type', 'adr',\n",
       "       'required_car_parking_spaces', 'total_of_special_requests',\n",
       "       'reservation_status', 'reservation_status_date'],\n",
       "      dtype='object')"
      ]
     },
     "execution_count": 3,
     "metadata": {},
     "output_type": "execute_result"
    }
   ],
   "source": [
    "df1= pd.read_csv('C:\\\\Users\\\\hp\\\\hotel_bookings.csv')\n",
    "df1.columns"
   ]
  },
  {
   "cell_type": "code",
   "execution_count": 4,
   "id": "d77b8833",
   "metadata": {},
   "outputs": [
    {
     "data": {
      "text/html": [
       "<div>\n",
       "<style scoped>\n",
       "    .dataframe tbody tr th:only-of-type {\n",
       "        vertical-align: middle;\n",
       "    }\n",
       "\n",
       "    .dataframe tbody tr th {\n",
       "        vertical-align: top;\n",
       "    }\n",
       "\n",
       "    .dataframe thead th {\n",
       "        text-align: right;\n",
       "    }\n",
       "</style>\n",
       "<table border=\"1\" class=\"dataframe\">\n",
       "  <thead>\n",
       "    <tr style=\"text-align: right;\">\n",
       "      <th></th>\n",
       "      <th>is_canceled</th>\n",
       "      <th>lead_time</th>\n",
       "      <th>arrival_date_year</th>\n",
       "      <th>arrival_date_week_number</th>\n",
       "      <th>arrival_date_day_of_month</th>\n",
       "      <th>stays_in_weekend_nights</th>\n",
       "      <th>stays_in_week_nights</th>\n",
       "      <th>adults</th>\n",
       "      <th>children</th>\n",
       "      <th>babies</th>\n",
       "      <th>is_repeated_guest</th>\n",
       "      <th>previous_cancellations</th>\n",
       "      <th>previous_bookings_not_canceled</th>\n",
       "      <th>booking_changes</th>\n",
       "      <th>agent</th>\n",
       "      <th>company</th>\n",
       "      <th>days_in_waiting_list</th>\n",
       "      <th>adr</th>\n",
       "      <th>required_car_parking_spaces</th>\n",
       "      <th>total_of_special_requests</th>\n",
       "    </tr>\n",
       "  </thead>\n",
       "  <tbody>\n",
       "    <tr>\n",
       "      <th>count</th>\n",
       "      <td>119390.000000</td>\n",
       "      <td>119390.000000</td>\n",
       "      <td>119390.000000</td>\n",
       "      <td>119390.000000</td>\n",
       "      <td>119390.000000</td>\n",
       "      <td>119390.000000</td>\n",
       "      <td>119390.000000</td>\n",
       "      <td>119390.000000</td>\n",
       "      <td>119386.000000</td>\n",
       "      <td>119390.000000</td>\n",
       "      <td>119390.000000</td>\n",
       "      <td>119390.000000</td>\n",
       "      <td>119390.000000</td>\n",
       "      <td>119390.000000</td>\n",
       "      <td>103050.000000</td>\n",
       "      <td>6797.000000</td>\n",
       "      <td>119390.000000</td>\n",
       "      <td>119390.000000</td>\n",
       "      <td>119390.000000</td>\n",
       "      <td>119390.000000</td>\n",
       "    </tr>\n",
       "    <tr>\n",
       "      <th>mean</th>\n",
       "      <td>0.370416</td>\n",
       "      <td>104.011416</td>\n",
       "      <td>2016.156554</td>\n",
       "      <td>27.165173</td>\n",
       "      <td>15.798241</td>\n",
       "      <td>0.927599</td>\n",
       "      <td>2.500302</td>\n",
       "      <td>1.856403</td>\n",
       "      <td>0.103890</td>\n",
       "      <td>0.007949</td>\n",
       "      <td>0.031912</td>\n",
       "      <td>0.087118</td>\n",
       "      <td>0.137097</td>\n",
       "      <td>0.221124</td>\n",
       "      <td>86.693382</td>\n",
       "      <td>189.266735</td>\n",
       "      <td>2.321149</td>\n",
       "      <td>101.831122</td>\n",
       "      <td>0.062518</td>\n",
       "      <td>0.571363</td>\n",
       "    </tr>\n",
       "    <tr>\n",
       "      <th>std</th>\n",
       "      <td>0.482918</td>\n",
       "      <td>106.863097</td>\n",
       "      <td>0.707476</td>\n",
       "      <td>13.605138</td>\n",
       "      <td>8.780829</td>\n",
       "      <td>0.998613</td>\n",
       "      <td>1.908286</td>\n",
       "      <td>0.579261</td>\n",
       "      <td>0.398561</td>\n",
       "      <td>0.097436</td>\n",
       "      <td>0.175767</td>\n",
       "      <td>0.844336</td>\n",
       "      <td>1.497437</td>\n",
       "      <td>0.652306</td>\n",
       "      <td>110.774548</td>\n",
       "      <td>131.655015</td>\n",
       "      <td>17.594721</td>\n",
       "      <td>50.535790</td>\n",
       "      <td>0.245291</td>\n",
       "      <td>0.792798</td>\n",
       "    </tr>\n",
       "    <tr>\n",
       "      <th>min</th>\n",
       "      <td>0.000000</td>\n",
       "      <td>0.000000</td>\n",
       "      <td>2015.000000</td>\n",
       "      <td>1.000000</td>\n",
       "      <td>1.000000</td>\n",
       "      <td>0.000000</td>\n",
       "      <td>0.000000</td>\n",
       "      <td>0.000000</td>\n",
       "      <td>0.000000</td>\n",
       "      <td>0.000000</td>\n",
       "      <td>0.000000</td>\n",
       "      <td>0.000000</td>\n",
       "      <td>0.000000</td>\n",
       "      <td>0.000000</td>\n",
       "      <td>1.000000</td>\n",
       "      <td>6.000000</td>\n",
       "      <td>0.000000</td>\n",
       "      <td>-6.380000</td>\n",
       "      <td>0.000000</td>\n",
       "      <td>0.000000</td>\n",
       "    </tr>\n",
       "    <tr>\n",
       "      <th>25%</th>\n",
       "      <td>0.000000</td>\n",
       "      <td>18.000000</td>\n",
       "      <td>2016.000000</td>\n",
       "      <td>16.000000</td>\n",
       "      <td>8.000000</td>\n",
       "      <td>0.000000</td>\n",
       "      <td>1.000000</td>\n",
       "      <td>2.000000</td>\n",
       "      <td>0.000000</td>\n",
       "      <td>0.000000</td>\n",
       "      <td>0.000000</td>\n",
       "      <td>0.000000</td>\n",
       "      <td>0.000000</td>\n",
       "      <td>0.000000</td>\n",
       "      <td>9.000000</td>\n",
       "      <td>62.000000</td>\n",
       "      <td>0.000000</td>\n",
       "      <td>69.290000</td>\n",
       "      <td>0.000000</td>\n",
       "      <td>0.000000</td>\n",
       "    </tr>\n",
       "    <tr>\n",
       "      <th>50%</th>\n",
       "      <td>0.000000</td>\n",
       "      <td>69.000000</td>\n",
       "      <td>2016.000000</td>\n",
       "      <td>28.000000</td>\n",
       "      <td>16.000000</td>\n",
       "      <td>1.000000</td>\n",
       "      <td>2.000000</td>\n",
       "      <td>2.000000</td>\n",
       "      <td>0.000000</td>\n",
       "      <td>0.000000</td>\n",
       "      <td>0.000000</td>\n",
       "      <td>0.000000</td>\n",
       "      <td>0.000000</td>\n",
       "      <td>0.000000</td>\n",
       "      <td>14.000000</td>\n",
       "      <td>179.000000</td>\n",
       "      <td>0.000000</td>\n",
       "      <td>94.575000</td>\n",
       "      <td>0.000000</td>\n",
       "      <td>0.000000</td>\n",
       "    </tr>\n",
       "    <tr>\n",
       "      <th>75%</th>\n",
       "      <td>1.000000</td>\n",
       "      <td>160.000000</td>\n",
       "      <td>2017.000000</td>\n",
       "      <td>38.000000</td>\n",
       "      <td>23.000000</td>\n",
       "      <td>2.000000</td>\n",
       "      <td>3.000000</td>\n",
       "      <td>2.000000</td>\n",
       "      <td>0.000000</td>\n",
       "      <td>0.000000</td>\n",
       "      <td>0.000000</td>\n",
       "      <td>0.000000</td>\n",
       "      <td>0.000000</td>\n",
       "      <td>0.000000</td>\n",
       "      <td>229.000000</td>\n",
       "      <td>270.000000</td>\n",
       "      <td>0.000000</td>\n",
       "      <td>126.000000</td>\n",
       "      <td>0.000000</td>\n",
       "      <td>1.000000</td>\n",
       "    </tr>\n",
       "    <tr>\n",
       "      <th>max</th>\n",
       "      <td>1.000000</td>\n",
       "      <td>737.000000</td>\n",
       "      <td>2017.000000</td>\n",
       "      <td>53.000000</td>\n",
       "      <td>31.000000</td>\n",
       "      <td>19.000000</td>\n",
       "      <td>50.000000</td>\n",
       "      <td>55.000000</td>\n",
       "      <td>10.000000</td>\n",
       "      <td>10.000000</td>\n",
       "      <td>1.000000</td>\n",
       "      <td>26.000000</td>\n",
       "      <td>72.000000</td>\n",
       "      <td>21.000000</td>\n",
       "      <td>535.000000</td>\n",
       "      <td>543.000000</td>\n",
       "      <td>391.000000</td>\n",
       "      <td>5400.000000</td>\n",
       "      <td>8.000000</td>\n",
       "      <td>5.000000</td>\n",
       "    </tr>\n",
       "  </tbody>\n",
       "</table>\n",
       "</div>"
      ],
      "text/plain": [
       "         is_canceled      lead_time  arrival_date_year   \n",
       "count  119390.000000  119390.000000      119390.000000  \\\n",
       "mean        0.370416     104.011416        2016.156554   \n",
       "std         0.482918     106.863097           0.707476   \n",
       "min         0.000000       0.000000        2015.000000   \n",
       "25%         0.000000      18.000000        2016.000000   \n",
       "50%         0.000000      69.000000        2016.000000   \n",
       "75%         1.000000     160.000000        2017.000000   \n",
       "max         1.000000     737.000000        2017.000000   \n",
       "\n",
       "       arrival_date_week_number  arrival_date_day_of_month   \n",
       "count             119390.000000              119390.000000  \\\n",
       "mean                  27.165173                  15.798241   \n",
       "std                   13.605138                   8.780829   \n",
       "min                    1.000000                   1.000000   \n",
       "25%                   16.000000                   8.000000   \n",
       "50%                   28.000000                  16.000000   \n",
       "75%                   38.000000                  23.000000   \n",
       "max                   53.000000                  31.000000   \n",
       "\n",
       "       stays_in_weekend_nights  stays_in_week_nights         adults   \n",
       "count            119390.000000         119390.000000  119390.000000  \\\n",
       "mean                  0.927599              2.500302       1.856403   \n",
       "std                   0.998613              1.908286       0.579261   \n",
       "min                   0.000000              0.000000       0.000000   \n",
       "25%                   0.000000              1.000000       2.000000   \n",
       "50%                   1.000000              2.000000       2.000000   \n",
       "75%                   2.000000              3.000000       2.000000   \n",
       "max                  19.000000             50.000000      55.000000   \n",
       "\n",
       "            children         babies  is_repeated_guest   \n",
       "count  119386.000000  119390.000000      119390.000000  \\\n",
       "mean        0.103890       0.007949           0.031912   \n",
       "std         0.398561       0.097436           0.175767   \n",
       "min         0.000000       0.000000           0.000000   \n",
       "25%         0.000000       0.000000           0.000000   \n",
       "50%         0.000000       0.000000           0.000000   \n",
       "75%         0.000000       0.000000           0.000000   \n",
       "max        10.000000      10.000000           1.000000   \n",
       "\n",
       "       previous_cancellations  previous_bookings_not_canceled   \n",
       "count           119390.000000                   119390.000000  \\\n",
       "mean                 0.087118                        0.137097   \n",
       "std                  0.844336                        1.497437   \n",
       "min                  0.000000                        0.000000   \n",
       "25%                  0.000000                        0.000000   \n",
       "50%                  0.000000                        0.000000   \n",
       "75%                  0.000000                        0.000000   \n",
       "max                 26.000000                       72.000000   \n",
       "\n",
       "       booking_changes          agent      company  days_in_waiting_list   \n",
       "count    119390.000000  103050.000000  6797.000000         119390.000000  \\\n",
       "mean          0.221124      86.693382   189.266735              2.321149   \n",
       "std           0.652306     110.774548   131.655015             17.594721   \n",
       "min           0.000000       1.000000     6.000000              0.000000   \n",
       "25%           0.000000       9.000000    62.000000              0.000000   \n",
       "50%           0.000000      14.000000   179.000000              0.000000   \n",
       "75%           0.000000     229.000000   270.000000              0.000000   \n",
       "max          21.000000     535.000000   543.000000            391.000000   \n",
       "\n",
       "                 adr  required_car_parking_spaces  total_of_special_requests  \n",
       "count  119390.000000                119390.000000              119390.000000  \n",
       "mean      101.831122                     0.062518                   0.571363  \n",
       "std        50.535790                     0.245291                   0.792798  \n",
       "min        -6.380000                     0.000000                   0.000000  \n",
       "25%        69.290000                     0.000000                   0.000000  \n",
       "50%        94.575000                     0.000000                   0.000000  \n",
       "75%       126.000000                     0.000000                   1.000000  \n",
       "max      5400.000000                     8.000000                   5.000000  "
      ]
     },
     "execution_count": 4,
     "metadata": {},
     "output_type": "execute_result"
    }
   ],
   "source": [
    "df1.describe()"
   ]
  },
  {
   "cell_type": "code",
   "execution_count": 5,
   "id": "20cf488c",
   "metadata": {},
   "outputs": [
    {
     "name": "stdout",
     "output_type": "stream",
     "text": [
      "<class 'pandas.core.frame.DataFrame'>\n",
      "RangeIndex: 119390 entries, 0 to 119389\n",
      "Data columns (total 32 columns):\n",
      " #   Column                          Non-Null Count   Dtype  \n",
      "---  ------                          --------------   -----  \n",
      " 0   hotel                           119390 non-null  object \n",
      " 1   is_canceled                     119390 non-null  int64  \n",
      " 2   lead_time                       119390 non-null  int64  \n",
      " 3   arrival_date_year               119390 non-null  int64  \n",
      " 4   arrival_date_month              119390 non-null  object \n",
      " 5   arrival_date_week_number        119390 non-null  int64  \n",
      " 6   arrival_date_day_of_month       119390 non-null  int64  \n",
      " 7   stays_in_weekend_nights         119390 non-null  int64  \n",
      " 8   stays_in_week_nights            119390 non-null  int64  \n",
      " 9   adults                          119390 non-null  int64  \n",
      " 10  children                        119386 non-null  float64\n",
      " 11  babies                          119390 non-null  int64  \n",
      " 12  meal                            119390 non-null  object \n",
      " 13  country                         118902 non-null  object \n",
      " 14  market_segment                  119390 non-null  object \n",
      " 15  distribution_channel            119390 non-null  object \n",
      " 16  is_repeated_guest               119390 non-null  int64  \n",
      " 17  previous_cancellations          119390 non-null  int64  \n",
      " 18  previous_bookings_not_canceled  119390 non-null  int64  \n",
      " 19  reserved_room_type              119390 non-null  object \n",
      " 20  assigned_room_type              119390 non-null  object \n",
      " 21  booking_changes                 119390 non-null  int64  \n",
      " 22  deposit_type                    119390 non-null  object \n",
      " 23  agent                           103050 non-null  float64\n",
      " 24  company                         6797 non-null    float64\n",
      " 25  days_in_waiting_list            119390 non-null  int64  \n",
      " 26  customer_type                   119390 non-null  object \n",
      " 27  adr                             119390 non-null  float64\n",
      " 28  required_car_parking_spaces     119390 non-null  int64  \n",
      " 29  total_of_special_requests       119390 non-null  int64  \n",
      " 30  reservation_status              119390 non-null  object \n",
      " 31  reservation_status_date         119390 non-null  object \n",
      "dtypes: float64(4), int64(16), object(12)\n",
      "memory usage: 29.1+ MB\n"
     ]
    }
   ],
   "source": [
    "df1.info()"
   ]
  },
  {
   "cell_type": "markdown",
   "id": "b44ecfde",
   "metadata": {},
   "source": [
    "### DATA PREPROCESSING"
   ]
  },
  {
   "cell_type": "markdown",
   "id": "67b0ed00",
   "metadata": {},
   "source": [
    "#### MISSING VALUE TREATMENT"
   ]
  },
  {
   "cell_type": "code",
   "execution_count": 6,
   "id": "16d10055",
   "metadata": {},
   "outputs": [],
   "source": [
    "#aim:\n",
    "#from info we can see that few columns dont add up to 119390. So these should be missisng values that needs to be treated"
   ]
  },
  {
   "cell_type": "code",
   "execution_count": 9,
   "id": "fe7106f0",
   "metadata": {
    "scrolled": true
   },
   "outputs": [
    {
     "data": {
      "text/plain": [
       "hotel                              0.00\n",
       "is_canceled                        0.00\n",
       "lead_time                          0.00\n",
       "arrival_date_year                  0.00\n",
       "arrival_date_month                 0.00\n",
       "arrival_date_week_number           0.00\n",
       "arrival_date_day_of_month          0.00\n",
       "stays_in_weekend_nights            0.00\n",
       "stays_in_week_nights               0.00\n",
       "adults                             0.00\n",
       "children                           0.00\n",
       "babies                             0.00\n",
       "meal                               0.00\n",
       "country                            0.41\n",
       "market_segment                     0.00\n",
       "distribution_channel               0.00\n",
       "is_repeated_guest                  0.00\n",
       "previous_cancellations             0.00\n",
       "previous_bookings_not_canceled     0.00\n",
       "reserved_room_type                 0.00\n",
       "assigned_room_type                 0.00\n",
       "booking_changes                    0.00\n",
       "deposit_type                       0.00\n",
       "agent                             13.69\n",
       "company                           94.31\n",
       "days_in_waiting_list               0.00\n",
       "customer_type                      0.00\n",
       "adr                                0.00\n",
       "required_car_parking_spaces        0.00\n",
       "total_of_special_requests          0.00\n",
       "reservation_status                 0.00\n",
       "reservation_status_date            0.00\n",
       "dtype: float64"
      ]
     },
     "execution_count": 9,
     "metadata": {},
     "output_type": "execute_result"
    }
   ],
   "source": [
    "nulls = round((df1.isnull().sum()/df1.shape[0])*100,2) #to see % of null values in each columns.We remove columns with high null %\n",
    "nulls"
   ]
  },
  {
   "cell_type": "code",
   "execution_count": 8,
   "id": "0f776ac1",
   "metadata": {},
   "outputs": [],
   "source": [
    "#from the above info we see that compaany and agent has a very high number of null values. we will remove them\n",
    "#Also i see country, but the % is low, so we can use the mode value replacement\n",
    "#lets see if we are missing any more null values that might have been too small to come up as a percentage"
   ]
  },
  {
   "cell_type": "code",
   "execution_count": 10,
   "id": "f2d0f19d",
   "metadata": {},
   "outputs": [
    {
     "data": {
      "text/plain": [
       "hotel                                  0\n",
       "is_canceled                            0\n",
       "lead_time                              0\n",
       "arrival_date_year                      0\n",
       "arrival_date_month                     0\n",
       "arrival_date_week_number               0\n",
       "arrival_date_day_of_month              0\n",
       "stays_in_weekend_nights                0\n",
       "stays_in_week_nights                   0\n",
       "adults                                 0\n",
       "children                               4\n",
       "babies                                 0\n",
       "meal                                   0\n",
       "country                              488\n",
       "market_segment                         0\n",
       "distribution_channel                   0\n",
       "is_repeated_guest                      0\n",
       "previous_cancellations                 0\n",
       "previous_bookings_not_canceled         0\n",
       "reserved_room_type                     0\n",
       "assigned_room_type                     0\n",
       "booking_changes                        0\n",
       "deposit_type                           0\n",
       "agent                              16340\n",
       "company                           112593\n",
       "days_in_waiting_list                   0\n",
       "customer_type                          0\n",
       "adr                                    0\n",
       "required_car_parking_spaces            0\n",
       "total_of_special_requests              0\n",
       "reservation_status                     0\n",
       "reservation_status_date                0\n",
       "dtype: int64"
      ]
     },
     "execution_count": 10,
     "metadata": {},
     "output_type": "execute_result"
    }
   ],
   "source": [
    "df1.isnull().sum()"
   ]
  },
  {
   "cell_type": "code",
   "execution_count": 11,
   "id": "320f6875",
   "metadata": {},
   "outputs": [],
   "source": [
    "#we seee chidren column to be having null values as well"
   ]
  },
  {
   "cell_type": "code",
   "execution_count": 12,
   "id": "eb752940",
   "metadata": {},
   "outputs": [],
   "source": [
    "#lets start with removing agent and company\n",
    "df1.drop(['agent','company'],axis=1,inplace=True)"
   ]
  },
  {
   "cell_type": "code",
   "execution_count": 13,
   "id": "a1dbb2f0",
   "metadata": {},
   "outputs": [
    {
     "data": {
      "text/plain": [
       "hotel                               0\n",
       "is_canceled                         0\n",
       "lead_time                           0\n",
       "arrival_date_year                   0\n",
       "arrival_date_month                  0\n",
       "arrival_date_week_number            0\n",
       "arrival_date_day_of_month           0\n",
       "stays_in_weekend_nights             0\n",
       "stays_in_week_nights                0\n",
       "adults                              0\n",
       "children                            4\n",
       "babies                              0\n",
       "meal                                0\n",
       "country                           488\n",
       "market_segment                      0\n",
       "distribution_channel                0\n",
       "is_repeated_guest                   0\n",
       "previous_cancellations              0\n",
       "previous_bookings_not_canceled      0\n",
       "reserved_room_type                  0\n",
       "assigned_room_type                  0\n",
       "booking_changes                     0\n",
       "deposit_type                        0\n",
       "days_in_waiting_list                0\n",
       "customer_type                       0\n",
       "adr                                 0\n",
       "required_car_parking_spaces         0\n",
       "total_of_special_requests           0\n",
       "reservation_status                  0\n",
       "reservation_status_date             0\n",
       "dtype: int64"
      ]
     },
     "execution_count": 13,
     "metadata": {},
     "output_type": "execute_result"
    }
   ],
   "source": [
    "df1.isnull().sum()\n"
   ]
  },
  {
   "cell_type": "code",
   "execution_count": 14,
   "id": "2b23c0b3",
   "metadata": {},
   "outputs": [],
   "source": [
    "#lets remove null values from country\n",
    "df1['country'].fillna(df1['country'].mode()[0],inplace=True)"
   ]
  },
  {
   "cell_type": "code",
   "execution_count": 15,
   "id": "c36f7a05",
   "metadata": {},
   "outputs": [
    {
     "data": {
      "text/plain": [
       "hotel                             0\n",
       "is_canceled                       0\n",
       "lead_time                         0\n",
       "arrival_date_year                 0\n",
       "arrival_date_month                0\n",
       "arrival_date_week_number          0\n",
       "arrival_date_day_of_month         0\n",
       "stays_in_weekend_nights           0\n",
       "stays_in_week_nights              0\n",
       "adults                            0\n",
       "children                          4\n",
       "babies                            0\n",
       "meal                              0\n",
       "country                           0\n",
       "market_segment                    0\n",
       "distribution_channel              0\n",
       "is_repeated_guest                 0\n",
       "previous_cancellations            0\n",
       "previous_bookings_not_canceled    0\n",
       "reserved_room_type                0\n",
       "assigned_room_type                0\n",
       "booking_changes                   0\n",
       "deposit_type                      0\n",
       "days_in_waiting_list              0\n",
       "customer_type                     0\n",
       "adr                               0\n",
       "required_car_parking_spaces       0\n",
       "total_of_special_requests         0\n",
       "reservation_status                0\n",
       "reservation_status_date           0\n",
       "dtype: int64"
      ]
     },
     "execution_count": 15,
     "metadata": {},
     "output_type": "execute_result"
    }
   ],
   "source": [
    "df1.isnull().sum()"
   ]
  },
  {
   "cell_type": "code",
   "execution_count": 16,
   "id": "4256ff00",
   "metadata": {},
   "outputs": [
    {
     "data": {
      "text/html": [
       "<div>\n",
       "<style scoped>\n",
       "    .dataframe tbody tr th:only-of-type {\n",
       "        vertical-align: middle;\n",
       "    }\n",
       "\n",
       "    .dataframe tbody tr th {\n",
       "        vertical-align: top;\n",
       "    }\n",
       "\n",
       "    .dataframe thead th {\n",
       "        text-align: right;\n",
       "    }\n",
       "</style>\n",
       "<table border=\"1\" class=\"dataframe\">\n",
       "  <thead>\n",
       "    <tr style=\"text-align: right;\">\n",
       "      <th></th>\n",
       "      <th>hotel</th>\n",
       "      <th>is_canceled</th>\n",
       "      <th>lead_time</th>\n",
       "      <th>arrival_date_year</th>\n",
       "      <th>arrival_date_month</th>\n",
       "      <th>arrival_date_week_number</th>\n",
       "      <th>arrival_date_day_of_month</th>\n",
       "      <th>stays_in_weekend_nights</th>\n",
       "      <th>stays_in_week_nights</th>\n",
       "      <th>adults</th>\n",
       "      <th>...</th>\n",
       "      <th>assigned_room_type</th>\n",
       "      <th>booking_changes</th>\n",
       "      <th>deposit_type</th>\n",
       "      <th>days_in_waiting_list</th>\n",
       "      <th>customer_type</th>\n",
       "      <th>adr</th>\n",
       "      <th>required_car_parking_spaces</th>\n",
       "      <th>total_of_special_requests</th>\n",
       "      <th>reservation_status</th>\n",
       "      <th>reservation_status_date</th>\n",
       "    </tr>\n",
       "  </thead>\n",
       "  <tbody>\n",
       "    <tr>\n",
       "      <th>40600</th>\n",
       "      <td>City Hotel</td>\n",
       "      <td>1</td>\n",
       "      <td>2</td>\n",
       "      <td>2015</td>\n",
       "      <td>August</td>\n",
       "      <td>32</td>\n",
       "      <td>3</td>\n",
       "      <td>1</td>\n",
       "      <td>0</td>\n",
       "      <td>2</td>\n",
       "      <td>...</td>\n",
       "      <td>B</td>\n",
       "      <td>0</td>\n",
       "      <td>No Deposit</td>\n",
       "      <td>0</td>\n",
       "      <td>Transient-Party</td>\n",
       "      <td>12.0</td>\n",
       "      <td>0</td>\n",
       "      <td>1</td>\n",
       "      <td>Canceled</td>\n",
       "      <td>8/1/2015</td>\n",
       "    </tr>\n",
       "    <tr>\n",
       "      <th>40667</th>\n",
       "      <td>City Hotel</td>\n",
       "      <td>1</td>\n",
       "      <td>1</td>\n",
       "      <td>2015</td>\n",
       "      <td>August</td>\n",
       "      <td>32</td>\n",
       "      <td>5</td>\n",
       "      <td>0</td>\n",
       "      <td>2</td>\n",
       "      <td>2</td>\n",
       "      <td>...</td>\n",
       "      <td>B</td>\n",
       "      <td>0</td>\n",
       "      <td>No Deposit</td>\n",
       "      <td>0</td>\n",
       "      <td>Transient-Party</td>\n",
       "      <td>12.0</td>\n",
       "      <td>0</td>\n",
       "      <td>1</td>\n",
       "      <td>Canceled</td>\n",
       "      <td>8/4/2015</td>\n",
       "    </tr>\n",
       "    <tr>\n",
       "      <th>40679</th>\n",
       "      <td>City Hotel</td>\n",
       "      <td>1</td>\n",
       "      <td>1</td>\n",
       "      <td>2015</td>\n",
       "      <td>August</td>\n",
       "      <td>32</td>\n",
       "      <td>5</td>\n",
       "      <td>0</td>\n",
       "      <td>2</td>\n",
       "      <td>3</td>\n",
       "      <td>...</td>\n",
       "      <td>B</td>\n",
       "      <td>0</td>\n",
       "      <td>No Deposit</td>\n",
       "      <td>0</td>\n",
       "      <td>Transient-Party</td>\n",
       "      <td>18.0</td>\n",
       "      <td>0</td>\n",
       "      <td>2</td>\n",
       "      <td>Canceled</td>\n",
       "      <td>8/4/2015</td>\n",
       "    </tr>\n",
       "    <tr>\n",
       "      <th>41160</th>\n",
       "      <td>City Hotel</td>\n",
       "      <td>1</td>\n",
       "      <td>8</td>\n",
       "      <td>2015</td>\n",
       "      <td>August</td>\n",
       "      <td>33</td>\n",
       "      <td>13</td>\n",
       "      <td>2</td>\n",
       "      <td>5</td>\n",
       "      <td>2</td>\n",
       "      <td>...</td>\n",
       "      <td>B</td>\n",
       "      <td>0</td>\n",
       "      <td>No Deposit</td>\n",
       "      <td>0</td>\n",
       "      <td>Transient-Party</td>\n",
       "      <td>76.5</td>\n",
       "      <td>0</td>\n",
       "      <td>1</td>\n",
       "      <td>Canceled</td>\n",
       "      <td>8/9/2015</td>\n",
       "    </tr>\n",
       "  </tbody>\n",
       "</table>\n",
       "<p>4 rows × 30 columns</p>\n",
       "</div>"
      ],
      "text/plain": [
       "            hotel  is_canceled  lead_time  arrival_date_year   \n",
       "40600  City Hotel            1          2               2015  \\\n",
       "40667  City Hotel            1          1               2015   \n",
       "40679  City Hotel            1          1               2015   \n",
       "41160  City Hotel            1          8               2015   \n",
       "\n",
       "      arrival_date_month  arrival_date_week_number  arrival_date_day_of_month   \n",
       "40600             August                        32                          3  \\\n",
       "40667             August                        32                          5   \n",
       "40679             August                        32                          5   \n",
       "41160             August                        33                         13   \n",
       "\n",
       "       stays_in_weekend_nights  stays_in_week_nights  adults  ...   \n",
       "40600                        1                     0       2  ...  \\\n",
       "40667                        0                     2       2  ...   \n",
       "40679                        0                     2       3  ...   \n",
       "41160                        2                     5       2  ...   \n",
       "\n",
       "       assigned_room_type  booking_changes deposit_type days_in_waiting_list   \n",
       "40600                   B                0   No Deposit                    0  \\\n",
       "40667                   B                0   No Deposit                    0   \n",
       "40679                   B                0   No Deposit                    0   \n",
       "41160                   B                0   No Deposit                    0   \n",
       "\n",
       "         customer_type   adr  required_car_parking_spaces   \n",
       "40600  Transient-Party  12.0                            0  \\\n",
       "40667  Transient-Party  12.0                            0   \n",
       "40679  Transient-Party  18.0                            0   \n",
       "41160  Transient-Party  76.5                            0   \n",
       "\n",
       "       total_of_special_requests  reservation_status reservation_status_date  \n",
       "40600                          1            Canceled                8/1/2015  \n",
       "40667                          1            Canceled                8/4/2015  \n",
       "40679                          2            Canceled                8/4/2015  \n",
       "41160                          1            Canceled                8/9/2015  \n",
       "\n",
       "[4 rows x 30 columns]"
      ]
     },
     "execution_count": 16,
     "metadata": {},
     "output_type": "execute_result"
    }
   ],
   "source": [
    "#lastly lets see what are the unique values in children column\n",
    "df1[df1['children'].isna()]"
   ]
  },
  {
   "cell_type": "code",
   "execution_count": 17,
   "id": "ffe645d0",
   "metadata": {},
   "outputs": [],
   "source": [
    "#lets drop them as there are only 4 rows\n",
    "df1 = df1.dropna(subset=['children'])"
   ]
  },
  {
   "cell_type": "code",
   "execution_count": 18,
   "id": "dd90c2e3",
   "metadata": {},
   "outputs": [
    {
     "data": {
      "text/plain": [
       "hotel                             0\n",
       "is_canceled                       0\n",
       "lead_time                         0\n",
       "arrival_date_year                 0\n",
       "arrival_date_month                0\n",
       "arrival_date_week_number          0\n",
       "arrival_date_day_of_month         0\n",
       "stays_in_weekend_nights           0\n",
       "stays_in_week_nights              0\n",
       "adults                            0\n",
       "children                          0\n",
       "babies                            0\n",
       "meal                              0\n",
       "country                           0\n",
       "market_segment                    0\n",
       "distribution_channel              0\n",
       "is_repeated_guest                 0\n",
       "previous_cancellations            0\n",
       "previous_bookings_not_canceled    0\n",
       "reserved_room_type                0\n",
       "assigned_room_type                0\n",
       "booking_changes                   0\n",
       "deposit_type                      0\n",
       "days_in_waiting_list              0\n",
       "customer_type                     0\n",
       "adr                               0\n",
       "required_car_parking_spaces       0\n",
       "total_of_special_requests         0\n",
       "reservation_status                0\n",
       "reservation_status_date           0\n",
       "dtype: int64"
      ]
     },
     "execution_count": 18,
     "metadata": {},
     "output_type": "execute_result"
    }
   ],
   "source": [
    "df1.isnull().sum()"
   ]
  },
  {
   "cell_type": "markdown",
   "id": "b3fbcddc",
   "metadata": {},
   "source": [
    "////////////////////////////Done with Missing Values///////////////////////////////"
   ]
  },
  {
   "cell_type": "markdown",
   "id": "56a927d1",
   "metadata": {},
   "source": [
    "#### DATA CLEANING"
   ]
  },
  {
   "cell_type": "code",
   "execution_count": 19,
   "id": "44065e9f",
   "metadata": {},
   "outputs": [],
   "source": [
    "#remove rows where no of children, babies, and parents =0"
   ]
  },
  {
   "cell_type": "code",
   "execution_count": 20,
   "id": "e27a53ed",
   "metadata": {},
   "outputs": [],
   "source": [
    "impossible = (df1['children']==0) & (df1['babies']==0) & (df1['adults']==0)"
   ]
  },
  {
   "cell_type": "code",
   "execution_count": 21,
   "id": "df656f32",
   "metadata": {},
   "outputs": [],
   "source": [
    "df2=df1[~impossible]"
   ]
  },
  {
   "cell_type": "code",
   "execution_count": 22,
   "id": "b059af8f",
   "metadata": {},
   "outputs": [
    {
     "data": {
      "text/html": [
       "<div>\n",
       "<style scoped>\n",
       "    .dataframe tbody tr th:only-of-type {\n",
       "        vertical-align: middle;\n",
       "    }\n",
       "\n",
       "    .dataframe tbody tr th {\n",
       "        vertical-align: top;\n",
       "    }\n",
       "\n",
       "    .dataframe thead th {\n",
       "        text-align: right;\n",
       "    }\n",
       "</style>\n",
       "<table border=\"1\" class=\"dataframe\">\n",
       "  <thead>\n",
       "    <tr style=\"text-align: right;\">\n",
       "      <th></th>\n",
       "      <th>hotel</th>\n",
       "      <th>is_canceled</th>\n",
       "      <th>lead_time</th>\n",
       "      <th>arrival_date_year</th>\n",
       "      <th>arrival_date_month</th>\n",
       "      <th>arrival_date_week_number</th>\n",
       "      <th>arrival_date_day_of_month</th>\n",
       "      <th>stays_in_weekend_nights</th>\n",
       "      <th>stays_in_week_nights</th>\n",
       "      <th>adults</th>\n",
       "      <th>...</th>\n",
       "      <th>assigned_room_type</th>\n",
       "      <th>booking_changes</th>\n",
       "      <th>deposit_type</th>\n",
       "      <th>days_in_waiting_list</th>\n",
       "      <th>customer_type</th>\n",
       "      <th>adr</th>\n",
       "      <th>required_car_parking_spaces</th>\n",
       "      <th>total_of_special_requests</th>\n",
       "      <th>reservation_status</th>\n",
       "      <th>reservation_status_date</th>\n",
       "    </tr>\n",
       "  </thead>\n",
       "  <tbody>\n",
       "    <tr>\n",
       "      <th>0</th>\n",
       "      <td>Resort Hotel</td>\n",
       "      <td>0</td>\n",
       "      <td>342</td>\n",
       "      <td>2015</td>\n",
       "      <td>July</td>\n",
       "      <td>27</td>\n",
       "      <td>1</td>\n",
       "      <td>0</td>\n",
       "      <td>0</td>\n",
       "      <td>2</td>\n",
       "      <td>...</td>\n",
       "      <td>C</td>\n",
       "      <td>3</td>\n",
       "      <td>No Deposit</td>\n",
       "      <td>0</td>\n",
       "      <td>Transient</td>\n",
       "      <td>0.00</td>\n",
       "      <td>0</td>\n",
       "      <td>0</td>\n",
       "      <td>Check-Out</td>\n",
       "      <td>7/1/2015</td>\n",
       "    </tr>\n",
       "    <tr>\n",
       "      <th>1</th>\n",
       "      <td>Resort Hotel</td>\n",
       "      <td>0</td>\n",
       "      <td>737</td>\n",
       "      <td>2015</td>\n",
       "      <td>July</td>\n",
       "      <td>27</td>\n",
       "      <td>1</td>\n",
       "      <td>0</td>\n",
       "      <td>0</td>\n",
       "      <td>2</td>\n",
       "      <td>...</td>\n",
       "      <td>C</td>\n",
       "      <td>4</td>\n",
       "      <td>No Deposit</td>\n",
       "      <td>0</td>\n",
       "      <td>Transient</td>\n",
       "      <td>0.00</td>\n",
       "      <td>0</td>\n",
       "      <td>0</td>\n",
       "      <td>Check-Out</td>\n",
       "      <td>7/1/2015</td>\n",
       "    </tr>\n",
       "    <tr>\n",
       "      <th>2</th>\n",
       "      <td>Resort Hotel</td>\n",
       "      <td>0</td>\n",
       "      <td>7</td>\n",
       "      <td>2015</td>\n",
       "      <td>July</td>\n",
       "      <td>27</td>\n",
       "      <td>1</td>\n",
       "      <td>0</td>\n",
       "      <td>1</td>\n",
       "      <td>1</td>\n",
       "      <td>...</td>\n",
       "      <td>C</td>\n",
       "      <td>0</td>\n",
       "      <td>No Deposit</td>\n",
       "      <td>0</td>\n",
       "      <td>Transient</td>\n",
       "      <td>75.00</td>\n",
       "      <td>0</td>\n",
       "      <td>0</td>\n",
       "      <td>Check-Out</td>\n",
       "      <td>7/2/2015</td>\n",
       "    </tr>\n",
       "    <tr>\n",
       "      <th>3</th>\n",
       "      <td>Resort Hotel</td>\n",
       "      <td>0</td>\n",
       "      <td>13</td>\n",
       "      <td>2015</td>\n",
       "      <td>July</td>\n",
       "      <td>27</td>\n",
       "      <td>1</td>\n",
       "      <td>0</td>\n",
       "      <td>1</td>\n",
       "      <td>1</td>\n",
       "      <td>...</td>\n",
       "      <td>A</td>\n",
       "      <td>0</td>\n",
       "      <td>No Deposit</td>\n",
       "      <td>0</td>\n",
       "      <td>Transient</td>\n",
       "      <td>75.00</td>\n",
       "      <td>0</td>\n",
       "      <td>0</td>\n",
       "      <td>Check-Out</td>\n",
       "      <td>7/2/2015</td>\n",
       "    </tr>\n",
       "    <tr>\n",
       "      <th>4</th>\n",
       "      <td>Resort Hotel</td>\n",
       "      <td>0</td>\n",
       "      <td>14</td>\n",
       "      <td>2015</td>\n",
       "      <td>July</td>\n",
       "      <td>27</td>\n",
       "      <td>1</td>\n",
       "      <td>0</td>\n",
       "      <td>2</td>\n",
       "      <td>2</td>\n",
       "      <td>...</td>\n",
       "      <td>A</td>\n",
       "      <td>0</td>\n",
       "      <td>No Deposit</td>\n",
       "      <td>0</td>\n",
       "      <td>Transient</td>\n",
       "      <td>98.00</td>\n",
       "      <td>0</td>\n",
       "      <td>1</td>\n",
       "      <td>Check-Out</td>\n",
       "      <td>7/3/2015</td>\n",
       "    </tr>\n",
       "    <tr>\n",
       "      <th>...</th>\n",
       "      <td>...</td>\n",
       "      <td>...</td>\n",
       "      <td>...</td>\n",
       "      <td>...</td>\n",
       "      <td>...</td>\n",
       "      <td>...</td>\n",
       "      <td>...</td>\n",
       "      <td>...</td>\n",
       "      <td>...</td>\n",
       "      <td>...</td>\n",
       "      <td>...</td>\n",
       "      <td>...</td>\n",
       "      <td>...</td>\n",
       "      <td>...</td>\n",
       "      <td>...</td>\n",
       "      <td>...</td>\n",
       "      <td>...</td>\n",
       "      <td>...</td>\n",
       "      <td>...</td>\n",
       "      <td>...</td>\n",
       "      <td>...</td>\n",
       "    </tr>\n",
       "    <tr>\n",
       "      <th>119385</th>\n",
       "      <td>City Hotel</td>\n",
       "      <td>0</td>\n",
       "      <td>23</td>\n",
       "      <td>2017</td>\n",
       "      <td>August</td>\n",
       "      <td>35</td>\n",
       "      <td>30</td>\n",
       "      <td>2</td>\n",
       "      <td>5</td>\n",
       "      <td>2</td>\n",
       "      <td>...</td>\n",
       "      <td>A</td>\n",
       "      <td>0</td>\n",
       "      <td>No Deposit</td>\n",
       "      <td>0</td>\n",
       "      <td>Transient</td>\n",
       "      <td>96.14</td>\n",
       "      <td>0</td>\n",
       "      <td>0</td>\n",
       "      <td>Check-Out</td>\n",
       "      <td>9/6/2017</td>\n",
       "    </tr>\n",
       "    <tr>\n",
       "      <th>119386</th>\n",
       "      <td>City Hotel</td>\n",
       "      <td>0</td>\n",
       "      <td>102</td>\n",
       "      <td>2017</td>\n",
       "      <td>August</td>\n",
       "      <td>35</td>\n",
       "      <td>31</td>\n",
       "      <td>2</td>\n",
       "      <td>5</td>\n",
       "      <td>3</td>\n",
       "      <td>...</td>\n",
       "      <td>E</td>\n",
       "      <td>0</td>\n",
       "      <td>No Deposit</td>\n",
       "      <td>0</td>\n",
       "      <td>Transient</td>\n",
       "      <td>225.43</td>\n",
       "      <td>0</td>\n",
       "      <td>2</td>\n",
       "      <td>Check-Out</td>\n",
       "      <td>9/7/2017</td>\n",
       "    </tr>\n",
       "    <tr>\n",
       "      <th>119387</th>\n",
       "      <td>City Hotel</td>\n",
       "      <td>0</td>\n",
       "      <td>34</td>\n",
       "      <td>2017</td>\n",
       "      <td>August</td>\n",
       "      <td>35</td>\n",
       "      <td>31</td>\n",
       "      <td>2</td>\n",
       "      <td>5</td>\n",
       "      <td>2</td>\n",
       "      <td>...</td>\n",
       "      <td>D</td>\n",
       "      <td>0</td>\n",
       "      <td>No Deposit</td>\n",
       "      <td>0</td>\n",
       "      <td>Transient</td>\n",
       "      <td>157.71</td>\n",
       "      <td>0</td>\n",
       "      <td>4</td>\n",
       "      <td>Check-Out</td>\n",
       "      <td>9/7/2017</td>\n",
       "    </tr>\n",
       "    <tr>\n",
       "      <th>119388</th>\n",
       "      <td>City Hotel</td>\n",
       "      <td>0</td>\n",
       "      <td>109</td>\n",
       "      <td>2017</td>\n",
       "      <td>August</td>\n",
       "      <td>35</td>\n",
       "      <td>31</td>\n",
       "      <td>2</td>\n",
       "      <td>5</td>\n",
       "      <td>2</td>\n",
       "      <td>...</td>\n",
       "      <td>A</td>\n",
       "      <td>0</td>\n",
       "      <td>No Deposit</td>\n",
       "      <td>0</td>\n",
       "      <td>Transient</td>\n",
       "      <td>104.40</td>\n",
       "      <td>0</td>\n",
       "      <td>0</td>\n",
       "      <td>Check-Out</td>\n",
       "      <td>9/7/2017</td>\n",
       "    </tr>\n",
       "    <tr>\n",
       "      <th>119389</th>\n",
       "      <td>City Hotel</td>\n",
       "      <td>0</td>\n",
       "      <td>205</td>\n",
       "      <td>2017</td>\n",
       "      <td>August</td>\n",
       "      <td>35</td>\n",
       "      <td>29</td>\n",
       "      <td>2</td>\n",
       "      <td>7</td>\n",
       "      <td>2</td>\n",
       "      <td>...</td>\n",
       "      <td>A</td>\n",
       "      <td>0</td>\n",
       "      <td>No Deposit</td>\n",
       "      <td>0</td>\n",
       "      <td>Transient</td>\n",
       "      <td>151.20</td>\n",
       "      <td>0</td>\n",
       "      <td>2</td>\n",
       "      <td>Check-Out</td>\n",
       "      <td>9/7/2017</td>\n",
       "    </tr>\n",
       "  </tbody>\n",
       "</table>\n",
       "<p>119206 rows × 30 columns</p>\n",
       "</div>"
      ],
      "text/plain": [
       "               hotel  is_canceled  lead_time  arrival_date_year   \n",
       "0       Resort Hotel            0        342               2015  \\\n",
       "1       Resort Hotel            0        737               2015   \n",
       "2       Resort Hotel            0          7               2015   \n",
       "3       Resort Hotel            0         13               2015   \n",
       "4       Resort Hotel            0         14               2015   \n",
       "...              ...          ...        ...                ...   \n",
       "119385    City Hotel            0         23               2017   \n",
       "119386    City Hotel            0        102               2017   \n",
       "119387    City Hotel            0         34               2017   \n",
       "119388    City Hotel            0        109               2017   \n",
       "119389    City Hotel            0        205               2017   \n",
       "\n",
       "       arrival_date_month  arrival_date_week_number   \n",
       "0                    July                        27  \\\n",
       "1                    July                        27   \n",
       "2                    July                        27   \n",
       "3                    July                        27   \n",
       "4                    July                        27   \n",
       "...                   ...                       ...   \n",
       "119385             August                        35   \n",
       "119386             August                        35   \n",
       "119387             August                        35   \n",
       "119388             August                        35   \n",
       "119389             August                        35   \n",
       "\n",
       "        arrival_date_day_of_month  stays_in_weekend_nights   \n",
       "0                               1                        0  \\\n",
       "1                               1                        0   \n",
       "2                               1                        0   \n",
       "3                               1                        0   \n",
       "4                               1                        0   \n",
       "...                           ...                      ...   \n",
       "119385                         30                        2   \n",
       "119386                         31                        2   \n",
       "119387                         31                        2   \n",
       "119388                         31                        2   \n",
       "119389                         29                        2   \n",
       "\n",
       "        stays_in_week_nights  adults  ...  assigned_room_type   \n",
       "0                          0       2  ...                   C  \\\n",
       "1                          0       2  ...                   C   \n",
       "2                          1       1  ...                   C   \n",
       "3                          1       1  ...                   A   \n",
       "4                          2       2  ...                   A   \n",
       "...                      ...     ...  ...                 ...   \n",
       "119385                     5       2  ...                   A   \n",
       "119386                     5       3  ...                   E   \n",
       "119387                     5       2  ...                   D   \n",
       "119388                     5       2  ...                   A   \n",
       "119389                     7       2  ...                   A   \n",
       "\n",
       "        booking_changes deposit_type days_in_waiting_list customer_type   \n",
       "0                     3   No Deposit                    0     Transient  \\\n",
       "1                     4   No Deposit                    0     Transient   \n",
       "2                     0   No Deposit                    0     Transient   \n",
       "3                     0   No Deposit                    0     Transient   \n",
       "4                     0   No Deposit                    0     Transient   \n",
       "...                 ...          ...                  ...           ...   \n",
       "119385                0   No Deposit                    0     Transient   \n",
       "119386                0   No Deposit                    0     Transient   \n",
       "119387                0   No Deposit                    0     Transient   \n",
       "119388                0   No Deposit                    0     Transient   \n",
       "119389                0   No Deposit                    0     Transient   \n",
       "\n",
       "           adr  required_car_parking_spaces  total_of_special_requests   \n",
       "0         0.00                            0                          0  \\\n",
       "1         0.00                            0                          0   \n",
       "2        75.00                            0                          0   \n",
       "3        75.00                            0                          0   \n",
       "4        98.00                            0                          1   \n",
       "...        ...                          ...                        ...   \n",
       "119385   96.14                            0                          0   \n",
       "119386  225.43                            0                          2   \n",
       "119387  157.71                            0                          4   \n",
       "119388  104.40                            0                          0   \n",
       "119389  151.20                            0                          2   \n",
       "\n",
       "        reservation_status reservation_status_date  \n",
       "0                Check-Out                7/1/2015  \n",
       "1                Check-Out                7/1/2015  \n",
       "2                Check-Out                7/2/2015  \n",
       "3                Check-Out                7/2/2015  \n",
       "4                Check-Out                7/3/2015  \n",
       "...                    ...                     ...  \n",
       "119385           Check-Out                9/6/2017  \n",
       "119386           Check-Out                9/7/2017  \n",
       "119387           Check-Out                9/7/2017  \n",
       "119388           Check-Out                9/7/2017  \n",
       "119389           Check-Out                9/7/2017  \n",
       "\n",
       "[119206 rows x 30 columns]"
      ]
     },
     "execution_count": 22,
     "metadata": {},
     "output_type": "execute_result"
    }
   ],
   "source": [
    "df2"
   ]
  },
  {
   "cell_type": "code",
   "execution_count": 24,
   "id": "594679cb",
   "metadata": {},
   "outputs": [
    {
     "data": {
      "text/plain": [
       "Index(['hotel', 'is_canceled', 'lead_time', 'arrival_date_year',\n",
       "       'arrival_date_month', 'arrival_date_week_number',\n",
       "       'arrival_date_day_of_month', 'stays_in_weekend_nights',\n",
       "       'stays_in_week_nights', 'adults', 'children', 'babies', 'meal',\n",
       "       'country', 'market_segment', 'distribution_channel',\n",
       "       'is_repeated_guest', 'previous_cancellations',\n",
       "       'previous_bookings_not_canceled', 'reserved_room_type',\n",
       "       'assigned_room_type', 'booking_changes', 'deposit_type',\n",
       "       'days_in_waiting_list', 'customer_type', 'adr',\n",
       "       'required_car_parking_spaces', 'total_of_special_requests',\n",
       "       'reservation_status', 'reservation_status_date'],\n",
       "      dtype='object')"
      ]
     },
     "execution_count": 24,
     "metadata": {},
     "output_type": "execute_result"
    }
   ],
   "source": [
    "df2.columns\n"
   ]
  },
  {
   "cell_type": "markdown",
   "id": "0842bbf2",
   "metadata": {},
   "source": [
    "### INITIAL DATA ANALYSIS TO UNDERSTAND DIFFERENT TRENDS"
   ]
  },
  {
   "cell_type": "code",
   "execution_count": 25,
   "id": "f9145d08",
   "metadata": {},
   "outputs": [],
   "source": [
    "#LET US FIRST Examine the relationship between 'is_canceled' and other variables such as 'lead_time', 'previous_cancellations', 'booking_changes', etc."
   ]
  },
  {
   "cell_type": "raw",
   "id": "9e1840fd",
   "metadata": {},
   "source": [
    "A box plot can provide a summary of the lead time distribution for both canceled and non-canceled bookings.\n",
    "It can help identify differences in lead time between the two cancellation categories and identify potential outliers.\n",
    "The box plot provides information about the median, quartiles, and possible outliers."
   ]
  },
  {
   "cell_type": "code",
   "execution_count": 42,
   "id": "eca70d22",
   "metadata": {},
   "outputs": [
    {
     "data": {
      "image/png": "[encoded data removed]",
      "text/plain": [
       "<Figure size 432x288 with 1 Axes>"
      ]
     },
     "metadata": {
      "needs_background": "light"
     },
     "output_type": "display_data"
    }
   ],
   "source": [
    "# Creating the box plot\n",
    "plt.boxplot([df2[df2['is_canceled'] == 0]['lead_time'], df2[df2['is_canceled'] == 1]['lead_time']],\n",
    "            labels=['Not Canceled', 'Canceled'])\n",
    "\n",
    "# Adding labels and title\n",
    "plt.xlabel('Cancellation Status')\n",
    "plt.ylabel('Lead Time')\n",
    "plt.title('Lead Time Distribution by Cancellation Status')\n",
    "\n",
    "# Display the plot\n",
    "plt.show()"
   ]
  },
  {
   "cell_type": "code",
   "execution_count": 43,
   "id": "b7ba2764",
   "metadata": {},
   "outputs": [
    {
     "data": {
      "image/png": "[encoded data removed]",
      "text/plain": [
       "<Figure size 432x288 with 1 Axes>"
      ]
     },
     "metadata": {
      "needs_background": "light"
     },
     "output_type": "display_data"
    }
   ],
   "source": [
    "# Creating the box plot\n",
    "plt.boxplot([df2[df2['is_canceled'] == 0]['previous_cancellations'], df2[df2['is_canceled'] == 1]['previous_cancellations']],\n",
    "            labels=['Not Canceled', 'Canceled'])\n",
    "\n",
    "# Adding labels and title\n",
    "plt.xlabel('Cancellation Status')\n",
    "plt.ylabel('previous_cancellations')\n",
    "plt.title('previous_cancellations Distribution by Cancellation Status')\n",
    "\n",
    "# Display the plot\n",
    "plt.show()"
   ]
  },
  {
   "cell_type": "code",
   "execution_count": 44,
   "id": "46156032",
   "metadata": {},
   "outputs": [
    {
     "data": {
      "image/png": "[encoded data removed]",
      "text/plain": [
       "<Figure size 432x288 with 1 Axes>"
      ]
     },
     "metadata": {
      "needs_background": "light"
     },
     "output_type": "display_data"
    }
   ],
   "source": [
    "# Creating the box plot\n",
    "plt.boxplot([df2[df2['is_canceled'] == 0]['booking_changes'], df2[df2['is_canceled'] == 1]['booking_changes']],\n",
    "            labels=['Not Canceled', 'Canceled'])\n",
    "\n",
    "# Adding labels and title\n",
    "plt.xlabel('Cancellation Status')\n",
    "plt.ylabel('booking_changes')\n",
    "plt.title('booking_changes Distribution by Cancellation Status')\n",
    "\n",
    "# Display the plot\n",
    "plt.show()"
   ]
  },
  {
   "cell_type": "markdown",
   "id": "189474d1",
   "metadata": {},
   "source": [
    " Determine if there is any seasonality in bookings by analyzing 'arrival_date_month' and 'arrival_date_week_number'.\n",
    "Compare the booking patterns and cancellation rates between weekends ('stays_in_weekend_nights') and weekdays ('stays_in_week_nights')."
   ]
  },
  {
   "cell_type": "code",
   "execution_count": 47,
   "id": "d79f6961",
   "metadata": {},
   "outputs": [
    {
     "data": {
      "text/plain": [
       "array(['Resort Hotel', 'City Hotel'], dtype=object)"
      ]
     },
     "execution_count": 47,
     "metadata": {},
     "output_type": "execute_result"
    }
   ],
   "source": [
    "#to find the most busy month\n",
    "df2['hotel'].unique()"
   ]
  },
  {
   "cell_type": "code",
   "execution_count": 48,
   "id": "debf26c0",
   "metadata": {},
   "outputs": [],
   "source": [
    "data_resort=df2[(df2['hotel']=='Resort Hotel') & (df2['is_canceled']==0)]\n",
    "data_city = df2[(df2['hotel']=='City Hotel') & (df2['is_canceled']==0)]"
   ]
  },
  {
   "cell_type": "code",
   "execution_count": 49,
   "id": "5123e817",
   "metadata": {},
   "outputs": [
    {
     "data": {
      "text/html": [
       "<div>\n",
       "<style scoped>\n",
       "    .dataframe tbody tr th:only-of-type {\n",
       "        vertical-align: middle;\n",
       "    }\n",
       "\n",
       "    .dataframe tbody tr th {\n",
       "        vertical-align: top;\n",
       "    }\n",
       "\n",
       "    .dataframe thead th {\n",
       "        text-align: right;\n",
       "    }\n",
       "</style>\n",
       "<table border=\"1\" class=\"dataframe\">\n",
       "  <thead>\n",
       "    <tr style=\"text-align: right;\">\n",
       "      <th></th>\n",
       "      <th>month</th>\n",
       "      <th>no_of_guests</th>\n",
       "    </tr>\n",
       "  </thead>\n",
       "  <tbody>\n",
       "    <tr>\n",
       "      <th>0</th>\n",
       "      <td>August</td>\n",
       "      <td>3257</td>\n",
       "    </tr>\n",
       "    <tr>\n",
       "      <th>1</th>\n",
       "      <td>July</td>\n",
       "      <td>3137</td>\n",
       "    </tr>\n",
       "    <tr>\n",
       "      <th>2</th>\n",
       "      <td>October</td>\n",
       "      <td>2575</td>\n",
       "    </tr>\n",
       "    <tr>\n",
       "      <th>3</th>\n",
       "      <td>March</td>\n",
       "      <td>2571</td>\n",
       "    </tr>\n",
       "    <tr>\n",
       "      <th>4</th>\n",
       "      <td>April</td>\n",
       "      <td>2550</td>\n",
       "    </tr>\n",
       "    <tr>\n",
       "      <th>5</th>\n",
       "      <td>May</td>\n",
       "      <td>2535</td>\n",
       "    </tr>\n",
       "    <tr>\n",
       "      <th>6</th>\n",
       "      <td>February</td>\n",
       "      <td>2308</td>\n",
       "    </tr>\n",
       "    <tr>\n",
       "      <th>7</th>\n",
       "      <td>September</td>\n",
       "      <td>2102</td>\n",
       "    </tr>\n",
       "    <tr>\n",
       "      <th>8</th>\n",
       "      <td>June</td>\n",
       "      <td>2037</td>\n",
       "    </tr>\n",
       "    <tr>\n",
       "      <th>9</th>\n",
       "      <td>December</td>\n",
       "      <td>2014</td>\n",
       "    </tr>\n",
       "    <tr>\n",
       "      <th>10</th>\n",
       "      <td>November</td>\n",
       "      <td>1975</td>\n",
       "    </tr>\n",
       "    <tr>\n",
       "      <th>11</th>\n",
       "      <td>January</td>\n",
       "      <td>1866</td>\n",
       "    </tr>\n",
       "  </tbody>\n",
       "</table>\n",
       "</div>"
      ],
      "text/plain": [
       "        month  no_of_guests\n",
       "0      August          3257\n",
       "1        July          3137\n",
       "2     October          2575\n",
       "3       March          2571\n",
       "4       April          2550\n",
       "5         May          2535\n",
       "6    February          2308\n",
       "7   September          2102\n",
       "8        June          2037\n",
       "9    December          2014\n",
       "10   November          1975\n",
       "11    January          1866"
      ]
     },
     "execution_count": 49,
     "metadata": {},
     "output_type": "execute_result"
    }
   ],
   "source": [
    "rush_resort=data_resort['arrival_date_month'].value_counts().reset_index()\n",
    "rush_resort.columns=['month','no_of_guests']\n",
    "rush_resort"
   ]
  },
  {
   "cell_type": "code",
   "execution_count": 50,
   "id": "257ff120",
   "metadata": {},
   "outputs": [
    {
     "data": {
      "text/html": [
       "<div>\n",
       "<style scoped>\n",
       "    .dataframe tbody tr th:only-of-type {\n",
       "        vertical-align: middle;\n",
       "    }\n",
       "\n",
       "    .dataframe tbody tr th {\n",
       "        vertical-align: top;\n",
       "    }\n",
       "\n",
       "    .dataframe thead th {\n",
       "        text-align: right;\n",
       "    }\n",
       "</style>\n",
       "<table border=\"1\" class=\"dataframe\">\n",
       "  <thead>\n",
       "    <tr style=\"text-align: right;\">\n",
       "      <th></th>\n",
       "      <th>month</th>\n",
       "      <th>no_of_guests</th>\n",
       "    </tr>\n",
       "  </thead>\n",
       "  <tbody>\n",
       "    <tr>\n",
       "      <th>0</th>\n",
       "      <td>August</td>\n",
       "      <td>5367</td>\n",
       "    </tr>\n",
       "    <tr>\n",
       "      <th>1</th>\n",
       "      <td>July</td>\n",
       "      <td>4770</td>\n",
       "    </tr>\n",
       "    <tr>\n",
       "      <th>2</th>\n",
       "      <td>May</td>\n",
       "      <td>4568</td>\n",
       "    </tr>\n",
       "    <tr>\n",
       "      <th>3</th>\n",
       "      <td>June</td>\n",
       "      <td>4358</td>\n",
       "    </tr>\n",
       "    <tr>\n",
       "      <th>4</th>\n",
       "      <td>October</td>\n",
       "      <td>4326</td>\n",
       "    </tr>\n",
       "    <tr>\n",
       "      <th>5</th>\n",
       "      <td>September</td>\n",
       "      <td>4283</td>\n",
       "    </tr>\n",
       "    <tr>\n",
       "      <th>6</th>\n",
       "      <td>March</td>\n",
       "      <td>4049</td>\n",
       "    </tr>\n",
       "    <tr>\n",
       "      <th>7</th>\n",
       "      <td>April</td>\n",
       "      <td>4010</td>\n",
       "    </tr>\n",
       "    <tr>\n",
       "      <th>8</th>\n",
       "      <td>February</td>\n",
       "      <td>3051</td>\n",
       "    </tr>\n",
       "    <tr>\n",
       "      <th>9</th>\n",
       "      <td>November</td>\n",
       "      <td>2676</td>\n",
       "    </tr>\n",
       "    <tr>\n",
       "      <th>10</th>\n",
       "      <td>December</td>\n",
       "      <td>2377</td>\n",
       "    </tr>\n",
       "    <tr>\n",
       "      <th>11</th>\n",
       "      <td>January</td>\n",
       "      <td>2249</td>\n",
       "    </tr>\n",
       "  </tbody>\n",
       "</table>\n",
       "</div>"
      ],
      "text/plain": [
       "        month  no_of_guests\n",
       "0      August          5367\n",
       "1        July          4770\n",
       "2         May          4568\n",
       "3        June          4358\n",
       "4     October          4326\n",
       "5   September          4283\n",
       "6       March          4049\n",
       "7       April          4010\n",
       "8    February          3051\n",
       "9    November          2676\n",
       "10   December          2377\n",
       "11    January          2249"
      ]
     },
     "execution_count": 50,
     "metadata": {},
     "output_type": "execute_result"
    }
   ],
   "source": [
    "rush_city=data_city['arrival_date_month'].value_counts().reset_index()\n",
    "rush_city.columns=['month','no_of_guests']\n",
    "rush_city"
   ]
  },
  {
   "cell_type": "code",
   "execution_count": 51,
   "id": "0fbeb324",
   "metadata": {},
   "outputs": [],
   "source": [
    "final_rush=rush_resort.merge(rush_city,on='month')"
   ]
  },
  {
   "cell_type": "code",
   "execution_count": 52,
   "id": "2f0743b4",
   "metadata": {},
   "outputs": [],
   "source": [
    "final_rush.columns=['month','no_of_guests_in_resort','no_of_guests_city']"
   ]
  },
  {
   "cell_type": "code",
   "execution_count": 53,
   "id": "053192cf",
   "metadata": {},
   "outputs": [
    {
     "data": {
      "text/html": [
       "<div>\n",
       "<style scoped>\n",
       "    .dataframe tbody tr th:only-of-type {\n",
       "        vertical-align: middle;\n",
       "    }\n",
       "\n",
       "    .dataframe tbody tr th {\n",
       "        vertical-align: top;\n",
       "    }\n",
       "\n",
       "    .dataframe thead th {\n",
       "        text-align: right;\n",
       "    }\n",
       "</style>\n",
       "<table border=\"1\" class=\"dataframe\">\n",
       "  <thead>\n",
       "    <tr style=\"text-align: right;\">\n",
       "      <th></th>\n",
       "      <th>month</th>\n",
       "      <th>no_of_guests_in_resort</th>\n",
       "      <th>no_of_guests_city</th>\n",
       "    </tr>\n",
       "  </thead>\n",
       "  <tbody>\n",
       "    <tr>\n",
       "      <th>0</th>\n",
       "      <td>August</td>\n",
       "      <td>3257</td>\n",
       "      <td>5367</td>\n",
       "    </tr>\n",
       "    <tr>\n",
       "      <th>1</th>\n",
       "      <td>July</td>\n",
       "      <td>3137</td>\n",
       "      <td>4770</td>\n",
       "    </tr>\n",
       "    <tr>\n",
       "      <th>2</th>\n",
       "      <td>October</td>\n",
       "      <td>2575</td>\n",
       "      <td>4326</td>\n",
       "    </tr>\n",
       "    <tr>\n",
       "      <th>3</th>\n",
       "      <td>March</td>\n",
       "      <td>2571</td>\n",
       "      <td>4049</td>\n",
       "    </tr>\n",
       "    <tr>\n",
       "      <th>4</th>\n",
       "      <td>April</td>\n",
       "      <td>2550</td>\n",
       "      <td>4010</td>\n",
       "    </tr>\n",
       "    <tr>\n",
       "      <th>5</th>\n",
       "      <td>May</td>\n",
       "      <td>2535</td>\n",
       "      <td>4568</td>\n",
       "    </tr>\n",
       "    <tr>\n",
       "      <th>6</th>\n",
       "      <td>February</td>\n",
       "      <td>2308</td>\n",
       "      <td>3051</td>\n",
       "    </tr>\n",
       "    <tr>\n",
       "      <th>7</th>\n",
       "      <td>September</td>\n",
       "      <td>2102</td>\n",
       "      <td>4283</td>\n",
       "    </tr>\n",
       "    <tr>\n",
       "      <th>8</th>\n",
       "      <td>June</td>\n",
       "      <td>2037</td>\n",
       "      <td>4358</td>\n",
       "    </tr>\n",
       "    <tr>\n",
       "      <th>9</th>\n",
       "      <td>December</td>\n",
       "      <td>2014</td>\n",
       "      <td>2377</td>\n",
       "    </tr>\n",
       "    <tr>\n",
       "      <th>10</th>\n",
       "      <td>November</td>\n",
       "      <td>1975</td>\n",
       "      <td>2676</td>\n",
       "    </tr>\n",
       "    <tr>\n",
       "      <th>11</th>\n",
       "      <td>January</td>\n",
       "      <td>1866</td>\n",
       "      <td>2249</td>\n",
       "    </tr>\n",
       "  </tbody>\n",
       "</table>\n",
       "</div>"
      ],
      "text/plain": [
       "        month  no_of_guests_in_resort  no_of_guests_city\n",
       "0      August                    3257               5367\n",
       "1        July                    3137               4770\n",
       "2     October                    2575               4326\n",
       "3       March                    2571               4049\n",
       "4       April                    2550               4010\n",
       "5         May                    2535               4568\n",
       "6    February                    2308               3051\n",
       "7   September                    2102               4283\n",
       "8        June                    2037               4358\n",
       "9    December                    2014               2377\n",
       "10   November                    1975               2676\n",
       "11    January                    1866               2249"
      ]
     },
     "execution_count": 53,
     "metadata": {},
     "output_type": "execute_result"
    }
   ],
   "source": [
    "final_rush"
   ]
  },
  {
   "cell_type": "code",
   "execution_count": 54,
   "id": "49aa6424",
   "metadata": {},
   "outputs": [],
   "source": [
    "#now we will observe over here is month column is not in order, & if we will visualise we will get improper conclusion\n",
    "#so very first we have to provide right hierarchy to the month column"
   ]
  },
  {
   "cell_type": "code",
   "execution_count": 55,
   "id": "40400d10",
   "metadata": {},
   "outputs": [
    {
     "name": "stdout",
     "output_type": "stream",
     "text": [
      "Requirement already satisfied: sorted-months-weekdays in c:\\users\\hp\\anaconda3\\lib\\site-packages (0.2)\n",
      "Requirement already satisfied: sort_dataframeby_monthorweek in c:\\users\\hp\\anaconda3\\lib\\site-packages (0.4)\n"
     ]
    }
   ],
   "source": [
    "!pip install sorted-months-weekdays\n",
    "\n",
    "## Dependency package needs to be installed\n",
    "!pip install sort_dataframeby_monthorweek"
   ]
  },
  {
   "cell_type": "code",
   "execution_count": 56,
   "id": "25d8d886",
   "metadata": {},
   "outputs": [],
   "source": [
    "import sort_dataframeby_monthorweek as sd"
   ]
  },
  {
   "cell_type": "code",
   "execution_count": 57,
   "id": "8097dd05",
   "metadata": {},
   "outputs": [],
   "source": [
    "final_rush=sd.Sort_Dataframeby_Month(final_rush,'month')"
   ]
  },
  {
   "cell_type": "code",
   "execution_count": 62,
   "id": "beaa3c46",
   "metadata": {},
   "outputs": [
    {
     "data": {
      "application/vnd.plotly.v1+json": {
       "config": {
        "plotlyServerURL": "https://plot.ly"
       },
       "data": [
        {
         "hovertemplate": "variable=no_of_guests_in_resort<br>month=%{x}<br>value=%{y}<extra></extra>",
         "legendgroup": "no_of_guests_in_resort",
         "line": {
          "color": "#636efa",
          "dash": "solid"
         },
         "marker": {
          "symbol": "circle"
         },
         "mode": "lines",
         "name": "no_of_guests_in_resort",
         "orientation": "v",
         "showlegend": true,
         "type": "scatter",
         "x": [
          "January",
          "February",
          "March",
          "April",
          "May",
          "June",
          "July",
          "August",
          "September",
          "October",
          "November",
          "December"
         ],
         "xaxis": "x",
         "y": [
          1866,
          2308,
          2571,
          2550,
          2535,
          2037,
          3137,
          3257,
          2102,
          2575,
          1975,
          2014
         ],
         "yaxis": "y"
        },
        {
         "hovertemplate": "variable=no_of_guests_city<br>month=%{x}<br>value=%{y}<extra></extra>",
         "legendgroup": "no_of_guests_city",
         "line": {
          "color": "#EF553B",
          "dash": "solid"
         },
         "marker": {
          "symbol": "circle"
         },
         "mode": "lines",
         "name": "no_of_guests_city",
         "orientation": "v",
         "showlegend": true,
         "type": "scatter",
         "x": [
          "January",
          "February",
          "March",
          "April",
          "May",
          "June",
          "July",
          "August",
          "September",
          "October",
          "November",
          "December"
         ],
         "xaxis": "x",
         "y": [
          2249,
          3051,
          4049,
          4010,
          4568,
          4358,
          4770,
          5367,
          4283,
          4326,
          2676,
          2377
         ],
         "yaxis": "y"
        }
       ],
       "layout": {
        "legend": {
         "title": {
          "text": "variable"
         },
         "tracegroupgap": 0
        },
        "margin": {
         "t": 60
        },
        "template": {
         "data": {
          "bar": [
           {
            "error_x": {
             "color": "#2a3f5f"
            },
            "error_y": {
             "color": "#2a3f5f"
            },
            "marker": {
             "line": {
              "color": "#E5ECF6",
              "width": 0.5
             },
             "pattern": {
              "fillmode": "overlay",
              "size": 10,
              "solidity": 0.2
             }
            },
            "type": "bar"
           }
          ],
          "barpolar": [
           {
            "marker": {
             "line": {
              "color": "#E5ECF6",
              "width": 0.5
             },
             "pattern": {
              "fillmode": "overlay",
              "size": 10,
              "solidity": 0.2
             }
            },
            "type": "barpolar"
           }
          ],
          "carpet": [
           {
            "aaxis": {
             "endlinecolor": "#2a3f5f",
             "gridcolor": "white",
             "linecolor": "white",
             "minorgridcolor": "white",
             "startlinecolor": "#2a3f5f"
            },
            "baxis": {
             "endlinecolor": "#2a3f5f",
             "gridcolor": "white",
             "linecolor": "white",
             "minorgridcolor": "white",
             "startlinecolor": "#2a3f5f"
            },
            "type": "carpet"
           }
          ],
          "choropleth": [
           {
            "colorbar": {
             "outlinewidth": 0,
             "ticks": ""
            },
            "type": "choropleth"
           }
          ],
          "contour": [
           {
            "colorbar": {
             "outlinewidth": 0,
             "ticks": ""
            },
            "colorscale": [
             [
              0,
              "#0d0887"
             ],
             [
              0.1111111111111111,
              "#46039f"
             ],
             [
              0.2222222222222222,
              "#7201a8"
             ],
             [
              0.3333333333333333,
              "#9c179e"
             ],
             [
              0.4444444444444444,
              "#bd3786"
             ],
             [
              0.5555555555555556,
              "#d8576b"
             ],
             [
              0.6666666666666666,
              "#ed7953"
             ],
             [
              0.7777777777777778,
              "#fb9f3a"
             ],
             [
              0.8888888888888888,
              "#fdca26"
             ],
             [
              1,
              "#f0f921"
             ]
            ],
            "type": "contour"
           }
          ],
          "contourcarpet": [
           {
            "colorbar": {
             "outlinewidth": 0,
             "ticks": ""
            },
            "type": "contourcarpet"
           }
          ],
          "heatmap": [
           {
            "colorbar": {
             "outlinewidth": 0,
             "ticks": ""
            },
            "colorscale": [
             [
              0,
              "#0d0887"
             ],
             [
              0.1111111111111111,
              "#46039f"
             ],
             [
              0.2222222222222222,
              "#7201a8"
             ],
             [
              0.3333333333333333,
              "#9c179e"
             ],
             [
              0.4444444444444444,
              "#bd3786"
             ],
             [
              0.5555555555555556,
              "#d8576b"
             ],
             [
              0.6666666666666666,
              "#ed7953"
             ],
             [
              0.7777777777777778,
              "#fb9f3a"
             ],
             [
              0.8888888888888888,
              "#fdca26"
             ],
             [
              1,
              "#f0f921"
             ]
            ],
            "type": "heatmap"
           }
          ],
          "heatmapgl": [
           {
            "colorbar": {
             "outlinewidth": 0,
             "ticks": ""
            },
            "colorscale": [
             [
              0,
              "#0d0887"
             ],
             [
              0.1111111111111111,
              "#46039f"
             ],
             [
              0.2222222222222222,
              "#7201a8"
             ],
             [
              0.3333333333333333,
              "#9c179e"
             ],
             [
              0.4444444444444444,
              "#bd3786"
             ],
             [
              0.5555555555555556,
              "#d8576b"
             ],
             [
              0.6666666666666666,
              "#ed7953"
             ],
             [
              0.7777777777777778,
              "#fb9f3a"
             ],
             [
              0.8888888888888888,
              "#fdca26"
             ],
             [
              1,
              "#f0f921"
             ]
            ],
            "type": "heatmapgl"
           }
          ],
          "histogram": [
           {
            "marker": {
             "pattern": {
              "fillmode": "overlay",
              "size": 10,
              "solidity": 0.2
             }
            },
            "type": "histogram"
           }
          ],
          "histogram2d": [
           {
            "colorbar": {
             "outlinewidth": 0,
             "ticks": ""
            },
            "colorscale": [
             [
              0,
              "#0d0887"
             ],
             [
              0.1111111111111111,
              "#46039f"
             ],
             [
              0.2222222222222222,
              "#7201a8"
             ],
             [
              0.3333333333333333,
              "#9c179e"
             ],
             [
              0.4444444444444444,
              "#bd3786"
             ],
             [
              0.5555555555555556,
              "#d8576b"
             ],
             [
              0.6666666666666666,
              "#ed7953"
             ],
             [
              0.7777777777777778,
              "#fb9f3a"
             ],
             [
              0.8888888888888888,
              "#fdca26"
             ],
             [
              1,
              "#f0f921"
             ]
            ],
            "type": "histogram2d"
           }
          ],
          "histogram2dcontour": [
           {
            "colorbar": {
             "outlinewidth": 0,
             "ticks": ""
            },
            "colorscale": [
             [
              0,
              "#0d0887"
             ],
             [
              0.1111111111111111,
              "#46039f"
             ],
             [
              0.2222222222222222,
              "#7201a8"
             ],
             [
              0.3333333333333333,
              "#9c179e"
             ],
             [
              0.4444444444444444,
              "#bd3786"
             ],
             [
              0.5555555555555556,
              "#d8576b"
             ],
             [
              0.6666666666666666,
              "#ed7953"
             ],
             [
              0.7777777777777778,
              "#fb9f3a"
             ],
             [
              0.8888888888888888,
              "#fdca26"
             ],
             [
              1,
              "#f0f921"
             ]
            ],
            "type": "histogram2dcontour"
           }
          ],
          "mesh3d": [
           {
            "colorbar": {
             "outlinewidth": 0,
             "ticks": ""
            },
            "type": "mesh3d"
           }
          ],
          "parcoords": [
           {
            "line": {
             "colorbar": {
              "outlinewidth": 0,
              "ticks": ""
             }
            },
            "type": "parcoords"
           }
          ],
          "pie": [
           {
            "automargin": true,
            "type": "pie"
           }
          ],
          "scatter": [
           {
            "fillpattern": {
             "fillmode": "overlay",
             "size": 10,
             "solidity": 0.2
            },
            "type": "scatter"
           }
          ],
          "scatter3d": [
           {
            "line": {
             "colorbar": {
              "outlinewidth": 0,
              "ticks": ""
             }
            },
            "marker": {
             "colorbar": {
              "outlinewidth": 0,
              "ticks": ""
             }
            },
            "type": "scatter3d"
           }
          ],
          "scattercarpet": [
           {
            "marker": {
             "colorbar": {
              "outlinewidth": 0,
              "ticks": ""
             }
            },
            "type": "scattercarpet"
           }
          ],
          "scattergeo": [
           {
            "marker": {
             "colorbar": {
              "outlinewidth": 0,
              "ticks": ""
             }
            },
            "type": "scattergeo"
           }
          ],
          "scattergl": [
           {
            "marker": {
             "colorbar": {
              "outlinewidth": 0,
              "ticks": ""
             }
            },
            "type": "scattergl"
           }
          ],
          "scattermapbox": [
           {
            "marker": {
             "colorbar": {
              "outlinewidth": 0,
              "ticks": ""
             }
            },
            "type": "scattermapbox"
           }
          ],
          "scatterpolar": [
           {
            "marker": {
             "colorbar": {
              "outlinewidth": 0,
              "ticks": ""
             }
            },
            "type": "scatterpolar"
           }
          ],
          "scatterpolargl": [
           {
            "marker": {
             "colorbar": {
              "outlinewidth": 0,
              "ticks": ""
             }
            },
            "type": "scatterpolargl"
           }
          ],
          "scatterternary": [
           {
            "marker": {
             "colorbar": {
              "outlinewidth": 0,
              "ticks": ""
             }
            },
            "type": "scatterternary"
           }
          ],
          "surface": [
           {
            "colorbar": {
             "outlinewidth": 0,
             "ticks": ""
            },
            "colorscale": [
             [
              0,
              "#0d0887"
             ],
             [
              0.1111111111111111,
              "#46039f"
             ],
             [
              0.2222222222222222,
              "#7201a8"
             ],
             [
              0.3333333333333333,
              "#9c179e"
             ],
             [
              0.4444444444444444,
              "#bd3786"
             ],
             [
              0.5555555555555556,
              "#d8576b"
             ],
             [
              0.6666666666666666,
              "#ed7953"
             ],
             [
              0.7777777777777778,
              "#fb9f3a"
             ],
             [
              0.8888888888888888,
              "#fdca26"
             ],
             [
              1,
              "#f0f921"
             ]
            ],
            "type": "surface"
           }
          ],
          "table": [
           {
            "cells": {
             "fill": {
              "color": "#EBF0F8"
             },
             "line": {
              "color": "white"
             }
            },
            "header": {
             "fill": {
              "color": "#C8D4E3"
             },
             "line": {
              "color": "white"
             }
            },
            "type": "table"
           }
          ]
         },
         "layout": {
          "annotationdefaults": {
           "arrowcolor": "#2a3f5f",
           "arrowhead": 0,
           "arrowwidth": 1
          },
          "autotypenumbers": "strict",
          "coloraxis": {
           "colorbar": {
            "outlinewidth": 0,
            "ticks": ""
           }
          },
          "colorscale": {
           "diverging": [
            [
             0,
             "#8e0152"
            ],
            [
             0.1,
             "#c51b7d"
            ],
            [
             0.2,
             "#de77ae"
            ],
            [
             0.3,
             "#f1b6da"
            ],
            [
             0.4,
             "#fde0ef"
            ],
            [
             0.5,
             "#f7f7f7"
            ],
            [
             0.6,
             "#e6f5d0"
            ],
            [
             0.7,
             "#b8e186"
            ],
            [
             0.8,
             "#7fbc41"
            ],
            [
             0.9,
             "#4d9221"
            ],
            [
             1,
             "#276419"
            ]
           ],
           "sequential": [
            [
             0,
             "#0d0887"
            ],
            [
             0.1111111111111111,
             "#46039f"
            ],
            [
             0.2222222222222222,
             "#7201a8"
            ],
            [
             0.3333333333333333,
             "#9c179e"
            ],
            [
             0.4444444444444444,
             "#bd3786"
            ],
            [
             0.5555555555555556,
             "#d8576b"
            ],
            [
             0.6666666666666666,
             "#ed7953"
            ],
            [
             0.7777777777777778,
             "#fb9f3a"
            ],
            [
             0.8888888888888888,
             "#fdca26"
            ],
            [
             1,
             "#f0f921"
            ]
           ],
           "sequentialminus": [
            [
             0,
             "#0d0887"
            ],
            [
             0.1111111111111111,
             "#46039f"
            ],
            [
             0.2222222222222222,
             "#7201a8"
            ],
            [
             0.3333333333333333,
             "#9c179e"
            ],
            [
             0.4444444444444444,
             "#bd3786"
            ],
            [
             0.5555555555555556,
             "#d8576b"
            ],
            [
             0.6666666666666666,
             "#ed7953"
            ],
            [
             0.7777777777777778,
             "#fb9f3a"
            ],
            [
             0.8888888888888888,
             "#fdca26"
            ],
            [
             1,
             "#f0f921"
            ]
           ]
          },
          "colorway": [
           "#636efa",
           "#EF553B",
           "#00cc96",
           "#ab63fa",
           "#FFA15A",
           "#19d3f3",
           "#FF6692",
           "#B6E880",
           "#FF97FF",
           "#FECB52"
          ],
          "font": {
           "color": "#2a3f5f"
          },
          "geo": {
           "bgcolor": "white",
           "lakecolor": "white",
           "landcolor": "#E5ECF6",
           "showlakes": true,
           "showland": true,
           "subunitcolor": "white"
          },
          "hoverlabel": {
           "align": "left"
          },
          "hovermode": "closest",
          "mapbox": {
           "style": "light"
          },
          "paper_bgcolor": "white",
          "plot_bgcolor": "#E5ECF6",
          "polar": {
           "angularaxis": {
            "gridcolor": "white",
            "linecolor": "white",
            "ticks": ""
           },
           "bgcolor": "#E5ECF6",
           "radialaxis": {
            "gridcolor": "white",
            "linecolor": "white",
            "ticks": ""
           }
          },
          "scene": {
           "xaxis": {
            "backgroundcolor": "#E5ECF6",
            "gridcolor": "white",
            "gridwidth": 2,
            "linecolor": "white",
            "showbackground": true,
            "ticks": "",
            "zerolinecolor": "white"
           },
           "yaxis": {
            "backgroundcolor": "#E5ECF6",
            "gridcolor": "white",
            "gridwidth": 2,
            "linecolor": "white",
            "showbackground": true,
            "ticks": "",
            "zerolinecolor": "white"
           },
           "zaxis": {
            "backgroundcolor": "#E5ECF6",
            "gridcolor": "white",
            "gridwidth": 2,
            "linecolor": "white",
            "showbackground": true,
            "ticks": "",
            "zerolinecolor": "white"
           }
          },
          "shapedefaults": {
           "line": {
            "color": "#2a3f5f"
           }
          },
          "ternary": {
           "aaxis": {
            "gridcolor": "white",
            "linecolor": "white",
            "ticks": ""
           },
           "baxis": {
            "gridcolor": "white",
            "linecolor": "white",
            "ticks": ""
           },
           "bgcolor": "#E5ECF6",
           "caxis": {
            "gridcolor": "white",
            "linecolor": "white",
            "ticks": ""
           }
          },
          "title": {
           "x": 0.05
          },
          "xaxis": {
           "automargin": true,
           "gridcolor": "white",
           "linecolor": "white",
           "ticks": "",
           "title": {
            "standoff": 15
           },
           "zerolinecolor": "white",
           "zerolinewidth": 2
          },
          "yaxis": {
           "automargin": true,
           "gridcolor": "white",
           "linecolor": "white",
           "ticks": "",
           "title": {
            "standoff": 15
           },
           "zerolinecolor": "white",
           "zerolinewidth": 2
          }
         }
        },
        "xaxis": {
         "anchor": "y",
         "domain": [
          0,
          1
         ],
         "title": {
          "text": "month"
         }
        },
        "yaxis": {
         "anchor": "x",
         "domain": [
          0,
          1
         ],
         "title": {
          "text": "value"
         }
        }
       }
      },
      "text/html": [
       "<div>                            <div id=\"2d3812fb-5982-4ff2-8daa-6e4da4f6c806\" class=\"plotly-graph-div\" style=\"height:525px; width:100%;\"></div>            <script type=\"text/javascript\">                require([\"plotly\"], function(Plotly) {                    window.PLOTLYENV=window.PLOTLYENV || {};                                    if (document.getElementById(\"2d3812fb-5982-4ff2-8daa-6e4da4f6c806\")) {                    Plotly.newPlot(                        \"2d3812fb-5982-4ff2-8daa-6e4da4f6c806\",                        [{\"hovertemplate\":\"variable=no_of_guests_in_resort<br>month=%{x}<br>value=%{y}<extra></extra>\",\"legendgroup\":\"no_of_guests_in_resort\",\"line\":{\"color\":\"#636efa\",\"dash\":\"solid\"},\"marker\":{\"symbol\":\"circle\"},\"mode\":\"lines\",\"name\":\"no_of_guests_in_resort\",\"orientation\":\"v\",\"showlegend\":true,\"x\":[\"January\",\"February\",\"March\",\"April\",\"May\",\"June\",\"July\",\"August\",\"September\",\"October\",\"November\",\"December\"],\"xaxis\":\"x\",\"y\":[1866,2308,2571,2550,2535,2037,3137,3257,2102,2575,1975,2014],\"yaxis\":\"y\",\"type\":\"scatter\"},{\"hovertemplate\":\"variable=no_of_guests_city<br>month=%{x}<br>value=%{y}<extra></extra>\",\"legendgroup\":\"no_of_guests_city\",\"line\":{\"color\":\"#EF553B\",\"dash\":\"solid\"},\"marker\":{\"symbol\":\"circle\"},\"mode\":\"lines\",\"name\":\"no_of_guests_city\",\"orientation\":\"v\",\"showlegend\":true,\"x\":[\"January\",\"February\",\"March\",\"April\",\"May\",\"June\",\"July\",\"August\",\"September\",\"October\",\"November\",\"December\"],\"xaxis\":\"x\",\"y\":[2249,3051,4049,4010,4568,4358,4770,5367,4283,4326,2676,2377],\"yaxis\":\"y\",\"type\":\"scatter\"}],                        {\"template\":{\"data\":{\"histogram2dcontour\":[{\"type\":\"histogram2dcontour\",\"colorbar\":{\"outlinewidth\":0,\"ticks\":\"\"},\"colorscale\":[[0.0,\"#0d0887\"],[0.1111111111111111,\"#46039f\"],[0.2222222222222222,\"#7201a8\"],[0.3333333333333333,\"#9c179e\"],[0.4444444444444444,\"#bd3786\"],[0.5555555555555556,\"#d8576b\"],[0.6666666666666666,\"#ed7953\"],[0.7777777777777778,\"#fb9f3a\"],[0.8888888888888888,\"#fdca26\"],[1.0,\"#f0f921\"]]}],\"choropleth\":[{\"type\":\"choropleth\",\"colorbar\":{\"outlinewidth\":0,\"ticks\":\"\"}}],\"histogram2d\":[{\"type\":\"histogram2d\",\"colorbar\":{\"outlinewidth\":0,\"ticks\":\"\"},\"colorscale\":[[0.0,\"#0d0887\"],[0.1111111111111111,\"#46039f\"],[0.2222222222222222,\"#7201a8\"],[0.3333333333333333,\"#9c179e\"],[0.4444444444444444,\"#bd3786\"],[0.5555555555555556,\"#d8576b\"],[0.6666666666666666,\"#ed7953\"],[0.7777777777777778,\"#fb9f3a\"],[0.8888888888888888,\"#fdca26\"],[1.0,\"#f0f921\"]]}],\"heatmap\":[{\"type\":\"heatmap\",\"colorbar\":{\"outlinewidth\":0,\"ticks\":\"\"},\"colorscale\":[[0.0,\"#0d0887\"],[0.1111111111111111,\"#46039f\"],[0.2222222222222222,\"#7201a8\"],[0.3333333333333333,\"#9c179e\"],[0.4444444444444444,\"#bd3786\"],[0.5555555555555556,\"#d8576b\"],[0.6666666666666666,\"#ed7953\"],[0.7777777777777778,\"#fb9f3a\"],[0.8888888888888888,\"#fdca26\"],[1.0,\"#f0f921\"]]}],\"heatmapgl\":[{\"type\":\"heatmapgl\",\"colorbar\":{\"outlinewidth\":0,\"ticks\":\"\"},\"colorscale\":[[0.0,\"#0d0887\"],[0.1111111111111111,\"#46039f\"],[0.2222222222222222,\"#7201a8\"],[0.3333333333333333,\"#9c179e\"],[0.4444444444444444,\"#bd3786\"],[0.5555555555555556,\"#d8576b\"],[0.6666666666666666,\"#ed7953\"],[0.7777777777777778,\"#fb9f3a\"],[0.8888888888888888,\"#fdca26\"],[1.0,\"#f0f921\"]]}],\"contourcarpet\":[{\"type\":\"contourcarpet\",\"colorbar\":{\"outlinewidth\":0,\"ticks\":\"\"}}],\"contour\":[{\"type\":\"contour\",\"colorbar\":{\"outlinewidth\":0,\"ticks\":\"\"},\"colorscale\":[[0.0,\"#0d0887\"],[0.1111111111111111,\"#46039f\"],[0.2222222222222222,\"#7201a8\"],[0.3333333333333333,\"#9c179e\"],[0.4444444444444444,\"#bd3786\"],[0.5555555555555556,\"#d8576b\"],[0.6666666666666666,\"#ed7953\"],[0.7777777777777778,\"#fb9f3a\"],[0.8888888888888888,\"#fdca26\"],[1.0,\"#f0f921\"]]}],\"surface\":[{\"type\":\"surface\",\"colorbar\":{\"outlinewidth\":0,\"ticks\":\"\"},\"colorscale\":[[0.0,\"#0d0887\"],[0.1111111111111111,\"#46039f\"],[0.2222222222222222,\"#7201a8\"],[0.3333333333333333,\"#9c179e\"],[0.4444444444444444,\"#bd3786\"],[0.5555555555555556,\"#d8576b\"],[0.6666666666666666,\"#ed7953\"],[0.7777777777777778,\"#fb9f3a\"],[0.8888888888888888,\"#fdca26\"],[1.0,\"#f0f921\"]]}],\"mesh3d\":[{\"type\":\"mesh3d\",\"colorbar\":{\"outlinewidth\":0,\"ticks\":\"\"}}],\"scatter\":[{\"fillpattern\":{\"fillmode\":\"overlay\",\"size\":10,\"solidity\":0.2},\"type\":\"scatter\"}],\"parcoords\":[{\"type\":\"parcoords\",\"line\":{\"colorbar\":{\"outlinewidth\":0,\"ticks\":\"\"}}}],\"scatterpolargl\":[{\"type\":\"scatterpolargl\",\"marker\":{\"colorbar\":{\"outlinewidth\":0,\"ticks\":\"\"}}}],\"bar\":[{\"error_x\":{\"color\":\"#2a3f5f\"},\"error_y\":{\"color\":\"#2a3f5f\"},\"marker\":{\"line\":{\"color\":\"#E5ECF6\",\"width\":0.5},\"pattern\":{\"fillmode\":\"overlay\",\"size\":10,\"solidity\":0.2}},\"type\":\"bar\"}],\"scattergeo\":[{\"type\":\"scattergeo\",\"marker\":{\"colorbar\":{\"outlinewidth\":0,\"ticks\":\"\"}}}],\"scatterpolar\":[{\"type\":\"scatterpolar\",\"marker\":{\"colorbar\":{\"outlinewidth\":0,\"ticks\":\"\"}}}],\"histogram\":[{\"marker\":{\"pattern\":{\"fillmode\":\"overlay\",\"size\":10,\"solidity\":0.2}},\"type\":\"histogram\"}],\"scattergl\":[{\"type\":\"scattergl\",\"marker\":{\"colorbar\":{\"outlinewidth\":0,\"ticks\":\"\"}}}],\"scatter3d\":[{\"type\":\"scatter3d\",\"line\":{\"colorbar\":{\"outlinewidth\":0,\"ticks\":\"\"}},\"marker\":{\"colorbar\":{\"outlinewidth\":0,\"ticks\":\"\"}}}],\"scattermapbox\":[{\"type\":\"scattermapbox\",\"marker\":{\"colorbar\":{\"outlinewidth\":0,\"ticks\":\"\"}}}],\"scatterternary\":[{\"type\":\"scatterternary\",\"marker\":{\"colorbar\":{\"outlinewidth\":0,\"ticks\":\"\"}}}],\"scattercarpet\":[{\"type\":\"scattercarpet\",\"marker\":{\"colorbar\":{\"outlinewidth\":0,\"ticks\":\"\"}}}],\"carpet\":[{\"aaxis\":{\"endlinecolor\":\"#2a3f5f\",\"gridcolor\":\"white\",\"linecolor\":\"white\",\"minorgridcolor\":\"white\",\"startlinecolor\":\"#2a3f5f\"},\"baxis\":{\"endlinecolor\":\"#2a3f5f\",\"gridcolor\":\"white\",\"linecolor\":\"white\",\"minorgridcolor\":\"white\",\"startlinecolor\":\"#2a3f5f\"},\"type\":\"carpet\"}],\"table\":[{\"cells\":{\"fill\":{\"color\":\"#EBF0F8\"},\"line\":{\"color\":\"white\"}},\"header\":{\"fill\":{\"color\":\"#C8D4E3\"},\"line\":{\"color\":\"white\"}},\"type\":\"table\"}],\"barpolar\":[{\"marker\":{\"line\":{\"color\":\"#E5ECF6\",\"width\":0.5},\"pattern\":{\"fillmode\":\"overlay\",\"size\":10,\"solidity\":0.2}},\"type\":\"barpolar\"}],\"pie\":[{\"automargin\":true,\"type\":\"pie\"}]},\"layout\":{\"autotypenumbers\":\"strict\",\"colorway\":[\"#636efa\",\"#EF553B\",\"#00cc96\",\"#ab63fa\",\"#FFA15A\",\"#19d3f3\",\"#FF6692\",\"#B6E880\",\"#FF97FF\",\"#FECB52\"],\"font\":{\"color\":\"#2a3f5f\"},\"hovermode\":\"closest\",\"hoverlabel\":{\"align\":\"left\"},\"paper_bgcolor\":\"white\",\"plot_bgcolor\":\"#E5ECF6\",\"polar\":{\"bgcolor\":\"#E5ECF6\",\"angularaxis\":{\"gridcolor\":\"white\",\"linecolor\":\"white\",\"ticks\":\"\"},\"radialaxis\":{\"gridcolor\":\"white\",\"linecolor\":\"white\",\"ticks\":\"\"}},\"ternary\":{\"bgcolor\":\"#E5ECF6\",\"aaxis\":{\"gridcolor\":\"white\",\"linecolor\":\"white\",\"ticks\":\"\"},\"baxis\":{\"gridcolor\":\"white\",\"linecolor\":\"white\",\"ticks\":\"\"},\"caxis\":{\"gridcolor\":\"white\",\"linecolor\":\"white\",\"ticks\":\"\"}},\"coloraxis\":{\"colorbar\":{\"outlinewidth\":0,\"ticks\":\"\"}},\"colorscale\":{\"sequential\":[[0.0,\"#0d0887\"],[0.1111111111111111,\"#46039f\"],[0.2222222222222222,\"#7201a8\"],[0.3333333333333333,\"#9c179e\"],[0.4444444444444444,\"#bd3786\"],[0.5555555555555556,\"#d8576b\"],[0.6666666666666666,\"#ed7953\"],[0.7777777777777778,\"#fb9f3a\"],[0.8888888888888888,\"#fdca26\"],[1.0,\"#f0f921\"]],\"sequentialminus\":[[0.0,\"#0d0887\"],[0.1111111111111111,\"#46039f\"],[0.2222222222222222,\"#7201a8\"],[0.3333333333333333,\"#9c179e\"],[0.4444444444444444,\"#bd3786\"],[0.5555555555555556,\"#d8576b\"],[0.6666666666666666,\"#ed7953\"],[0.7777777777777778,\"#fb9f3a\"],[0.8888888888888888,\"#fdca26\"],[1.0,\"#f0f921\"]],\"diverging\":[[0,\"#8e0152\"],[0.1,\"#c51b7d\"],[0.2,\"#de77ae\"],[0.3,\"#f1b6da\"],[0.4,\"#fde0ef\"],[0.5,\"#f7f7f7\"],[0.6,\"#e6f5d0\"],[0.7,\"#b8e186\"],[0.8,\"#7fbc41\"],[0.9,\"#4d9221\"],[1,\"#276419\"]]},\"xaxis\":{\"gridcolor\":\"white\",\"linecolor\":\"white\",\"ticks\":\"\",\"title\":{\"standoff\":15},\"zerolinecolor\":\"white\",\"automargin\":true,\"zerolinewidth\":2},\"yaxis\":{\"gridcolor\":\"white\",\"linecolor\":\"white\",\"ticks\":\"\",\"title\":{\"standoff\":15},\"zerolinecolor\":\"white\",\"automargin\":true,\"zerolinewidth\":2},\"scene\":{\"xaxis\":{\"backgroundcolor\":\"#E5ECF6\",\"gridcolor\":\"white\",\"linecolor\":\"white\",\"showbackground\":true,\"ticks\":\"\",\"zerolinecolor\":\"white\",\"gridwidth\":2},\"yaxis\":{\"backgroundcolor\":\"#E5ECF6\",\"gridcolor\":\"white\",\"linecolor\":\"white\",\"showbackground\":true,\"ticks\":\"\",\"zerolinecolor\":\"white\",\"gridwidth\":2},\"zaxis\":{\"backgroundcolor\":\"#E5ECF6\",\"gridcolor\":\"white\",\"linecolor\":\"white\",\"showbackground\":true,\"ticks\":\"\",\"zerolinecolor\":\"white\",\"gridwidth\":2}},\"shapedefaults\":{\"line\":{\"color\":\"#2a3f5f\"}},\"annotationdefaults\":{\"arrowcolor\":\"#2a3f5f\",\"arrowhead\":0,\"arrowwidth\":1},\"geo\":{\"bgcolor\":\"white\",\"landcolor\":\"#E5ECF6\",\"subunitcolor\":\"white\",\"showland\":true,\"showlakes\":true,\"lakecolor\":\"white\"},\"title\":{\"x\":0.05},\"mapbox\":{\"style\":\"light\"}}},\"xaxis\":{\"anchor\":\"y\",\"domain\":[0.0,1.0],\"title\":{\"text\":\"month\"}},\"yaxis\":{\"anchor\":\"x\",\"domain\":[0.0,1.0],\"title\":{\"text\":\"value\"}},\"legend\":{\"title\":{\"text\":\"variable\"},\"tracegroupgap\":0},\"margin\":{\"t\":60}},                        {\"responsive\": true}                    ).then(function(){\n",
       "                            \n",
       "var gd = document.getElementById('2d3812fb-5982-4ff2-8daa-6e4da4f6c806');\n",
       "var x = new MutationObserver(function (mutations, observer) {{\n",
       "        var display = window.getComputedStyle(gd).display;\n",
       "        if (!display || display === 'none') {{\n",
       "            console.log([gd, 'removed!']);\n",
       "            Plotly.purge(gd);\n",
       "            observer.disconnect();\n",
       "        }}\n",
       "}});\n",
       "\n",
       "// Listen for the removal of the full notebook cells\n",
       "var notebookContainer = gd.closest('#notebook-container');\n",
       "if (notebookContainer) {{\n",
       "    x.observe(notebookContainer, {childList: true});\n",
       "}}\n",
       "\n",
       "// Listen for the clearing of the current output cell\n",
       "var outputEl = gd.closest('.output');\n",
       "if (outputEl) {{\n",
       "    x.observe(outputEl, {childList: true});\n",
       "}}\n",
       "\n",
       "                        })                };                });            </script>        </div>"
      ]
     },
     "metadata": {},
     "output_type": "display_data"
    }
   ],
   "source": [
    "ps.line(data_frame=final_rush,x='month',y=['no_of_guests_in_resort', 'no_of_guests_city'])\n"
   ]
  },
  {
   "cell_type": "code",
   "execution_count": 63,
   "id": "0b65ad0e",
   "metadata": {},
   "outputs": [],
   "source": [
    "#now lets see reservation during weekend and weekdays for bothtype of hotels"
   ]
  },
  {
   "cell_type": "code",
   "execution_count": 64,
   "id": "7ae795fd",
   "metadata": {},
   "outputs": [],
   "source": [
    "data_resort_weekend=df2[(df2['hotel']=='Resort Hotel') & (df2['is_canceled']==0) &(df2['stays_in_weekend_nights']!=0)]\n",
    "data_city_weekend = df2[(df2['hotel']=='City Hotel') & (df2['is_canceled']==0) &(df2['stays_in_weekend_nights']!=0)]"
   ]
  },
  {
   "cell_type": "code",
   "execution_count": 70,
   "id": "22e088a1",
   "metadata": {},
   "outputs": [],
   "source": [
    "data_resort_weekday=df2[(df2['hotel']=='Resort Hotel') & (df2['is_canceled']==0) &(df2['stays_in_week_nights']!=0)]\n",
    "data_city_weekday = df2[(df2['hotel']=='City Hotel') & (df2['is_canceled']==0) &(df2['stays_in_week_nights']!=0)]"
   ]
  },
  {
   "cell_type": "code",
   "execution_count": 68,
   "id": "833fd91c",
   "metadata": {},
   "outputs": [
    {
     "data": {
      "text/html": [
       "<div>\n",
       "<style scoped>\n",
       "    .dataframe tbody tr th:only-of-type {\n",
       "        vertical-align: middle;\n",
       "    }\n",
       "\n",
       "    .dataframe tbody tr th {\n",
       "        vertical-align: top;\n",
       "    }\n",
       "\n",
       "    .dataframe thead th {\n",
       "        text-align: right;\n",
       "    }\n",
       "</style>\n",
       "<table border=\"1\" class=\"dataframe\">\n",
       "  <thead>\n",
       "    <tr style=\"text-align: right;\">\n",
       "      <th></th>\n",
       "      <th>month</th>\n",
       "      <th>no_of_guests</th>\n",
       "    </tr>\n",
       "  </thead>\n",
       "  <tbody>\n",
       "    <tr>\n",
       "      <th>0</th>\n",
       "      <td>August</td>\n",
       "      <td>2479</td>\n",
       "    </tr>\n",
       "    <tr>\n",
       "      <th>1</th>\n",
       "      <td>July</td>\n",
       "      <td>2320</td>\n",
       "    </tr>\n",
       "    <tr>\n",
       "      <th>2</th>\n",
       "      <td>May</td>\n",
       "      <td>1671</td>\n",
       "    </tr>\n",
       "    <tr>\n",
       "      <th>3</th>\n",
       "      <td>October</td>\n",
       "      <td>1634</td>\n",
       "    </tr>\n",
       "    <tr>\n",
       "      <th>4</th>\n",
       "      <td>April</td>\n",
       "      <td>1632</td>\n",
       "    </tr>\n",
       "    <tr>\n",
       "      <th>5</th>\n",
       "      <td>September</td>\n",
       "      <td>1540</td>\n",
       "    </tr>\n",
       "    <tr>\n",
       "      <th>6</th>\n",
       "      <td>June</td>\n",
       "      <td>1419</td>\n",
       "    </tr>\n",
       "    <tr>\n",
       "      <th>7</th>\n",
       "      <td>March</td>\n",
       "      <td>1316</td>\n",
       "    </tr>\n",
       "    <tr>\n",
       "      <th>8</th>\n",
       "      <td>February</td>\n",
       "      <td>1199</td>\n",
       "    </tr>\n",
       "    <tr>\n",
       "      <th>9</th>\n",
       "      <td>November</td>\n",
       "      <td>984</td>\n",
       "    </tr>\n",
       "    <tr>\n",
       "      <th>10</th>\n",
       "      <td>December</td>\n",
       "      <td>955</td>\n",
       "    </tr>\n",
       "    <tr>\n",
       "      <th>11</th>\n",
       "      <td>January</td>\n",
       "      <td>845</td>\n",
       "    </tr>\n",
       "  </tbody>\n",
       "</table>\n",
       "</div>"
      ],
      "text/plain": [
       "        month  no_of_guests\n",
       "0      August          2479\n",
       "1        July          2320\n",
       "2         May          1671\n",
       "3     October          1634\n",
       "4       April          1632\n",
       "5   September          1540\n",
       "6        June          1419\n",
       "7       March          1316\n",
       "8    February          1199\n",
       "9    November           984\n",
       "10   December           955\n",
       "11    January           845"
      ]
     },
     "execution_count": 68,
     "metadata": {},
     "output_type": "execute_result"
    }
   ],
   "source": [
    "rush_resort_weekend=data_resort_weekend['arrival_date_month'].value_counts().reset_index()\n",
    "rush_resort_weekend.columns=['month','no_of_guests']\n",
    "rush_resort_weekend"
   ]
  },
  {
   "cell_type": "code",
   "execution_count": 69,
   "id": "34f9311b",
   "metadata": {},
   "outputs": [
    {
     "data": {
      "text/html": [
       "<div>\n",
       "<style scoped>\n",
       "    .dataframe tbody tr th:only-of-type {\n",
       "        vertical-align: middle;\n",
       "    }\n",
       "\n",
       "    .dataframe tbody tr th {\n",
       "        vertical-align: top;\n",
       "    }\n",
       "\n",
       "    .dataframe thead th {\n",
       "        text-align: right;\n",
       "    }\n",
       "</style>\n",
       "<table border=\"1\" class=\"dataframe\">\n",
       "  <thead>\n",
       "    <tr style=\"text-align: right;\">\n",
       "      <th></th>\n",
       "      <th>month</th>\n",
       "      <th>no_of_guests</th>\n",
       "    </tr>\n",
       "  </thead>\n",
       "  <tbody>\n",
       "    <tr>\n",
       "      <th>0</th>\n",
       "      <td>August</td>\n",
       "      <td>2959</td>\n",
       "    </tr>\n",
       "    <tr>\n",
       "      <th>1</th>\n",
       "      <td>July</td>\n",
       "      <td>2712</td>\n",
       "    </tr>\n",
       "    <tr>\n",
       "      <th>2</th>\n",
       "      <td>October</td>\n",
       "      <td>2341</td>\n",
       "    </tr>\n",
       "    <tr>\n",
       "      <th>3</th>\n",
       "      <td>May</td>\n",
       "      <td>2341</td>\n",
       "    </tr>\n",
       "    <tr>\n",
       "      <th>4</th>\n",
       "      <td>April</td>\n",
       "      <td>2339</td>\n",
       "    </tr>\n",
       "    <tr>\n",
       "      <th>5</th>\n",
       "      <td>June</td>\n",
       "      <td>2255</td>\n",
       "    </tr>\n",
       "    <tr>\n",
       "      <th>6</th>\n",
       "      <td>March</td>\n",
       "      <td>2194</td>\n",
       "    </tr>\n",
       "    <tr>\n",
       "      <th>7</th>\n",
       "      <td>September</td>\n",
       "      <td>2131</td>\n",
       "    </tr>\n",
       "    <tr>\n",
       "      <th>8</th>\n",
       "      <td>February</td>\n",
       "      <td>1599</td>\n",
       "    </tr>\n",
       "    <tr>\n",
       "      <th>9</th>\n",
       "      <td>November</td>\n",
       "      <td>1394</td>\n",
       "    </tr>\n",
       "    <tr>\n",
       "      <th>10</th>\n",
       "      <td>December</td>\n",
       "      <td>1244</td>\n",
       "    </tr>\n",
       "    <tr>\n",
       "      <th>11</th>\n",
       "      <td>January</td>\n",
       "      <td>1098</td>\n",
       "    </tr>\n",
       "  </tbody>\n",
       "</table>\n",
       "</div>"
      ],
      "text/plain": [
       "        month  no_of_guests\n",
       "0      August          2959\n",
       "1        July          2712\n",
       "2     October          2341\n",
       "3         May          2341\n",
       "4       April          2339\n",
       "5        June          2255\n",
       "6       March          2194\n",
       "7   September          2131\n",
       "8    February          1599\n",
       "9    November          1394\n",
       "10   December          1244\n",
       "11    January          1098"
      ]
     },
     "execution_count": 69,
     "metadata": {},
     "output_type": "execute_result"
    }
   ],
   "source": [
    "rush_city_weekend=data_city_weekend['arrival_date_month'].value_counts().reset_index()\n",
    "rush_city_weekend.columns=['month','no_of_guests']\n",
    "rush_city_weekend"
   ]
  },
  {
   "cell_type": "code",
   "execution_count": 73,
   "id": "02456b0d",
   "metadata": {},
   "outputs": [],
   "source": [
    "final_rush_weekend=rush_resort_weekend.merge(rush_city_weekend,on='month')"
   ]
  },
  {
   "cell_type": "code",
   "execution_count": 74,
   "id": "6f1e52f0",
   "metadata": {},
   "outputs": [],
   "source": [
    "final_rush_weekend.columns=['month','no_of_guests_in_resort','no_of_guests_city']"
   ]
  },
  {
   "cell_type": "code",
   "execution_count": 75,
   "id": "01226f0a",
   "metadata": {},
   "outputs": [],
   "source": [
    "final_rush_weekend=sd.Sort_Dataframeby_Month(final_rush_weekend,'month')"
   ]
  },
  {
   "cell_type": "code",
   "execution_count": 76,
   "id": "b338e4bd",
   "metadata": {},
   "outputs": [
    {
     "data": {
      "application/vnd.plotly.v1+json": {
       "config": {
        "plotlyServerURL": "https://plot.ly"
       },
       "data": [
        {
         "hovertemplate": "variable=no_of_guests_in_resort<br>month=%{x}<br>value=%{y}<extra></extra>",
         "legendgroup": "no_of_guests_in_resort",
         "line": {
          "color": "#636efa",
          "dash": "solid"
         },
         "marker": {
          "symbol": "circle"
         },
         "mode": "lines",
         "name": "no_of_guests_in_resort",
         "orientation": "v",
         "showlegend": true,
         "type": "scatter",
         "x": [
          "January",
          "February",
          "March",
          "April",
          "May",
          "June",
          "July",
          "August",
          "September",
          "October",
          "November",
          "December"
         ],
         "xaxis": "x",
         "y": [
          845,
          1199,
          1316,
          1632,
          1671,
          1419,
          2320,
          2479,
          1540,
          1634,
          984,
          955
         ],
         "yaxis": "y"
        },
        {
         "hovertemplate": "variable=no_of_guests_city<br>month=%{x}<br>value=%{y}<extra></extra>",
         "legendgroup": "no_of_guests_city",
         "line": {
          "color": "#EF553B",
          "dash": "solid"
         },
         "marker": {
          "symbol": "circle"
         },
         "mode": "lines",
         "name": "no_of_guests_city",
         "orientation": "v",
         "showlegend": true,
         "type": "scatter",
         "x": [
          "January",
          "February",
          "March",
          "April",
          "May",
          "June",
          "July",
          "August",
          "September",
          "October",
          "November",
          "December"
         ],
         "xaxis": "x",
         "y": [
          1098,
          1599,
          2194,
          2339,
          2341,
          2255,
          2712,
          2959,
          2131,
          2341,
          1394,
          1244
         ],
         "yaxis": "y"
        }
       ],
       "layout": {
        "legend": {
         "title": {
          "text": "variable"
         },
         "tracegroupgap": 0
        },
        "margin": {
         "t": 60
        },
        "template": {
         "data": {
          "bar": [
           {
            "error_x": {
             "color": "#2a3f5f"
            },
            "error_y": {
             "color": "#2a3f5f"
            },
            "marker": {
             "line": {
              "color": "#E5ECF6",
              "width": 0.5
             },
             "pattern": {
              "fillmode": "overlay",
              "size": 10,
              "solidity": 0.2
             }
            },
            "type": "bar"
           }
          ],
          "barpolar": [
           {
            "marker": {
             "line": {
              "color": "#E5ECF6",
              "width": 0.5
             },
             "pattern": {
              "fillmode": "overlay",
              "size": 10,
              "solidity": 0.2
             }
            },
            "type": "barpolar"
           }
          ],
          "carpet": [
           {
            "aaxis": {
             "endlinecolor": "#2a3f5f",
             "gridcolor": "white",
             "linecolor": "white",
             "minorgridcolor": "white",
             "startlinecolor": "#2a3f5f"
            },
            "baxis": {
             "endlinecolor": "#2a3f5f",
             "gridcolor": "white",
             "linecolor": "white",
             "minorgridcolor": "white",
             "startlinecolor": "#2a3f5f"
            },
            "type": "carpet"
           }
          ],
          "choropleth": [
           {
            "colorbar": {
             "outlinewidth": 0,
             "ticks": ""
            },
            "type": "choropleth"
           }
          ],
          "contour": [
           {
            "colorbar": {
             "outlinewidth": 0,
             "ticks": ""
            },
            "colorscale": [
             [
              0,
              "#0d0887"
             ],
             [
              0.1111111111111111,
              "#46039f"
             ],
             [
              0.2222222222222222,
              "#7201a8"
             ],
             [
              0.3333333333333333,
              "#9c179e"
             ],
             [
              0.4444444444444444,
              "#bd3786"
             ],
             [
              0.5555555555555556,
              "#d8576b"
             ],
             [
              0.6666666666666666,
              "#ed7953"
             ],
             [
              0.7777777777777778,
              "#fb9f3a"
             ],
             [
              0.8888888888888888,
              "#fdca26"
             ],
             [
              1,
              "#f0f921"
             ]
            ],
            "type": "contour"
           }
          ],
          "contourcarpet": [
           {
            "colorbar": {
             "outlinewidth": 0,
             "ticks": ""
            },
            "type": "contourcarpet"
           }
          ],
          "heatmap": [
           {
            "colorbar": {
             "outlinewidth": 0,
             "ticks": ""
            },
            "colorscale": [
             [
              0,
              "#0d0887"
             ],
             [
              0.1111111111111111,
              "#46039f"
             ],
             [
              0.2222222222222222,
              "#7201a8"
             ],
             [
              0.3333333333333333,
              "#9c179e"
             ],
             [
              0.4444444444444444,
              "#bd3786"
             ],
             [
              0.5555555555555556,
              "#d8576b"
             ],
             [
              0.6666666666666666,
              "#ed7953"
             ],
             [
              0.7777777777777778,
              "#fb9f3a"
             ],
             [
              0.8888888888888888,
              "#fdca26"
             ],
             [
              1,
              "#f0f921"
             ]
            ],
            "type": "heatmap"
           }
          ],
          "heatmapgl": [
           {
            "colorbar": {
             "outlinewidth": 0,
             "ticks": ""
            },
            "colorscale": [
             [
              0,
              "#0d0887"
             ],
             [
              0.1111111111111111,
              "#46039f"
             ],
             [
              0.2222222222222222,
              "#7201a8"
             ],
             [
              0.3333333333333333,
              "#9c179e"
             ],
             [
              0.4444444444444444,
              "#bd3786"
             ],
             [
              0.5555555555555556,
              "#d8576b"
             ],
             [
              0.6666666666666666,
              "#ed7953"
             ],
             [
              0.7777777777777778,
              "#fb9f3a"
             ],
             [
              0.8888888888888888,
              "#fdca26"
             ],
             [
              1,
              "#f0f921"
             ]
            ],
            "type": "heatmapgl"
           }
          ],
          "histogram": [
           {
            "marker": {
             "pattern": {
              "fillmode": "overlay",
              "size": 10,
              "solidity": 0.2
             }
            },
            "type": "histogram"
           }
          ],
          "histogram2d": [
           {
            "colorbar": {
             "outlinewidth": 0,
             "ticks": ""
            },
            "colorscale": [
             [
              0,
              "#0d0887"
             ],
             [
              0.1111111111111111,
              "#46039f"
             ],
             [
              0.2222222222222222,
              "#7201a8"
             ],
             [
              0.3333333333333333,
              "#9c179e"
             ],
             [
              0.4444444444444444,
              "#bd3786"
             ],
             [
              0.5555555555555556,
              "#d8576b"
             ],
             [
              0.6666666666666666,
              "#ed7953"
             ],
             [
              0.7777777777777778,
              "#fb9f3a"
             ],
             [
              0.8888888888888888,
              "#fdca26"
             ],
             [
              1,
              "#f0f921"
             ]
            ],
            "type": "histogram2d"
           }
          ],
          "histogram2dcontour": [
           {
            "colorbar": {
             "outlinewidth": 0,
             "ticks": ""
            },
            "colorscale": [
             [
              0,
              "#0d0887"
             ],
             [
              0.1111111111111111,
              "#46039f"
             ],
             [
              0.2222222222222222,
              "#7201a8"
             ],
             [
              0.3333333333333333,
              "#9c179e"
             ],
             [
              0.4444444444444444,
              "#bd3786"
             ],
             [
              0.5555555555555556,
              "#d8576b"
             ],
             [
              0.6666666666666666,
              "#ed7953"
             ],
             [
              0.7777777777777778,
              "#fb9f3a"
             ],
             [
              0.8888888888888888,
              "#fdca26"
             ],
             [
              1,
              "#f0f921"
             ]
            ],
            "type": "histogram2dcontour"
           }
          ],
          "mesh3d": [
           {
            "colorbar": {
             "outlinewidth": 0,
             "ticks": ""
            },
            "type": "mesh3d"
           }
          ],
          "parcoords": [
           {
            "line": {
             "colorbar": {
              "outlinewidth": 0,
              "ticks": ""
             }
            },
            "type": "parcoords"
           }
          ],
          "pie": [
           {
            "automargin": true,
            "type": "pie"
           }
          ],
          "scatter": [
           {
            "fillpattern": {
             "fillmode": "overlay",
             "size": 10,
             "solidity": 0.2
            },
            "type": "scatter"
           }
          ],
          "scatter3d": [
           {
            "line": {
             "colorbar": {
              "outlinewidth": 0,
              "ticks": ""
             }
            },
            "marker": {
             "colorbar": {
              "outlinewidth": 0,
              "ticks": ""
             }
            },
            "type": "scatter3d"
           }
          ],
          "scattercarpet": [
           {
            "marker": {
             "colorbar": {
              "outlinewidth": 0,
              "ticks": ""
             }
            },
            "type": "scattercarpet"
           }
          ],
          "scattergeo": [
           {
            "marker": {
             "colorbar": {
              "outlinewidth": 0,
              "ticks": ""
             }
            },
            "type": "scattergeo"
           }
          ],
          "scattergl": [
           {
            "marker": {
             "colorbar": {
              "outlinewidth": 0,
              "ticks": ""
             }
            },
            "type": "scattergl"
           }
          ],
          "scattermapbox": [
           {
            "marker": {
             "colorbar": {
              "outlinewidth": 0,
              "ticks": ""
             }
            },
            "type": "scattermapbox"
           }
          ],
          "scatterpolar": [
           {
            "marker": {
             "colorbar": {
              "outlinewidth": 0,
              "ticks": ""
             }
            },
            "type": "scatterpolar"
           }
          ],
          "scatterpolargl": [
           {
            "marker": {
             "colorbar": {
              "outlinewidth": 0,
              "ticks": ""
             }
            },
            "type": "scatterpolargl"
           }
          ],
          "scatterternary": [
           {
            "marker": {
             "colorbar": {
              "outlinewidth": 0,
              "ticks": ""
             }
            },
            "type": "scatterternary"
           }
          ],
          "surface": [
           {
            "colorbar": {
             "outlinewidth": 0,
             "ticks": ""
            },
            "colorscale": [
             [
              0,
              "#0d0887"
             ],
             [
              0.1111111111111111,
              "#46039f"
             ],
             [
              0.2222222222222222,
              "#7201a8"
             ],
             [
              0.3333333333333333,
              "#9c179e"
             ],
             [
              0.4444444444444444,
              "#bd3786"
             ],
             [
              0.5555555555555556,
              "#d8576b"
             ],
             [
              0.6666666666666666,
              "#ed7953"
             ],
             [
              0.7777777777777778,
              "#fb9f3a"
             ],
             [
              0.8888888888888888,
              "#fdca26"
             ],
             [
              1,
              "#f0f921"
             ]
            ],
            "type": "surface"
           }
          ],
          "table": [
           {
            "cells": {
             "fill": {
              "color": "#EBF0F8"
             },
             "line": {
              "color": "white"
             }
            },
            "header": {
             "fill": {
              "color": "#C8D4E3"
             },
             "line": {
              "color": "white"
             }
            },
            "type": "table"
           }
          ]
         },
         "layout": {
          "annotationdefaults": {
           "arrowcolor": "#2a3f5f",
           "arrowhead": 0,
           "arrowwidth": 1
          },
          "autotypenumbers": "strict",
          "coloraxis": {
           "colorbar": {
            "outlinewidth": 0,
            "ticks": ""
           }
          },
          "colorscale": {
           "diverging": [
            [
             0,
             "#8e0152"
            ],
            [
             0.1,
             "#c51b7d"
            ],
            [
             0.2,
             "#de77ae"
            ],
            [
             0.3,
             "#f1b6da"
            ],
            [
             0.4,
             "#fde0ef"
            ],
            [
             0.5,
             "#f7f7f7"
            ],
            [
             0.6,
             "#e6f5d0"
            ],
            [
             0.7,
             "#b8e186"
            ],
            [
             0.8,
             "#7fbc41"
            ],
            [
             0.9,
             "#4d9221"
            ],
            [
             1,
             "#276419"
            ]
           ],
           "sequential": [
            [
             0,
             "#0d0887"
            ],
            [
             0.1111111111111111,
             "#46039f"
            ],
            [
             0.2222222222222222,
             "#7201a8"
            ],
            [
             0.3333333333333333,
             "#9c179e"
            ],
            [
             0.4444444444444444,
             "#bd3786"
            ],
            [
             0.5555555555555556,
             "#d8576b"
            ],
            [
             0.6666666666666666,
             "#ed7953"
            ],
            [
             0.7777777777777778,
             "#fb9f3a"
            ],
            [
             0.8888888888888888,
             "#fdca26"
            ],
            [
             1,
             "#f0f921"
            ]
           ],
           "sequentialminus": [
            [
             0,
             "#0d0887"
            ],
            [
             0.1111111111111111,
             "#46039f"
            ],
            [
             0.2222222222222222,
             "#7201a8"
            ],
            [
             0.3333333333333333,
             "#9c179e"
            ],
            [
             0.4444444444444444,
             "#bd3786"
            ],
            [
             0.5555555555555556,
             "#d8576b"
            ],
            [
             0.6666666666666666,
             "#ed7953"
            ],
            [
             0.7777777777777778,
             "#fb9f3a"
            ],
            [
             0.8888888888888888,
             "#fdca26"
            ],
            [
             1,
             "#f0f921"
            ]
           ]
          },
          "colorway": [
           "#636efa",
           "#EF553B",
           "#00cc96",
           "#ab63fa",
           "#FFA15A",
           "#19d3f3",
           "#FF6692",
           "#B6E880",
           "#FF97FF",
           "#FECB52"
          ],
          "font": {
           "color": "#2a3f5f"
          },
          "geo": {
           "bgcolor": "white",
           "lakecolor": "white",
           "landcolor": "#E5ECF6",
           "showlakes": true,
           "showland": true,
           "subunitcolor": "white"
          },
          "hoverlabel": {
           "align": "left"
          },
          "hovermode": "closest",
          "mapbox": {
           "style": "light"
          },
          "paper_bgcolor": "white",
          "plot_bgcolor": "#E5ECF6",
          "polar": {
           "angularaxis": {
            "gridcolor": "white",
            "linecolor": "white",
            "ticks": ""
           },
           "bgcolor": "#E5ECF6",
           "radialaxis": {
            "gridcolor": "white",
            "linecolor": "white",
            "ticks": ""
           }
          },
          "scene": {
           "xaxis": {
            "backgroundcolor": "#E5ECF6",
            "gridcolor": "white",
            "gridwidth": 2,
            "linecolor": "white",
            "showbackground": true,
            "ticks": "",
            "zerolinecolor": "white"
           },
           "yaxis": {
            "backgroundcolor": "#E5ECF6",
            "gridcolor": "white",
            "gridwidth": 2,
            "linecolor": "white",
            "showbackground": true,
            "ticks": "",
            "zerolinecolor": "white"
           },
           "zaxis": {
            "backgroundcolor": "#E5ECF6",
            "gridcolor": "white",
            "gridwidth": 2,
            "linecolor": "white",
            "showbackground": true,
            "ticks": "",
            "zerolinecolor": "white"
           }
          },
          "shapedefaults": {
           "line": {
            "color": "#2a3f5f"
           }
          },
          "ternary": {
           "aaxis": {
            "gridcolor": "white",
            "linecolor": "white",
            "ticks": ""
           },
           "baxis": {
            "gridcolor": "white",
            "linecolor": "white",
            "ticks": ""
           },
           "bgcolor": "#E5ECF6",
           "caxis": {
            "gridcolor": "white",
            "linecolor": "white",
            "ticks": ""
           }
          },
          "title": {
           "x": 0.05
          },
          "xaxis": {
           "automargin": true,
           "gridcolor": "white",
           "linecolor": "white",
           "ticks": "",
           "title": {
            "standoff": 15
           },
           "zerolinecolor": "white",
           "zerolinewidth": 2
          },
          "yaxis": {
           "automargin": true,
           "gridcolor": "white",
           "linecolor": "white",
           "ticks": "",
           "title": {
            "standoff": 15
           },
           "zerolinecolor": "white",
           "zerolinewidth": 2
          }
         }
        },
        "xaxis": {
         "anchor": "y",
         "domain": [
          0,
          1
         ],
         "title": {
          "text": "month"
         }
        },
        "yaxis": {
         "anchor": "x",
         "domain": [
          0,
          1
         ],
         "title": {
          "text": "value"
         }
        }
       }
      },
      "text/html": [
       "<div>                            <div id=\"3f7370b9-9d66-46e9-93ae-24be7527ce19\" class=\"plotly-graph-div\" style=\"height:525px; width:100%;\"></div>            <script type=\"text/javascript\">                require([\"plotly\"], function(Plotly) {                    window.PLOTLYENV=window.PLOTLYENV || {};                                    if (document.getElementById(\"3f7370b9-9d66-46e9-93ae-24be7527ce19\")) {                    Plotly.newPlot(                        \"3f7370b9-9d66-46e9-93ae-24be7527ce19\",                        [{\"hovertemplate\":\"variable=no_of_guests_in_resort<br>month=%{x}<br>value=%{y}<extra></extra>\",\"legendgroup\":\"no_of_guests_in_resort\",\"line\":{\"color\":\"#636efa\",\"dash\":\"solid\"},\"marker\":{\"symbol\":\"circle\"},\"mode\":\"lines\",\"name\":\"no_of_guests_in_resort\",\"orientation\":\"v\",\"showlegend\":true,\"x\":[\"January\",\"February\",\"March\",\"April\",\"May\",\"June\",\"July\",\"August\",\"September\",\"October\",\"November\",\"December\"],\"xaxis\":\"x\",\"y\":[845,1199,1316,1632,1671,1419,2320,2479,1540,1634,984,955],\"yaxis\":\"y\",\"type\":\"scatter\"},{\"hovertemplate\":\"variable=no_of_guests_city<br>month=%{x}<br>value=%{y}<extra></extra>\",\"legendgroup\":\"no_of_guests_city\",\"line\":{\"color\":\"#EF553B\",\"dash\":\"solid\"},\"marker\":{\"symbol\":\"circle\"},\"mode\":\"lines\",\"name\":\"no_of_guests_city\",\"orientation\":\"v\",\"showlegend\":true,\"x\":[\"January\",\"February\",\"March\",\"April\",\"May\",\"June\",\"July\",\"August\",\"September\",\"October\",\"November\",\"December\"],\"xaxis\":\"x\",\"y\":[1098,1599,2194,2339,2341,2255,2712,2959,2131,2341,1394,1244],\"yaxis\":\"y\",\"type\":\"scatter\"}],                        {\"template\":{\"data\":{\"histogram2dcontour\":[{\"type\":\"histogram2dcontour\",\"colorbar\":{\"outlinewidth\":0,\"ticks\":\"\"},\"colorscale\":[[0.0,\"#0d0887\"],[0.1111111111111111,\"#46039f\"],[0.2222222222222222,\"#7201a8\"],[0.3333333333333333,\"#9c179e\"],[0.4444444444444444,\"#bd3786\"],[0.5555555555555556,\"#d8576b\"],[0.6666666666666666,\"#ed7953\"],[0.7777777777777778,\"#fb9f3a\"],[0.8888888888888888,\"#fdca26\"],[1.0,\"#f0f921\"]]}],\"choropleth\":[{\"type\":\"choropleth\",\"colorbar\":{\"outlinewidth\":0,\"ticks\":\"\"}}],\"histogram2d\":[{\"type\":\"histogram2d\",\"colorbar\":{\"outlinewidth\":0,\"ticks\":\"\"},\"colorscale\":[[0.0,\"#0d0887\"],[0.1111111111111111,\"#46039f\"],[0.2222222222222222,\"#7201a8\"],[0.3333333333333333,\"#9c179e\"],[0.4444444444444444,\"#bd3786\"],[0.5555555555555556,\"#d8576b\"],[0.6666666666666666,\"#ed7953\"],[0.7777777777777778,\"#fb9f3a\"],[0.8888888888888888,\"#fdca26\"],[1.0,\"#f0f921\"]]}],\"heatmap\":[{\"type\":\"heatmap\",\"colorbar\":{\"outlinewidth\":0,\"ticks\":\"\"},\"colorscale\":[[0.0,\"#0d0887\"],[0.1111111111111111,\"#46039f\"],[0.2222222222222222,\"#7201a8\"],[0.3333333333333333,\"#9c179e\"],[0.4444444444444444,\"#bd3786\"],[0.5555555555555556,\"#d8576b\"],[0.6666666666666666,\"#ed7953\"],[0.7777777777777778,\"#fb9f3a\"],[0.8888888888888888,\"#fdca26\"],[1.0,\"#f0f921\"]]}],\"heatmapgl\":[{\"type\":\"heatmapgl\",\"colorbar\":{\"outlinewidth\":0,\"ticks\":\"\"},\"colorscale\":[[0.0,\"#0d0887\"],[0.1111111111111111,\"#46039f\"],[0.2222222222222222,\"#7201a8\"],[0.3333333333333333,\"#9c179e\"],[0.4444444444444444,\"#bd3786\"],[0.5555555555555556,\"#d8576b\"],[0.6666666666666666,\"#ed7953\"],[0.7777777777777778,\"#fb9f3a\"],[0.8888888888888888,\"#fdca26\"],[1.0,\"#f0f921\"]]}],\"contourcarpet\":[{\"type\":\"contourcarpet\",\"colorbar\":{\"outlinewidth\":0,\"ticks\":\"\"}}],\"contour\":[{\"type\":\"contour\",\"colorbar\":{\"outlinewidth\":0,\"ticks\":\"\"},\"colorscale\":[[0.0,\"#0d0887\"],[0.1111111111111111,\"#46039f\"],[0.2222222222222222,\"#7201a8\"],[0.3333333333333333,\"#9c179e\"],[0.4444444444444444,\"#bd3786\"],[0.5555555555555556,\"#d8576b\"],[0.6666666666666666,\"#ed7953\"],[0.7777777777777778,\"#fb9f3a\"],[0.8888888888888888,\"#fdca26\"],[1.0,\"#f0f921\"]]}],\"surface\":[{\"type\":\"surface\",\"colorbar\":{\"outlinewidth\":0,\"ticks\":\"\"},\"colorscale\":[[0.0,\"#0d0887\"],[0.1111111111111111,\"#46039f\"],[0.2222222222222222,\"#7201a8\"],[0.3333333333333333,\"#9c179e\"],[0.4444444444444444,\"#bd3786\"],[0.5555555555555556,\"#d8576b\"],[0.6666666666666666,\"#ed7953\"],[0.7777777777777778,\"#fb9f3a\"],[0.8888888888888888,\"#fdca26\"],[1.0,\"#f0f921\"]]}],\"mesh3d\":[{\"type\":\"mesh3d\",\"colorbar\":{\"outlinewidth\":0,\"ticks\":\"\"}}],\"scatter\":[{\"fillpattern\":{\"fillmode\":\"overlay\",\"size\":10,\"solidity\":0.2},\"type\":\"scatter\"}],\"parcoords\":[{\"type\":\"parcoords\",\"line\":{\"colorbar\":{\"outlinewidth\":0,\"ticks\":\"\"}}}],\"scatterpolargl\":[{\"type\":\"scatterpolargl\",\"marker\":{\"colorbar\":{\"outlinewidth\":0,\"ticks\":\"\"}}}],\"bar\":[{\"error_x\":{\"color\":\"#2a3f5f\"},\"error_y\":{\"color\":\"#2a3f5f\"},\"marker\":{\"line\":{\"color\":\"#E5ECF6\",\"width\":0.5},\"pattern\":{\"fillmode\":\"overlay\",\"size\":10,\"solidity\":0.2}},\"type\":\"bar\"}],\"scattergeo\":[{\"type\":\"scattergeo\",\"marker\":{\"colorbar\":{\"outlinewidth\":0,\"ticks\":\"\"}}}],\"scatterpolar\":[{\"type\":\"scatterpolar\",\"marker\":{\"colorbar\":{\"outlinewidth\":0,\"ticks\":\"\"}}}],\"histogram\":[{\"marker\":{\"pattern\":{\"fillmode\":\"overlay\",\"size\":10,\"solidity\":0.2}},\"type\":\"histogram\"}],\"scattergl\":[{\"type\":\"scattergl\",\"marker\":{\"colorbar\":{\"outlinewidth\":0,\"ticks\":\"\"}}}],\"scatter3d\":[{\"type\":\"scatter3d\",\"line\":{\"colorbar\":{\"outlinewidth\":0,\"ticks\":\"\"}},\"marker\":{\"colorbar\":{\"outlinewidth\":0,\"ticks\":\"\"}}}],\"scattermapbox\":[{\"type\":\"scattermapbox\",\"marker\":{\"colorbar\":{\"outlinewidth\":0,\"ticks\":\"\"}}}],\"scatterternary\":[{\"type\":\"scatterternary\",\"marker\":{\"colorbar\":{\"outlinewidth\":0,\"ticks\":\"\"}}}],\"scattercarpet\":[{\"type\":\"scattercarpet\",\"marker\":{\"colorbar\":{\"outlinewidth\":0,\"ticks\":\"\"}}}],\"carpet\":[{\"aaxis\":{\"endlinecolor\":\"#2a3f5f\",\"gridcolor\":\"white\",\"linecolor\":\"white\",\"minorgridcolor\":\"white\",\"startlinecolor\":\"#2a3f5f\"},\"baxis\":{\"endlinecolor\":\"#2a3f5f\",\"gridcolor\":\"white\",\"linecolor\":\"white\",\"minorgridcolor\":\"white\",\"startlinecolor\":\"#2a3f5f\"},\"type\":\"carpet\"}],\"table\":[{\"cells\":{\"fill\":{\"color\":\"#EBF0F8\"},\"line\":{\"color\":\"white\"}},\"header\":{\"fill\":{\"color\":\"#C8D4E3\"},\"line\":{\"color\":\"white\"}},\"type\":\"table\"}],\"barpolar\":[{\"marker\":{\"line\":{\"color\":\"#E5ECF6\",\"width\":0.5},\"pattern\":{\"fillmode\":\"overlay\",\"size\":10,\"solidity\":0.2}},\"type\":\"barpolar\"}],\"pie\":[{\"automargin\":true,\"type\":\"pie\"}]},\"layout\":{\"autotypenumbers\":\"strict\",\"colorway\":[\"#636efa\",\"#EF553B\",\"#00cc96\",\"#ab63fa\",\"#FFA15A\",\"#19d3f3\",\"#FF6692\",\"#B6E880\",\"#FF97FF\",\"#FECB52\"],\"font\":{\"color\":\"#2a3f5f\"},\"hovermode\":\"closest\",\"hoverlabel\":{\"align\":\"left\"},\"paper_bgcolor\":\"white\",\"plot_bgcolor\":\"#E5ECF6\",\"polar\":{\"bgcolor\":\"#E5ECF6\",\"angularaxis\":{\"gridcolor\":\"white\",\"linecolor\":\"white\",\"ticks\":\"\"},\"radialaxis\":{\"gridcolor\":\"white\",\"linecolor\":\"white\",\"ticks\":\"\"}},\"ternary\":{\"bgcolor\":\"#E5ECF6\",\"aaxis\":{\"gridcolor\":\"white\",\"linecolor\":\"white\",\"ticks\":\"\"},\"baxis\":{\"gridcolor\":\"white\",\"linecolor\":\"white\",\"ticks\":\"\"},\"caxis\":{\"gridcolor\":\"white\",\"linecolor\":\"white\",\"ticks\":\"\"}},\"coloraxis\":{\"colorbar\":{\"outlinewidth\":0,\"ticks\":\"\"}},\"colorscale\":{\"sequential\":[[0.0,\"#0d0887\"],[0.1111111111111111,\"#46039f\"],[0.2222222222222222,\"#7201a8\"],[0.3333333333333333,\"#9c179e\"],[0.4444444444444444,\"#bd3786\"],[0.5555555555555556,\"#d8576b\"],[0.6666666666666666,\"#ed7953\"],[0.7777777777777778,\"#fb9f3a\"],[0.8888888888888888,\"#fdca26\"],[1.0,\"#f0f921\"]],\"sequentialminus\":[[0.0,\"#0d0887\"],[0.1111111111111111,\"#46039f\"],[0.2222222222222222,\"#7201a8\"],[0.3333333333333333,\"#9c179e\"],[0.4444444444444444,\"#bd3786\"],[0.5555555555555556,\"#d8576b\"],[0.6666666666666666,\"#ed7953\"],[0.7777777777777778,\"#fb9f3a\"],[0.8888888888888888,\"#fdca26\"],[1.0,\"#f0f921\"]],\"diverging\":[[0,\"#8e0152\"],[0.1,\"#c51b7d\"],[0.2,\"#de77ae\"],[0.3,\"#f1b6da\"],[0.4,\"#fde0ef\"],[0.5,\"#f7f7f7\"],[0.6,\"#e6f5d0\"],[0.7,\"#b8e186\"],[0.8,\"#7fbc41\"],[0.9,\"#4d9221\"],[1,\"#276419\"]]},\"xaxis\":{\"gridcolor\":\"white\",\"linecolor\":\"white\",\"ticks\":\"\",\"title\":{\"standoff\":15},\"zerolinecolor\":\"white\",\"automargin\":true,\"zerolinewidth\":2},\"yaxis\":{\"gridcolor\":\"white\",\"linecolor\":\"white\",\"ticks\":\"\",\"title\":{\"standoff\":15},\"zerolinecolor\":\"white\",\"automargin\":true,\"zerolinewidth\":2},\"scene\":{\"xaxis\":{\"backgroundcolor\":\"#E5ECF6\",\"gridcolor\":\"white\",\"linecolor\":\"white\",\"showbackground\":true,\"ticks\":\"\",\"zerolinecolor\":\"white\",\"gridwidth\":2},\"yaxis\":{\"backgroundcolor\":\"#E5ECF6\",\"gridcolor\":\"white\",\"linecolor\":\"white\",\"showbackground\":true,\"ticks\":\"\",\"zerolinecolor\":\"white\",\"gridwidth\":2},\"zaxis\":{\"backgroundcolor\":\"#E5ECF6\",\"gridcolor\":\"white\",\"linecolor\":\"white\",\"showbackground\":true,\"ticks\":\"\",\"zerolinecolor\":\"white\",\"gridwidth\":2}},\"shapedefaults\":{\"line\":{\"color\":\"#2a3f5f\"}},\"annotationdefaults\":{\"arrowcolor\":\"#2a3f5f\",\"arrowhead\":0,\"arrowwidth\":1},\"geo\":{\"bgcolor\":\"white\",\"landcolor\":\"#E5ECF6\",\"subunitcolor\":\"white\",\"showland\":true,\"showlakes\":true,\"lakecolor\":\"white\"},\"title\":{\"x\":0.05},\"mapbox\":{\"style\":\"light\"}}},\"xaxis\":{\"anchor\":\"y\",\"domain\":[0.0,1.0],\"title\":{\"text\":\"month\"}},\"yaxis\":{\"anchor\":\"x\",\"domain\":[0.0,1.0],\"title\":{\"text\":\"value\"}},\"legend\":{\"title\":{\"text\":\"variable\"},\"tracegroupgap\":0},\"margin\":{\"t\":60}},                        {\"responsive\": true}                    ).then(function(){\n",
       "                            \n",
       "var gd = document.getElementById('3f7370b9-9d66-46e9-93ae-24be7527ce19');\n",
       "var x = new MutationObserver(function (mutations, observer) {{\n",
       "        var display = window.getComputedStyle(gd).display;\n",
       "        if (!display || display === 'none') {{\n",
       "            console.log([gd, 'removed!']);\n",
       "            Plotly.purge(gd);\n",
       "            observer.disconnect();\n",
       "        }}\n",
       "}});\n",
       "\n",
       "// Listen for the removal of the full notebook cells\n",
       "var notebookContainer = gd.closest('#notebook-container');\n",
       "if (notebookContainer) {{\n",
       "    x.observe(notebookContainer, {childList: true});\n",
       "}}\n",
       "\n",
       "// Listen for the clearing of the current output cell\n",
       "var outputEl = gd.closest('.output');\n",
       "if (outputEl) {{\n",
       "    x.observe(outputEl, {childList: true});\n",
       "}}\n",
       "\n",
       "                        })                };                });            </script>        </div>"
      ]
     },
     "metadata": {},
     "output_type": "display_data"
    }
   ],
   "source": [
    "ps.line(data_frame=final_rush_weekend,x='month',y=['no_of_guests_in_resort', 'no_of_guests_city'])"
   ]
  },
  {
   "cell_type": "code",
   "execution_count": 71,
   "id": "a8ac055c",
   "metadata": {},
   "outputs": [
    {
     "data": {
      "text/html": [
       "<div>\n",
       "<style scoped>\n",
       "    .dataframe tbody tr th:only-of-type {\n",
       "        vertical-align: middle;\n",
       "    }\n",
       "\n",
       "    .dataframe tbody tr th {\n",
       "        vertical-align: top;\n",
       "    }\n",
       "\n",
       "    .dataframe thead th {\n",
       "        text-align: right;\n",
       "    }\n",
       "</style>\n",
       "<table border=\"1\" class=\"dataframe\">\n",
       "  <thead>\n",
       "    <tr style=\"text-align: right;\">\n",
       "      <th></th>\n",
       "      <th>month</th>\n",
       "      <th>no_of_guests</th>\n",
       "    </tr>\n",
       "  </thead>\n",
       "  <tbody>\n",
       "    <tr>\n",
       "      <th>0</th>\n",
       "      <td>August</td>\n",
       "      <td>3053</td>\n",
       "    </tr>\n",
       "    <tr>\n",
       "      <th>1</th>\n",
       "      <td>July</td>\n",
       "      <td>2965</td>\n",
       "    </tr>\n",
       "    <tr>\n",
       "      <th>2</th>\n",
       "      <td>April</td>\n",
       "      <td>2393</td>\n",
       "    </tr>\n",
       "    <tr>\n",
       "      <th>3</th>\n",
       "      <td>March</td>\n",
       "      <td>2389</td>\n",
       "    </tr>\n",
       "    <tr>\n",
       "      <th>4</th>\n",
       "      <td>October</td>\n",
       "      <td>2304</td>\n",
       "    </tr>\n",
       "    <tr>\n",
       "      <th>5</th>\n",
       "      <td>May</td>\n",
       "      <td>2276</td>\n",
       "    </tr>\n",
       "    <tr>\n",
       "      <th>6</th>\n",
       "      <td>February</td>\n",
       "      <td>2091</td>\n",
       "    </tr>\n",
       "    <tr>\n",
       "      <th>7</th>\n",
       "      <td>September</td>\n",
       "      <td>2011</td>\n",
       "    </tr>\n",
       "    <tr>\n",
       "      <th>8</th>\n",
       "      <td>June</td>\n",
       "      <td>1929</td>\n",
       "    </tr>\n",
       "    <tr>\n",
       "      <th>9</th>\n",
       "      <td>December</td>\n",
       "      <td>1815</td>\n",
       "    </tr>\n",
       "    <tr>\n",
       "      <th>10</th>\n",
       "      <td>November</td>\n",
       "      <td>1814</td>\n",
       "    </tr>\n",
       "    <tr>\n",
       "      <th>11</th>\n",
       "      <td>January</td>\n",
       "      <td>1639</td>\n",
       "    </tr>\n",
       "  </tbody>\n",
       "</table>\n",
       "</div>"
      ],
      "text/plain": [
       "        month  no_of_guests\n",
       "0      August          3053\n",
       "1        July          2965\n",
       "2       April          2393\n",
       "3       March          2389\n",
       "4     October          2304\n",
       "5         May          2276\n",
       "6    February          2091\n",
       "7   September          2011\n",
       "8        June          1929\n",
       "9    December          1815\n",
       "10   November          1814\n",
       "11    January          1639"
      ]
     },
     "execution_count": 71,
     "metadata": {},
     "output_type": "execute_result"
    }
   ],
   "source": [
    "rush_resort_weekday=data_resort_weekday['arrival_date_month'].value_counts().reset_index()\n",
    "rush_resort_weekday.columns=['month','no_of_guests']\n",
    "rush_resort_weekday"
   ]
  },
  {
   "cell_type": "code",
   "execution_count": 72,
   "id": "35885636",
   "metadata": {},
   "outputs": [
    {
     "data": {
      "text/html": [
       "<div>\n",
       "<style scoped>\n",
       "    .dataframe tbody tr th:only-of-type {\n",
       "        vertical-align: middle;\n",
       "    }\n",
       "\n",
       "    .dataframe tbody tr th {\n",
       "        vertical-align: top;\n",
       "    }\n",
       "\n",
       "    .dataframe thead th {\n",
       "        text-align: right;\n",
       "    }\n",
       "</style>\n",
       "<table border=\"1\" class=\"dataframe\">\n",
       "  <thead>\n",
       "    <tr style=\"text-align: right;\">\n",
       "      <th></th>\n",
       "      <th>month</th>\n",
       "      <th>no_of_guests</th>\n",
       "    </tr>\n",
       "  </thead>\n",
       "  <tbody>\n",
       "    <tr>\n",
       "      <th>0</th>\n",
       "      <td>August</td>\n",
       "      <td>5013</td>\n",
       "    </tr>\n",
       "    <tr>\n",
       "      <th>1</th>\n",
       "      <td>July</td>\n",
       "      <td>4423</td>\n",
       "    </tr>\n",
       "    <tr>\n",
       "      <th>2</th>\n",
       "      <td>May</td>\n",
       "      <td>4183</td>\n",
       "    </tr>\n",
       "    <tr>\n",
       "      <th>3</th>\n",
       "      <td>June</td>\n",
       "      <td>3997</td>\n",
       "    </tr>\n",
       "    <tr>\n",
       "      <th>4</th>\n",
       "      <td>October</td>\n",
       "      <td>3933</td>\n",
       "    </tr>\n",
       "    <tr>\n",
       "      <th>5</th>\n",
       "      <td>September</td>\n",
       "      <td>3873</td>\n",
       "    </tr>\n",
       "    <tr>\n",
       "      <th>6</th>\n",
       "      <td>March</td>\n",
       "      <td>3822</td>\n",
       "    </tr>\n",
       "    <tr>\n",
       "      <th>7</th>\n",
       "      <td>April</td>\n",
       "      <td>3793</td>\n",
       "    </tr>\n",
       "    <tr>\n",
       "      <th>8</th>\n",
       "      <td>February</td>\n",
       "      <td>2861</td>\n",
       "    </tr>\n",
       "    <tr>\n",
       "      <th>9</th>\n",
       "      <td>November</td>\n",
       "      <td>2517</td>\n",
       "    </tr>\n",
       "    <tr>\n",
       "      <th>10</th>\n",
       "      <td>December</td>\n",
       "      <td>2209</td>\n",
       "    </tr>\n",
       "    <tr>\n",
       "      <th>11</th>\n",
       "      <td>January</td>\n",
       "      <td>2036</td>\n",
       "    </tr>\n",
       "  </tbody>\n",
       "</table>\n",
       "</div>"
      ],
      "text/plain": [
       "        month  no_of_guests\n",
       "0      August          5013\n",
       "1        July          4423\n",
       "2         May          4183\n",
       "3        June          3997\n",
       "4     October          3933\n",
       "5   September          3873\n",
       "6       March          3822\n",
       "7       April          3793\n",
       "8    February          2861\n",
       "9    November          2517\n",
       "10   December          2209\n",
       "11    January          2036"
      ]
     },
     "execution_count": 72,
     "metadata": {},
     "output_type": "execute_result"
    }
   ],
   "source": [
    "rush_city_weekday=data_city_weekday['arrival_date_month'].value_counts().reset_index()\n",
    "rush_city_weekday.columns=['month','no_of_guests']\n",
    "rush_city_weekday"
   ]
  },
  {
   "cell_type": "code",
   "execution_count": 77,
   "id": "bd97a62d",
   "metadata": {},
   "outputs": [
    {
     "data": {
      "application/vnd.plotly.v1+json": {
       "config": {
        "plotlyServerURL": "https://plot.ly"
       },
       "data": [
        {
         "hovertemplate": "variable=no_of_guests_in_resort<br>month=%{x}<br>value=%{y}<extra></extra>",
         "legendgroup": "no_of_guests_in_resort",
         "line": {
          "color": "#636efa",
          "dash": "solid"
         },
         "marker": {
          "symbol": "circle"
         },
         "mode": "lines",
         "name": "no_of_guests_in_resort",
         "orientation": "v",
         "showlegend": true,
         "type": "scatter",
         "x": [
          "January",
          "February",
          "March",
          "April",
          "May",
          "June",
          "July",
          "August",
          "September",
          "October",
          "November",
          "December"
         ],
         "xaxis": "x",
         "y": [
          1639,
          2091,
          2389,
          2393,
          2276,
          1929,
          2965,
          3053,
          2011,
          2304,
          1814,
          1815
         ],
         "yaxis": "y"
        },
        {
         "hovertemplate": "variable=no_of_guests_city<br>month=%{x}<br>value=%{y}<extra></extra>",
         "legendgroup": "no_of_guests_city",
         "line": {
          "color": "#EF553B",
          "dash": "solid"
         },
         "marker": {
          "symbol": "circle"
         },
         "mode": "lines",
         "name": "no_of_guests_city",
         "orientation": "v",
         "showlegend": true,
         "type": "scatter",
         "x": [
          "January",
          "February",
          "March",
          "April",
          "May",
          "June",
          "July",
          "August",
          "September",
          "October",
          "November",
          "December"
         ],
         "xaxis": "x",
         "y": [
          2036,
          2861,
          3822,
          3793,
          4183,
          3997,
          4423,
          5013,
          3873,
          3933,
          2517,
          2209
         ],
         "yaxis": "y"
        }
       ],
       "layout": {
        "legend": {
         "title": {
          "text": "variable"
         },
         "tracegroupgap": 0
        },
        "margin": {
         "t": 60
        },
        "template": {
         "data": {
          "bar": [
           {
            "error_x": {
             "color": "#2a3f5f"
            },
            "error_y": {
             "color": "#2a3f5f"
            },
            "marker": {
             "line": {
              "color": "#E5ECF6",
              "width": 0.5
             },
             "pattern": {
              "fillmode": "overlay",
              "size": 10,
              "solidity": 0.2
             }
            },
            "type": "bar"
           }
          ],
          "barpolar": [
           {
            "marker": {
             "line": {
              "color": "#E5ECF6",
              "width": 0.5
             },
             "pattern": {
              "fillmode": "overlay",
              "size": 10,
              "solidity": 0.2
             }
            },
            "type": "barpolar"
           }
          ],
          "carpet": [
           {
            "aaxis": {
             "endlinecolor": "#2a3f5f",
             "gridcolor": "white",
             "linecolor": "white",
             "minorgridcolor": "white",
             "startlinecolor": "#2a3f5f"
            },
            "baxis": {
             "endlinecolor": "#2a3f5f",
             "gridcolor": "white",
             "linecolor": "white",
             "minorgridcolor": "white",
             "startlinecolor": "#2a3f5f"
            },
            "type": "carpet"
           }
          ],
          "choropleth": [
           {
            "colorbar": {
             "outlinewidth": 0,
             "ticks": ""
            },
            "type": "choropleth"
           }
          ],
          "contour": [
           {
            "colorbar": {
             "outlinewidth": 0,
             "ticks": ""
            },
            "colorscale": [
             [
              0,
              "#0d0887"
             ],
             [
              0.1111111111111111,
              "#46039f"
             ],
             [
              0.2222222222222222,
              "#7201a8"
             ],
             [
              0.3333333333333333,
              "#9c179e"
             ],
             [
              0.4444444444444444,
              "#bd3786"
             ],
             [
              0.5555555555555556,
              "#d8576b"
             ],
             [
              0.6666666666666666,
              "#ed7953"
             ],
             [
              0.7777777777777778,
              "#fb9f3a"
             ],
             [
              0.8888888888888888,
              "#fdca26"
             ],
             [
              1,
              "#f0f921"
             ]
            ],
            "type": "contour"
           }
          ],
          "contourcarpet": [
           {
            "colorbar": {
             "outlinewidth": 0,
             "ticks": ""
            },
            "type": "contourcarpet"
           }
          ],
          "heatmap": [
           {
            "colorbar": {
             "outlinewidth": 0,
             "ticks": ""
            },
            "colorscale": [
             [
              0,
              "#0d0887"
             ],
             [
              0.1111111111111111,
              "#46039f"
             ],
             [
              0.2222222222222222,
              "#7201a8"
             ],
             [
              0.3333333333333333,
              "#9c179e"
             ],
             [
              0.4444444444444444,
              "#bd3786"
             ],
             [
              0.5555555555555556,
              "#d8576b"
             ],
             [
              0.6666666666666666,
              "#ed7953"
             ],
             [
              0.7777777777777778,
              "#fb9f3a"
             ],
             [
              0.8888888888888888,
              "#fdca26"
             ],
             [
              1,
              "#f0f921"
             ]
            ],
            "type": "heatmap"
           }
          ],
          "heatmapgl": [
           {
            "colorbar": {
             "outlinewidth": 0,
             "ticks": ""
            },
            "colorscale": [
             [
              0,
              "#0d0887"
             ],
             [
              0.1111111111111111,
              "#46039f"
             ],
             [
              0.2222222222222222,
              "#7201a8"
             ],
             [
              0.3333333333333333,
              "#9c179e"
             ],
             [
              0.4444444444444444,
              "#bd3786"
             ],
             [
              0.5555555555555556,
              "#d8576b"
             ],
             [
              0.6666666666666666,
              "#ed7953"
             ],
             [
              0.7777777777777778,
              "#fb9f3a"
             ],
             [
              0.8888888888888888,
              "#fdca26"
             ],
             [
              1,
              "#f0f921"
             ]
            ],
            "type": "heatmapgl"
           }
          ],
          "histogram": [
           {
            "marker": {
             "pattern": {
              "fillmode": "overlay",
              "size": 10,
              "solidity": 0.2
             }
            },
            "type": "histogram"
           }
          ],
          "histogram2d": [
           {
            "colorbar": {
             "outlinewidth": 0,
             "ticks": ""
            },
            "colorscale": [
             [
              0,
              "#0d0887"
             ],
             [
              0.1111111111111111,
              "#46039f"
             ],
             [
              0.2222222222222222,
              "#7201a8"
             ],
             [
              0.3333333333333333,
              "#9c179e"
             ],
             [
              0.4444444444444444,
              "#bd3786"
             ],
             [
              0.5555555555555556,
              "#d8576b"
             ],
             [
              0.6666666666666666,
              "#ed7953"
             ],
             [
              0.7777777777777778,
              "#fb9f3a"
             ],
             [
              0.8888888888888888,
              "#fdca26"
             ],
             [
              1,
              "#f0f921"
             ]
            ],
            "type": "histogram2d"
           }
          ],
          "histogram2dcontour": [
           {
            "colorbar": {
             "outlinewidth": 0,
             "ticks": ""
            },
            "colorscale": [
             [
              0,
              "#0d0887"
             ],
             [
              0.1111111111111111,
              "#46039f"
             ],
             [
              0.2222222222222222,
              "#7201a8"
             ],
             [
              0.3333333333333333,
              "#9c179e"
             ],
             [
              0.4444444444444444,
              "#bd3786"
             ],
             [
              0.5555555555555556,
              "#d8576b"
             ],
             [
              0.6666666666666666,
              "#ed7953"
             ],
             [
              0.7777777777777778,
              "#fb9f3a"
             ],
             [
              0.8888888888888888,
              "#fdca26"
             ],
             [
              1,
              "#f0f921"
             ]
            ],
            "type": "histogram2dcontour"
           }
          ],
          "mesh3d": [
           {
            "colorbar": {
             "outlinewidth": 0,
             "ticks": ""
            },
            "type": "mesh3d"
           }
          ],
          "parcoords": [
           {
            "line": {
             "colorbar": {
              "outlinewidth": 0,
              "ticks": ""
             }
            },
            "type": "parcoords"
           }
          ],
          "pie": [
           {
            "automargin": true,
            "type": "pie"
           }
          ],
          "scatter": [
           {
            "fillpattern": {
             "fillmode": "overlay",
             "size": 10,
             "solidity": 0.2
            },
            "type": "scatter"
           }
          ],
          "scatter3d": [
           {
            "line": {
             "colorbar": {
              "outlinewidth": 0,
              "ticks": ""
             }
            },
            "marker": {
             "colorbar": {
              "outlinewidth": 0,
              "ticks": ""
             }
            },
            "type": "scatter3d"
           }
          ],
          "scattercarpet": [
           {
            "marker": {
             "colorbar": {
              "outlinewidth": 0,
              "ticks": ""
             }
            },
            "type": "scattercarpet"
           }
          ],
          "scattergeo": [
           {
            "marker": {
             "colorbar": {
              "outlinewidth": 0,
              "ticks": ""
             }
            },
            "type": "scattergeo"
           }
          ],
          "scattergl": [
           {
            "marker": {
             "colorbar": {
              "outlinewidth": 0,
              "ticks": ""
             }
            },
            "type": "scattergl"
           }
          ],
          "scattermapbox": [
           {
            "marker": {
             "colorbar": {
              "outlinewidth": 0,
              "ticks": ""
             }
            },
            "type": "scattermapbox"
           }
          ],
          "scatterpolar": [
           {
            "marker": {
             "colorbar": {
              "outlinewidth": 0,
              "ticks": ""
             }
            },
            "type": "scatterpolar"
           }
          ],
          "scatterpolargl": [
           {
            "marker": {
             "colorbar": {
              "outlinewidth": 0,
              "ticks": ""
             }
            },
            "type": "scatterpolargl"
           }
          ],
          "scatterternary": [
           {
            "marker": {
             "colorbar": {
              "outlinewidth": 0,
              "ticks": ""
             }
            },
            "type": "scatterternary"
           }
          ],
          "surface": [
           {
            "colorbar": {
             "outlinewidth": 0,
             "ticks": ""
            },
            "colorscale": [
             [
              0,
              "#0d0887"
             ],
             [
              0.1111111111111111,
              "#46039f"
             ],
             [
              0.2222222222222222,
              "#7201a8"
             ],
             [
              0.3333333333333333,
              "#9c179e"
             ],
             [
              0.4444444444444444,
              "#bd3786"
             ],
             [
              0.5555555555555556,
              "#d8576b"
             ],
             [
              0.6666666666666666,
              "#ed7953"
             ],
             [
              0.7777777777777778,
              "#fb9f3a"
             ],
             [
              0.8888888888888888,
              "#fdca26"
             ],
             [
              1,
              "#f0f921"
             ]
            ],
            "type": "surface"
           }
          ],
          "table": [
           {
            "cells": {
             "fill": {
              "color": "#EBF0F8"
             },
             "line": {
              "color": "white"
             }
            },
            "header": {
             "fill": {
              "color": "#C8D4E3"
             },
             "line": {
              "color": "white"
             }
            },
            "type": "table"
           }
          ]
         },
         "layout": {
          "annotationdefaults": {
           "arrowcolor": "#2a3f5f",
           "arrowhead": 0,
           "arrowwidth": 1
          },
          "autotypenumbers": "strict",
          "coloraxis": {
           "colorbar": {
            "outlinewidth": 0,
            "ticks": ""
           }
          },
          "colorscale": {
           "diverging": [
            [
             0,
             "#8e0152"
            ],
            [
             0.1,
             "#c51b7d"
            ],
            [
             0.2,
             "#de77ae"
            ],
            [
             0.3,
             "#f1b6da"
            ],
            [
             0.4,
             "#fde0ef"
            ],
            [
             0.5,
             "#f7f7f7"
            ],
            [
             0.6,
             "#e6f5d0"
            ],
            [
             0.7,
             "#b8e186"
            ],
            [
             0.8,
             "#7fbc41"
            ],
            [
             0.9,
             "#4d9221"
            ],
            [
             1,
             "#276419"
            ]
           ],
           "sequential": [
            [
             0,
             "#0d0887"
            ],
            [
             0.1111111111111111,
             "#46039f"
            ],
            [
             0.2222222222222222,
             "#7201a8"
            ],
            [
             0.3333333333333333,
             "#9c179e"
            ],
            [
             0.4444444444444444,
             "#bd3786"
            ],
            [
             0.5555555555555556,
             "#d8576b"
            ],
            [
             0.6666666666666666,
             "#ed7953"
            ],
            [
             0.7777777777777778,
             "#fb9f3a"
            ],
            [
             0.8888888888888888,
             "#fdca26"
            ],
            [
             1,
             "#f0f921"
            ]
           ],
           "sequentialminus": [
            [
             0,
             "#0d0887"
            ],
            [
             0.1111111111111111,
             "#46039f"
            ],
            [
             0.2222222222222222,
             "#7201a8"
            ],
            [
             0.3333333333333333,
             "#9c179e"
            ],
            [
             0.4444444444444444,
             "#bd3786"
            ],
            [
             0.5555555555555556,
             "#d8576b"
            ],
            [
             0.6666666666666666,
             "#ed7953"
            ],
            [
             0.7777777777777778,
             "#fb9f3a"
            ],
            [
             0.8888888888888888,
             "#fdca26"
            ],
            [
             1,
             "#f0f921"
            ]
           ]
          },
          "colorway": [
           "#636efa",
           "#EF553B",
           "#00cc96",
           "#ab63fa",
           "#FFA15A",
           "#19d3f3",
           "#FF6692",
           "#B6E880",
           "#FF97FF",
           "#FECB52"
          ],
          "font": {
           "color": "#2a3f5f"
          },
          "geo": {
           "bgcolor": "white",
           "lakecolor": "white",
           "landcolor": "#E5ECF6",
           "showlakes": true,
           "showland": true,
           "subunitcolor": "white"
          },
          "hoverlabel": {
           "align": "left"
          },
          "hovermode": "closest",
          "mapbox": {
           "style": "light"
          },
          "paper_bgcolor": "white",
          "plot_bgcolor": "#E5ECF6",
          "polar": {
           "angularaxis": {
            "gridcolor": "white",
            "linecolor": "white",
            "ticks": ""
           },
           "bgcolor": "#E5ECF6",
           "radialaxis": {
            "gridcolor": "white",
            "linecolor": "white",
            "ticks": ""
           }
          },
          "scene": {
           "xaxis": {
            "backgroundcolor": "#E5ECF6",
            "gridcolor": "white",
            "gridwidth": 2,
            "linecolor": "white",
            "showbackground": true,
            "ticks": "",
            "zerolinecolor": "white"
           },
           "yaxis": {
            "backgroundcolor": "#E5ECF6",
            "gridcolor": "white",
            "gridwidth": 2,
            "linecolor": "white",
            "showbackground": true,
            "ticks": "",
            "zerolinecolor": "white"
           },
           "zaxis": {
            "backgroundcolor": "#E5ECF6",
            "gridcolor": "white",
            "gridwidth": 2,
            "linecolor": "white",
            "showbackground": true,
            "ticks": "",
            "zerolinecolor": "white"
           }
          },
          "shapedefaults": {
           "line": {
            "color": "#2a3f5f"
           }
          },
          "ternary": {
           "aaxis": {
            "gridcolor": "white",
            "linecolor": "white",
            "ticks": ""
           },
           "baxis": {
            "gridcolor": "white",
            "linecolor": "white",
            "ticks": ""
           },
           "bgcolor": "#E5ECF6",
           "caxis": {
            "gridcolor": "white",
            "linecolor": "white",
            "ticks": ""
           }
          },
          "title": {
           "x": 0.05
          },
          "xaxis": {
           "automargin": true,
           "gridcolor": "white",
           "linecolor": "white",
           "ticks": "",
           "title": {
            "standoff": 15
           },
           "zerolinecolor": "white",
           "zerolinewidth": 2
          },
          "yaxis": {
           "automargin": true,
           "gridcolor": "white",
           "linecolor": "white",
           "ticks": "",
           "title": {
            "standoff": 15
           },
           "zerolinecolor": "white",
           "zerolinewidth": 2
          }
         }
        },
        "xaxis": {
         "anchor": "y",
         "domain": [
          0,
          1
         ],
         "title": {
          "text": "month"
         }
        },
        "yaxis": {
         "anchor": "x",
         "domain": [
          0,
          1
         ],
         "title": {
          "text": "value"
         }
        }
       }
      },
      "text/html": [
       "<div>                            <div id=\"b985342e-465d-4fac-9b4b-f005c8555591\" class=\"plotly-graph-div\" style=\"height:525px; width:100%;\"></div>            <script type=\"text/javascript\">                require([\"plotly\"], function(Plotly) {                    window.PLOTLYENV=window.PLOTLYENV || {};                                    if (document.getElementById(\"b985342e-465d-4fac-9b4b-f005c8555591\")) {                    Plotly.newPlot(                        \"b985342e-465d-4fac-9b4b-f005c8555591\",                        [{\"hovertemplate\":\"variable=no_of_guests_in_resort<br>month=%{x}<br>value=%{y}<extra></extra>\",\"legendgroup\":\"no_of_guests_in_resort\",\"line\":{\"color\":\"#636efa\",\"dash\":\"solid\"},\"marker\":{\"symbol\":\"circle\"},\"mode\":\"lines\",\"name\":\"no_of_guests_in_resort\",\"orientation\":\"v\",\"showlegend\":true,\"x\":[\"January\",\"February\",\"March\",\"April\",\"May\",\"June\",\"July\",\"August\",\"September\",\"October\",\"November\",\"December\"],\"xaxis\":\"x\",\"y\":[1639,2091,2389,2393,2276,1929,2965,3053,2011,2304,1814,1815],\"yaxis\":\"y\",\"type\":\"scatter\"},{\"hovertemplate\":\"variable=no_of_guests_city<br>month=%{x}<br>value=%{y}<extra></extra>\",\"legendgroup\":\"no_of_guests_city\",\"line\":{\"color\":\"#EF553B\",\"dash\":\"solid\"},\"marker\":{\"symbol\":\"circle\"},\"mode\":\"lines\",\"name\":\"no_of_guests_city\",\"orientation\":\"v\",\"showlegend\":true,\"x\":[\"January\",\"February\",\"March\",\"April\",\"May\",\"June\",\"July\",\"August\",\"September\",\"October\",\"November\",\"December\"],\"xaxis\":\"x\",\"y\":[2036,2861,3822,3793,4183,3997,4423,5013,3873,3933,2517,2209],\"yaxis\":\"y\",\"type\":\"scatter\"}],                        {\"template\":{\"data\":{\"histogram2dcontour\":[{\"type\":\"histogram2dcontour\",\"colorbar\":{\"outlinewidth\":0,\"ticks\":\"\"},\"colorscale\":[[0.0,\"#0d0887\"],[0.1111111111111111,\"#46039f\"],[0.2222222222222222,\"#7201a8\"],[0.3333333333333333,\"#9c179e\"],[0.4444444444444444,\"#bd3786\"],[0.5555555555555556,\"#d8576b\"],[0.6666666666666666,\"#ed7953\"],[0.7777777777777778,\"#fb9f3a\"],[0.8888888888888888,\"#fdca26\"],[1.0,\"#f0f921\"]]}],\"choropleth\":[{\"type\":\"choropleth\",\"colorbar\":{\"outlinewidth\":0,\"ticks\":\"\"}}],\"histogram2d\":[{\"type\":\"histogram2d\",\"colorbar\":{\"outlinewidth\":0,\"ticks\":\"\"},\"colorscale\":[[0.0,\"#0d0887\"],[0.1111111111111111,\"#46039f\"],[0.2222222222222222,\"#7201a8\"],[0.3333333333333333,\"#9c179e\"],[0.4444444444444444,\"#bd3786\"],[0.5555555555555556,\"#d8576b\"],[0.6666666666666666,\"#ed7953\"],[0.7777777777777778,\"#fb9f3a\"],[0.8888888888888888,\"#fdca26\"],[1.0,\"#f0f921\"]]}],\"heatmap\":[{\"type\":\"heatmap\",\"colorbar\":{\"outlinewidth\":0,\"ticks\":\"\"},\"colorscale\":[[0.0,\"#0d0887\"],[0.1111111111111111,\"#46039f\"],[0.2222222222222222,\"#7201a8\"],[0.3333333333333333,\"#9c179e\"],[0.4444444444444444,\"#bd3786\"],[0.5555555555555556,\"#d8576b\"],[0.6666666666666666,\"#ed7953\"],[0.7777777777777778,\"#fb9f3a\"],[0.8888888888888888,\"#fdca26\"],[1.0,\"#f0f921\"]]}],\"heatmapgl\":[{\"type\":\"heatmapgl\",\"colorbar\":{\"outlinewidth\":0,\"ticks\":\"\"},\"colorscale\":[[0.0,\"#0d0887\"],[0.1111111111111111,\"#46039f\"],[0.2222222222222222,\"#7201a8\"],[0.3333333333333333,\"#9c179e\"],[0.4444444444444444,\"#bd3786\"],[0.5555555555555556,\"#d8576b\"],[0.6666666666666666,\"#ed7953\"],[0.7777777777777778,\"#fb9f3a\"],[0.8888888888888888,\"#fdca26\"],[1.0,\"#f0f921\"]]}],\"contourcarpet\":[{\"type\":\"contourcarpet\",\"colorbar\":{\"outlinewidth\":0,\"ticks\":\"\"}}],\"contour\":[{\"type\":\"contour\",\"colorbar\":{\"outlinewidth\":0,\"ticks\":\"\"},\"colorscale\":[[0.0,\"#0d0887\"],[0.1111111111111111,\"#46039f\"],[0.2222222222222222,\"#7201a8\"],[0.3333333333333333,\"#9c179e\"],[0.4444444444444444,\"#bd3786\"],[0.5555555555555556,\"#d8576b\"],[0.6666666666666666,\"#ed7953\"],[0.7777777777777778,\"#fb9f3a\"],[0.8888888888888888,\"#fdca26\"],[1.0,\"#f0f921\"]]}],\"surface\":[{\"type\":\"surface\",\"colorbar\":{\"outlinewidth\":0,\"ticks\":\"\"},\"colorscale\":[[0.0,\"#0d0887\"],[0.1111111111111111,\"#46039f\"],[0.2222222222222222,\"#7201a8\"],[0.3333333333333333,\"#9c179e\"],[0.4444444444444444,\"#bd3786\"],[0.5555555555555556,\"#d8576b\"],[0.6666666666666666,\"#ed7953\"],[0.7777777777777778,\"#fb9f3a\"],[0.8888888888888888,\"#fdca26\"],[1.0,\"#f0f921\"]]}],\"mesh3d\":[{\"type\":\"mesh3d\",\"colorbar\":{\"outlinewidth\":0,\"ticks\":\"\"}}],\"scatter\":[{\"fillpattern\":{\"fillmode\":\"overlay\",\"size\":10,\"solidity\":0.2},\"type\":\"scatter\"}],\"parcoords\":[{\"type\":\"parcoords\",\"line\":{\"colorbar\":{\"outlinewidth\":0,\"ticks\":\"\"}}}],\"scatterpolargl\":[{\"type\":\"scatterpolargl\",\"marker\":{\"colorbar\":{\"outlinewidth\":0,\"ticks\":\"\"}}}],\"bar\":[{\"error_x\":{\"color\":\"#2a3f5f\"},\"error_y\":{\"color\":\"#2a3f5f\"},\"marker\":{\"line\":{\"color\":\"#E5ECF6\",\"width\":0.5},\"pattern\":{\"fillmode\":\"overlay\",\"size\":10,\"solidity\":0.2}},\"type\":\"bar\"}],\"scattergeo\":[{\"type\":\"scattergeo\",\"marker\":{\"colorbar\":{\"outlinewidth\":0,\"ticks\":\"\"}}}],\"scatterpolar\":[{\"type\":\"scatterpolar\",\"marker\":{\"colorbar\":{\"outlinewidth\":0,\"ticks\":\"\"}}}],\"histogram\":[{\"marker\":{\"pattern\":{\"fillmode\":\"overlay\",\"size\":10,\"solidity\":0.2}},\"type\":\"histogram\"}],\"scattergl\":[{\"type\":\"scattergl\",\"marker\":{\"colorbar\":{\"outlinewidth\":0,\"ticks\":\"\"}}}],\"scatter3d\":[{\"type\":\"scatter3d\",\"line\":{\"colorbar\":{\"outlinewidth\":0,\"ticks\":\"\"}},\"marker\":{\"colorbar\":{\"outlinewidth\":0,\"ticks\":\"\"}}}],\"scattermapbox\":[{\"type\":\"scattermapbox\",\"marker\":{\"colorbar\":{\"outlinewidth\":0,\"ticks\":\"\"}}}],\"scatterternary\":[{\"type\":\"scatterternary\",\"marker\":{\"colorbar\":{\"outlinewidth\":0,\"ticks\":\"\"}}}],\"scattercarpet\":[{\"type\":\"scattercarpet\",\"marker\":{\"colorbar\":{\"outlinewidth\":0,\"ticks\":\"\"}}}],\"carpet\":[{\"aaxis\":{\"endlinecolor\":\"#2a3f5f\",\"gridcolor\":\"white\",\"linecolor\":\"white\",\"minorgridcolor\":\"white\",\"startlinecolor\":\"#2a3f5f\"},\"baxis\":{\"endlinecolor\":\"#2a3f5f\",\"gridcolor\":\"white\",\"linecolor\":\"white\",\"minorgridcolor\":\"white\",\"startlinecolor\":\"#2a3f5f\"},\"type\":\"carpet\"}],\"table\":[{\"cells\":{\"fill\":{\"color\":\"#EBF0F8\"},\"line\":{\"color\":\"white\"}},\"header\":{\"fill\":{\"color\":\"#C8D4E3\"},\"line\":{\"color\":\"white\"}},\"type\":\"table\"}],\"barpolar\":[{\"marker\":{\"line\":{\"color\":\"#E5ECF6\",\"width\":0.5},\"pattern\":{\"fillmode\":\"overlay\",\"size\":10,\"solidity\":0.2}},\"type\":\"barpolar\"}],\"pie\":[{\"automargin\":true,\"type\":\"pie\"}]},\"layout\":{\"autotypenumbers\":\"strict\",\"colorway\":[\"#636efa\",\"#EF553B\",\"#00cc96\",\"#ab63fa\",\"#FFA15A\",\"#19d3f3\",\"#FF6692\",\"#B6E880\",\"#FF97FF\",\"#FECB52\"],\"font\":{\"color\":\"#2a3f5f\"},\"hovermode\":\"closest\",\"hoverlabel\":{\"align\":\"left\"},\"paper_bgcolor\":\"white\",\"plot_bgcolor\":\"#E5ECF6\",\"polar\":{\"bgcolor\":\"#E5ECF6\",\"angularaxis\":{\"gridcolor\":\"white\",\"linecolor\":\"white\",\"ticks\":\"\"},\"radialaxis\":{\"gridcolor\":\"white\",\"linecolor\":\"white\",\"ticks\":\"\"}},\"ternary\":{\"bgcolor\":\"#E5ECF6\",\"aaxis\":{\"gridcolor\":\"white\",\"linecolor\":\"white\",\"ticks\":\"\"},\"baxis\":{\"gridcolor\":\"white\",\"linecolor\":\"white\",\"ticks\":\"\"},\"caxis\":{\"gridcolor\":\"white\",\"linecolor\":\"white\",\"ticks\":\"\"}},\"coloraxis\":{\"colorbar\":{\"outlinewidth\":0,\"ticks\":\"\"}},\"colorscale\":{\"sequential\":[[0.0,\"#0d0887\"],[0.1111111111111111,\"#46039f\"],[0.2222222222222222,\"#7201a8\"],[0.3333333333333333,\"#9c179e\"],[0.4444444444444444,\"#bd3786\"],[0.5555555555555556,\"#d8576b\"],[0.6666666666666666,\"#ed7953\"],[0.7777777777777778,\"#fb9f3a\"],[0.8888888888888888,\"#fdca26\"],[1.0,\"#f0f921\"]],\"sequentialminus\":[[0.0,\"#0d0887\"],[0.1111111111111111,\"#46039f\"],[0.2222222222222222,\"#7201a8\"],[0.3333333333333333,\"#9c179e\"],[0.4444444444444444,\"#bd3786\"],[0.5555555555555556,\"#d8576b\"],[0.6666666666666666,\"#ed7953\"],[0.7777777777777778,\"#fb9f3a\"],[0.8888888888888888,\"#fdca26\"],[1.0,\"#f0f921\"]],\"diverging\":[[0,\"#8e0152\"],[0.1,\"#c51b7d\"],[0.2,\"#de77ae\"],[0.3,\"#f1b6da\"],[0.4,\"#fde0ef\"],[0.5,\"#f7f7f7\"],[0.6,\"#e6f5d0\"],[0.7,\"#b8e186\"],[0.8,\"#7fbc41\"],[0.9,\"#4d9221\"],[1,\"#276419\"]]},\"xaxis\":{\"gridcolor\":\"white\",\"linecolor\":\"white\",\"ticks\":\"\",\"title\":{\"standoff\":15},\"zerolinecolor\":\"white\",\"automargin\":true,\"zerolinewidth\":2},\"yaxis\":{\"gridcolor\":\"white\",\"linecolor\":\"white\",\"ticks\":\"\",\"title\":{\"standoff\":15},\"zerolinecolor\":\"white\",\"automargin\":true,\"zerolinewidth\":2},\"scene\":{\"xaxis\":{\"backgroundcolor\":\"#E5ECF6\",\"gridcolor\":\"white\",\"linecolor\":\"white\",\"showbackground\":true,\"ticks\":\"\",\"zerolinecolor\":\"white\",\"gridwidth\":2},\"yaxis\":{\"backgroundcolor\":\"#E5ECF6\",\"gridcolor\":\"white\",\"linecolor\":\"white\",\"showbackground\":true,\"ticks\":\"\",\"zerolinecolor\":\"white\",\"gridwidth\":2},\"zaxis\":{\"backgroundcolor\":\"#E5ECF6\",\"gridcolor\":\"white\",\"linecolor\":\"white\",\"showbackground\":true,\"ticks\":\"\",\"zerolinecolor\":\"white\",\"gridwidth\":2}},\"shapedefaults\":{\"line\":{\"color\":\"#2a3f5f\"}},\"annotationdefaults\":{\"arrowcolor\":\"#2a3f5f\",\"arrowhead\":0,\"arrowwidth\":1},\"geo\":{\"bgcolor\":\"white\",\"landcolor\":\"#E5ECF6\",\"subunitcolor\":\"white\",\"showland\":true,\"showlakes\":true,\"lakecolor\":\"white\"},\"title\":{\"x\":0.05},\"mapbox\":{\"style\":\"light\"}}},\"xaxis\":{\"anchor\":\"y\",\"domain\":[0.0,1.0],\"title\":{\"text\":\"month\"}},\"yaxis\":{\"anchor\":\"x\",\"domain\":[0.0,1.0],\"title\":{\"text\":\"value\"}},\"legend\":{\"title\":{\"text\":\"variable\"},\"tracegroupgap\":0},\"margin\":{\"t\":60}},                        {\"responsive\": true}                    ).then(function(){\n",
       "                            \n",
       "var gd = document.getElementById('b985342e-465d-4fac-9b4b-f005c8555591');\n",
       "var x = new MutationObserver(function (mutations, observer) {{\n",
       "        var display = window.getComputedStyle(gd).display;\n",
       "        if (!display || display === 'none') {{\n",
       "            console.log([gd, 'removed!']);\n",
       "            Plotly.purge(gd);\n",
       "            observer.disconnect();\n",
       "        }}\n",
       "}});\n",
       "\n",
       "// Listen for the removal of the full notebook cells\n",
       "var notebookContainer = gd.closest('#notebook-container');\n",
       "if (notebookContainer) {{\n",
       "    x.observe(notebookContainer, {childList: true});\n",
       "}}\n",
       "\n",
       "// Listen for the clearing of the current output cell\n",
       "var outputEl = gd.closest('.output');\n",
       "if (outputEl) {{\n",
       "    x.observe(outputEl, {childList: true});\n",
       "}}\n",
       "\n",
       "                        })                };                });            </script>        </div>"
      ]
     },
     "metadata": {},
     "output_type": "display_data"
    }
   ],
   "source": [
    "final_rush_weekday=rush_resort_weekday.merge(rush_city_weekday,on='month')\n",
    "final_rush_weekday.columns=['month','no_of_guests_in_resort','no_of_guests_city']\n",
    "final_rush_weekday=sd.Sort_Dataframeby_Month(final_rush_weekday,'month')\n",
    "ps.line(data_frame=final_rush_weekday,x='month',y=['no_of_guests_in_resort', 'no_of_guests_city'])"
   ]
  },
  {
   "cell_type": "code",
   "execution_count": 84,
   "id": "e01ee17c",
   "metadata": {},
   "outputs": [],
   "source": [
    "#cost of rooms pe night for various room types"
   ]
  },
  {
   "cell_type": "markdown",
   "id": "3c70e440",
   "metadata": {},
   "source": [
    "Both hotels have different room types and different meal arrangements. Seasonal factors are also important. So the prices vary a lot. Since no currency information is given, but Portugal is part of the European Monetary Union, I assume that all prices are in EUR."
   ]
  },
  {
   "cell_type": "code",
   "execution_count": 83,
   "id": "11062a04",
   "metadata": {},
   "outputs": [],
   "source": [
    "data2=df2[df2['is_canceled']==0]"
   ]
  },
  {
   "cell_type": "code",
   "execution_count": 86,
   "id": "f6ab9f37",
   "metadata": {},
   "outputs": [
    {
     "data": {
      "text/plain": [
       "Index(['hotel', 'is_canceled', 'lead_time', 'arrival_date_year',\n",
       "       'arrival_date_month', 'arrival_date_week_number',\n",
       "       'arrival_date_day_of_month', 'stays_in_weekend_nights',\n",
       "       'stays_in_week_nights', 'adults', 'children', 'babies', 'meal',\n",
       "       'country', 'market_segment', 'distribution_channel',\n",
       "       'is_repeated_guest', 'previous_cancellations',\n",
       "       'previous_bookings_not_canceled', 'reserved_room_type',\n",
       "       'assigned_room_type', 'booking_changes', 'deposit_type',\n",
       "       'days_in_waiting_list', 'customer_type', 'adr',\n",
       "       'required_car_parking_spaces', 'total_of_special_requests',\n",
       "       'reservation_status', 'reservation_status_date'],\n",
       "      dtype='object')"
      ]
     },
     "execution_count": 86,
     "metadata": {},
     "output_type": "execute_result"
    }
   ],
   "source": [
    "data2.columns"
   ]
  },
  {
   "cell_type": "code",
   "execution_count": 87,
   "id": "1d04b3c9",
   "metadata": {},
   "outputs": [
    {
     "data": {
      "text/plain": [
       "Text(0, 0.5, 'price( EUR)')"
      ]
     },
     "execution_count": 87,
     "metadata": {},
     "output_type": "execute_result"
    },
    {
     "data": {
      "image/png": "[encoded data removed]",
      "text/plain": [
       "<Figure size 864x576 with 1 Axes>"
      ]
     },
     "metadata": {
      "needs_background": "light"
     },
     "output_type": "display_data"
    }
   ],
   "source": [
    "plt.figure(figsize=(12,8))\n",
    "sns.boxplot(x='reserved_room_type',y='adr' ,hue='hotel',data=data2)\n",
    "\n",
    "plt.title('Price of room types per night and person')\n",
    "plt.xlabel('room types')\n",
    "plt.ylabel('price( EUR)')"
   ]
  },
  {
   "cell_type": "markdown",
   "id": "0575799d",
   "metadata": {},
   "source": [
    "## ADD NEW FEATURES"
   ]
  },
  {
   "cell_type": "code",
   "execution_count": 88,
   "id": "3e4bd2be",
   "metadata": {},
   "outputs": [],
   "source": [
    "def week_function(row):\n",
    "    feature1='stays_in_weekend_nights'\n",
    "    feature2='stays_in_week_nights'\n",
    "    \n",
    "    if row[feature2]==0 and row[feature1] >0 :\n",
    "        return 'stay_just_weekend'\n",
    "    \n",
    "    elif row[feature2]>0 and row[feature1] ==0 :\n",
    "        return 'stay_just_weekdays'\n",
    "    \n",
    "    elif row[feature2]>0 and row[feature1] >0 :\n",
    "        return 'stay_both_weekdays_weekends'\n",
    "    \n",
    "    else:\n",
    "        return 'undefined_data'"
   ]
  },
  {
   "cell_type": "code",
   "execution_count": 127,
   "id": "17e9dcff",
   "metadata": {},
   "outputs": [],
   "source": [
    "df2['weekend_or_weekday']=df2.apply(week_function,axis=1)"
   ]
  },
  {
   "cell_type": "code",
   "execution_count": 128,
   "id": "ea6e78ee",
   "metadata": {},
   "outputs": [
    {
     "data": {
      "text/html": [
       "<div>\n",
       "<style scoped>\n",
       "    .dataframe tbody tr th:only-of-type {\n",
       "        vertical-align: middle;\n",
       "    }\n",
       "\n",
       "    .dataframe tbody tr th {\n",
       "        vertical-align: top;\n",
       "    }\n",
       "\n",
       "    .dataframe thead th {\n",
       "        text-align: right;\n",
       "    }\n",
       "</style>\n",
       "<table border=\"1\" class=\"dataframe\">\n",
       "  <thead>\n",
       "    <tr style=\"text-align: right;\">\n",
       "      <th></th>\n",
       "      <th>hotel</th>\n",
       "      <th>is_canceled</th>\n",
       "      <th>lead_time</th>\n",
       "      <th>arrival_date_year</th>\n",
       "      <th>arrival_date_month</th>\n",
       "      <th>arrival_date_week_number</th>\n",
       "      <th>arrival_date_day_of_month</th>\n",
       "      <th>stays_in_weekend_nights</th>\n",
       "      <th>stays_in_week_nights</th>\n",
       "      <th>adults</th>\n",
       "      <th>...</th>\n",
       "      <th>booking_changes</th>\n",
       "      <th>deposit_type</th>\n",
       "      <th>days_in_waiting_list</th>\n",
       "      <th>customer_type</th>\n",
       "      <th>adr</th>\n",
       "      <th>required_car_parking_spaces</th>\n",
       "      <th>total_of_special_requests</th>\n",
       "      <th>reservation_status</th>\n",
       "      <th>reservation_status_date</th>\n",
       "      <th>weekend_or_weekday</th>\n",
       "    </tr>\n",
       "  </thead>\n",
       "  <tbody>\n",
       "    <tr>\n",
       "      <th>0</th>\n",
       "      <td>Resort Hotel</td>\n",
       "      <td>0</td>\n",
       "      <td>342</td>\n",
       "      <td>2015</td>\n",
       "      <td>July</td>\n",
       "      <td>27</td>\n",
       "      <td>1</td>\n",
       "      <td>0</td>\n",
       "      <td>0</td>\n",
       "      <td>2</td>\n",
       "      <td>...</td>\n",
       "      <td>3</td>\n",
       "      <td>No Deposit</td>\n",
       "      <td>0</td>\n",
       "      <td>Transient</td>\n",
       "      <td>0.00</td>\n",
       "      <td>0</td>\n",
       "      <td>0</td>\n",
       "      <td>Check-Out</td>\n",
       "      <td>7/1/2015</td>\n",
       "      <td>undefined_data</td>\n",
       "    </tr>\n",
       "    <tr>\n",
       "      <th>1</th>\n",
       "      <td>Resort Hotel</td>\n",
       "      <td>0</td>\n",
       "      <td>737</td>\n",
       "      <td>2015</td>\n",
       "      <td>July</td>\n",
       "      <td>27</td>\n",
       "      <td>1</td>\n",
       "      <td>0</td>\n",
       "      <td>0</td>\n",
       "      <td>2</td>\n",
       "      <td>...</td>\n",
       "      <td>4</td>\n",
       "      <td>No Deposit</td>\n",
       "      <td>0</td>\n",
       "      <td>Transient</td>\n",
       "      <td>0.00</td>\n",
       "      <td>0</td>\n",
       "      <td>0</td>\n",
       "      <td>Check-Out</td>\n",
       "      <td>7/1/2015</td>\n",
       "      <td>undefined_data</td>\n",
       "    </tr>\n",
       "    <tr>\n",
       "      <th>2</th>\n",
       "      <td>Resort Hotel</td>\n",
       "      <td>0</td>\n",
       "      <td>7</td>\n",
       "      <td>2015</td>\n",
       "      <td>July</td>\n",
       "      <td>27</td>\n",
       "      <td>1</td>\n",
       "      <td>0</td>\n",
       "      <td>1</td>\n",
       "      <td>1</td>\n",
       "      <td>...</td>\n",
       "      <td>0</td>\n",
       "      <td>No Deposit</td>\n",
       "      <td>0</td>\n",
       "      <td>Transient</td>\n",
       "      <td>75.00</td>\n",
       "      <td>0</td>\n",
       "      <td>0</td>\n",
       "      <td>Check-Out</td>\n",
       "      <td>7/2/2015</td>\n",
       "      <td>stay_just_weekdays</td>\n",
       "    </tr>\n",
       "    <tr>\n",
       "      <th>3</th>\n",
       "      <td>Resort Hotel</td>\n",
       "      <td>0</td>\n",
       "      <td>13</td>\n",
       "      <td>2015</td>\n",
       "      <td>July</td>\n",
       "      <td>27</td>\n",
       "      <td>1</td>\n",
       "      <td>0</td>\n",
       "      <td>1</td>\n",
       "      <td>1</td>\n",
       "      <td>...</td>\n",
       "      <td>0</td>\n",
       "      <td>No Deposit</td>\n",
       "      <td>0</td>\n",
       "      <td>Transient</td>\n",
       "      <td>75.00</td>\n",
       "      <td>0</td>\n",
       "      <td>0</td>\n",
       "      <td>Check-Out</td>\n",
       "      <td>7/2/2015</td>\n",
       "      <td>stay_just_weekdays</td>\n",
       "    </tr>\n",
       "    <tr>\n",
       "      <th>4</th>\n",
       "      <td>Resort Hotel</td>\n",
       "      <td>0</td>\n",
       "      <td>14</td>\n",
       "      <td>2015</td>\n",
       "      <td>July</td>\n",
       "      <td>27</td>\n",
       "      <td>1</td>\n",
       "      <td>0</td>\n",
       "      <td>2</td>\n",
       "      <td>2</td>\n",
       "      <td>...</td>\n",
       "      <td>0</td>\n",
       "      <td>No Deposit</td>\n",
       "      <td>0</td>\n",
       "      <td>Transient</td>\n",
       "      <td>98.00</td>\n",
       "      <td>0</td>\n",
       "      <td>1</td>\n",
       "      <td>Check-Out</td>\n",
       "      <td>7/3/2015</td>\n",
       "      <td>stay_just_weekdays</td>\n",
       "    </tr>\n",
       "    <tr>\n",
       "      <th>...</th>\n",
       "      <td>...</td>\n",
       "      <td>...</td>\n",
       "      <td>...</td>\n",
       "      <td>...</td>\n",
       "      <td>...</td>\n",
       "      <td>...</td>\n",
       "      <td>...</td>\n",
       "      <td>...</td>\n",
       "      <td>...</td>\n",
       "      <td>...</td>\n",
       "      <td>...</td>\n",
       "      <td>...</td>\n",
       "      <td>...</td>\n",
       "      <td>...</td>\n",
       "      <td>...</td>\n",
       "      <td>...</td>\n",
       "      <td>...</td>\n",
       "      <td>...</td>\n",
       "      <td>...</td>\n",
       "      <td>...</td>\n",
       "      <td>...</td>\n",
       "    </tr>\n",
       "    <tr>\n",
       "      <th>119385</th>\n",
       "      <td>City Hotel</td>\n",
       "      <td>0</td>\n",
       "      <td>23</td>\n",
       "      <td>2017</td>\n",
       "      <td>August</td>\n",
       "      <td>35</td>\n",
       "      <td>30</td>\n",
       "      <td>2</td>\n",
       "      <td>5</td>\n",
       "      <td>2</td>\n",
       "      <td>...</td>\n",
       "      <td>0</td>\n",
       "      <td>No Deposit</td>\n",
       "      <td>0</td>\n",
       "      <td>Transient</td>\n",
       "      <td>96.14</td>\n",
       "      <td>0</td>\n",
       "      <td>0</td>\n",
       "      <td>Check-Out</td>\n",
       "      <td>9/6/2017</td>\n",
       "      <td>stay_both_weekdays_weekends</td>\n",
       "    </tr>\n",
       "    <tr>\n",
       "      <th>119386</th>\n",
       "      <td>City Hotel</td>\n",
       "      <td>0</td>\n",
       "      <td>102</td>\n",
       "      <td>2017</td>\n",
       "      <td>August</td>\n",
       "      <td>35</td>\n",
       "      <td>31</td>\n",
       "      <td>2</td>\n",
       "      <td>5</td>\n",
       "      <td>3</td>\n",
       "      <td>...</td>\n",
       "      <td>0</td>\n",
       "      <td>No Deposit</td>\n",
       "      <td>0</td>\n",
       "      <td>Transient</td>\n",
       "      <td>225.43</td>\n",
       "      <td>0</td>\n",
       "      <td>2</td>\n",
       "      <td>Check-Out</td>\n",
       "      <td>9/7/2017</td>\n",
       "      <td>stay_both_weekdays_weekends</td>\n",
       "    </tr>\n",
       "    <tr>\n",
       "      <th>119387</th>\n",
       "      <td>City Hotel</td>\n",
       "      <td>0</td>\n",
       "      <td>34</td>\n",
       "      <td>2017</td>\n",
       "      <td>August</td>\n",
       "      <td>35</td>\n",
       "      <td>31</td>\n",
       "      <td>2</td>\n",
       "      <td>5</td>\n",
       "      <td>2</td>\n",
       "      <td>...</td>\n",
       "      <td>0</td>\n",
       "      <td>No Deposit</td>\n",
       "      <td>0</td>\n",
       "      <td>Transient</td>\n",
       "      <td>157.71</td>\n",
       "      <td>0</td>\n",
       "      <td>4</td>\n",
       "      <td>Check-Out</td>\n",
       "      <td>9/7/2017</td>\n",
       "      <td>stay_both_weekdays_weekends</td>\n",
       "    </tr>\n",
       "    <tr>\n",
       "      <th>119388</th>\n",
       "      <td>City Hotel</td>\n",
       "      <td>0</td>\n",
       "      <td>109</td>\n",
       "      <td>2017</td>\n",
       "      <td>August</td>\n",
       "      <td>35</td>\n",
       "      <td>31</td>\n",
       "      <td>2</td>\n",
       "      <td>5</td>\n",
       "      <td>2</td>\n",
       "      <td>...</td>\n",
       "      <td>0</td>\n",
       "      <td>No Deposit</td>\n",
       "      <td>0</td>\n",
       "      <td>Transient</td>\n",
       "      <td>104.40</td>\n",
       "      <td>0</td>\n",
       "      <td>0</td>\n",
       "      <td>Check-Out</td>\n",
       "      <td>9/7/2017</td>\n",
       "      <td>stay_both_weekdays_weekends</td>\n",
       "    </tr>\n",
       "    <tr>\n",
       "      <th>119389</th>\n",
       "      <td>City Hotel</td>\n",
       "      <td>0</td>\n",
       "      <td>205</td>\n",
       "      <td>2017</td>\n",
       "      <td>August</td>\n",
       "      <td>35</td>\n",
       "      <td>29</td>\n",
       "      <td>2</td>\n",
       "      <td>7</td>\n",
       "      <td>2</td>\n",
       "      <td>...</td>\n",
       "      <td>0</td>\n",
       "      <td>No Deposit</td>\n",
       "      <td>0</td>\n",
       "      <td>Transient</td>\n",
       "      <td>151.20</td>\n",
       "      <td>0</td>\n",
       "      <td>2</td>\n",
       "      <td>Check-Out</td>\n",
       "      <td>9/7/2017</td>\n",
       "      <td>stay_both_weekdays_weekends</td>\n",
       "    </tr>\n",
       "  </tbody>\n",
       "</table>\n",
       "<p>119206 rows × 31 columns</p>\n",
       "</div>"
      ],
      "text/plain": [
       "               hotel  is_canceled  lead_time  arrival_date_year   \n",
       "0       Resort Hotel            0        342               2015  \\\n",
       "1       Resort Hotel            0        737               2015   \n",
       "2       Resort Hotel            0          7               2015   \n",
       "3       Resort Hotel            0         13               2015   \n",
       "4       Resort Hotel            0         14               2015   \n",
       "...              ...          ...        ...                ...   \n",
       "119385    City Hotel            0         23               2017   \n",
       "119386    City Hotel            0        102               2017   \n",
       "119387    City Hotel            0         34               2017   \n",
       "119388    City Hotel            0        109               2017   \n",
       "119389    City Hotel            0        205               2017   \n",
       "\n",
       "       arrival_date_month  arrival_date_week_number   \n",
       "0                    July                        27  \\\n",
       "1                    July                        27   \n",
       "2                    July                        27   \n",
       "3                    July                        27   \n",
       "4                    July                        27   \n",
       "...                   ...                       ...   \n",
       "119385             August                        35   \n",
       "119386             August                        35   \n",
       "119387             August                        35   \n",
       "119388             August                        35   \n",
       "119389             August                        35   \n",
       "\n",
       "        arrival_date_day_of_month  stays_in_weekend_nights   \n",
       "0                               1                        0  \\\n",
       "1                               1                        0   \n",
       "2                               1                        0   \n",
       "3                               1                        0   \n",
       "4                               1                        0   \n",
       "...                           ...                      ...   \n",
       "119385                         30                        2   \n",
       "119386                         31                        2   \n",
       "119387                         31                        2   \n",
       "119388                         31                        2   \n",
       "119389                         29                        2   \n",
       "\n",
       "        stays_in_week_nights  adults  ...  booking_changes  deposit_type   \n",
       "0                          0       2  ...                3    No Deposit  \\\n",
       "1                          0       2  ...                4    No Deposit   \n",
       "2                          1       1  ...                0    No Deposit   \n",
       "3                          1       1  ...                0    No Deposit   \n",
       "4                          2       2  ...                0    No Deposit   \n",
       "...                      ...     ...  ...              ...           ...   \n",
       "119385                     5       2  ...                0    No Deposit   \n",
       "119386                     5       3  ...                0    No Deposit   \n",
       "119387                     5       2  ...                0    No Deposit   \n",
       "119388                     5       2  ...                0    No Deposit   \n",
       "119389                     7       2  ...                0    No Deposit   \n",
       "\n",
       "       days_in_waiting_list customer_type     adr required_car_parking_spaces   \n",
       "0                         0     Transient    0.00                           0  \\\n",
       "1                         0     Transient    0.00                           0   \n",
       "2                         0     Transient   75.00                           0   \n",
       "3                         0     Transient   75.00                           0   \n",
       "4                         0     Transient   98.00                           0   \n",
       "...                     ...           ...     ...                         ...   \n",
       "119385                    0     Transient   96.14                           0   \n",
       "119386                    0     Transient  225.43                           0   \n",
       "119387                    0     Transient  157.71                           0   \n",
       "119388                    0     Transient  104.40                           0   \n",
       "119389                    0     Transient  151.20                           0   \n",
       "\n",
       "        total_of_special_requests  reservation_status   \n",
       "0                               0           Check-Out  \\\n",
       "1                               0           Check-Out   \n",
       "2                               0           Check-Out   \n",
       "3                               0           Check-Out   \n",
       "4                               1           Check-Out   \n",
       "...                           ...                 ...   \n",
       "119385                          0           Check-Out   \n",
       "119386                          2           Check-Out   \n",
       "119387                          4           Check-Out   \n",
       "119388                          0           Check-Out   \n",
       "119389                          2           Check-Out   \n",
       "\n",
       "        reservation_status_date           weekend_or_weekday  \n",
       "0                      7/1/2015               undefined_data  \n",
       "1                      7/1/2015               undefined_data  \n",
       "2                      7/2/2015           stay_just_weekdays  \n",
       "3                      7/2/2015           stay_just_weekdays  \n",
       "4                      7/3/2015           stay_just_weekdays  \n",
       "...                         ...                          ...  \n",
       "119385                 9/6/2017  stay_both_weekdays_weekends  \n",
       "119386                 9/7/2017  stay_both_weekdays_weekends  \n",
       "119387                 9/7/2017  stay_both_weekdays_weekends  \n",
       "119388                 9/7/2017  stay_both_weekdays_weekends  \n",
       "119389                 9/7/2017  stay_both_weekdays_weekends  \n",
       "\n",
       "[119206 rows x 31 columns]"
      ]
     },
     "execution_count": 128,
     "metadata": {},
     "output_type": "execute_result"
    }
   ],
   "source": [
    "df2"
   ]
  },
  {
   "cell_type": "code",
   "execution_count": 129,
   "id": "053c783b",
   "metadata": {},
   "outputs": [
    {
     "data": {
      "text/plain": [
       "weekend_or_weekday\n",
       "stay_both_weekdays_weekends    60387\n",
       "stay_just_weekdays             51248\n",
       "stay_just_weekend               6926\n",
       "undefined_data                   645\n",
       "Name: count, dtype: int64"
      ]
     },
     "execution_count": 129,
     "metadata": {},
     "output_type": "execute_result"
    }
   ],
   "source": [
    "df2['weekend_or_weekday'].value_counts()"
   ]
  },
  {
   "cell_type": "code",
   "execution_count": 130,
   "id": "1dba94e3",
   "metadata": {},
   "outputs": [],
   "source": [
    "group_by_month=df2.groupby('arrival_date_month')['weekend_or_weekday'].value_counts().unstack()"
   ]
  },
  {
   "cell_type": "code",
   "execution_count": null,
   "id": "82025fcd",
   "metadata": {},
   "outputs": [],
   "source": []
  },
  {
   "cell_type": "code",
   "execution_count": 132,
   "id": "cf006c61",
   "metadata": {},
   "outputs": [],
   "source": [
    "group_by_month=group_by_month.reset_index()"
   ]
  },
  {
   "cell_type": "code",
   "execution_count": 133,
   "id": "bc0205cf",
   "metadata": {},
   "outputs": [],
   "source": [
    "group_by_month.set_index('arrival_date_month',inplace=True)"
   ]
  },
  {
   "cell_type": "code",
   "execution_count": 134,
   "id": "820ac068",
   "metadata": {},
   "outputs": [
    {
     "data": {
      "text/plain": [
       "<AxesSubplot:xlabel='arrival_date_month'>"
      ]
     },
     "execution_count": 134,
     "metadata": {},
     "output_type": "execute_result"
    },
    {
     "data": {
      "image/png": "[encoded data removed]",
      "text/plain": [
       "<Figure size 1080x720 with 1 Axes>"
      ]
     },
     "metadata": {
      "needs_background": "light"
     },
     "output_type": "display_data"
    }
   ],
   "source": [
    "group_by_month.plot(kind='bar',stacked=True,figsize=(15,10))"
   ]
  },
  {
   "cell_type": "code",
   "execution_count": 136,
   "id": "c5ee2fae",
   "metadata": {},
   "outputs": [],
   "source": [
    "#add family column where i returs 1 if there is a family and returns 0 id there are no family. Family =1 when adult+children+babies!=0\n",
    "def is_family(row):\n",
    "    if row['adults']+row['children']+row['babies']>0:\n",
    "        return 1\n",
    "    else:\n",
    "        return 0"
   ]
  },
  {
   "cell_type": "code",
   "execution_count": 138,
   "id": "7428980e",
   "metadata": {},
   "outputs": [],
   "source": [
    "df2['is_family']=df2.apply(is_family,axis=1)"
   ]
  },
  {
   "cell_type": "code",
   "execution_count": 139,
   "id": "b51c6622",
   "metadata": {},
   "outputs": [
    {
     "data": {
      "text/html": [
       "<div>\n",
       "<style scoped>\n",
       "    .dataframe tbody tr th:only-of-type {\n",
       "        vertical-align: middle;\n",
       "    }\n",
       "\n",
       "    .dataframe tbody tr th {\n",
       "        vertical-align: top;\n",
       "    }\n",
       "\n",
       "    .dataframe thead th {\n",
       "        text-align: right;\n",
       "    }\n",
       "</style>\n",
       "<table border=\"1\" class=\"dataframe\">\n",
       "  <thead>\n",
       "    <tr style=\"text-align: right;\">\n",
       "      <th></th>\n",
       "      <th>hotel</th>\n",
       "      <th>is_canceled</th>\n",
       "      <th>lead_time</th>\n",
       "      <th>arrival_date_year</th>\n",
       "      <th>arrival_date_month</th>\n",
       "      <th>arrival_date_week_number</th>\n",
       "      <th>arrival_date_day_of_month</th>\n",
       "      <th>stays_in_weekend_nights</th>\n",
       "      <th>stays_in_week_nights</th>\n",
       "      <th>adults</th>\n",
       "      <th>...</th>\n",
       "      <th>deposit_type</th>\n",
       "      <th>days_in_waiting_list</th>\n",
       "      <th>customer_type</th>\n",
       "      <th>adr</th>\n",
       "      <th>required_car_parking_spaces</th>\n",
       "      <th>total_of_special_requests</th>\n",
       "      <th>reservation_status</th>\n",
       "      <th>reservation_status_date</th>\n",
       "      <th>weekend_or_weekday</th>\n",
       "      <th>is_family</th>\n",
       "    </tr>\n",
       "  </thead>\n",
       "  <tbody>\n",
       "    <tr>\n",
       "      <th>0</th>\n",
       "      <td>Resort Hotel</td>\n",
       "      <td>0</td>\n",
       "      <td>342</td>\n",
       "      <td>2015</td>\n",
       "      <td>July</td>\n",
       "      <td>27</td>\n",
       "      <td>1</td>\n",
       "      <td>0</td>\n",
       "      <td>0</td>\n",
       "      <td>2</td>\n",
       "      <td>...</td>\n",
       "      <td>No Deposit</td>\n",
       "      <td>0</td>\n",
       "      <td>Transient</td>\n",
       "      <td>0.00</td>\n",
       "      <td>0</td>\n",
       "      <td>0</td>\n",
       "      <td>Check-Out</td>\n",
       "      <td>7/1/2015</td>\n",
       "      <td>undefined_data</td>\n",
       "      <td>1</td>\n",
       "    </tr>\n",
       "    <tr>\n",
       "      <th>1</th>\n",
       "      <td>Resort Hotel</td>\n",
       "      <td>0</td>\n",
       "      <td>737</td>\n",
       "      <td>2015</td>\n",
       "      <td>July</td>\n",
       "      <td>27</td>\n",
       "      <td>1</td>\n",
       "      <td>0</td>\n",
       "      <td>0</td>\n",
       "      <td>2</td>\n",
       "      <td>...</td>\n",
       "      <td>No Deposit</td>\n",
       "      <td>0</td>\n",
       "      <td>Transient</td>\n",
       "      <td>0.00</td>\n",
       "      <td>0</td>\n",
       "      <td>0</td>\n",
       "      <td>Check-Out</td>\n",
       "      <td>7/1/2015</td>\n",
       "      <td>undefined_data</td>\n",
       "      <td>1</td>\n",
       "    </tr>\n",
       "    <tr>\n",
       "      <th>2</th>\n",
       "      <td>Resort Hotel</td>\n",
       "      <td>0</td>\n",
       "      <td>7</td>\n",
       "      <td>2015</td>\n",
       "      <td>July</td>\n",
       "      <td>27</td>\n",
       "      <td>1</td>\n",
       "      <td>0</td>\n",
       "      <td>1</td>\n",
       "      <td>1</td>\n",
       "      <td>...</td>\n",
       "      <td>No Deposit</td>\n",
       "      <td>0</td>\n",
       "      <td>Transient</td>\n",
       "      <td>75.00</td>\n",
       "      <td>0</td>\n",
       "      <td>0</td>\n",
       "      <td>Check-Out</td>\n",
       "      <td>7/2/2015</td>\n",
       "      <td>stay_just_weekdays</td>\n",
       "      <td>1</td>\n",
       "    </tr>\n",
       "    <tr>\n",
       "      <th>3</th>\n",
       "      <td>Resort Hotel</td>\n",
       "      <td>0</td>\n",
       "      <td>13</td>\n",
       "      <td>2015</td>\n",
       "      <td>July</td>\n",
       "      <td>27</td>\n",
       "      <td>1</td>\n",
       "      <td>0</td>\n",
       "      <td>1</td>\n",
       "      <td>1</td>\n",
       "      <td>...</td>\n",
       "      <td>No Deposit</td>\n",
       "      <td>0</td>\n",
       "      <td>Transient</td>\n",
       "      <td>75.00</td>\n",
       "      <td>0</td>\n",
       "      <td>0</td>\n",
       "      <td>Check-Out</td>\n",
       "      <td>7/2/2015</td>\n",
       "      <td>stay_just_weekdays</td>\n",
       "      <td>1</td>\n",
       "    </tr>\n",
       "    <tr>\n",
       "      <th>4</th>\n",
       "      <td>Resort Hotel</td>\n",
       "      <td>0</td>\n",
       "      <td>14</td>\n",
       "      <td>2015</td>\n",
       "      <td>July</td>\n",
       "      <td>27</td>\n",
       "      <td>1</td>\n",
       "      <td>0</td>\n",
       "      <td>2</td>\n",
       "      <td>2</td>\n",
       "      <td>...</td>\n",
       "      <td>No Deposit</td>\n",
       "      <td>0</td>\n",
       "      <td>Transient</td>\n",
       "      <td>98.00</td>\n",
       "      <td>0</td>\n",
       "      <td>1</td>\n",
       "      <td>Check-Out</td>\n",
       "      <td>7/3/2015</td>\n",
       "      <td>stay_just_weekdays</td>\n",
       "      <td>1</td>\n",
       "    </tr>\n",
       "    <tr>\n",
       "      <th>...</th>\n",
       "      <td>...</td>\n",
       "      <td>...</td>\n",
       "      <td>...</td>\n",
       "      <td>...</td>\n",
       "      <td>...</td>\n",
       "      <td>...</td>\n",
       "      <td>...</td>\n",
       "      <td>...</td>\n",
       "      <td>...</td>\n",
       "      <td>...</td>\n",
       "      <td>...</td>\n",
       "      <td>...</td>\n",
       "      <td>...</td>\n",
       "      <td>...</td>\n",
       "      <td>...</td>\n",
       "      <td>...</td>\n",
       "      <td>...</td>\n",
       "      <td>...</td>\n",
       "      <td>...</td>\n",
       "      <td>...</td>\n",
       "      <td>...</td>\n",
       "    </tr>\n",
       "    <tr>\n",
       "      <th>119385</th>\n",
       "      <td>City Hotel</td>\n",
       "      <td>0</td>\n",
       "      <td>23</td>\n",
       "      <td>2017</td>\n",
       "      <td>August</td>\n",
       "      <td>35</td>\n",
       "      <td>30</td>\n",
       "      <td>2</td>\n",
       "      <td>5</td>\n",
       "      <td>2</td>\n",
       "      <td>...</td>\n",
       "      <td>No Deposit</td>\n",
       "      <td>0</td>\n",
       "      <td>Transient</td>\n",
       "      <td>96.14</td>\n",
       "      <td>0</td>\n",
       "      <td>0</td>\n",
       "      <td>Check-Out</td>\n",
       "      <td>9/6/2017</td>\n",
       "      <td>stay_both_weekdays_weekends</td>\n",
       "      <td>1</td>\n",
       "    </tr>\n",
       "    <tr>\n",
       "      <th>119386</th>\n",
       "      <td>City Hotel</td>\n",
       "      <td>0</td>\n",
       "      <td>102</td>\n",
       "      <td>2017</td>\n",
       "      <td>August</td>\n",
       "      <td>35</td>\n",
       "      <td>31</td>\n",
       "      <td>2</td>\n",
       "      <td>5</td>\n",
       "      <td>3</td>\n",
       "      <td>...</td>\n",
       "      <td>No Deposit</td>\n",
       "      <td>0</td>\n",
       "      <td>Transient</td>\n",
       "      <td>225.43</td>\n",
       "      <td>0</td>\n",
       "      <td>2</td>\n",
       "      <td>Check-Out</td>\n",
       "      <td>9/7/2017</td>\n",
       "      <td>stay_both_weekdays_weekends</td>\n",
       "      <td>1</td>\n",
       "    </tr>\n",
       "    <tr>\n",
       "      <th>119387</th>\n",
       "      <td>City Hotel</td>\n",
       "      <td>0</td>\n",
       "      <td>34</td>\n",
       "      <td>2017</td>\n",
       "      <td>August</td>\n",
       "      <td>35</td>\n",
       "      <td>31</td>\n",
       "      <td>2</td>\n",
       "      <td>5</td>\n",
       "      <td>2</td>\n",
       "      <td>...</td>\n",
       "      <td>No Deposit</td>\n",
       "      <td>0</td>\n",
       "      <td>Transient</td>\n",
       "      <td>157.71</td>\n",
       "      <td>0</td>\n",
       "      <td>4</td>\n",
       "      <td>Check-Out</td>\n",
       "      <td>9/7/2017</td>\n",
       "      <td>stay_both_weekdays_weekends</td>\n",
       "      <td>1</td>\n",
       "    </tr>\n",
       "    <tr>\n",
       "      <th>119388</th>\n",
       "      <td>City Hotel</td>\n",
       "      <td>0</td>\n",
       "      <td>109</td>\n",
       "      <td>2017</td>\n",
       "      <td>August</td>\n",
       "      <td>35</td>\n",
       "      <td>31</td>\n",
       "      <td>2</td>\n",
       "      <td>5</td>\n",
       "      <td>2</td>\n",
       "      <td>...</td>\n",
       "      <td>No Deposit</td>\n",
       "      <td>0</td>\n",
       "      <td>Transient</td>\n",
       "      <td>104.40</td>\n",
       "      <td>0</td>\n",
       "      <td>0</td>\n",
       "      <td>Check-Out</td>\n",
       "      <td>9/7/2017</td>\n",
       "      <td>stay_both_weekdays_weekends</td>\n",
       "      <td>1</td>\n",
       "    </tr>\n",
       "    <tr>\n",
       "      <th>119389</th>\n",
       "      <td>City Hotel</td>\n",
       "      <td>0</td>\n",
       "      <td>205</td>\n",
       "      <td>2017</td>\n",
       "      <td>August</td>\n",
       "      <td>35</td>\n",
       "      <td>29</td>\n",
       "      <td>2</td>\n",
       "      <td>7</td>\n",
       "      <td>2</td>\n",
       "      <td>...</td>\n",
       "      <td>No Deposit</td>\n",
       "      <td>0</td>\n",
       "      <td>Transient</td>\n",
       "      <td>151.20</td>\n",
       "      <td>0</td>\n",
       "      <td>2</td>\n",
       "      <td>Check-Out</td>\n",
       "      <td>9/7/2017</td>\n",
       "      <td>stay_both_weekdays_weekends</td>\n",
       "      <td>1</td>\n",
       "    </tr>\n",
       "  </tbody>\n",
       "</table>\n",
       "<p>119206 rows × 32 columns</p>\n",
       "</div>"
      ],
      "text/plain": [
       "               hotel  is_canceled  lead_time  arrival_date_year   \n",
       "0       Resort Hotel            0        342               2015  \\\n",
       "1       Resort Hotel            0        737               2015   \n",
       "2       Resort Hotel            0          7               2015   \n",
       "3       Resort Hotel            0         13               2015   \n",
       "4       Resort Hotel            0         14               2015   \n",
       "...              ...          ...        ...                ...   \n",
       "119385    City Hotel            0         23               2017   \n",
       "119386    City Hotel            0        102               2017   \n",
       "119387    City Hotel            0         34               2017   \n",
       "119388    City Hotel            0        109               2017   \n",
       "119389    City Hotel            0        205               2017   \n",
       "\n",
       "       arrival_date_month  arrival_date_week_number   \n",
       "0                    July                        27  \\\n",
       "1                    July                        27   \n",
       "2                    July                        27   \n",
       "3                    July                        27   \n",
       "4                    July                        27   \n",
       "...                   ...                       ...   \n",
       "119385             August                        35   \n",
       "119386             August                        35   \n",
       "119387             August                        35   \n",
       "119388             August                        35   \n",
       "119389             August                        35   \n",
       "\n",
       "        arrival_date_day_of_month  stays_in_weekend_nights   \n",
       "0                               1                        0  \\\n",
       "1                               1                        0   \n",
       "2                               1                        0   \n",
       "3                               1                        0   \n",
       "4                               1                        0   \n",
       "...                           ...                      ...   \n",
       "119385                         30                        2   \n",
       "119386                         31                        2   \n",
       "119387                         31                        2   \n",
       "119388                         31                        2   \n",
       "119389                         29                        2   \n",
       "\n",
       "        stays_in_week_nights  adults  ...  deposit_type  days_in_waiting_list   \n",
       "0                          0       2  ...    No Deposit                     0  \\\n",
       "1                          0       2  ...    No Deposit                     0   \n",
       "2                          1       1  ...    No Deposit                     0   \n",
       "3                          1       1  ...    No Deposit                     0   \n",
       "4                          2       2  ...    No Deposit                     0   \n",
       "...                      ...     ...  ...           ...                   ...   \n",
       "119385                     5       2  ...    No Deposit                     0   \n",
       "119386                     5       3  ...    No Deposit                     0   \n",
       "119387                     5       2  ...    No Deposit                     0   \n",
       "119388                     5       2  ...    No Deposit                     0   \n",
       "119389                     7       2  ...    No Deposit                     0   \n",
       "\n",
       "       customer_type     adr required_car_parking_spaces   \n",
       "0          Transient    0.00                           0  \\\n",
       "1          Transient    0.00                           0   \n",
       "2          Transient   75.00                           0   \n",
       "3          Transient   75.00                           0   \n",
       "4          Transient   98.00                           0   \n",
       "...              ...     ...                         ...   \n",
       "119385     Transient   96.14                           0   \n",
       "119386     Transient  225.43                           0   \n",
       "119387     Transient  157.71                           0   \n",
       "119388     Transient  104.40                           0   \n",
       "119389     Transient  151.20                           0   \n",
       "\n",
       "       total_of_special_requests  reservation_status  reservation_status_date   \n",
       "0                              0           Check-Out                 7/1/2015  \\\n",
       "1                              0           Check-Out                 7/1/2015   \n",
       "2                              0           Check-Out                 7/2/2015   \n",
       "3                              0           Check-Out                 7/2/2015   \n",
       "4                              1           Check-Out                 7/3/2015   \n",
       "...                          ...                 ...                      ...   \n",
       "119385                         0           Check-Out                 9/6/2017   \n",
       "119386                         2           Check-Out                 9/7/2017   \n",
       "119387                         4           Check-Out                 9/7/2017   \n",
       "119388                         0           Check-Out                 9/7/2017   \n",
       "119389                         2           Check-Out                 9/7/2017   \n",
       "\n",
       "                 weekend_or_weekday is_family  \n",
       "0                    undefined_data         1  \n",
       "1                    undefined_data         1  \n",
       "2                stay_just_weekdays         1  \n",
       "3                stay_just_weekdays         1  \n",
       "4                stay_just_weekdays         1  \n",
       "...                             ...       ...  \n",
       "119385  stay_both_weekdays_weekends         1  \n",
       "119386  stay_both_weekdays_weekends         1  \n",
       "119387  stay_both_weekdays_weekends         1  \n",
       "119388  stay_both_weekdays_weekends         1  \n",
       "119389  stay_both_weekdays_weekends         1  \n",
       "\n",
       "[119206 rows x 32 columns]"
      ]
     },
     "execution_count": 139,
     "metadata": {},
     "output_type": "execute_result"
    }
   ],
   "source": [
    "df2"
   ]
  },
  {
   "cell_type": "code",
   "execution_count": 140,
   "id": "60ba055c",
   "metadata": {},
   "outputs": [],
   "source": [
    "df2['total_customer'] = df2['adults'] + df2['babies'] + df2['children']"
   ]
  },
  {
   "cell_type": "code",
   "execution_count": 141,
   "id": "e4fdebdd",
   "metadata": {},
   "outputs": [],
   "source": [
    "df2['total_nights']=df2['stays_in_week_nights'] + df2['stays_in_weekend_nights']"
   ]
  },
  {
   "cell_type": "code",
   "execution_count": 142,
   "id": "71d96129",
   "metadata": {},
   "outputs": [
    {
     "data": {
      "text/html": [
       "<div>\n",
       "<style scoped>\n",
       "    .dataframe tbody tr th:only-of-type {\n",
       "        vertical-align: middle;\n",
       "    }\n",
       "\n",
       "    .dataframe tbody tr th {\n",
       "        vertical-align: top;\n",
       "    }\n",
       "\n",
       "    .dataframe thead th {\n",
       "        text-align: right;\n",
       "    }\n",
       "</style>\n",
       "<table border=\"1\" class=\"dataframe\">\n",
       "  <thead>\n",
       "    <tr style=\"text-align: right;\">\n",
       "      <th></th>\n",
       "      <th>hotel</th>\n",
       "      <th>is_canceled</th>\n",
       "      <th>lead_time</th>\n",
       "      <th>arrival_date_year</th>\n",
       "      <th>arrival_date_month</th>\n",
       "      <th>arrival_date_week_number</th>\n",
       "      <th>arrival_date_day_of_month</th>\n",
       "      <th>stays_in_weekend_nights</th>\n",
       "      <th>stays_in_week_nights</th>\n",
       "      <th>adults</th>\n",
       "      <th>...</th>\n",
       "      <th>customer_type</th>\n",
       "      <th>adr</th>\n",
       "      <th>required_car_parking_spaces</th>\n",
       "      <th>total_of_special_requests</th>\n",
       "      <th>reservation_status</th>\n",
       "      <th>reservation_status_date</th>\n",
       "      <th>weekend_or_weekday</th>\n",
       "      <th>is_family</th>\n",
       "      <th>total_customer</th>\n",
       "      <th>total_nights</th>\n",
       "    </tr>\n",
       "  </thead>\n",
       "  <tbody>\n",
       "    <tr>\n",
       "      <th>0</th>\n",
       "      <td>Resort Hotel</td>\n",
       "      <td>0</td>\n",
       "      <td>342</td>\n",
       "      <td>2015</td>\n",
       "      <td>July</td>\n",
       "      <td>27</td>\n",
       "      <td>1</td>\n",
       "      <td>0</td>\n",
       "      <td>0</td>\n",
       "      <td>2</td>\n",
       "      <td>...</td>\n",
       "      <td>Transient</td>\n",
       "      <td>0.0</td>\n",
       "      <td>0</td>\n",
       "      <td>0</td>\n",
       "      <td>Check-Out</td>\n",
       "      <td>7/1/2015</td>\n",
       "      <td>undefined_data</td>\n",
       "      <td>1</td>\n",
       "      <td>2.0</td>\n",
       "      <td>0</td>\n",
       "    </tr>\n",
       "    <tr>\n",
       "      <th>1</th>\n",
       "      <td>Resort Hotel</td>\n",
       "      <td>0</td>\n",
       "      <td>737</td>\n",
       "      <td>2015</td>\n",
       "      <td>July</td>\n",
       "      <td>27</td>\n",
       "      <td>1</td>\n",
       "      <td>0</td>\n",
       "      <td>0</td>\n",
       "      <td>2</td>\n",
       "      <td>...</td>\n",
       "      <td>Transient</td>\n",
       "      <td>0.0</td>\n",
       "      <td>0</td>\n",
       "      <td>0</td>\n",
       "      <td>Check-Out</td>\n",
       "      <td>7/1/2015</td>\n",
       "      <td>undefined_data</td>\n",
       "      <td>1</td>\n",
       "      <td>2.0</td>\n",
       "      <td>0</td>\n",
       "    </tr>\n",
       "    <tr>\n",
       "      <th>2</th>\n",
       "      <td>Resort Hotel</td>\n",
       "      <td>0</td>\n",
       "      <td>7</td>\n",
       "      <td>2015</td>\n",
       "      <td>July</td>\n",
       "      <td>27</td>\n",
       "      <td>1</td>\n",
       "      <td>0</td>\n",
       "      <td>1</td>\n",
       "      <td>1</td>\n",
       "      <td>...</td>\n",
       "      <td>Transient</td>\n",
       "      <td>75.0</td>\n",
       "      <td>0</td>\n",
       "      <td>0</td>\n",
       "      <td>Check-Out</td>\n",
       "      <td>7/2/2015</td>\n",
       "      <td>stay_just_weekdays</td>\n",
       "      <td>1</td>\n",
       "      <td>1.0</td>\n",
       "      <td>1</td>\n",
       "    </tr>\n",
       "  </tbody>\n",
       "</table>\n",
       "<p>3 rows × 34 columns</p>\n",
       "</div>"
      ],
      "text/plain": [
       "          hotel  is_canceled  lead_time  arrival_date_year arrival_date_month   \n",
       "0  Resort Hotel            0        342               2015               July  \\\n",
       "1  Resort Hotel            0        737               2015               July   \n",
       "2  Resort Hotel            0          7               2015               July   \n",
       "\n",
       "   arrival_date_week_number  arrival_date_day_of_month   \n",
       "0                        27                          1  \\\n",
       "1                        27                          1   \n",
       "2                        27                          1   \n",
       "\n",
       "   stays_in_weekend_nights  stays_in_week_nights  adults  ...  customer_type   \n",
       "0                        0                     0       2  ...      Transient  \\\n",
       "1                        0                     0       2  ...      Transient   \n",
       "2                        0                     1       1  ...      Transient   \n",
       "\n",
       "    adr required_car_parking_spaces total_of_special_requests   \n",
       "0   0.0                           0                         0  \\\n",
       "1   0.0                           0                         0   \n",
       "2  75.0                           0                         0   \n",
       "\n",
       "  reservation_status reservation_status_date  weekend_or_weekday  is_family   \n",
       "0          Check-Out                7/1/2015      undefined_data          1  \\\n",
       "1          Check-Out                7/1/2015      undefined_data          1   \n",
       "2          Check-Out                7/2/2015  stay_just_weekdays          1   \n",
       "\n",
       "   total_customer total_nights  \n",
       "0             2.0            0  \n",
       "1             2.0            0  \n",
       "2             1.0            1  \n",
       "\n",
       "[3 rows x 34 columns]"
      ]
     },
     "execution_count": 142,
     "metadata": {},
     "output_type": "execute_result"
    }
   ],
   "source": [
    "df2.head(3)"
   ]
  },
  {
   "cell_type": "code",
   "execution_count": 212,
   "id": "e45736db",
   "metadata": {},
   "outputs": [],
   "source": [
    "df3=df2.copy()"
   ]
  },
  {
   "cell_type": "code",
   "execution_count": 213,
   "id": "ee1dddd7",
   "metadata": {},
   "outputs": [],
   "source": [
    "df3.drop(columns=['adults', 'children', 'babies'],axis=1,inplace=True)"
   ]
  },
  {
   "cell_type": "code",
   "execution_count": 214,
   "id": "9dead831",
   "metadata": {},
   "outputs": [],
   "source": [
    "#separate numerical and categotical columns"
   ]
  },
  {
   "cell_type": "code",
   "execution_count": 215,
   "id": "81bc3bf8",
   "metadata": {},
   "outputs": [],
   "source": [
    "numeric_columns =[i for i in df3.columns if df3[i].dtype!='object']\n",
    "categorical_columns =[i for i in df3.columns if df3[i].dtype=='object']"
   ]
  },
  {
   "cell_type": "code",
   "execution_count": 216,
   "id": "8e6e8476",
   "metadata": {},
   "outputs": [
    {
     "name": "stdout",
     "output_type": "stream",
     "text": [
      "['is_canceled', 'lead_time', 'arrival_date_year', 'arrival_date_week_number', 'arrival_date_day_of_month', 'stays_in_weekend_nights', 'stays_in_week_nights', 'is_repeated_guest', 'previous_cancellations', 'previous_bookings_not_canceled', 'booking_changes', 'days_in_waiting_list', 'adr', 'required_car_parking_spaces', 'total_of_special_requests', 'is_family', 'total_customer', 'total_nights']\n",
      "\n",
      "\n",
      "['hotel', 'arrival_date_month', 'meal', 'country', 'market_segment', 'distribution_channel', 'reserved_room_type', 'assigned_room_type', 'deposit_type', 'customer_type', 'reservation_status', 'reservation_status_date', 'weekend_or_weekday']\n"
     ]
    }
   ],
   "source": [
    "print(numeric_columns)\n",
    "print(\"\\n\")\n",
    "print(categorical_columns)"
   ]
  },
  {
   "cell_type": "code",
   "execution_count": 217,
   "id": "96d3756a",
   "metadata": {},
   "outputs": [],
   "source": [
    "numeric_data=df3[numeric_columns]\n",
    "categorical_data =df3[categorical_columns]"
   ]
  },
  {
   "cell_type": "code",
   "execution_count": 218,
   "id": "3ce24f89",
   "metadata": {},
   "outputs": [],
   "source": [
    "#lets change categorical columns to numerical columns"
   ]
  },
  {
   "cell_type": "code",
   "execution_count": 219,
   "id": "9df8958a",
   "metadata": {},
   "outputs": [
    {
     "data": {
      "text/plain": [
       "{'City Hotel': 0.4178299372149724, 'Resort Hotel': 0.27767373336329815}"
      ]
     },
     "execution_count": 219,
     "metadata": {},
     "output_type": "execute_result"
    }
   ],
   "source": [
    "df3.groupby(['hotel'])['is_canceled'].mean().to_dict()"
   ]
  },
  {
   "cell_type": "code",
   "execution_count": 220,
   "id": "3a51c73a",
   "metadata": {},
   "outputs": [],
   "source": [
    "categorical_data['canceled'] = df3['is_canceled']"
   ]
  },
  {
   "cell_type": "code",
   "execution_count": 221,
   "id": "718b38c3",
   "metadata": {},
   "outputs": [
    {
     "data": {
      "text/html": [
       "<div>\n",
       "<style scoped>\n",
       "    .dataframe tbody tr th:only-of-type {\n",
       "        vertical-align: middle;\n",
       "    }\n",
       "\n",
       "    .dataframe tbody tr th {\n",
       "        vertical-align: top;\n",
       "    }\n",
       "\n",
       "    .dataframe thead th {\n",
       "        text-align: right;\n",
       "    }\n",
       "</style>\n",
       "<table border=\"1\" class=\"dataframe\">\n",
       "  <thead>\n",
       "    <tr style=\"text-align: right;\">\n",
       "      <th></th>\n",
       "      <th>hotel</th>\n",
       "      <th>arrival_date_month</th>\n",
       "      <th>meal</th>\n",
       "      <th>country</th>\n",
       "      <th>market_segment</th>\n",
       "      <th>distribution_channel</th>\n",
       "      <th>reserved_room_type</th>\n",
       "      <th>assigned_room_type</th>\n",
       "      <th>deposit_type</th>\n",
       "      <th>customer_type</th>\n",
       "      <th>reservation_status</th>\n",
       "      <th>reservation_status_date</th>\n",
       "      <th>weekend_or_weekday</th>\n",
       "      <th>canceled</th>\n",
       "    </tr>\n",
       "  </thead>\n",
       "  <tbody>\n",
       "    <tr>\n",
       "      <th>0</th>\n",
       "      <td>Resort Hotel</td>\n",
       "      <td>July</td>\n",
       "      <td>BB</td>\n",
       "      <td>PRT</td>\n",
       "      <td>Direct</td>\n",
       "      <td>Direct</td>\n",
       "      <td>C</td>\n",
       "      <td>C</td>\n",
       "      <td>No Deposit</td>\n",
       "      <td>Transient</td>\n",
       "      <td>Check-Out</td>\n",
       "      <td>7/1/2015</td>\n",
       "      <td>undefined_data</td>\n",
       "      <td>0</td>\n",
       "    </tr>\n",
       "    <tr>\n",
       "      <th>1</th>\n",
       "      <td>Resort Hotel</td>\n",
       "      <td>July</td>\n",
       "      <td>BB</td>\n",
       "      <td>PRT</td>\n",
       "      <td>Direct</td>\n",
       "      <td>Direct</td>\n",
       "      <td>C</td>\n",
       "      <td>C</td>\n",
       "      <td>No Deposit</td>\n",
       "      <td>Transient</td>\n",
       "      <td>Check-Out</td>\n",
       "      <td>7/1/2015</td>\n",
       "      <td>undefined_data</td>\n",
       "      <td>0</td>\n",
       "    </tr>\n",
       "    <tr>\n",
       "      <th>2</th>\n",
       "      <td>Resort Hotel</td>\n",
       "      <td>July</td>\n",
       "      <td>BB</td>\n",
       "      <td>GBR</td>\n",
       "      <td>Direct</td>\n",
       "      <td>Direct</td>\n",
       "      <td>A</td>\n",
       "      <td>C</td>\n",
       "      <td>No Deposit</td>\n",
       "      <td>Transient</td>\n",
       "      <td>Check-Out</td>\n",
       "      <td>7/2/2015</td>\n",
       "      <td>stay_just_weekdays</td>\n",
       "      <td>0</td>\n",
       "    </tr>\n",
       "    <tr>\n",
       "      <th>3</th>\n",
       "      <td>Resort Hotel</td>\n",
       "      <td>July</td>\n",
       "      <td>BB</td>\n",
       "      <td>GBR</td>\n",
       "      <td>Corporate</td>\n",
       "      <td>Corporate</td>\n",
       "      <td>A</td>\n",
       "      <td>A</td>\n",
       "      <td>No Deposit</td>\n",
       "      <td>Transient</td>\n",
       "      <td>Check-Out</td>\n",
       "      <td>7/2/2015</td>\n",
       "      <td>stay_just_weekdays</td>\n",
       "      <td>0</td>\n",
       "    </tr>\n",
       "    <tr>\n",
       "      <th>4</th>\n",
       "      <td>Resort Hotel</td>\n",
       "      <td>July</td>\n",
       "      <td>BB</td>\n",
       "      <td>GBR</td>\n",
       "      <td>Online TA</td>\n",
       "      <td>TA/TO</td>\n",
       "      <td>A</td>\n",
       "      <td>A</td>\n",
       "      <td>No Deposit</td>\n",
       "      <td>Transient</td>\n",
       "      <td>Check-Out</td>\n",
       "      <td>7/3/2015</td>\n",
       "      <td>stay_just_weekdays</td>\n",
       "      <td>0</td>\n",
       "    </tr>\n",
       "    <tr>\n",
       "      <th>...</th>\n",
       "      <td>...</td>\n",
       "      <td>...</td>\n",
       "      <td>...</td>\n",
       "      <td>...</td>\n",
       "      <td>...</td>\n",
       "      <td>...</td>\n",
       "      <td>...</td>\n",
       "      <td>...</td>\n",
       "      <td>...</td>\n",
       "      <td>...</td>\n",
       "      <td>...</td>\n",
       "      <td>...</td>\n",
       "      <td>...</td>\n",
       "      <td>...</td>\n",
       "    </tr>\n",
       "    <tr>\n",
       "      <th>119385</th>\n",
       "      <td>City Hotel</td>\n",
       "      <td>August</td>\n",
       "      <td>BB</td>\n",
       "      <td>BEL</td>\n",
       "      <td>Offline TA/TO</td>\n",
       "      <td>TA/TO</td>\n",
       "      <td>A</td>\n",
       "      <td>A</td>\n",
       "      <td>No Deposit</td>\n",
       "      <td>Transient</td>\n",
       "      <td>Check-Out</td>\n",
       "      <td>9/6/2017</td>\n",
       "      <td>stay_both_weekdays_weekends</td>\n",
       "      <td>0</td>\n",
       "    </tr>\n",
       "    <tr>\n",
       "      <th>119386</th>\n",
       "      <td>City Hotel</td>\n",
       "      <td>August</td>\n",
       "      <td>BB</td>\n",
       "      <td>FRA</td>\n",
       "      <td>Online TA</td>\n",
       "      <td>TA/TO</td>\n",
       "      <td>E</td>\n",
       "      <td>E</td>\n",
       "      <td>No Deposit</td>\n",
       "      <td>Transient</td>\n",
       "      <td>Check-Out</td>\n",
       "      <td>9/7/2017</td>\n",
       "      <td>stay_both_weekdays_weekends</td>\n",
       "      <td>0</td>\n",
       "    </tr>\n",
       "    <tr>\n",
       "      <th>119387</th>\n",
       "      <td>City Hotel</td>\n",
       "      <td>August</td>\n",
       "      <td>BB</td>\n",
       "      <td>DEU</td>\n",
       "      <td>Online TA</td>\n",
       "      <td>TA/TO</td>\n",
       "      <td>D</td>\n",
       "      <td>D</td>\n",
       "      <td>No Deposit</td>\n",
       "      <td>Transient</td>\n",
       "      <td>Check-Out</td>\n",
       "      <td>9/7/2017</td>\n",
       "      <td>stay_both_weekdays_weekends</td>\n",
       "      <td>0</td>\n",
       "    </tr>\n",
       "    <tr>\n",
       "      <th>119388</th>\n",
       "      <td>City Hotel</td>\n",
       "      <td>August</td>\n",
       "      <td>BB</td>\n",
       "      <td>GBR</td>\n",
       "      <td>Online TA</td>\n",
       "      <td>TA/TO</td>\n",
       "      <td>A</td>\n",
       "      <td>A</td>\n",
       "      <td>No Deposit</td>\n",
       "      <td>Transient</td>\n",
       "      <td>Check-Out</td>\n",
       "      <td>9/7/2017</td>\n",
       "      <td>stay_both_weekdays_weekends</td>\n",
       "      <td>0</td>\n",
       "    </tr>\n",
       "    <tr>\n",
       "      <th>119389</th>\n",
       "      <td>City Hotel</td>\n",
       "      <td>August</td>\n",
       "      <td>HB</td>\n",
       "      <td>DEU</td>\n",
       "      <td>Online TA</td>\n",
       "      <td>TA/TO</td>\n",
       "      <td>A</td>\n",
       "      <td>A</td>\n",
       "      <td>No Deposit</td>\n",
       "      <td>Transient</td>\n",
       "      <td>Check-Out</td>\n",
       "      <td>9/7/2017</td>\n",
       "      <td>stay_both_weekdays_weekends</td>\n",
       "      <td>0</td>\n",
       "    </tr>\n",
       "  </tbody>\n",
       "</table>\n",
       "<p>119206 rows × 14 columns</p>\n",
       "</div>"
      ],
      "text/plain": [
       "               hotel arrival_date_month meal country market_segment   \n",
       "0       Resort Hotel               July   BB     PRT         Direct  \\\n",
       "1       Resort Hotel               July   BB     PRT         Direct   \n",
       "2       Resort Hotel               July   BB     GBR         Direct   \n",
       "3       Resort Hotel               July   BB     GBR      Corporate   \n",
       "4       Resort Hotel               July   BB     GBR      Online TA   \n",
       "...              ...                ...  ...     ...            ...   \n",
       "119385    City Hotel             August   BB     BEL  Offline TA/TO   \n",
       "119386    City Hotel             August   BB     FRA      Online TA   \n",
       "119387    City Hotel             August   BB     DEU      Online TA   \n",
       "119388    City Hotel             August   BB     GBR      Online TA   \n",
       "119389    City Hotel             August   HB     DEU      Online TA   \n",
       "\n",
       "       distribution_channel reserved_room_type assigned_room_type   \n",
       "0                    Direct                  C                  C  \\\n",
       "1                    Direct                  C                  C   \n",
       "2                    Direct                  A                  C   \n",
       "3                 Corporate                  A                  A   \n",
       "4                     TA/TO                  A                  A   \n",
       "...                     ...                ...                ...   \n",
       "119385                TA/TO                  A                  A   \n",
       "119386                TA/TO                  E                  E   \n",
       "119387                TA/TO                  D                  D   \n",
       "119388                TA/TO                  A                  A   \n",
       "119389                TA/TO                  A                  A   \n",
       "\n",
       "       deposit_type customer_type reservation_status reservation_status_date   \n",
       "0        No Deposit     Transient          Check-Out                7/1/2015  \\\n",
       "1        No Deposit     Transient          Check-Out                7/1/2015   \n",
       "2        No Deposit     Transient          Check-Out                7/2/2015   \n",
       "3        No Deposit     Transient          Check-Out                7/2/2015   \n",
       "4        No Deposit     Transient          Check-Out                7/3/2015   \n",
       "...             ...           ...                ...                     ...   \n",
       "119385   No Deposit     Transient          Check-Out                9/6/2017   \n",
       "119386   No Deposit     Transient          Check-Out                9/7/2017   \n",
       "119387   No Deposit     Transient          Check-Out                9/7/2017   \n",
       "119388   No Deposit     Transient          Check-Out                9/7/2017   \n",
       "119389   No Deposit     Transient          Check-Out                9/7/2017   \n",
       "\n",
       "                 weekend_or_weekday  canceled  \n",
       "0                    undefined_data         0  \n",
       "1                    undefined_data         0  \n",
       "2                stay_just_weekdays         0  \n",
       "3                stay_just_weekdays         0  \n",
       "4                stay_just_weekdays         0  \n",
       "...                             ...       ...  \n",
       "119385  stay_both_weekdays_weekends         0  \n",
       "119386  stay_both_weekdays_weekends         0  \n",
       "119387  stay_both_weekdays_weekends         0  \n",
       "119388  stay_both_weekdays_weekends         0  \n",
       "119389  stay_both_weekdays_weekends         0  \n",
       "\n",
       "[119206 rows x 14 columns]"
      ]
     },
     "execution_count": 221,
     "metadata": {},
     "output_type": "execute_result"
    }
   ],
   "source": [
    "categorical_data"
   ]
  },
  {
   "cell_type": "code",
   "execution_count": 222,
   "id": "cc29f119",
   "metadata": {},
   "outputs": [],
   "source": [
    "### Perform Mean Encoding Technique \n",
    "\n",
    "for col in categorical_data:\n",
    "    dict2=categorical_data.groupby([col])['canceled'].mean().to_dict()\n",
    "    categorical_data[col]=categorical_data[col].map(dict2)"
   ]
  },
  {
   "cell_type": "code",
   "execution_count": 223,
   "id": "dd78ba0c",
   "metadata": {},
   "outputs": [
    {
     "data": {
      "text/html": [
       "<div>\n",
       "<style scoped>\n",
       "    .dataframe tbody tr th:only-of-type {\n",
       "        vertical-align: middle;\n",
       "    }\n",
       "\n",
       "    .dataframe tbody tr th {\n",
       "        vertical-align: top;\n",
       "    }\n",
       "\n",
       "    .dataframe thead th {\n",
       "        text-align: right;\n",
       "    }\n",
       "</style>\n",
       "<table border=\"1\" class=\"dataframe\">\n",
       "  <thead>\n",
       "    <tr style=\"text-align: right;\">\n",
       "      <th></th>\n",
       "      <th>hotel</th>\n",
       "      <th>arrival_date_month</th>\n",
       "      <th>meal</th>\n",
       "      <th>country</th>\n",
       "      <th>market_segment</th>\n",
       "      <th>distribution_channel</th>\n",
       "      <th>reserved_room_type</th>\n",
       "      <th>assigned_room_type</th>\n",
       "      <th>deposit_type</th>\n",
       "      <th>customer_type</th>\n",
       "      <th>reservation_status</th>\n",
       "      <th>reservation_status_date</th>\n",
       "      <th>weekend_or_weekday</th>\n",
       "      <th>canceled</th>\n",
       "    </tr>\n",
       "  </thead>\n",
       "  <tbody>\n",
       "    <tr>\n",
       "      <th>0</th>\n",
       "      <td>0.277674</td>\n",
       "      <td>0.374644</td>\n",
       "      <td>0.374078</td>\n",
       "      <td>0.562923</td>\n",
       "      <td>0.153644</td>\n",
       "      <td>0.174868</td>\n",
       "      <td>0.330827</td>\n",
       "      <td>0.188186</td>\n",
       "      <td>0.283992</td>\n",
       "      <td>0.407864</td>\n",
       "      <td>0.0</td>\n",
       "      <td>0.800000</td>\n",
       "      <td>0.035659</td>\n",
       "      <td>0.0</td>\n",
       "    </tr>\n",
       "    <tr>\n",
       "      <th>1</th>\n",
       "      <td>0.277674</td>\n",
       "      <td>0.374644</td>\n",
       "      <td>0.374078</td>\n",
       "      <td>0.562923</td>\n",
       "      <td>0.153644</td>\n",
       "      <td>0.174868</td>\n",
       "      <td>0.330827</td>\n",
       "      <td>0.188186</td>\n",
       "      <td>0.283992</td>\n",
       "      <td>0.407864</td>\n",
       "      <td>0.0</td>\n",
       "      <td>0.800000</td>\n",
       "      <td>0.035659</td>\n",
       "      <td>0.0</td>\n",
       "    </tr>\n",
       "    <tr>\n",
       "      <th>2</th>\n",
       "      <td>0.277674</td>\n",
       "      <td>0.374644</td>\n",
       "      <td>0.374078</td>\n",
       "      <td>0.202310</td>\n",
       "      <td>0.153644</td>\n",
       "      <td>0.174868</td>\n",
       "      <td>0.391567</td>\n",
       "      <td>0.188186</td>\n",
       "      <td>0.283992</td>\n",
       "      <td>0.407864</td>\n",
       "      <td>0.0</td>\n",
       "      <td>0.985075</td>\n",
       "      <td>0.379722</td>\n",
       "      <td>0.0</td>\n",
       "    </tr>\n",
       "    <tr>\n",
       "      <th>3</th>\n",
       "      <td>0.277674</td>\n",
       "      <td>0.374644</td>\n",
       "      <td>0.374078</td>\n",
       "      <td>0.202310</td>\n",
       "      <td>0.187618</td>\n",
       "      <td>0.220568</td>\n",
       "      <td>0.391567</td>\n",
       "      <td>0.445055</td>\n",
       "      <td>0.283992</td>\n",
       "      <td>0.407864</td>\n",
       "      <td>0.0</td>\n",
       "      <td>0.985075</td>\n",
       "      <td>0.379722</td>\n",
       "      <td>0.0</td>\n",
       "    </tr>\n",
       "    <tr>\n",
       "      <th>4</th>\n",
       "      <td>0.277674</td>\n",
       "      <td>0.374644</td>\n",
       "      <td>0.374078</td>\n",
       "      <td>0.202310</td>\n",
       "      <td>0.367578</td>\n",
       "      <td>0.410598</td>\n",
       "      <td>0.391567</td>\n",
       "      <td>0.445055</td>\n",
       "      <td>0.283992</td>\n",
       "      <td>0.407864</td>\n",
       "      <td>0.0</td>\n",
       "      <td>0.522876</td>\n",
       "      <td>0.379722</td>\n",
       "      <td>0.0</td>\n",
       "    </tr>\n",
       "    <tr>\n",
       "      <th>...</th>\n",
       "      <td>...</td>\n",
       "      <td>...</td>\n",
       "      <td>...</td>\n",
       "      <td>...</td>\n",
       "      <td>...</td>\n",
       "      <td>...</td>\n",
       "      <td>...</td>\n",
       "      <td>...</td>\n",
       "      <td>...</td>\n",
       "      <td>...</td>\n",
       "      <td>...</td>\n",
       "      <td>...</td>\n",
       "      <td>...</td>\n",
       "      <td>...</td>\n",
       "    </tr>\n",
       "    <tr>\n",
       "      <th>119385</th>\n",
       "      <td>0.417830</td>\n",
       "      <td>0.377643</td>\n",
       "      <td>0.374078</td>\n",
       "      <td>0.202391</td>\n",
       "      <td>0.343313</td>\n",
       "      <td>0.410598</td>\n",
       "      <td>0.391567</td>\n",
       "      <td>0.445055</td>\n",
       "      <td>0.283992</td>\n",
       "      <td>0.407864</td>\n",
       "      <td>0.0</td>\n",
       "      <td>0.000000</td>\n",
       "      <td>0.378161</td>\n",
       "      <td>0.0</td>\n",
       "    </tr>\n",
       "    <tr>\n",
       "      <th>119386</th>\n",
       "      <td>0.417830</td>\n",
       "      <td>0.377643</td>\n",
       "      <td>0.374078</td>\n",
       "      <td>0.185848</td>\n",
       "      <td>0.367578</td>\n",
       "      <td>0.410598</td>\n",
       "      <td>0.292683</td>\n",
       "      <td>0.251603</td>\n",
       "      <td>0.283992</td>\n",
       "      <td>0.407864</td>\n",
       "      <td>0.0</td>\n",
       "      <td>0.000000</td>\n",
       "      <td>0.378161</td>\n",
       "      <td>0.0</td>\n",
       "    </tr>\n",
       "    <tr>\n",
       "      <th>119387</th>\n",
       "      <td>0.417830</td>\n",
       "      <td>0.377643</td>\n",
       "      <td>0.374078</td>\n",
       "      <td>0.167193</td>\n",
       "      <td>0.367578</td>\n",
       "      <td>0.410598</td>\n",
       "      <td>0.318108</td>\n",
       "      <td>0.251373</td>\n",
       "      <td>0.283992</td>\n",
       "      <td>0.407864</td>\n",
       "      <td>0.0</td>\n",
       "      <td>0.000000</td>\n",
       "      <td>0.378161</td>\n",
       "      <td>0.0</td>\n",
       "    </tr>\n",
       "    <tr>\n",
       "      <th>119388</th>\n",
       "      <td>0.417830</td>\n",
       "      <td>0.377643</td>\n",
       "      <td>0.374078</td>\n",
       "      <td>0.202310</td>\n",
       "      <td>0.367578</td>\n",
       "      <td>0.410598</td>\n",
       "      <td>0.391567</td>\n",
       "      <td>0.445055</td>\n",
       "      <td>0.283992</td>\n",
       "      <td>0.407864</td>\n",
       "      <td>0.0</td>\n",
       "      <td>0.000000</td>\n",
       "      <td>0.378161</td>\n",
       "      <td>0.0</td>\n",
       "    </tr>\n",
       "    <tr>\n",
       "      <th>119389</th>\n",
       "      <td>0.417830</td>\n",
       "      <td>0.377643</td>\n",
       "      <td>0.344653</td>\n",
       "      <td>0.167193</td>\n",
       "      <td>0.367578</td>\n",
       "      <td>0.410598</td>\n",
       "      <td>0.391567</td>\n",
       "      <td>0.445055</td>\n",
       "      <td>0.283992</td>\n",
       "      <td>0.407864</td>\n",
       "      <td>0.0</td>\n",
       "      <td>0.000000</td>\n",
       "      <td>0.378161</td>\n",
       "      <td>0.0</td>\n",
       "    </tr>\n",
       "  </tbody>\n",
       "</table>\n",
       "<p>119206 rows × 14 columns</p>\n",
       "</div>"
      ],
      "text/plain": [
       "           hotel  arrival_date_month      meal   country  market_segment   \n",
       "0       0.277674            0.374644  0.374078  0.562923        0.153644  \\\n",
       "1       0.277674            0.374644  0.374078  0.562923        0.153644   \n",
       "2       0.277674            0.374644  0.374078  0.202310        0.153644   \n",
       "3       0.277674            0.374644  0.374078  0.202310        0.187618   \n",
       "4       0.277674            0.374644  0.374078  0.202310        0.367578   \n",
       "...          ...                 ...       ...       ...             ...   \n",
       "119385  0.417830            0.377643  0.374078  0.202391        0.343313   \n",
       "119386  0.417830            0.377643  0.374078  0.185848        0.367578   \n",
       "119387  0.417830            0.377643  0.374078  0.167193        0.367578   \n",
       "119388  0.417830            0.377643  0.374078  0.202310        0.367578   \n",
       "119389  0.417830            0.377643  0.344653  0.167193        0.367578   \n",
       "\n",
       "        distribution_channel  reserved_room_type  assigned_room_type   \n",
       "0                   0.174868            0.330827            0.188186  \\\n",
       "1                   0.174868            0.330827            0.188186   \n",
       "2                   0.174868            0.391567            0.188186   \n",
       "3                   0.220568            0.391567            0.445055   \n",
       "4                   0.410598            0.391567            0.445055   \n",
       "...                      ...                 ...                 ...   \n",
       "119385              0.410598            0.391567            0.445055   \n",
       "119386              0.410598            0.292683            0.251603   \n",
       "119387              0.410598            0.318108            0.251373   \n",
       "119388              0.410598            0.391567            0.445055   \n",
       "119389              0.410598            0.391567            0.445055   \n",
       "\n",
       "        deposit_type  customer_type  reservation_status   \n",
       "0           0.283992       0.407864                 0.0  \\\n",
       "1           0.283992       0.407864                 0.0   \n",
       "2           0.283992       0.407864                 0.0   \n",
       "3           0.283992       0.407864                 0.0   \n",
       "4           0.283992       0.407864                 0.0   \n",
       "...              ...            ...                 ...   \n",
       "119385      0.283992       0.407864                 0.0   \n",
       "119386      0.283992       0.407864                 0.0   \n",
       "119387      0.283992       0.407864                 0.0   \n",
       "119388      0.283992       0.407864                 0.0   \n",
       "119389      0.283992       0.407864                 0.0   \n",
       "\n",
       "        reservation_status_date  weekend_or_weekday  canceled  \n",
       "0                      0.800000            0.035659       0.0  \n",
       "1                      0.800000            0.035659       0.0  \n",
       "2                      0.985075            0.379722       0.0  \n",
       "3                      0.985075            0.379722       0.0  \n",
       "4                      0.522876            0.379722       0.0  \n",
       "...                         ...                 ...       ...  \n",
       "119385                 0.000000            0.378161       0.0  \n",
       "119386                 0.000000            0.378161       0.0  \n",
       "119387                 0.000000            0.378161       0.0  \n",
       "119388                 0.000000            0.378161       0.0  \n",
       "119389                 0.000000            0.378161       0.0  \n",
       "\n",
       "[119206 rows x 14 columns]"
      ]
     },
     "execution_count": 223,
     "metadata": {},
     "output_type": "execute_result"
    }
   ],
   "source": [
    "categorical_data"
   ]
  },
  {
   "cell_type": "code",
   "execution_count": 224,
   "id": "024a8e07",
   "metadata": {},
   "outputs": [],
   "source": [
    "concatenated_df=pd.concat([categorical_data,numeric_data],axis=1)"
   ]
  },
  {
   "cell_type": "code",
   "execution_count": 225,
   "id": "91eaebf5",
   "metadata": {},
   "outputs": [
    {
     "data": {
      "text/html": [
       "<div>\n",
       "<style scoped>\n",
       "    .dataframe tbody tr th:only-of-type {\n",
       "        vertical-align: middle;\n",
       "    }\n",
       "\n",
       "    .dataframe tbody tr th {\n",
       "        vertical-align: top;\n",
       "    }\n",
       "\n",
       "    .dataframe thead th {\n",
       "        text-align: right;\n",
       "    }\n",
       "</style>\n",
       "<table border=\"1\" class=\"dataframe\">\n",
       "  <thead>\n",
       "    <tr style=\"text-align: right;\">\n",
       "      <th></th>\n",
       "      <th>hotel</th>\n",
       "      <th>arrival_date_month</th>\n",
       "      <th>meal</th>\n",
       "      <th>country</th>\n",
       "      <th>market_segment</th>\n",
       "      <th>distribution_channel</th>\n",
       "      <th>reserved_room_type</th>\n",
       "      <th>assigned_room_type</th>\n",
       "      <th>deposit_type</th>\n",
       "      <th>customer_type</th>\n",
       "      <th>...</th>\n",
       "      <th>previous_cancellations</th>\n",
       "      <th>previous_bookings_not_canceled</th>\n",
       "      <th>booking_changes</th>\n",
       "      <th>days_in_waiting_list</th>\n",
       "      <th>adr</th>\n",
       "      <th>required_car_parking_spaces</th>\n",
       "      <th>total_of_special_requests</th>\n",
       "      <th>is_family</th>\n",
       "      <th>total_customer</th>\n",
       "      <th>total_nights</th>\n",
       "    </tr>\n",
       "  </thead>\n",
       "  <tbody>\n",
       "    <tr>\n",
       "      <th>0</th>\n",
       "      <td>0.277674</td>\n",
       "      <td>0.374644</td>\n",
       "      <td>0.374078</td>\n",
       "      <td>0.562923</td>\n",
       "      <td>0.153644</td>\n",
       "      <td>0.174868</td>\n",
       "      <td>0.330827</td>\n",
       "      <td>0.188186</td>\n",
       "      <td>0.283992</td>\n",
       "      <td>0.407864</td>\n",
       "      <td>...</td>\n",
       "      <td>0</td>\n",
       "      <td>0</td>\n",
       "      <td>3</td>\n",
       "      <td>0</td>\n",
       "      <td>0.00</td>\n",
       "      <td>0</td>\n",
       "      <td>0</td>\n",
       "      <td>1</td>\n",
       "      <td>2.0</td>\n",
       "      <td>0</td>\n",
       "    </tr>\n",
       "    <tr>\n",
       "      <th>1</th>\n",
       "      <td>0.277674</td>\n",
       "      <td>0.374644</td>\n",
       "      <td>0.374078</td>\n",
       "      <td>0.562923</td>\n",
       "      <td>0.153644</td>\n",
       "      <td>0.174868</td>\n",
       "      <td>0.330827</td>\n",
       "      <td>0.188186</td>\n",
       "      <td>0.283992</td>\n",
       "      <td>0.407864</td>\n",
       "      <td>...</td>\n",
       "      <td>0</td>\n",
       "      <td>0</td>\n",
       "      <td>4</td>\n",
       "      <td>0</td>\n",
       "      <td>0.00</td>\n",
       "      <td>0</td>\n",
       "      <td>0</td>\n",
       "      <td>1</td>\n",
       "      <td>2.0</td>\n",
       "      <td>0</td>\n",
       "    </tr>\n",
       "    <tr>\n",
       "      <th>2</th>\n",
       "      <td>0.277674</td>\n",
       "      <td>0.374644</td>\n",
       "      <td>0.374078</td>\n",
       "      <td>0.202310</td>\n",
       "      <td>0.153644</td>\n",
       "      <td>0.174868</td>\n",
       "      <td>0.391567</td>\n",
       "      <td>0.188186</td>\n",
       "      <td>0.283992</td>\n",
       "      <td>0.407864</td>\n",
       "      <td>...</td>\n",
       "      <td>0</td>\n",
       "      <td>0</td>\n",
       "      <td>0</td>\n",
       "      <td>0</td>\n",
       "      <td>75.00</td>\n",
       "      <td>0</td>\n",
       "      <td>0</td>\n",
       "      <td>1</td>\n",
       "      <td>1.0</td>\n",
       "      <td>1</td>\n",
       "    </tr>\n",
       "    <tr>\n",
       "      <th>3</th>\n",
       "      <td>0.277674</td>\n",
       "      <td>0.374644</td>\n",
       "      <td>0.374078</td>\n",
       "      <td>0.202310</td>\n",
       "      <td>0.187618</td>\n",
       "      <td>0.220568</td>\n",
       "      <td>0.391567</td>\n",
       "      <td>0.445055</td>\n",
       "      <td>0.283992</td>\n",
       "      <td>0.407864</td>\n",
       "      <td>...</td>\n",
       "      <td>0</td>\n",
       "      <td>0</td>\n",
       "      <td>0</td>\n",
       "      <td>0</td>\n",
       "      <td>75.00</td>\n",
       "      <td>0</td>\n",
       "      <td>0</td>\n",
       "      <td>1</td>\n",
       "      <td>1.0</td>\n",
       "      <td>1</td>\n",
       "    </tr>\n",
       "    <tr>\n",
       "      <th>4</th>\n",
       "      <td>0.277674</td>\n",
       "      <td>0.374644</td>\n",
       "      <td>0.374078</td>\n",
       "      <td>0.202310</td>\n",
       "      <td>0.367578</td>\n",
       "      <td>0.410598</td>\n",
       "      <td>0.391567</td>\n",
       "      <td>0.445055</td>\n",
       "      <td>0.283992</td>\n",
       "      <td>0.407864</td>\n",
       "      <td>...</td>\n",
       "      <td>0</td>\n",
       "      <td>0</td>\n",
       "      <td>0</td>\n",
       "      <td>0</td>\n",
       "      <td>98.00</td>\n",
       "      <td>0</td>\n",
       "      <td>1</td>\n",
       "      <td>1</td>\n",
       "      <td>2.0</td>\n",
       "      <td>2</td>\n",
       "    </tr>\n",
       "    <tr>\n",
       "      <th>...</th>\n",
       "      <td>...</td>\n",
       "      <td>...</td>\n",
       "      <td>...</td>\n",
       "      <td>...</td>\n",
       "      <td>...</td>\n",
       "      <td>...</td>\n",
       "      <td>...</td>\n",
       "      <td>...</td>\n",
       "      <td>...</td>\n",
       "      <td>...</td>\n",
       "      <td>...</td>\n",
       "      <td>...</td>\n",
       "      <td>...</td>\n",
       "      <td>...</td>\n",
       "      <td>...</td>\n",
       "      <td>...</td>\n",
       "      <td>...</td>\n",
       "      <td>...</td>\n",
       "      <td>...</td>\n",
       "      <td>...</td>\n",
       "      <td>...</td>\n",
       "    </tr>\n",
       "    <tr>\n",
       "      <th>119385</th>\n",
       "      <td>0.417830</td>\n",
       "      <td>0.377643</td>\n",
       "      <td>0.374078</td>\n",
       "      <td>0.202391</td>\n",
       "      <td>0.343313</td>\n",
       "      <td>0.410598</td>\n",
       "      <td>0.391567</td>\n",
       "      <td>0.445055</td>\n",
       "      <td>0.283992</td>\n",
       "      <td>0.407864</td>\n",
       "      <td>...</td>\n",
       "      <td>0</td>\n",
       "      <td>0</td>\n",
       "      <td>0</td>\n",
       "      <td>0</td>\n",
       "      <td>96.14</td>\n",
       "      <td>0</td>\n",
       "      <td>0</td>\n",
       "      <td>1</td>\n",
       "      <td>2.0</td>\n",
       "      <td>7</td>\n",
       "    </tr>\n",
       "    <tr>\n",
       "      <th>119386</th>\n",
       "      <td>0.417830</td>\n",
       "      <td>0.377643</td>\n",
       "      <td>0.374078</td>\n",
       "      <td>0.185848</td>\n",
       "      <td>0.367578</td>\n",
       "      <td>0.410598</td>\n",
       "      <td>0.292683</td>\n",
       "      <td>0.251603</td>\n",
       "      <td>0.283992</td>\n",
       "      <td>0.407864</td>\n",
       "      <td>...</td>\n",
       "      <td>0</td>\n",
       "      <td>0</td>\n",
       "      <td>0</td>\n",
       "      <td>0</td>\n",
       "      <td>225.43</td>\n",
       "      <td>0</td>\n",
       "      <td>2</td>\n",
       "      <td>1</td>\n",
       "      <td>3.0</td>\n",
       "      <td>7</td>\n",
       "    </tr>\n",
       "    <tr>\n",
       "      <th>119387</th>\n",
       "      <td>0.417830</td>\n",
       "      <td>0.377643</td>\n",
       "      <td>0.374078</td>\n",
       "      <td>0.167193</td>\n",
       "      <td>0.367578</td>\n",
       "      <td>0.410598</td>\n",
       "      <td>0.318108</td>\n",
       "      <td>0.251373</td>\n",
       "      <td>0.283992</td>\n",
       "      <td>0.407864</td>\n",
       "      <td>...</td>\n",
       "      <td>0</td>\n",
       "      <td>0</td>\n",
       "      <td>0</td>\n",
       "      <td>0</td>\n",
       "      <td>157.71</td>\n",
       "      <td>0</td>\n",
       "      <td>4</td>\n",
       "      <td>1</td>\n",
       "      <td>2.0</td>\n",
       "      <td>7</td>\n",
       "    </tr>\n",
       "    <tr>\n",
       "      <th>119388</th>\n",
       "      <td>0.417830</td>\n",
       "      <td>0.377643</td>\n",
       "      <td>0.374078</td>\n",
       "      <td>0.202310</td>\n",
       "      <td>0.367578</td>\n",
       "      <td>0.410598</td>\n",
       "      <td>0.391567</td>\n",
       "      <td>0.445055</td>\n",
       "      <td>0.283992</td>\n",
       "      <td>0.407864</td>\n",
       "      <td>...</td>\n",
       "      <td>0</td>\n",
       "      <td>0</td>\n",
       "      <td>0</td>\n",
       "      <td>0</td>\n",
       "      <td>104.40</td>\n",
       "      <td>0</td>\n",
       "      <td>0</td>\n",
       "      <td>1</td>\n",
       "      <td>2.0</td>\n",
       "      <td>7</td>\n",
       "    </tr>\n",
       "    <tr>\n",
       "      <th>119389</th>\n",
       "      <td>0.417830</td>\n",
       "      <td>0.377643</td>\n",
       "      <td>0.344653</td>\n",
       "      <td>0.167193</td>\n",
       "      <td>0.367578</td>\n",
       "      <td>0.410598</td>\n",
       "      <td>0.391567</td>\n",
       "      <td>0.445055</td>\n",
       "      <td>0.283992</td>\n",
       "      <td>0.407864</td>\n",
       "      <td>...</td>\n",
       "      <td>0</td>\n",
       "      <td>0</td>\n",
       "      <td>0</td>\n",
       "      <td>0</td>\n",
       "      <td>151.20</td>\n",
       "      <td>0</td>\n",
       "      <td>2</td>\n",
       "      <td>1</td>\n",
       "      <td>2.0</td>\n",
       "      <td>9</td>\n",
       "    </tr>\n",
       "  </tbody>\n",
       "</table>\n",
       "<p>119206 rows × 32 columns</p>\n",
       "</div>"
      ],
      "text/plain": [
       "           hotel  arrival_date_month      meal   country  market_segment   \n",
       "0       0.277674            0.374644  0.374078  0.562923        0.153644  \\\n",
       "1       0.277674            0.374644  0.374078  0.562923        0.153644   \n",
       "2       0.277674            0.374644  0.374078  0.202310        0.153644   \n",
       "3       0.277674            0.374644  0.374078  0.202310        0.187618   \n",
       "4       0.277674            0.374644  0.374078  0.202310        0.367578   \n",
       "...          ...                 ...       ...       ...             ...   \n",
       "119385  0.417830            0.377643  0.374078  0.202391        0.343313   \n",
       "119386  0.417830            0.377643  0.374078  0.185848        0.367578   \n",
       "119387  0.417830            0.377643  0.374078  0.167193        0.367578   \n",
       "119388  0.417830            0.377643  0.374078  0.202310        0.367578   \n",
       "119389  0.417830            0.377643  0.344653  0.167193        0.367578   \n",
       "\n",
       "        distribution_channel  reserved_room_type  assigned_room_type   \n",
       "0                   0.174868            0.330827            0.188186  \\\n",
       "1                   0.174868            0.330827            0.188186   \n",
       "2                   0.174868            0.391567            0.188186   \n",
       "3                   0.220568            0.391567            0.445055   \n",
       "4                   0.410598            0.391567            0.445055   \n",
       "...                      ...                 ...                 ...   \n",
       "119385              0.410598            0.391567            0.445055   \n",
       "119386              0.410598            0.292683            0.251603   \n",
       "119387              0.410598            0.318108            0.251373   \n",
       "119388              0.410598            0.391567            0.445055   \n",
       "119389              0.410598            0.391567            0.445055   \n",
       "\n",
       "        deposit_type  customer_type  ...  previous_cancellations   \n",
       "0           0.283992       0.407864  ...                       0  \\\n",
       "1           0.283992       0.407864  ...                       0   \n",
       "2           0.283992       0.407864  ...                       0   \n",
       "3           0.283992       0.407864  ...                       0   \n",
       "4           0.283992       0.407864  ...                       0   \n",
       "...              ...            ...  ...                     ...   \n",
       "119385      0.283992       0.407864  ...                       0   \n",
       "119386      0.283992       0.407864  ...                       0   \n",
       "119387      0.283992       0.407864  ...                       0   \n",
       "119388      0.283992       0.407864  ...                       0   \n",
       "119389      0.283992       0.407864  ...                       0   \n",
       "\n",
       "        previous_bookings_not_canceled  booking_changes  days_in_waiting_list   \n",
       "0                                    0                3                     0  \\\n",
       "1                                    0                4                     0   \n",
       "2                                    0                0                     0   \n",
       "3                                    0                0                     0   \n",
       "4                                    0                0                     0   \n",
       "...                                ...              ...                   ...   \n",
       "119385                               0                0                     0   \n",
       "119386                               0                0                     0   \n",
       "119387                               0                0                     0   \n",
       "119388                               0                0                     0   \n",
       "119389                               0                0                     0   \n",
       "\n",
       "           adr  required_car_parking_spaces  total_of_special_requests   \n",
       "0         0.00                            0                          0  \\\n",
       "1         0.00                            0                          0   \n",
       "2        75.00                            0                          0   \n",
       "3        75.00                            0                          0   \n",
       "4        98.00                            0                          1   \n",
       "...        ...                          ...                        ...   \n",
       "119385   96.14                            0                          0   \n",
       "119386  225.43                            0                          2   \n",
       "119387  157.71                            0                          4   \n",
       "119388  104.40                            0                          0   \n",
       "119389  151.20                            0                          2   \n",
       "\n",
       "        is_family  total_customer  total_nights  \n",
       "0               1             2.0             0  \n",
       "1               1             2.0             0  \n",
       "2               1             1.0             1  \n",
       "3               1             1.0             1  \n",
       "4               1             2.0             2  \n",
       "...           ...             ...           ...  \n",
       "119385          1             2.0             7  \n",
       "119386          1             3.0             7  \n",
       "119387          1             2.0             7  \n",
       "119388          1             2.0             7  \n",
       "119389          1             2.0             9  \n",
       "\n",
       "[119206 rows x 32 columns]"
      ]
     },
     "execution_count": 225,
     "metadata": {},
     "output_type": "execute_result"
    }
   ],
   "source": [
    "concatenated_df"
   ]
  },
  {
   "cell_type": "code",
   "execution_count": 226,
   "id": "207f2a7a",
   "metadata": {},
   "outputs": [
    {
     "data": {
      "text/plain": [
       "Index(['hotel', 'arrival_date_month', 'meal', 'country', 'market_segment',\n",
       "       'distribution_channel', 'reserved_room_type', 'assigned_room_type',\n",
       "       'deposit_type', 'customer_type', 'reservation_status',\n",
       "       'reservation_status_date', 'weekend_or_weekday', 'canceled',\n",
       "       'is_canceled', 'lead_time', 'arrival_date_year',\n",
       "       'arrival_date_week_number', 'arrival_date_day_of_month',\n",
       "       'stays_in_weekend_nights', 'stays_in_week_nights', 'is_repeated_guest',\n",
       "       'previous_cancellations', 'previous_bookings_not_canceled',\n",
       "       'booking_changes', 'days_in_waiting_list', 'adr',\n",
       "       'required_car_parking_spaces', 'total_of_special_requests', 'is_family',\n",
       "       'total_customer', 'total_nights'],\n",
       "      dtype='object')"
      ]
     },
     "execution_count": 226,
     "metadata": {},
     "output_type": "execute_result"
    }
   ],
   "source": [
    "concatenated_df.columns"
   ]
  },
  {
   "cell_type": "code",
   "execution_count": 227,
   "id": "650e04bd",
   "metadata": {},
   "outputs": [],
   "source": [
    "df4 = concatenated_df.copy() # i want to remove 'stays_in_weekend_nights', 'stays_in_week_nights' here and perform simultaneous calculation"
   ]
  },
  {
   "cell_type": "code",
   "execution_count": 234,
   "id": "aabef9f6",
   "metadata": {},
   "outputs": [
    {
     "ename": "KeyError",
     "evalue": "\"['canceled', 'stays_in_week_nights', 'stays_in_weekend_nights'] not found in axis\"",
     "output_type": "error",
     "traceback": [
      "\u001b[1;31m---------------------------------------------------------------------------\u001b[0m",
      "\u001b[1;31mKeyError\u001b[0m                                  Traceback (most recent call last)",
      "\u001b[1;32m<ipython-input-234-9d844d654fc9>\u001b[0m in \u001b[0;36m<module>\u001b[1;34m\u001b[0m\n\u001b[1;32m----> 1\u001b[1;33m \u001b[0mdf4\u001b[0m\u001b[1;33m.\u001b[0m\u001b[0mdrop\u001b[0m\u001b[1;33m(\u001b[0m\u001b[1;33m[\u001b[0m\u001b[1;34m'canceled'\u001b[0m\u001b[1;33m,\u001b[0m\u001b[1;34m'stays_in_week_nights'\u001b[0m\u001b[1;33m,\u001b[0m\u001b[1;34m'stays_in_weekend_nights'\u001b[0m\u001b[1;33m]\u001b[0m\u001b[1;33m,\u001b[0m\u001b[0maxis\u001b[0m \u001b[1;33m=\u001b[0m\u001b[1;36m1\u001b[0m\u001b[1;33m,\u001b[0m\u001b[0minplace\u001b[0m\u001b[1;33m=\u001b[0m\u001b[1;32mTrue\u001b[0m\u001b[1;33m)\u001b[0m\u001b[1;33m\u001b[0m\u001b[1;33m\u001b[0m\u001b[0m\n\u001b[0m",
      "\u001b[1;32m~\\anaconda3\\lib\\site-packages\\pandas\\core\\frame.py\u001b[0m in \u001b[0;36mdrop\u001b[1;34m(self, labels, axis, index, columns, level, inplace, errors)\u001b[0m\n\u001b[0;32m   5264\u001b[0m                 \u001b[0mweight\u001b[0m  \u001b[1;36m1.0\u001b[0m     \u001b[1;36m0.8\u001b[0m\u001b[1;33m\u001b[0m\u001b[1;33m\u001b[0m\u001b[0m\n\u001b[0;32m   5265\u001b[0m         \"\"\"\n\u001b[1;32m-> 5266\u001b[1;33m         return super().drop(\n\u001b[0m\u001b[0;32m   5267\u001b[0m             \u001b[0mlabels\u001b[0m\u001b[1;33m=\u001b[0m\u001b[0mlabels\u001b[0m\u001b[1;33m,\u001b[0m\u001b[1;33m\u001b[0m\u001b[1;33m\u001b[0m\u001b[0m\n\u001b[0;32m   5268\u001b[0m             \u001b[0maxis\u001b[0m\u001b[1;33m=\u001b[0m\u001b[0maxis\u001b[0m\u001b[1;33m,\u001b[0m\u001b[1;33m\u001b[0m\u001b[1;33m\u001b[0m\u001b[0m\n",
      "\u001b[1;32m~\\anaconda3\\lib\\site-packages\\pandas\\core\\generic.py\u001b[0m in \u001b[0;36mdrop\u001b[1;34m(self, labels, axis, index, columns, level, inplace, errors)\u001b[0m\n\u001b[0;32m   4547\u001b[0m         \u001b[1;32mfor\u001b[0m \u001b[0maxis\u001b[0m\u001b[1;33m,\u001b[0m \u001b[0mlabels\u001b[0m \u001b[1;32min\u001b[0m \u001b[0maxes\u001b[0m\u001b[1;33m.\u001b[0m\u001b[0mitems\u001b[0m\u001b[1;33m(\u001b[0m\u001b[1;33m)\u001b[0m\u001b[1;33m:\u001b[0m\u001b[1;33m\u001b[0m\u001b[1;33m\u001b[0m\u001b[0m\n\u001b[0;32m   4548\u001b[0m             \u001b[1;32mif\u001b[0m \u001b[0mlabels\u001b[0m \u001b[1;32mis\u001b[0m \u001b[1;32mnot\u001b[0m \u001b[1;32mNone\u001b[0m\u001b[1;33m:\u001b[0m\u001b[1;33m\u001b[0m\u001b[1;33m\u001b[0m\u001b[0m\n\u001b[1;32m-> 4549\u001b[1;33m                 \u001b[0mobj\u001b[0m \u001b[1;33m=\u001b[0m \u001b[0mobj\u001b[0m\u001b[1;33m.\u001b[0m\u001b[0m_drop_axis\u001b[0m\u001b[1;33m(\u001b[0m\u001b[0mlabels\u001b[0m\u001b[1;33m,\u001b[0m \u001b[0maxis\u001b[0m\u001b[1;33m,\u001b[0m \u001b[0mlevel\u001b[0m\u001b[1;33m=\u001b[0m\u001b[0mlevel\u001b[0m\u001b[1;33m,\u001b[0m \u001b[0merrors\u001b[0m\u001b[1;33m=\u001b[0m\u001b[0merrors\u001b[0m\u001b[1;33m)\u001b[0m\u001b[1;33m\u001b[0m\u001b[1;33m\u001b[0m\u001b[0m\n\u001b[0m\u001b[0;32m   4550\u001b[0m \u001b[1;33m\u001b[0m\u001b[0m\n\u001b[0;32m   4551\u001b[0m         \u001b[1;32mif\u001b[0m \u001b[0minplace\u001b[0m\u001b[1;33m:\u001b[0m\u001b[1;33m\u001b[0m\u001b[1;33m\u001b[0m\u001b[0m\n",
      "\u001b[1;32m~\\anaconda3\\lib\\site-packages\\pandas\\core\\generic.py\u001b[0m in \u001b[0;36m_drop_axis\u001b[1;34m(self, labels, axis, level, errors, only_slice)\u001b[0m\n\u001b[0;32m   4589\u001b[0m                 \u001b[0mnew_axis\u001b[0m \u001b[1;33m=\u001b[0m \u001b[0maxis\u001b[0m\u001b[1;33m.\u001b[0m\u001b[0mdrop\u001b[0m\u001b[1;33m(\u001b[0m\u001b[0mlabels\u001b[0m\u001b[1;33m,\u001b[0m \u001b[0mlevel\u001b[0m\u001b[1;33m=\u001b[0m\u001b[0mlevel\u001b[0m\u001b[1;33m,\u001b[0m \u001b[0merrors\u001b[0m\u001b[1;33m=\u001b[0m\u001b[0merrors\u001b[0m\u001b[1;33m)\u001b[0m\u001b[1;33m\u001b[0m\u001b[1;33m\u001b[0m\u001b[0m\n\u001b[0;32m   4590\u001b[0m             \u001b[1;32melse\u001b[0m\u001b[1;33m:\u001b[0m\u001b[1;33m\u001b[0m\u001b[1;33m\u001b[0m\u001b[0m\n\u001b[1;32m-> 4591\u001b[1;33m                 \u001b[0mnew_axis\u001b[0m \u001b[1;33m=\u001b[0m \u001b[0maxis\u001b[0m\u001b[1;33m.\u001b[0m\u001b[0mdrop\u001b[0m\u001b[1;33m(\u001b[0m\u001b[0mlabels\u001b[0m\u001b[1;33m,\u001b[0m \u001b[0merrors\u001b[0m\u001b[1;33m=\u001b[0m\u001b[0merrors\u001b[0m\u001b[1;33m)\u001b[0m\u001b[1;33m\u001b[0m\u001b[1;33m\u001b[0m\u001b[0m\n\u001b[0m\u001b[0;32m   4592\u001b[0m             \u001b[0mindexer\u001b[0m \u001b[1;33m=\u001b[0m \u001b[0maxis\u001b[0m\u001b[1;33m.\u001b[0m\u001b[0mget_indexer\u001b[0m\u001b[1;33m(\u001b[0m\u001b[0mnew_axis\u001b[0m\u001b[1;33m)\u001b[0m\u001b[1;33m\u001b[0m\u001b[1;33m\u001b[0m\u001b[0m\n\u001b[0;32m   4593\u001b[0m \u001b[1;33m\u001b[0m\u001b[0m\n",
      "\u001b[1;32m~\\anaconda3\\lib\\site-packages\\pandas\\core\\indexes\\base.py\u001b[0m in \u001b[0;36mdrop\u001b[1;34m(self, labels, errors)\u001b[0m\n\u001b[0;32m   6694\u001b[0m         \u001b[1;32mif\u001b[0m \u001b[0mmask\u001b[0m\u001b[1;33m.\u001b[0m\u001b[0many\u001b[0m\u001b[1;33m(\u001b[0m\u001b[1;33m)\u001b[0m\u001b[1;33m:\u001b[0m\u001b[1;33m\u001b[0m\u001b[1;33m\u001b[0m\u001b[0m\n\u001b[0;32m   6695\u001b[0m             \u001b[1;32mif\u001b[0m \u001b[0merrors\u001b[0m \u001b[1;33m!=\u001b[0m \u001b[1;34m\"ignore\"\u001b[0m\u001b[1;33m:\u001b[0m\u001b[1;33m\u001b[0m\u001b[1;33m\u001b[0m\u001b[0m\n\u001b[1;32m-> 6696\u001b[1;33m                 \u001b[1;32mraise\u001b[0m \u001b[0mKeyError\u001b[0m\u001b[1;33m(\u001b[0m\u001b[1;34mf\"{list(labels[mask])} not found in axis\"\u001b[0m\u001b[1;33m)\u001b[0m\u001b[1;33m\u001b[0m\u001b[1;33m\u001b[0m\u001b[0m\n\u001b[0m\u001b[0;32m   6697\u001b[0m             \u001b[0mindexer\u001b[0m \u001b[1;33m=\u001b[0m \u001b[0mindexer\u001b[0m\u001b[1;33m[\u001b[0m\u001b[1;33m~\u001b[0m\u001b[0mmask\u001b[0m\u001b[1;33m]\u001b[0m\u001b[1;33m\u001b[0m\u001b[1;33m\u001b[0m\u001b[0m\n\u001b[0;32m   6698\u001b[0m         \u001b[1;32mreturn\u001b[0m \u001b[0mself\u001b[0m\u001b[1;33m.\u001b[0m\u001b[0mdelete\u001b[0m\u001b[1;33m(\u001b[0m\u001b[0mindexer\u001b[0m\u001b[1;33m)\u001b[0m\u001b[1;33m\u001b[0m\u001b[1;33m\u001b[0m\u001b[0m\n",
      "\u001b[1;31mKeyError\u001b[0m: \"['canceled', 'stays_in_week_nights', 'stays_in_weekend_nights'] not found in axis\""
     ]
    }
   ],
   "source": [
    "df4.drop(['canceled','stays_in_week_nights','stays_in_weekend_nights'],axis =1,inplace=True)"
   ]
  },
  {
   "cell_type": "code",
   "execution_count": 235,
   "id": "6edf24ed",
   "metadata": {},
   "outputs": [
    {
     "ename": "KeyError",
     "evalue": "\"['canceled'] not found in axis\"",
     "output_type": "error",
     "traceback": [
      "\u001b[1;31m---------------------------------------------------------------------------\u001b[0m",
      "\u001b[1;31mKeyError\u001b[0m                                  Traceback (most recent call last)",
      "\u001b[1;32m<ipython-input-235-a1325fa7fa4e>\u001b[0m in \u001b[0;36m<module>\u001b[1;34m\u001b[0m\n\u001b[1;32m----> 1\u001b[1;33m \u001b[0mconcatenated_df\u001b[0m\u001b[1;33m.\u001b[0m\u001b[0mdrop\u001b[0m\u001b[1;33m(\u001b[0m\u001b[1;34m'canceled'\u001b[0m\u001b[1;33m,\u001b[0m \u001b[0maxis\u001b[0m\u001b[1;33m=\u001b[0m\u001b[1;36m1\u001b[0m\u001b[1;33m,\u001b[0m \u001b[0minplace\u001b[0m \u001b[1;33m=\u001b[0m\u001b[1;32mTrue\u001b[0m\u001b[1;33m,\u001b[0m\u001b[1;33m)\u001b[0m\u001b[1;33m\u001b[0m\u001b[1;33m\u001b[0m\u001b[0m\n\u001b[0m",
      "\u001b[1;32m~\\anaconda3\\lib\\site-packages\\pandas\\core\\frame.py\u001b[0m in \u001b[0;36mdrop\u001b[1;34m(self, labels, axis, index, columns, level, inplace, errors)\u001b[0m\n\u001b[0;32m   5264\u001b[0m                 \u001b[0mweight\u001b[0m  \u001b[1;36m1.0\u001b[0m     \u001b[1;36m0.8\u001b[0m\u001b[1;33m\u001b[0m\u001b[1;33m\u001b[0m\u001b[0m\n\u001b[0;32m   5265\u001b[0m         \"\"\"\n\u001b[1;32m-> 5266\u001b[1;33m         return super().drop(\n\u001b[0m\u001b[0;32m   5267\u001b[0m             \u001b[0mlabels\u001b[0m\u001b[1;33m=\u001b[0m\u001b[0mlabels\u001b[0m\u001b[1;33m,\u001b[0m\u001b[1;33m\u001b[0m\u001b[1;33m\u001b[0m\u001b[0m\n\u001b[0;32m   5268\u001b[0m             \u001b[0maxis\u001b[0m\u001b[1;33m=\u001b[0m\u001b[0maxis\u001b[0m\u001b[1;33m,\u001b[0m\u001b[1;33m\u001b[0m\u001b[1;33m\u001b[0m\u001b[0m\n",
      "\u001b[1;32m~\\anaconda3\\lib\\site-packages\\pandas\\core\\generic.py\u001b[0m in \u001b[0;36mdrop\u001b[1;34m(self, labels, axis, index, columns, level, inplace, errors)\u001b[0m\n\u001b[0;32m   4547\u001b[0m         \u001b[1;32mfor\u001b[0m \u001b[0maxis\u001b[0m\u001b[1;33m,\u001b[0m \u001b[0mlabels\u001b[0m \u001b[1;32min\u001b[0m \u001b[0maxes\u001b[0m\u001b[1;33m.\u001b[0m\u001b[0mitems\u001b[0m\u001b[1;33m(\u001b[0m\u001b[1;33m)\u001b[0m\u001b[1;33m:\u001b[0m\u001b[1;33m\u001b[0m\u001b[1;33m\u001b[0m\u001b[0m\n\u001b[0;32m   4548\u001b[0m             \u001b[1;32mif\u001b[0m \u001b[0mlabels\u001b[0m \u001b[1;32mis\u001b[0m \u001b[1;32mnot\u001b[0m \u001b[1;32mNone\u001b[0m\u001b[1;33m:\u001b[0m\u001b[1;33m\u001b[0m\u001b[1;33m\u001b[0m\u001b[0m\n\u001b[1;32m-> 4549\u001b[1;33m                 \u001b[0mobj\u001b[0m \u001b[1;33m=\u001b[0m \u001b[0mobj\u001b[0m\u001b[1;33m.\u001b[0m\u001b[0m_drop_axis\u001b[0m\u001b[1;33m(\u001b[0m\u001b[0mlabels\u001b[0m\u001b[1;33m,\u001b[0m \u001b[0maxis\u001b[0m\u001b[1;33m,\u001b[0m \u001b[0mlevel\u001b[0m\u001b[1;33m=\u001b[0m\u001b[0mlevel\u001b[0m\u001b[1;33m,\u001b[0m \u001b[0merrors\u001b[0m\u001b[1;33m=\u001b[0m\u001b[0merrors\u001b[0m\u001b[1;33m)\u001b[0m\u001b[1;33m\u001b[0m\u001b[1;33m\u001b[0m\u001b[0m\n\u001b[0m\u001b[0;32m   4550\u001b[0m \u001b[1;33m\u001b[0m\u001b[0m\n\u001b[0;32m   4551\u001b[0m         \u001b[1;32mif\u001b[0m \u001b[0minplace\u001b[0m\u001b[1;33m:\u001b[0m\u001b[1;33m\u001b[0m\u001b[1;33m\u001b[0m\u001b[0m\n",
      "\u001b[1;32m~\\anaconda3\\lib\\site-packages\\pandas\\core\\generic.py\u001b[0m in \u001b[0;36m_drop_axis\u001b[1;34m(self, labels, axis, level, errors, only_slice)\u001b[0m\n\u001b[0;32m   4589\u001b[0m                 \u001b[0mnew_axis\u001b[0m \u001b[1;33m=\u001b[0m \u001b[0maxis\u001b[0m\u001b[1;33m.\u001b[0m\u001b[0mdrop\u001b[0m\u001b[1;33m(\u001b[0m\u001b[0mlabels\u001b[0m\u001b[1;33m,\u001b[0m \u001b[0mlevel\u001b[0m\u001b[1;33m=\u001b[0m\u001b[0mlevel\u001b[0m\u001b[1;33m,\u001b[0m \u001b[0merrors\u001b[0m\u001b[1;33m=\u001b[0m\u001b[0merrors\u001b[0m\u001b[1;33m)\u001b[0m\u001b[1;33m\u001b[0m\u001b[1;33m\u001b[0m\u001b[0m\n\u001b[0;32m   4590\u001b[0m             \u001b[1;32melse\u001b[0m\u001b[1;33m:\u001b[0m\u001b[1;33m\u001b[0m\u001b[1;33m\u001b[0m\u001b[0m\n\u001b[1;32m-> 4591\u001b[1;33m                 \u001b[0mnew_axis\u001b[0m \u001b[1;33m=\u001b[0m \u001b[0maxis\u001b[0m\u001b[1;33m.\u001b[0m\u001b[0mdrop\u001b[0m\u001b[1;33m(\u001b[0m\u001b[0mlabels\u001b[0m\u001b[1;33m,\u001b[0m \u001b[0merrors\u001b[0m\u001b[1;33m=\u001b[0m\u001b[0merrors\u001b[0m\u001b[1;33m)\u001b[0m\u001b[1;33m\u001b[0m\u001b[1;33m\u001b[0m\u001b[0m\n\u001b[0m\u001b[0;32m   4592\u001b[0m             \u001b[0mindexer\u001b[0m \u001b[1;33m=\u001b[0m \u001b[0maxis\u001b[0m\u001b[1;33m.\u001b[0m\u001b[0mget_indexer\u001b[0m\u001b[1;33m(\u001b[0m\u001b[0mnew_axis\u001b[0m\u001b[1;33m)\u001b[0m\u001b[1;33m\u001b[0m\u001b[1;33m\u001b[0m\u001b[0m\n\u001b[0;32m   4593\u001b[0m \u001b[1;33m\u001b[0m\u001b[0m\n",
      "\u001b[1;32m~\\anaconda3\\lib\\site-packages\\pandas\\core\\indexes\\base.py\u001b[0m in \u001b[0;36mdrop\u001b[1;34m(self, labels, errors)\u001b[0m\n\u001b[0;32m   6694\u001b[0m         \u001b[1;32mif\u001b[0m \u001b[0mmask\u001b[0m\u001b[1;33m.\u001b[0m\u001b[0many\u001b[0m\u001b[1;33m(\u001b[0m\u001b[1;33m)\u001b[0m\u001b[1;33m:\u001b[0m\u001b[1;33m\u001b[0m\u001b[1;33m\u001b[0m\u001b[0m\n\u001b[0;32m   6695\u001b[0m             \u001b[1;32mif\u001b[0m \u001b[0merrors\u001b[0m \u001b[1;33m!=\u001b[0m \u001b[1;34m\"ignore\"\u001b[0m\u001b[1;33m:\u001b[0m\u001b[1;33m\u001b[0m\u001b[1;33m\u001b[0m\u001b[0m\n\u001b[1;32m-> 6696\u001b[1;33m                 \u001b[1;32mraise\u001b[0m \u001b[0mKeyError\u001b[0m\u001b[1;33m(\u001b[0m\u001b[1;34mf\"{list(labels[mask])} not found in axis\"\u001b[0m\u001b[1;33m)\u001b[0m\u001b[1;33m\u001b[0m\u001b[1;33m\u001b[0m\u001b[0m\n\u001b[0m\u001b[0;32m   6697\u001b[0m             \u001b[0mindexer\u001b[0m \u001b[1;33m=\u001b[0m \u001b[0mindexer\u001b[0m\u001b[1;33m[\u001b[0m\u001b[1;33m~\u001b[0m\u001b[0mmask\u001b[0m\u001b[1;33m]\u001b[0m\u001b[1;33m\u001b[0m\u001b[1;33m\u001b[0m\u001b[0m\n\u001b[0;32m   6698\u001b[0m         \u001b[1;32mreturn\u001b[0m \u001b[0mself\u001b[0m\u001b[1;33m.\u001b[0m\u001b[0mdelete\u001b[0m\u001b[1;33m(\u001b[0m\u001b[0mindexer\u001b[0m\u001b[1;33m)\u001b[0m\u001b[1;33m\u001b[0m\u001b[1;33m\u001b[0m\u001b[0m\n",
      "\u001b[1;31mKeyError\u001b[0m: \"['canceled'] not found in axis\""
     ]
    }
   ],
   "source": [
    "concatenated_df.drop('canceled', axis=1, inplace =True,)"
   ]
  },
  {
   "cell_type": "code",
   "execution_count": null,
   "id": "460845bf",
   "metadata": {},
   "outputs": [],
   "source": []
  },
  {
   "cell_type": "markdown",
   "id": "ca9a0aff",
   "metadata": {},
   "source": [
    "lets try to find outliers by plottinng scatter plot for 'is_canceled' column vs all numerical columns"
   ]
  },
  {
   "cell_type": "code",
   "execution_count": 236,
   "id": "2ebd3430",
   "metadata": {},
   "outputs": [
    {
     "data": {
      "text/plain": [
       "Text(0.5, 1.0, 'is_canceled vs leadtime')"
      ]
     },
     "execution_count": 236,
     "metadata": {},
     "output_type": "execute_result"
    },
    {
     "data": {
      "image/png": "[encoded data removed]",
      "text/plain": [
       "<Figure size 432x288 with 1 Axes>"
      ]
     },
     "metadata": {
      "needs_background": "light"
     },
     "output_type": "display_data"
    }
   ],
   "source": [
    "plt.boxplot([numeric_data['is_canceled'], numeric_data['lead_time']])\n",
    "plt.xlabel('is_canceled')\n",
    "plt.ylabel('leadtime')\n",
    "plt.title('is_canceled vs leadtime')"
   ]
  },
  {
   "cell_type": "code",
   "execution_count": 237,
   "id": "d46181ab",
   "metadata": {},
   "outputs": [
    {
     "data": {
      "text/plain": [
       "Index(['is_canceled', 'lead_time', 'arrival_date_year',\n",
       "       'arrival_date_week_number', 'arrival_date_day_of_month',\n",
       "       'stays_in_weekend_nights', 'stays_in_week_nights', 'is_repeated_guest',\n",
       "       'previous_cancellations', 'previous_bookings_not_canceled',\n",
       "       'booking_changes', 'days_in_waiting_list', 'adr',\n",
       "       'required_car_parking_spaces', 'total_of_special_requests', 'is_family',\n",
       "       'total_customer', 'total_nights'],\n",
       "      dtype='object')"
      ]
     },
     "execution_count": 237,
     "metadata": {},
     "output_type": "execute_result"
    }
   ],
   "source": [
    "numeric_data.columns"
   ]
  },
  {
   "cell_type": "code",
   "execution_count": 238,
   "id": "c6082ff1",
   "metadata": {},
   "outputs": [
    {
     "data": {
      "text/plain": [
       "Text(0.5, 1.0, 'is_canceled vs arrival_date_year')"
      ]
     },
     "execution_count": 238,
     "metadata": {},
     "output_type": "execute_result"
    },
    {
     "data": {
      "image/png": "[encoded data removed]",
      "text/plain": [
       "<Figure size 432x288 with 1 Axes>"
      ]
     },
     "metadata": {
      "needs_background": "light"
     },
     "output_type": "display_data"
    }
   ],
   "source": [
    "plt.boxplot([numeric_data['is_canceled'], numeric_data['arrival_date_year']])\n",
    "plt.xlabel('is_canceled')\n",
    "plt.ylabel('arrival_date_year')\n",
    "plt.title('is_canceled vs arrival_date_year')"
   ]
  },
  {
   "cell_type": "code",
   "execution_count": 239,
   "id": "e4955466",
   "metadata": {},
   "outputs": [
    {
     "data": {
      "text/plain": [
       "Text(0.5, 1.0, 'is_canceled vs stays_in_weekend_nights')"
      ]
     },
     "execution_count": 239,
     "metadata": {},
     "output_type": "execute_result"
    },
    {
     "data": {
      "image/png": "[encoded data removed]",
      "text/plain": [
       "<Figure size 432x288 with 1 Axes>"
      ]
     },
     "metadata": {
      "needs_background": "light"
     },
     "output_type": "display_data"
    }
   ],
   "source": [
    "plt.boxplot([numeric_data['is_canceled'], numeric_data['stays_in_weekend_nights']])\n",
    "plt.xlabel('is_canceled')\n",
    "plt.ylabel('arrival_date_year')\n",
    "plt.title('is_canceled vs stays_in_weekend_nights')"
   ]
  },
  {
   "cell_type": "code",
   "execution_count": 240,
   "id": "b80f4ad6",
   "metadata": {},
   "outputs": [
    {
     "data": {
      "text/plain": [
       "Text(0.5, 1.0, 'is_canceled vs stays_in_week_nights')"
      ]
     },
     "execution_count": 240,
     "metadata": {},
     "output_type": "execute_result"
    },
    {
     "data": {
      "image/png": "[encoded data removed]",
      "text/plain": [
       "<Figure size 432x288 with 1 Axes>"
      ]
     },
     "metadata": {
      "needs_background": "light"
     },
     "output_type": "display_data"
    }
   ],
   "source": [
    "plt.boxplot([numeric_data['is_canceled'], numeric_data['stays_in_week_nights']])\n",
    "plt.xlabel('is_canceled')\n",
    "plt.ylabel('stays_in_week_nightsr')\n",
    "plt.title('is_canceled vs stays_in_week_nights')"
   ]
  },
  {
   "cell_type": "code",
   "execution_count": 241,
   "id": "cd83c463",
   "metadata": {},
   "outputs": [
    {
     "data": {
      "text/plain": [
       "Text(0.5, 1.0, 'is_canceled vs adr')"
      ]
     },
     "execution_count": 241,
     "metadata": {},
     "output_type": "execute_result"
    },
    {
     "data": {
      "image/png": "[encoded data removed]",
      "text/plain": [
       "<Figure size 432x288 with 1 Axes>"
      ]
     },
     "metadata": {
      "needs_background": "light"
     },
     "output_type": "display_data"
    }
   ],
   "source": [
    "plt.boxplot([numeric_data['is_canceled'], numeric_data['adr']])\n",
    "plt.xlabel('is_canceled')\n",
    "plt.ylabel('adr')\n",
    "plt.title('is_canceled vs adr')"
   ]
  },
  {
   "cell_type": "code",
   "execution_count": 242,
   "id": "2a9f17c9",
   "metadata": {},
   "outputs": [],
   "source": [
    "def handle_outlier(col):\n",
    "    concatenated_df[col]=np.log1p(concatenated_df[col])"
   ]
  },
  {
   "cell_type": "code",
   "execution_count": 243,
   "id": "536335d1",
   "metadata": {},
   "outputs": [],
   "source": [
    "handle_outlier('lead_time')"
   ]
  },
  {
   "cell_type": "code",
   "execution_count": 244,
   "id": "b850bbcc",
   "metadata": {},
   "outputs": [],
   "source": [
    "handle_outlier('adr')"
   ]
  },
  {
   "cell_type": "code",
   "execution_count": 245,
   "id": "69f7a8d4",
   "metadata": {},
   "outputs": [
    {
     "data": {
      "text/plain": [
       "hotel                             0\n",
       "arrival_date_month                0\n",
       "meal                              0\n",
       "country                           0\n",
       "market_segment                    0\n",
       "distribution_channel              0\n",
       "reserved_room_type                0\n",
       "assigned_room_type                0\n",
       "deposit_type                      0\n",
       "customer_type                     0\n",
       "reservation_status                0\n",
       "reservation_status_date           0\n",
       "weekend_or_weekday                0\n",
       "is_canceled                       0\n",
       "lead_time                         0\n",
       "arrival_date_year                 0\n",
       "arrival_date_week_number          0\n",
       "arrival_date_day_of_month         0\n",
       "stays_in_weekend_nights           0\n",
       "stays_in_week_nights              0\n",
       "is_repeated_guest                 0\n",
       "previous_cancellations            0\n",
       "previous_bookings_not_canceled    0\n",
       "booking_changes                   0\n",
       "days_in_waiting_list              0\n",
       "adr                               1\n",
       "required_car_parking_spaces       0\n",
       "total_of_special_requests         0\n",
       "is_family                         0\n",
       "total_customer                    0\n",
       "total_nights                      0\n",
       "dtype: int64"
      ]
     },
     "execution_count": 245,
     "metadata": {},
     "output_type": "execute_result"
    }
   ],
   "source": [
    "concatenated_df.isna().sum()"
   ]
  },
  {
   "cell_type": "code",
   "execution_count": 246,
   "id": "2691ca14",
   "metadata": {},
   "outputs": [],
   "source": [
    "concatenated_df= concatenated_df.dropna(subset=['adr'])"
   ]
  },
  {
   "cell_type": "code",
   "execution_count": 247,
   "id": "ea948a40",
   "metadata": {},
   "outputs": [
    {
     "data": {
      "text/plain": [
       "hotel                             0\n",
       "arrival_date_month                0\n",
       "meal                              0\n",
       "country                           0\n",
       "market_segment                    0\n",
       "distribution_channel              0\n",
       "reserved_room_type                0\n",
       "assigned_room_type                0\n",
       "deposit_type                      0\n",
       "customer_type                     0\n",
       "reservation_status                0\n",
       "reservation_status_date           0\n",
       "weekend_or_weekday                0\n",
       "is_canceled                       0\n",
       "lead_time                         0\n",
       "arrival_date_year                 0\n",
       "arrival_date_week_number          0\n",
       "arrival_date_day_of_month         0\n",
       "stays_in_weekend_nights           0\n",
       "stays_in_week_nights              0\n",
       "is_repeated_guest                 0\n",
       "previous_cancellations            0\n",
       "previous_bookings_not_canceled    0\n",
       "booking_changes                   0\n",
       "days_in_waiting_list              0\n",
       "adr                               0\n",
       "required_car_parking_spaces       0\n",
       "total_of_special_requests         0\n",
       "is_family                         0\n",
       "total_customer                    0\n",
       "total_nights                      0\n",
       "dtype: int64"
      ]
     },
     "execution_count": 247,
     "metadata": {},
     "output_type": "execute_result"
    }
   ],
   "source": [
    "concatenated_df.isna().sum()"
   ]
  },
  {
   "cell_type": "markdown",
   "id": "bcaa92bc",
   "metadata": {},
   "source": [
    "### Select important Features using Co-relation & univariate analysis"
   ]
  },
  {
   "cell_type": "code",
   "execution_count": 248,
   "id": "46944810",
   "metadata": {},
   "outputs": [],
   "source": [
    "corr=concatenated_df.corr()"
   ]
  },
  {
   "cell_type": "code",
   "execution_count": 249,
   "id": "0b7e071d",
   "metadata": {},
   "outputs": [
    {
     "data": {
      "text/html": [
       "<div>\n",
       "<style scoped>\n",
       "    .dataframe tbody tr th:only-of-type {\n",
       "        vertical-align: middle;\n",
       "    }\n",
       "\n",
       "    .dataframe tbody tr th {\n",
       "        vertical-align: top;\n",
       "    }\n",
       "\n",
       "    .dataframe thead th {\n",
       "        text-align: right;\n",
       "    }\n",
       "</style>\n",
       "<table border=\"1\" class=\"dataframe\">\n",
       "  <thead>\n",
       "    <tr style=\"text-align: right;\">\n",
       "      <th></th>\n",
       "      <th>hotel</th>\n",
       "      <th>arrival_date_month</th>\n",
       "      <th>meal</th>\n",
       "      <th>country</th>\n",
       "      <th>market_segment</th>\n",
       "      <th>distribution_channel</th>\n",
       "      <th>reserved_room_type</th>\n",
       "      <th>assigned_room_type</th>\n",
       "      <th>deposit_type</th>\n",
       "      <th>customer_type</th>\n",
       "      <th>...</th>\n",
       "      <th>previous_cancellations</th>\n",
       "      <th>previous_bookings_not_canceled</th>\n",
       "      <th>booking_changes</th>\n",
       "      <th>days_in_waiting_list</th>\n",
       "      <th>adr</th>\n",
       "      <th>required_car_parking_spaces</th>\n",
       "      <th>total_of_special_requests</th>\n",
       "      <th>is_family</th>\n",
       "      <th>total_customer</th>\n",
       "      <th>total_nights</th>\n",
       "    </tr>\n",
       "  </thead>\n",
       "  <tbody>\n",
       "    <tr>\n",
       "      <th>hotel</th>\n",
       "      <td>1.000000</td>\n",
       "      <td>0.051206</td>\n",
       "      <td>0.061769</td>\n",
       "      <td>-0.040647</td>\n",
       "      <td>0.102600</td>\n",
       "      <td>0.182318</td>\n",
       "      <td>0.197609</td>\n",
       "      <td>0.280680</td>\n",
       "      <td>0.172805</td>\n",
       "      <td>-0.008372</td>\n",
       "      <td>...</td>\n",
       "      <td>-0.012260</td>\n",
       "      <td>-0.004450</td>\n",
       "      <td>-0.076561</td>\n",
       "      <td>0.072728</td>\n",
       "      <td>0.154101</td>\n",
       "      <td>-0.218962</td>\n",
       "      <td>-0.043509</td>\n",
       "      <td>NaN</td>\n",
       "      <td>-0.038772</td>\n",
       "      <td>-0.249728</td>\n",
       "    </tr>\n",
       "    <tr>\n",
       "      <th>arrival_date_month</th>\n",
       "      <td>0.051206</td>\n",
       "      <td>1.000000</td>\n",
       "      <td>-0.010171</td>\n",
       "      <td>-0.052399</td>\n",
       "      <td>0.047991</td>\n",
       "      <td>0.077025</td>\n",
       "      <td>-0.038548</td>\n",
       "      <td>0.015482</td>\n",
       "      <td>0.057638</td>\n",
       "      <td>-0.029665</td>\n",
       "      <td>...</td>\n",
       "      <td>0.008815</td>\n",
       "      <td>-0.021925</td>\n",
       "      <td>-0.011056</td>\n",
       "      <td>0.029234</td>\n",
       "      <td>0.227951</td>\n",
       "      <td>-0.021939</td>\n",
       "      <td>0.002620</td>\n",
       "      <td>NaN</td>\n",
       "      <td>0.078886</td>\n",
       "      <td>0.045575</td>\n",
       "    </tr>\n",
       "    <tr>\n",
       "      <th>meal</th>\n",
       "      <td>0.061769</td>\n",
       "      <td>-0.010171</td>\n",
       "      <td>1.000000</td>\n",
       "      <td>0.022441</td>\n",
       "      <td>-0.025998</td>\n",
       "      <td>-0.025393</td>\n",
       "      <td>0.010007</td>\n",
       "      <td>0.013953</td>\n",
       "      <td>0.047522</td>\n",
       "      <td>0.105777</td>\n",
       "      <td>...</td>\n",
       "      <td>0.103628</td>\n",
       "      <td>0.011090</td>\n",
       "      <td>-0.027180</td>\n",
       "      <td>-0.031566</td>\n",
       "      <td>-0.019868</td>\n",
       "      <td>0.003443</td>\n",
       "      <td>0.006879</td>\n",
       "      <td>NaN</td>\n",
       "      <td>-0.003443</td>\n",
       "      <td>-0.055667</td>\n",
       "    </tr>\n",
       "    <tr>\n",
       "      <th>country</th>\n",
       "      <td>-0.040647</td>\n",
       "      <td>-0.052399</td>\n",
       "      <td>0.022441</td>\n",
       "      <td>1.000000</td>\n",
       "      <td>0.078938</td>\n",
       "      <td>-0.130131</td>\n",
       "      <td>0.153238</td>\n",
       "      <td>0.125462</td>\n",
       "      <td>0.395722</td>\n",
       "      <td>-0.029274</td>\n",
       "      <td>...</td>\n",
       "      <td>0.093270</td>\n",
       "      <td>0.091810</td>\n",
       "      <td>-0.061480</td>\n",
       "      <td>0.067058</td>\n",
       "      <td>-0.160461</td>\n",
       "      <td>0.007620</td>\n",
       "      <td>-0.200866</td>\n",
       "      <td>NaN</td>\n",
       "      <td>-0.117366</td>\n",
       "      <td>-0.160740</td>\n",
       "    </tr>\n",
       "    <tr>\n",
       "      <th>market_segment</th>\n",
       "      <td>0.102600</td>\n",
       "      <td>0.047991</td>\n",
       "      <td>-0.025998</td>\n",
       "      <td>0.078938</td>\n",
       "      <td>1.000000</td>\n",
       "      <td>0.540376</td>\n",
       "      <td>0.183070</td>\n",
       "      <td>0.209403</td>\n",
       "      <td>0.396776</td>\n",
       "      <td>-0.265573</td>\n",
       "      <td>...</td>\n",
       "      <td>0.074736</td>\n",
       "      <td>-0.117546</td>\n",
       "      <td>-0.057621</td>\n",
       "      <td>0.096421</td>\n",
       "      <td>-0.003868</td>\n",
       "      <td>-0.145749</td>\n",
       "      <td>-0.155581</td>\n",
       "      <td>NaN</td>\n",
       "      <td>-0.023955</td>\n",
       "      <td>-0.004530</td>\n",
       "    </tr>\n",
       "    <tr>\n",
       "      <th>distribution_channel</th>\n",
       "      <td>0.182318</td>\n",
       "      <td>0.077025</td>\n",
       "      <td>-0.025393</td>\n",
       "      <td>-0.130131</td>\n",
       "      <td>0.540376</td>\n",
       "      <td>1.000000</td>\n",
       "      <td>0.070647</td>\n",
       "      <td>0.119162</td>\n",
       "      <td>0.115732</td>\n",
       "      <td>-0.023016</td>\n",
       "      <td>...</td>\n",
       "      <td>-0.003847</td>\n",
       "      <td>-0.142672</td>\n",
       "      <td>-0.118383</td>\n",
       "      <td>0.048054</td>\n",
       "      <td>0.126879</td>\n",
       "      <td>-0.146893</td>\n",
       "      <td>0.074785</td>\n",
       "      <td>NaN</td>\n",
       "      <td>0.087641</td>\n",
       "      <td>0.085072</td>\n",
       "    </tr>\n",
       "    <tr>\n",
       "      <th>reserved_room_type</th>\n",
       "      <td>0.197609</td>\n",
       "      <td>-0.038548</td>\n",
       "      <td>0.010007</td>\n",
       "      <td>0.153238</td>\n",
       "      <td>0.183070</td>\n",
       "      <td>0.070647</td>\n",
       "      <td>1.000000</td>\n",
       "      <td>0.722703</td>\n",
       "      <td>0.201841</td>\n",
       "      <td>-0.143124</td>\n",
       "      <td>...</td>\n",
       "      <td>0.049278</td>\n",
       "      <td>0.022541</td>\n",
       "      <td>-0.040433</td>\n",
       "      <td>0.068343</td>\n",
       "      <td>-0.185765</td>\n",
       "      <td>-0.093282</td>\n",
       "      <td>-0.161413</td>\n",
       "      <td>NaN</td>\n",
       "      <td>-0.246297</td>\n",
       "      <td>-0.188744</td>\n",
       "    </tr>\n",
       "    <tr>\n",
       "      <th>assigned_room_type</th>\n",
       "      <td>0.280680</td>\n",
       "      <td>0.015482</td>\n",
       "      <td>0.013953</td>\n",
       "      <td>0.125462</td>\n",
       "      <td>0.209403</td>\n",
       "      <td>0.119162</td>\n",
       "      <td>0.722703</td>\n",
       "      <td>1.000000</td>\n",
       "      <td>0.263324</td>\n",
       "      <td>-0.083977</td>\n",
       "      <td>...</td>\n",
       "      <td>0.063300</td>\n",
       "      <td>-0.003204</td>\n",
       "      <td>-0.096362</td>\n",
       "      <td>0.067079</td>\n",
       "      <td>-0.038394</td>\n",
       "      <td>-0.130990</td>\n",
       "      <td>-0.135278</td>\n",
       "      <td>NaN</td>\n",
       "      <td>-0.228985</td>\n",
       "      <td>-0.103496</td>\n",
       "    </tr>\n",
       "    <tr>\n",
       "      <th>deposit_type</th>\n",
       "      <td>0.172805</td>\n",
       "      <td>0.057638</td>\n",
       "      <td>0.047522</td>\n",
       "      <td>0.395722</td>\n",
       "      <td>0.396776</td>\n",
       "      <td>0.115732</td>\n",
       "      <td>0.201841</td>\n",
       "      <td>0.263324</td>\n",
       "      <td>1.000000</td>\n",
       "      <td>0.122325</td>\n",
       "      <td>...</td>\n",
       "      <td>0.143316</td>\n",
       "      <td>-0.031484</td>\n",
       "      <td>-0.120846</td>\n",
       "      <td>0.120156</td>\n",
       "      <td>-0.015217</td>\n",
       "      <td>-0.095169</td>\n",
       "      <td>-0.268058</td>\n",
       "      <td>NaN</td>\n",
       "      <td>-0.082648</td>\n",
       "      <td>-0.104886</td>\n",
       "    </tr>\n",
       "    <tr>\n",
       "      <th>customer_type</th>\n",
       "      <td>-0.008372</td>\n",
       "      <td>-0.029665</td>\n",
       "      <td>0.105777</td>\n",
       "      <td>-0.029274</td>\n",
       "      <td>-0.265573</td>\n",
       "      <td>-0.023016</td>\n",
       "      <td>-0.143124</td>\n",
       "      <td>-0.083977</td>\n",
       "      <td>0.122325</td>\n",
       "      <td>1.000000</td>\n",
       "      <td>...</td>\n",
       "      <td>-0.021364</td>\n",
       "      <td>0.024735</td>\n",
       "      <td>-0.095489</td>\n",
       "      <td>-0.101868</td>\n",
       "      <td>0.117494</td>\n",
       "      <td>0.061775</td>\n",
       "      <td>0.137189</td>\n",
       "      <td>NaN</td>\n",
       "      <td>0.124376</td>\n",
       "      <td>0.037782</td>\n",
       "    </tr>\n",
       "    <tr>\n",
       "      <th>reservation_status</th>\n",
       "      <td>0.137049</td>\n",
       "      <td>0.069870</td>\n",
       "      <td>0.050580</td>\n",
       "      <td>0.357197</td>\n",
       "      <td>0.266999</td>\n",
       "      <td>0.177082</td>\n",
       "      <td>0.072830</td>\n",
       "      <td>0.201642</td>\n",
       "      <td>0.481561</td>\n",
       "      <td>0.136696</td>\n",
       "      <td>...</td>\n",
       "      <td>0.110147</td>\n",
       "      <td>-0.057355</td>\n",
       "      <td>-0.144808</td>\n",
       "      <td>0.054308</td>\n",
       "      <td>0.081753</td>\n",
       "      <td>-0.195698</td>\n",
       "      <td>-0.234931</td>\n",
       "      <td>NaN</td>\n",
       "      <td>0.044811</td>\n",
       "      <td>0.018579</td>\n",
       "    </tr>\n",
       "    <tr>\n",
       "      <th>reservation_status_date</th>\n",
       "      <td>0.107498</td>\n",
       "      <td>-0.089383</td>\n",
       "      <td>0.038284</td>\n",
       "      <td>0.340369</td>\n",
       "      <td>0.276524</td>\n",
       "      <td>0.081399</td>\n",
       "      <td>0.148842</td>\n",
       "      <td>0.192014</td>\n",
       "      <td>0.555133</td>\n",
       "      <td>0.055987</td>\n",
       "      <td>...</td>\n",
       "      <td>0.183271</td>\n",
       "      <td>-0.007056</td>\n",
       "      <td>-0.111562</td>\n",
       "      <td>0.042958</td>\n",
       "      <td>-0.106117</td>\n",
       "      <td>-0.087897</td>\n",
       "      <td>-0.218870</td>\n",
       "      <td>NaN</td>\n",
       "      <td>-0.057508</td>\n",
       "      <td>-0.063202</td>\n",
       "    </tr>\n",
       "    <tr>\n",
       "      <th>weekend_or_weekday</th>\n",
       "      <td>0.029410</td>\n",
       "      <td>0.015512</td>\n",
       "      <td>-0.002754</td>\n",
       "      <td>-0.060631</td>\n",
       "      <td>0.068693</td>\n",
       "      <td>0.065991</td>\n",
       "      <td>-0.027074</td>\n",
       "      <td>0.057114</td>\n",
       "      <td>0.049018</td>\n",
       "      <td>-0.027126</td>\n",
       "      <td>...</td>\n",
       "      <td>-0.007082</td>\n",
       "      <td>-0.013361</td>\n",
       "      <td>0.003843</td>\n",
       "      <td>0.026655</td>\n",
       "      <td>0.339653</td>\n",
       "      <td>-0.015646</td>\n",
       "      <td>0.008202</td>\n",
       "      <td>NaN</td>\n",
       "      <td>0.044420</td>\n",
       "      <td>0.205772</td>\n",
       "    </tr>\n",
       "    <tr>\n",
       "      <th>is_canceled</th>\n",
       "      <td>0.137049</td>\n",
       "      <td>0.069870</td>\n",
       "      <td>0.050580</td>\n",
       "      <td>0.357197</td>\n",
       "      <td>0.266999</td>\n",
       "      <td>0.177082</td>\n",
       "      <td>0.072830</td>\n",
       "      <td>0.201642</td>\n",
       "      <td>0.481561</td>\n",
       "      <td>0.136696</td>\n",
       "      <td>...</td>\n",
       "      <td>0.110147</td>\n",
       "      <td>-0.057355</td>\n",
       "      <td>-0.144808</td>\n",
       "      <td>0.054308</td>\n",
       "      <td>0.081753</td>\n",
       "      <td>-0.195698</td>\n",
       "      <td>-0.234931</td>\n",
       "      <td>NaN</td>\n",
       "      <td>0.044811</td>\n",
       "      <td>0.018579</td>\n",
       "    </tr>\n",
       "    <tr>\n",
       "      <th>lead_time</th>\n",
       "      <td>0.109927</td>\n",
       "      <td>0.241392</td>\n",
       "      <td>-0.040281</td>\n",
       "      <td>-0.071857</td>\n",
       "      <td>0.397573</td>\n",
       "      <td>0.332647</td>\n",
       "      <td>0.025960</td>\n",
       "      <td>0.142080</td>\n",
       "      <td>0.292619</td>\n",
       "      <td>-0.136000</td>\n",
       "      <td>...</td>\n",
       "      <td>0.056771</td>\n",
       "      <td>-0.121783</td>\n",
       "      <td>0.006466</td>\n",
       "      <td>0.124403</td>\n",
       "      <td>0.139162</td>\n",
       "      <td>-0.148907</td>\n",
       "      <td>-0.029263</td>\n",
       "      <td>NaN</td>\n",
       "      <td>0.136870</td>\n",
       "      <td>0.277964</td>\n",
       "    </tr>\n",
       "    <tr>\n",
       "      <th>arrival_date_year</th>\n",
       "      <td>0.035231</td>\n",
       "      <td>0.015608</td>\n",
       "      <td>-0.024550</td>\n",
       "      <td>-0.180624</td>\n",
       "      <td>-0.064428</td>\n",
       "      <td>0.014357</td>\n",
       "      <td>-0.092337</td>\n",
       "      <td>-0.025269</td>\n",
       "      <td>-0.065976</td>\n",
       "      <td>0.204653</td>\n",
       "      <td>...</td>\n",
       "      <td>-0.119916</td>\n",
       "      <td>0.029219</td>\n",
       "      <td>0.031372</td>\n",
       "      <td>-0.056356</td>\n",
       "      <td>0.159958</td>\n",
       "      <td>-0.013824</td>\n",
       "      <td>0.108671</td>\n",
       "      <td>NaN</td>\n",
       "      <td>0.052804</td>\n",
       "      <td>0.031764</td>\n",
       "    </tr>\n",
       "    <tr>\n",
       "      <th>arrival_date_week_number</th>\n",
       "      <td>0.001218</td>\n",
       "      <td>0.155373</td>\n",
       "      <td>0.015310</td>\n",
       "      <td>0.017297</td>\n",
       "      <td>0.009897</td>\n",
       "      <td>0.010853</td>\n",
       "      <td>0.010083</td>\n",
       "      <td>0.005837</td>\n",
       "      <td>0.007996</td>\n",
       "      <td>-0.067967</td>\n",
       "      <td>...</td>\n",
       "      <td>0.035494</td>\n",
       "      <td>-0.020995</td>\n",
       "      <td>0.006345</td>\n",
       "      <td>0.022677</td>\n",
       "      <td>0.036868</td>\n",
       "      <td>0.001981</td>\n",
       "      <td>0.026185</td>\n",
       "      <td>NaN</td>\n",
       "      <td>0.025748</td>\n",
       "      <td>0.019308</td>\n",
       "    </tr>\n",
       "    <tr>\n",
       "      <th>arrival_date_day_of_month</th>\n",
       "      <td>-0.001668</td>\n",
       "      <td>0.002248</td>\n",
       "      <td>-0.005735</td>\n",
       "      <td>0.001927</td>\n",
       "      <td>0.008175</td>\n",
       "      <td>-0.003699</td>\n",
       "      <td>-0.017019</td>\n",
       "      <td>-0.012018</td>\n",
       "      <td>-0.008974</td>\n",
       "      <td>-0.002096</td>\n",
       "      <td>...</td>\n",
       "      <td>-0.027032</td>\n",
       "      <td>-0.000296</td>\n",
       "      <td>0.011284</td>\n",
       "      <td>0.022527</td>\n",
       "      <td>0.021319</td>\n",
       "      <td>0.008558</td>\n",
       "      <td>0.003051</td>\n",
       "      <td>NaN</td>\n",
       "      <td>0.006653</td>\n",
       "      <td>-0.027527</td>\n",
       "    </tr>\n",
       "    <tr>\n",
       "      <th>stays_in_weekend_nights</th>\n",
       "      <td>-0.187789</td>\n",
       "      <td>0.046583</td>\n",
       "      <td>-0.040093</td>\n",
       "      <td>-0.146444</td>\n",
       "      <td>0.001067</td>\n",
       "      <td>0.079266</td>\n",
       "      <td>-0.146957</td>\n",
       "      <td>-0.082232</td>\n",
       "      <td>-0.114566</td>\n",
       "      <td>0.037088</td>\n",
       "      <td>...</td>\n",
       "      <td>-0.012767</td>\n",
       "      <td>-0.042894</td>\n",
       "      <td>0.050121</td>\n",
       "      <td>-0.054399</td>\n",
       "      <td>0.070310</td>\n",
       "      <td>-0.018515</td>\n",
       "      <td>0.073161</td>\n",
       "      <td>NaN</td>\n",
       "      <td>0.103955</td>\n",
       "      <td>0.760651</td>\n",
       "    </tr>\n",
       "    <tr>\n",
       "      <th>stays_in_week_nights</th>\n",
       "      <td>-0.235941</td>\n",
       "      <td>0.036602</td>\n",
       "      <td>-0.053521</td>\n",
       "      <td>-0.138453</td>\n",
       "      <td>-0.006626</td>\n",
       "      <td>0.072353</td>\n",
       "      <td>-0.175687</td>\n",
       "      <td>-0.095471</td>\n",
       "      <td>-0.080372</td>\n",
       "      <td>0.031145</td>\n",
       "      <td>...</td>\n",
       "      <td>-0.013976</td>\n",
       "      <td>-0.048894</td>\n",
       "      <td>0.079978</td>\n",
       "      <td>-0.002024</td>\n",
       "      <td>0.088722</td>\n",
       "      <td>-0.024931</td>\n",
       "      <td>0.068757</td>\n",
       "      <td>NaN</td>\n",
       "      <td>0.104526</td>\n",
       "      <td>0.940242</td>\n",
       "    </tr>\n",
       "    <tr>\n",
       "      <th>is_repeated_guest</th>\n",
       "      <td>-0.052464</td>\n",
       "      <td>-0.057583</td>\n",
       "      <td>0.009795</td>\n",
       "      <td>0.153379</td>\n",
       "      <td>-0.169451</td>\n",
       "      <td>-0.206668</td>\n",
       "      <td>0.032525</td>\n",
       "      <td>-0.028248</td>\n",
       "      <td>-0.057928</td>\n",
       "      <td>0.002819</td>\n",
       "      <td>...</td>\n",
       "      <td>0.082755</td>\n",
       "      <td>0.420641</td>\n",
       "      <td>0.012914</td>\n",
       "      <td>-0.022055</td>\n",
       "      <td>-0.202744</td>\n",
       "      <td>0.077948</td>\n",
       "      <td>0.013004</td>\n",
       "      <td>NaN</td>\n",
       "      <td>-0.132026</td>\n",
       "      <td>-0.104988</td>\n",
       "    </tr>\n",
       "    <tr>\n",
       "      <th>previous_cancellations</th>\n",
       "      <td>-0.012260</td>\n",
       "      <td>0.008815</td>\n",
       "      <td>0.103628</td>\n",
       "      <td>0.093270</td>\n",
       "      <td>0.074736</td>\n",
       "      <td>-0.003847</td>\n",
       "      <td>0.049278</td>\n",
       "      <td>0.063300</td>\n",
       "      <td>0.143316</td>\n",
       "      <td>-0.021364</td>\n",
       "      <td>...</td>\n",
       "      <td>1.000000</td>\n",
       "      <td>0.152572</td>\n",
       "      <td>-0.027261</td>\n",
       "      <td>0.005941</td>\n",
       "      <td>-0.059319</td>\n",
       "      <td>-0.018541</td>\n",
       "      <td>-0.048486</td>\n",
       "      <td>NaN</td>\n",
       "      <td>-0.020408</td>\n",
       "      <td>-0.015436</td>\n",
       "    </tr>\n",
       "    <tr>\n",
       "      <th>previous_bookings_not_canceled</th>\n",
       "      <td>-0.004450</td>\n",
       "      <td>-0.021925</td>\n",
       "      <td>0.011090</td>\n",
       "      <td>0.091810</td>\n",
       "      <td>-0.117546</td>\n",
       "      <td>-0.142672</td>\n",
       "      <td>0.022541</td>\n",
       "      <td>-0.003204</td>\n",
       "      <td>-0.031484</td>\n",
       "      <td>0.024735</td>\n",
       "      <td>...</td>\n",
       "      <td>0.152572</td>\n",
       "      <td>1.000000</td>\n",
       "      <td>0.011933</td>\n",
       "      <td>-0.009415</td>\n",
       "      <td>-0.092918</td>\n",
       "      <td>0.047509</td>\n",
       "      <td>0.037786</td>\n",
       "      <td>NaN</td>\n",
       "      <td>-0.099681</td>\n",
       "      <td>-0.053309</td>\n",
       "    </tr>\n",
       "    <tr>\n",
       "      <th>booking_changes</th>\n",
       "      <td>-0.076561</td>\n",
       "      <td>-0.011056</td>\n",
       "      <td>-0.027180</td>\n",
       "      <td>-0.061480</td>\n",
       "      <td>-0.057621</td>\n",
       "      <td>-0.118383</td>\n",
       "      <td>-0.040433</td>\n",
       "      <td>-0.096362</td>\n",
       "      <td>-0.120846</td>\n",
       "      <td>-0.095489</td>\n",
       "      <td>...</td>\n",
       "      <td>-0.027261</td>\n",
       "      <td>0.011933</td>\n",
       "      <td>1.000000</td>\n",
       "      <td>-0.011915</td>\n",
       "      <td>-0.018552</td>\n",
       "      <td>0.067495</td>\n",
       "      <td>0.055033</td>\n",
       "      <td>NaN</td>\n",
       "      <td>0.006728</td>\n",
       "      <td>0.079351</td>\n",
       "    </tr>\n",
       "    <tr>\n",
       "      <th>days_in_waiting_list</th>\n",
       "      <td>0.072728</td>\n",
       "      <td>0.029234</td>\n",
       "      <td>-0.031566</td>\n",
       "      <td>0.067058</td>\n",
       "      <td>0.096421</td>\n",
       "      <td>0.048054</td>\n",
       "      <td>0.068343</td>\n",
       "      <td>0.067079</td>\n",
       "      <td>0.120156</td>\n",
       "      <td>-0.101868</td>\n",
       "      <td>...</td>\n",
       "      <td>0.005941</td>\n",
       "      <td>-0.009415</td>\n",
       "      <td>-0.011915</td>\n",
       "      <td>1.000000</td>\n",
       "      <td>-0.014127</td>\n",
       "      <td>-0.030603</td>\n",
       "      <td>-0.082753</td>\n",
       "      <td>NaN</td>\n",
       "      <td>-0.026604</td>\n",
       "      <td>-0.022818</td>\n",
       "    </tr>\n",
       "    <tr>\n",
       "      <th>adr</th>\n",
       "      <td>0.154101</td>\n",
       "      <td>0.227951</td>\n",
       "      <td>-0.019868</td>\n",
       "      <td>-0.160461</td>\n",
       "      <td>-0.003868</td>\n",
       "      <td>0.126879</td>\n",
       "      <td>-0.185765</td>\n",
       "      <td>-0.038394</td>\n",
       "      <td>-0.015217</td>\n",
       "      <td>0.117494</td>\n",
       "      <td>...</td>\n",
       "      <td>-0.059319</td>\n",
       "      <td>-0.092918</td>\n",
       "      <td>-0.018552</td>\n",
       "      <td>-0.014127</td>\n",
       "      <td>1.000000</td>\n",
       "      <td>0.022953</td>\n",
       "      <td>0.111513</td>\n",
       "      <td>NaN</td>\n",
       "      <td>0.238125</td>\n",
       "      <td>0.093787</td>\n",
       "    </tr>\n",
       "    <tr>\n",
       "      <th>required_car_parking_spaces</th>\n",
       "      <td>-0.218962</td>\n",
       "      <td>-0.021939</td>\n",
       "      <td>0.003443</td>\n",
       "      <td>0.007620</td>\n",
       "      <td>-0.145749</td>\n",
       "      <td>-0.146893</td>\n",
       "      <td>-0.093282</td>\n",
       "      <td>-0.130990</td>\n",
       "      <td>-0.095169</td>\n",
       "      <td>0.061775</td>\n",
       "      <td>...</td>\n",
       "      <td>-0.018541</td>\n",
       "      <td>0.047509</td>\n",
       "      <td>0.067495</td>\n",
       "      <td>-0.030603</td>\n",
       "      <td>0.022953</td>\n",
       "      <td>1.000000</td>\n",
       "      <td>0.082725</td>\n",
       "      <td>NaN</td>\n",
       "      <td>0.047833</td>\n",
       "      <td>-0.025868</td>\n",
       "    </tr>\n",
       "    <tr>\n",
       "      <th>total_of_special_requests</th>\n",
       "      <td>-0.043509</td>\n",
       "      <td>0.002620</td>\n",
       "      <td>0.006879</td>\n",
       "      <td>-0.200866</td>\n",
       "      <td>-0.155581</td>\n",
       "      <td>0.074785</td>\n",
       "      <td>-0.161413</td>\n",
       "      <td>-0.135278</td>\n",
       "      <td>-0.268058</td>\n",
       "      <td>0.137189</td>\n",
       "      <td>...</td>\n",
       "      <td>-0.048486</td>\n",
       "      <td>0.037786</td>\n",
       "      <td>0.055033</td>\n",
       "      <td>-0.082753</td>\n",
       "      <td>0.111513</td>\n",
       "      <td>0.082725</td>\n",
       "      <td>1.000000</td>\n",
       "      <td>NaN</td>\n",
       "      <td>0.157318</td>\n",
       "      <td>0.079996</td>\n",
       "    </tr>\n",
       "    <tr>\n",
       "      <th>is_family</th>\n",
       "      <td>NaN</td>\n",
       "      <td>NaN</td>\n",
       "      <td>NaN</td>\n",
       "      <td>NaN</td>\n",
       "      <td>NaN</td>\n",
       "      <td>NaN</td>\n",
       "      <td>NaN</td>\n",
       "      <td>NaN</td>\n",
       "      <td>NaN</td>\n",
       "      <td>NaN</td>\n",
       "      <td>...</td>\n",
       "      <td>NaN</td>\n",
       "      <td>NaN</td>\n",
       "      <td>NaN</td>\n",
       "      <td>NaN</td>\n",
       "      <td>NaN</td>\n",
       "      <td>NaN</td>\n",
       "      <td>NaN</td>\n",
       "      <td>NaN</td>\n",
       "      <td>NaN</td>\n",
       "      <td>NaN</td>\n",
       "    </tr>\n",
       "    <tr>\n",
       "      <th>total_customer</th>\n",
       "      <td>-0.038772</td>\n",
       "      <td>0.078886</td>\n",
       "      <td>-0.003443</td>\n",
       "      <td>-0.117366</td>\n",
       "      <td>-0.023955</td>\n",
       "      <td>0.087641</td>\n",
       "      <td>-0.246297</td>\n",
       "      <td>-0.228985</td>\n",
       "      <td>-0.082648</td>\n",
       "      <td>0.124376</td>\n",
       "      <td>...</td>\n",
       "      <td>-0.020408</td>\n",
       "      <td>-0.099681</td>\n",
       "      <td>0.006728</td>\n",
       "      <td>-0.026604</td>\n",
       "      <td>0.238125</td>\n",
       "      <td>0.047833</td>\n",
       "      <td>0.157318</td>\n",
       "      <td>NaN</td>\n",
       "      <td>1.000000</td>\n",
       "      <td>0.118765</td>\n",
       "    </tr>\n",
       "    <tr>\n",
       "      <th>total_nights</th>\n",
       "      <td>-0.249728</td>\n",
       "      <td>0.045575</td>\n",
       "      <td>-0.055667</td>\n",
       "      <td>-0.160740</td>\n",
       "      <td>-0.004530</td>\n",
       "      <td>0.085072</td>\n",
       "      <td>-0.188744</td>\n",
       "      <td>-0.103496</td>\n",
       "      <td>-0.104886</td>\n",
       "      <td>0.037782</td>\n",
       "      <td>...</td>\n",
       "      <td>-0.015436</td>\n",
       "      <td>-0.053309</td>\n",
       "      <td>0.079351</td>\n",
       "      <td>-0.022818</td>\n",
       "      <td>0.093787</td>\n",
       "      <td>-0.025868</td>\n",
       "      <td>0.079996</td>\n",
       "      <td>NaN</td>\n",
       "      <td>0.118765</td>\n",
       "      <td>1.000000</td>\n",
       "    </tr>\n",
       "  </tbody>\n",
       "</table>\n",
       "<p>31 rows × 31 columns</p>\n",
       "</div>"
      ],
      "text/plain": [
       "                                   hotel  arrival_date_month      meal   \n",
       "hotel                           1.000000            0.051206  0.061769  \\\n",
       "arrival_date_month              0.051206            1.000000 -0.010171   \n",
       "meal                            0.061769           -0.010171  1.000000   \n",
       "country                        -0.040647           -0.052399  0.022441   \n",
       "market_segment                  0.102600            0.047991 -0.025998   \n",
       "distribution_channel            0.182318            0.077025 -0.025393   \n",
       "reserved_room_type              0.197609           -0.038548  0.010007   \n",
       "assigned_room_type              0.280680            0.015482  0.013953   \n",
       "deposit_type                    0.172805            0.057638  0.047522   \n",
       "customer_type                  -0.008372           -0.029665  0.105777   \n",
       "reservation_status              0.137049            0.069870  0.050580   \n",
       "reservation_status_date         0.107498           -0.089383  0.038284   \n",
       "weekend_or_weekday              0.029410            0.015512 -0.002754   \n",
       "is_canceled                     0.137049            0.069870  0.050580   \n",
       "lead_time                       0.109927            0.241392 -0.040281   \n",
       "arrival_date_year               0.035231            0.015608 -0.024550   \n",
       "arrival_date_week_number        0.001218            0.155373  0.015310   \n",
       "arrival_date_day_of_month      -0.001668            0.002248 -0.005735   \n",
       "stays_in_weekend_nights        -0.187789            0.046583 -0.040093   \n",
       "stays_in_week_nights           -0.235941            0.036602 -0.053521   \n",
       "is_repeated_guest              -0.052464           -0.057583  0.009795   \n",
       "previous_cancellations         -0.012260            0.008815  0.103628   \n",
       "previous_bookings_not_canceled -0.004450           -0.021925  0.011090   \n",
       "booking_changes                -0.076561           -0.011056 -0.027180   \n",
       "days_in_waiting_list            0.072728            0.029234 -0.031566   \n",
       "adr                             0.154101            0.227951 -0.019868   \n",
       "required_car_parking_spaces    -0.218962           -0.021939  0.003443   \n",
       "total_of_special_requests      -0.043509            0.002620  0.006879   \n",
       "is_family                            NaN                 NaN       NaN   \n",
       "total_customer                 -0.038772            0.078886 -0.003443   \n",
       "total_nights                   -0.249728            0.045575 -0.055667   \n",
       "\n",
       "                                 country  market_segment   \n",
       "hotel                          -0.040647        0.102600  \\\n",
       "arrival_date_month             -0.052399        0.047991   \n",
       "meal                            0.022441       -0.025998   \n",
       "country                         1.000000        0.078938   \n",
       "market_segment                  0.078938        1.000000   \n",
       "distribution_channel           -0.130131        0.540376   \n",
       "reserved_room_type              0.153238        0.183070   \n",
       "assigned_room_type              0.125462        0.209403   \n",
       "deposit_type                    0.395722        0.396776   \n",
       "customer_type                  -0.029274       -0.265573   \n",
       "reservation_status              0.357197        0.266999   \n",
       "reservation_status_date         0.340369        0.276524   \n",
       "weekend_or_weekday             -0.060631        0.068693   \n",
       "is_canceled                     0.357197        0.266999   \n",
       "lead_time                      -0.071857        0.397573   \n",
       "arrival_date_year              -0.180624       -0.064428   \n",
       "arrival_date_week_number        0.017297        0.009897   \n",
       "arrival_date_day_of_month       0.001927        0.008175   \n",
       "stays_in_weekend_nights        -0.146444        0.001067   \n",
       "stays_in_week_nights           -0.138453       -0.006626   \n",
       "is_repeated_guest               0.153379       -0.169451   \n",
       "previous_cancellations          0.093270        0.074736   \n",
       "previous_bookings_not_canceled  0.091810       -0.117546   \n",
       "booking_changes                -0.061480       -0.057621   \n",
       "days_in_waiting_list            0.067058        0.096421   \n",
       "adr                            -0.160461       -0.003868   \n",
       "required_car_parking_spaces     0.007620       -0.145749   \n",
       "total_of_special_requests      -0.200866       -0.155581   \n",
       "is_family                            NaN             NaN   \n",
       "total_customer                 -0.117366       -0.023955   \n",
       "total_nights                   -0.160740       -0.004530   \n",
       "\n",
       "                                distribution_channel  reserved_room_type   \n",
       "hotel                                       0.182318            0.197609  \\\n",
       "arrival_date_month                          0.077025           -0.038548   \n",
       "meal                                       -0.025393            0.010007   \n",
       "country                                    -0.130131            0.153238   \n",
       "market_segment                              0.540376            0.183070   \n",
       "distribution_channel                        1.000000            0.070647   \n",
       "reserved_room_type                          0.070647            1.000000   \n",
       "assigned_room_type                          0.119162            0.722703   \n",
       "deposit_type                                0.115732            0.201841   \n",
       "customer_type                              -0.023016           -0.143124   \n",
       "reservation_status                          0.177082            0.072830   \n",
       "reservation_status_date                     0.081399            0.148842   \n",
       "weekend_or_weekday                          0.065991           -0.027074   \n",
       "is_canceled                                 0.177082            0.072830   \n",
       "lead_time                                   0.332647            0.025960   \n",
       "arrival_date_year                           0.014357           -0.092337   \n",
       "arrival_date_week_number                    0.010853            0.010083   \n",
       "arrival_date_day_of_month                  -0.003699           -0.017019   \n",
       "stays_in_weekend_nights                     0.079266           -0.146957   \n",
       "stays_in_week_nights                        0.072353           -0.175687   \n",
       "is_repeated_guest                          -0.206668            0.032525   \n",
       "previous_cancellations                     -0.003847            0.049278   \n",
       "previous_bookings_not_canceled             -0.142672            0.022541   \n",
       "booking_changes                            -0.118383           -0.040433   \n",
       "days_in_waiting_list                        0.048054            0.068343   \n",
       "adr                                         0.126879           -0.185765   \n",
       "required_car_parking_spaces                -0.146893           -0.093282   \n",
       "total_of_special_requests                   0.074785           -0.161413   \n",
       "is_family                                        NaN                 NaN   \n",
       "total_customer                              0.087641           -0.246297   \n",
       "total_nights                                0.085072           -0.188744   \n",
       "\n",
       "                                assigned_room_type  deposit_type   \n",
       "hotel                                     0.280680      0.172805  \\\n",
       "arrival_date_month                        0.015482      0.057638   \n",
       "meal                                      0.013953      0.047522   \n",
       "country                                   0.125462      0.395722   \n",
       "market_segment                            0.209403      0.396776   \n",
       "distribution_channel                      0.119162      0.115732   \n",
       "reserved_room_type                        0.722703      0.201841   \n",
       "assigned_room_type                        1.000000      0.263324   \n",
       "deposit_type                              0.263324      1.000000   \n",
       "customer_type                            -0.083977      0.122325   \n",
       "reservation_status                        0.201642      0.481561   \n",
       "reservation_status_date                   0.192014      0.555133   \n",
       "weekend_or_weekday                        0.057114      0.049018   \n",
       "is_canceled                               0.201642      0.481561   \n",
       "lead_time                                 0.142080      0.292619   \n",
       "arrival_date_year                        -0.025269     -0.065976   \n",
       "arrival_date_week_number                  0.005837      0.007996   \n",
       "arrival_date_day_of_month                -0.012018     -0.008974   \n",
       "stays_in_weekend_nights                  -0.082232     -0.114566   \n",
       "stays_in_week_nights                     -0.095471     -0.080372   \n",
       "is_repeated_guest                        -0.028248     -0.057928   \n",
       "previous_cancellations                    0.063300      0.143316   \n",
       "previous_bookings_not_canceled           -0.003204     -0.031484   \n",
       "booking_changes                          -0.096362     -0.120846   \n",
       "days_in_waiting_list                      0.067079      0.120156   \n",
       "adr                                      -0.038394     -0.015217   \n",
       "required_car_parking_spaces              -0.130990     -0.095169   \n",
       "total_of_special_requests                -0.135278     -0.268058   \n",
       "is_family                                      NaN           NaN   \n",
       "total_customer                           -0.228985     -0.082648   \n",
       "total_nights                             -0.103496     -0.104886   \n",
       "\n",
       "                                customer_type  ...  previous_cancellations   \n",
       "hotel                               -0.008372  ...               -0.012260  \\\n",
       "arrival_date_month                  -0.029665  ...                0.008815   \n",
       "meal                                 0.105777  ...                0.103628   \n",
       "country                             -0.029274  ...                0.093270   \n",
       "market_segment                      -0.265573  ...                0.074736   \n",
       "distribution_channel                -0.023016  ...               -0.003847   \n",
       "reserved_room_type                  -0.143124  ...                0.049278   \n",
       "assigned_room_type                  -0.083977  ...                0.063300   \n",
       "deposit_type                         0.122325  ...                0.143316   \n",
       "customer_type                        1.000000  ...               -0.021364   \n",
       "reservation_status                   0.136696  ...                0.110147   \n",
       "reservation_status_date              0.055987  ...                0.183271   \n",
       "weekend_or_weekday                  -0.027126  ...               -0.007082   \n",
       "is_canceled                          0.136696  ...                0.110147   \n",
       "lead_time                           -0.136000  ...                0.056771   \n",
       "arrival_date_year                    0.204653  ...               -0.119916   \n",
       "arrival_date_week_number            -0.067967  ...                0.035494   \n",
       "arrival_date_day_of_month           -0.002096  ...               -0.027032   \n",
       "stays_in_weekend_nights              0.037088  ...               -0.012767   \n",
       "stays_in_week_nights                 0.031145  ...               -0.013976   \n",
       "is_repeated_guest                    0.002819  ...                0.082755   \n",
       "previous_cancellations              -0.021364  ...                1.000000   \n",
       "previous_bookings_not_canceled       0.024735  ...                0.152572   \n",
       "booking_changes                     -0.095489  ...               -0.027261   \n",
       "days_in_waiting_list                -0.101868  ...                0.005941   \n",
       "adr                                  0.117494  ...               -0.059319   \n",
       "required_car_parking_spaces          0.061775  ...               -0.018541   \n",
       "total_of_special_requests            0.137189  ...               -0.048486   \n",
       "is_family                                 NaN  ...                     NaN   \n",
       "total_customer                       0.124376  ...               -0.020408   \n",
       "total_nights                         0.037782  ...               -0.015436   \n",
       "\n",
       "                                previous_bookings_not_canceled   \n",
       "hotel                                                -0.004450  \\\n",
       "arrival_date_month                                   -0.021925   \n",
       "meal                                                  0.011090   \n",
       "country                                               0.091810   \n",
       "market_segment                                       -0.117546   \n",
       "distribution_channel                                 -0.142672   \n",
       "reserved_room_type                                    0.022541   \n",
       "assigned_room_type                                   -0.003204   \n",
       "deposit_type                                         -0.031484   \n",
       "customer_type                                         0.024735   \n",
       "reservation_status                                   -0.057355   \n",
       "reservation_status_date                              -0.007056   \n",
       "weekend_or_weekday                                   -0.013361   \n",
       "is_canceled                                          -0.057355   \n",
       "lead_time                                            -0.121783   \n",
       "arrival_date_year                                     0.029219   \n",
       "arrival_date_week_number                             -0.020995   \n",
       "arrival_date_day_of_month                            -0.000296   \n",
       "stays_in_weekend_nights                              -0.042894   \n",
       "stays_in_week_nights                                 -0.048894   \n",
       "is_repeated_guest                                     0.420641   \n",
       "previous_cancellations                                0.152572   \n",
       "previous_bookings_not_canceled                        1.000000   \n",
       "booking_changes                                       0.011933   \n",
       "days_in_waiting_list                                 -0.009415   \n",
       "adr                                                  -0.092918   \n",
       "required_car_parking_spaces                           0.047509   \n",
       "total_of_special_requests                             0.037786   \n",
       "is_family                                                  NaN   \n",
       "total_customer                                       -0.099681   \n",
       "total_nights                                         -0.053309   \n",
       "\n",
       "                                booking_changes  days_in_waiting_list   \n",
       "hotel                                 -0.076561              0.072728  \\\n",
       "arrival_date_month                    -0.011056              0.029234   \n",
       "meal                                  -0.027180             -0.031566   \n",
       "country                               -0.061480              0.067058   \n",
       "market_segment                        -0.057621              0.096421   \n",
       "distribution_channel                  -0.118383              0.048054   \n",
       "reserved_room_type                    -0.040433              0.068343   \n",
       "assigned_room_type                    -0.096362              0.067079   \n",
       "deposit_type                          -0.120846              0.120156   \n",
       "customer_type                         -0.095489             -0.101868   \n",
       "reservation_status                    -0.144808              0.054308   \n",
       "reservation_status_date               -0.111562              0.042958   \n",
       "weekend_or_weekday                     0.003843              0.026655   \n",
       "is_canceled                           -0.144808              0.054308   \n",
       "lead_time                              0.006466              0.124403   \n",
       "arrival_date_year                      0.031372             -0.056356   \n",
       "arrival_date_week_number               0.006345              0.022677   \n",
       "arrival_date_day_of_month              0.011284              0.022527   \n",
       "stays_in_weekend_nights                0.050121             -0.054399   \n",
       "stays_in_week_nights                   0.079978             -0.002024   \n",
       "is_repeated_guest                      0.012914             -0.022055   \n",
       "previous_cancellations                -0.027261              0.005941   \n",
       "previous_bookings_not_canceled         0.011933             -0.009415   \n",
       "booking_changes                        1.000000             -0.011915   \n",
       "days_in_waiting_list                  -0.011915              1.000000   \n",
       "adr                                   -0.018552             -0.014127   \n",
       "required_car_parking_spaces            0.067495             -0.030603   \n",
       "total_of_special_requests              0.055033             -0.082753   \n",
       "is_family                                   NaN                   NaN   \n",
       "total_customer                         0.006728             -0.026604   \n",
       "total_nights                           0.079351             -0.022818   \n",
       "\n",
       "                                     adr  required_car_parking_spaces   \n",
       "hotel                           0.154101                    -0.218962  \\\n",
       "arrival_date_month              0.227951                    -0.021939   \n",
       "meal                           -0.019868                     0.003443   \n",
       "country                        -0.160461                     0.007620   \n",
       "market_segment                 -0.003868                    -0.145749   \n",
       "distribution_channel            0.126879                    -0.146893   \n",
       "reserved_room_type             -0.185765                    -0.093282   \n",
       "assigned_room_type             -0.038394                    -0.130990   \n",
       "deposit_type                   -0.015217                    -0.095169   \n",
       "customer_type                   0.117494                     0.061775   \n",
       "reservation_status              0.081753                    -0.195698   \n",
       "reservation_status_date        -0.106117                    -0.087897   \n",
       "weekend_or_weekday              0.339653                    -0.015646   \n",
       "is_canceled                     0.081753                    -0.195698   \n",
       "lead_time                       0.139162                    -0.148907   \n",
       "arrival_date_year               0.159958                    -0.013824   \n",
       "arrival_date_week_number        0.036868                     0.001981   \n",
       "arrival_date_day_of_month       0.021319                     0.008558   \n",
       "stays_in_weekend_nights         0.070310                    -0.018515   \n",
       "stays_in_week_nights            0.088722                    -0.024931   \n",
       "is_repeated_guest              -0.202744                     0.077948   \n",
       "previous_cancellations         -0.059319                    -0.018541   \n",
       "previous_bookings_not_canceled -0.092918                     0.047509   \n",
       "booking_changes                -0.018552                     0.067495   \n",
       "days_in_waiting_list           -0.014127                    -0.030603   \n",
       "adr                             1.000000                     0.022953   \n",
       "required_car_parking_spaces     0.022953                     1.000000   \n",
       "total_of_special_requests       0.111513                     0.082725   \n",
       "is_family                            NaN                          NaN   \n",
       "total_customer                  0.238125                     0.047833   \n",
       "total_nights                    0.093787                    -0.025868   \n",
       "\n",
       "                                total_of_special_requests  is_family   \n",
       "hotel                                           -0.043509        NaN  \\\n",
       "arrival_date_month                               0.002620        NaN   \n",
       "meal                                             0.006879        NaN   \n",
       "country                                         -0.200866        NaN   \n",
       "market_segment                                  -0.155581        NaN   \n",
       "distribution_channel                             0.074785        NaN   \n",
       "reserved_room_type                              -0.161413        NaN   \n",
       "assigned_room_type                              -0.135278        NaN   \n",
       "deposit_type                                    -0.268058        NaN   \n",
       "customer_type                                    0.137189        NaN   \n",
       "reservation_status                              -0.234931        NaN   \n",
       "reservation_status_date                         -0.218870        NaN   \n",
       "weekend_or_weekday                               0.008202        NaN   \n",
       "is_canceled                                     -0.234931        NaN   \n",
       "lead_time                                       -0.029263        NaN   \n",
       "arrival_date_year                                0.108671        NaN   \n",
       "arrival_date_week_number                         0.026185        NaN   \n",
       "arrival_date_day_of_month                        0.003051        NaN   \n",
       "stays_in_weekend_nights                          0.073161        NaN   \n",
       "stays_in_week_nights                             0.068757        NaN   \n",
       "is_repeated_guest                                0.013004        NaN   \n",
       "previous_cancellations                          -0.048486        NaN   \n",
       "previous_bookings_not_canceled                   0.037786        NaN   \n",
       "booking_changes                                  0.055033        NaN   \n",
       "days_in_waiting_list                            -0.082753        NaN   \n",
       "adr                                              0.111513        NaN   \n",
       "required_car_parking_spaces                      0.082725        NaN   \n",
       "total_of_special_requests                        1.000000        NaN   \n",
       "is_family                                             NaN        NaN   \n",
       "total_customer                                   0.157318        NaN   \n",
       "total_nights                                     0.079996        NaN   \n",
       "\n",
       "                                total_customer  total_nights  \n",
       "hotel                                -0.038772     -0.249728  \n",
       "arrival_date_month                    0.078886      0.045575  \n",
       "meal                                 -0.003443     -0.055667  \n",
       "country                              -0.117366     -0.160740  \n",
       "market_segment                       -0.023955     -0.004530  \n",
       "distribution_channel                  0.087641      0.085072  \n",
       "reserved_room_type                   -0.246297     -0.188744  \n",
       "assigned_room_type                   -0.228985     -0.103496  \n",
       "deposit_type                         -0.082648     -0.104886  \n",
       "customer_type                         0.124376      0.037782  \n",
       "reservation_status                    0.044811      0.018579  \n",
       "reservation_status_date              -0.057508     -0.063202  \n",
       "weekend_or_weekday                    0.044420      0.205772  \n",
       "is_canceled                           0.044811      0.018579  \n",
       "lead_time                             0.136870      0.277964  \n",
       "arrival_date_year                     0.052804      0.031764  \n",
       "arrival_date_week_number              0.025748      0.019308  \n",
       "arrival_date_day_of_month             0.006653     -0.027527  \n",
       "stays_in_weekend_nights               0.103955      0.760651  \n",
       "stays_in_week_nights                  0.104526      0.940242  \n",
       "is_repeated_guest                    -0.132026     -0.104988  \n",
       "previous_cancellations               -0.020408     -0.015436  \n",
       "previous_bookings_not_canceled       -0.099681     -0.053309  \n",
       "booking_changes                       0.006728      0.079351  \n",
       "days_in_waiting_list                 -0.026604     -0.022818  \n",
       "adr                                   0.238125      0.093787  \n",
       "required_car_parking_spaces           0.047833     -0.025868  \n",
       "total_of_special_requests             0.157318      0.079996  \n",
       "is_family                                  NaN           NaN  \n",
       "total_customer                        1.000000      0.118765  \n",
       "total_nights                          0.118765      1.000000  \n",
       "\n",
       "[31 rows x 31 columns]"
      ]
     },
     "execution_count": 249,
     "metadata": {},
     "output_type": "execute_result"
    }
   ],
   "source": [
    "corr"
   ]
  },
  {
   "cell_type": "code",
   "execution_count": 251,
   "id": "e262759a",
   "metadata": {
    "scrolled": true
   },
   "outputs": [
    {
     "data": {
      "text/plain": [
       "reservation_status                1.000000\n",
       "is_canceled                       1.000000\n",
       "reservation_status_date           0.488319\n",
       "deposit_type                      0.481561\n",
       "country                           0.357197\n",
       "lead_time                         0.320180\n",
       "market_segment                    0.266999\n",
       "assigned_room_type                0.201642\n",
       "distribution_channel              0.177082\n",
       "hotel                             0.137049\n",
       "customer_type                     0.136696\n",
       "previous_cancellations            0.110147\n",
       "adr                               0.081753\n",
       "weekend_or_weekday                0.073191\n",
       "reserved_room_type                0.072830\n",
       "arrival_date_month                0.069870\n",
       "days_in_waiting_list              0.054308\n",
       "meal                              0.050580\n",
       "total_customer                    0.044811\n",
       "stays_in_week_nights              0.025561\n",
       "total_nights                      0.018579\n",
       "arrival_date_year                 0.016702\n",
       "arrival_date_week_number          0.008291\n",
       "stays_in_weekend_nights          -0.001296\n",
       "arrival_date_day_of_month        -0.005910\n",
       "previous_bookings_not_canceled   -0.057355\n",
       "is_repeated_guest                -0.083715\n",
       "booking_changes                  -0.144808\n",
       "required_car_parking_spaces      -0.195698\n",
       "total_of_special_requests        -0.234931\n",
       "is_family                              NaN\n",
       "Name: is_canceled, dtype: float64"
      ]
     },
     "execution_count": 251,
     "metadata": {},
     "output_type": "execute_result"
    }
   ],
   "source": [
    "corr['is_canceled'].sort_values(ascending=False)"
   ]
  },
  {
   "cell_type": "code",
   "execution_count": 253,
   "id": "198c482e",
   "metadata": {},
   "outputs": [],
   "source": [
    "concatenated_df.drop(['reservation_status','reservation_status_date','deposit_type','is_family','total_of_special_requests','required_car_parking_spaces','booking_changes','is_repeated_guest','previous_bookings_not_canceled','arrival_date_day_of_month','arrival_date_day_of_month','stays_in_weekend_nights','arrival_date_week_number'], axis=1,inplace=True)"
   ]
  },
  {
   "cell_type": "code",
   "execution_count": 256,
   "id": "e68aa161",
   "metadata": {},
   "outputs": [
    {
     "data": {
      "text/plain": [
       "(119205, 19)"
      ]
     },
     "execution_count": 256,
     "metadata": {},
     "output_type": "execute_result"
    }
   ],
   "source": [
    "concatenated_df.shape"
   ]
  },
  {
   "cell_type": "markdown",
   "id": "737144ee",
   "metadata": {},
   "source": [
    "### Feature selection"
   ]
  },
  {
   "cell_type": "code",
   "execution_count": 257,
   "id": "79d658bd",
   "metadata": {},
   "outputs": [
    {
     "data": {
      "text/plain": [
       "hotel                     0\n",
       "arrival_date_month        0\n",
       "meal                      0\n",
       "country                   0\n",
       "market_segment            0\n",
       "distribution_channel      0\n",
       "reserved_room_type        0\n",
       "assigned_room_type        0\n",
       "customer_type             0\n",
       "weekend_or_weekday        0\n",
       "is_canceled               0\n",
       "lead_time                 0\n",
       "arrival_date_year         0\n",
       "stays_in_week_nights      0\n",
       "previous_cancellations    0\n",
       "days_in_waiting_list      0\n",
       "adr                       0\n",
       "total_customer            0\n",
       "total_nights              0\n",
       "dtype: int64"
      ]
     },
     "execution_count": 257,
     "metadata": {},
     "output_type": "execute_result"
    }
   ],
   "source": [
    "concatenated_df.isna().sum()"
   ]
  },
  {
   "cell_type": "code",
   "execution_count": 258,
   "id": "f4fcd30c",
   "metadata": {},
   "outputs": [],
   "source": [
    "## separate dependent & independent features"
   ]
  },
  {
   "cell_type": "code",
   "execution_count": 259,
   "id": "d398db50",
   "metadata": {},
   "outputs": [],
   "source": [
    "x=concatenated_df.drop('is_canceled',axis=1)"
   ]
  },
  {
   "cell_type": "code",
   "execution_count": 260,
   "id": "9277a6e6",
   "metadata": {},
   "outputs": [],
   "source": [
    "y=concatenated_df['is_canceled']"
   ]
  },
  {
   "cell_type": "code",
   "execution_count": 261,
   "id": "b44652ca",
   "metadata": {},
   "outputs": [],
   "source": [
    "from sklearn.linear_model import Lasso\n",
    "from sklearn.feature_selection import SelectFromModel"
   ]
  },
  {
   "cell_type": "code",
   "execution_count": 262,
   "id": "f794e038",
   "metadata": {},
   "outputs": [],
   "source": [
    "##Lasso(alpha=0.005)\n",
    "# select a suitable alpha (equivalent of penalty).\n",
    "# The bigger the alpha the less features that will be selected."
   ]
  },
  {
   "cell_type": "code",
   "execution_count": 263,
   "id": "6108e62b",
   "metadata": {},
   "outputs": [],
   "source": [
    "feature_sel_model=SelectFromModel(Lasso(alpha=0.005))"
   ]
  },
  {
   "cell_type": "code",
   "execution_count": 264,
   "id": "b94c259e",
   "metadata": {},
   "outputs": [
    {
     "data": {
      "text/plain": [
       "SelectFromModel(estimator=Lasso(alpha=0.005))"
      ]
     },
     "execution_count": 264,
     "metadata": {},
     "output_type": "execute_result"
    }
   ],
   "source": [
    "feature_sel_model.fit(x,y)"
   ]
  },
  {
   "cell_type": "code",
   "execution_count": 265,
   "id": "96a6e7d7",
   "metadata": {},
   "outputs": [
    {
     "data": {
      "text/plain": [
       "array([False, False, False,  True,  True, False, False,  True,  True,\n",
       "       False,  True,  True, False,  True,  True,  True,  True,  True])"
      ]
     },
     "execution_count": 265,
     "metadata": {},
     "output_type": "execute_result"
    }
   ],
   "source": [
    "feature_sel_model.get_support()"
   ]
  },
  {
   "cell_type": "code",
   "execution_count": 266,
   "id": "b560011f",
   "metadata": {},
   "outputs": [],
   "source": [
    "cols=x.columns"
   ]
  },
  {
   "cell_type": "code",
   "execution_count": 267,
   "id": "d359518a",
   "metadata": {},
   "outputs": [],
   "source": [
    "# let's print the number of selected features\n",
    "\n",
    "selected_feature=cols[feature_sel_model.get_support()]"
   ]
  },
  {
   "cell_type": "markdown",
   "id": "4fb119f2",
   "metadata": {},
   "source": [
    "# selected_feature"
   ]
  },
  {
   "cell_type": "code",
   "execution_count": 269,
   "id": "77d5ba9d",
   "metadata": {},
   "outputs": [],
   "source": [
    "x=x[selected_feature]"
   ]
  },
  {
   "cell_type": "code",
   "execution_count": 270,
   "id": "fac7e890",
   "metadata": {},
   "outputs": [
    {
     "data": {
      "text/plain": [
       "0         0\n",
       "1         0\n",
       "2         0\n",
       "3         0\n",
       "4         0\n",
       "         ..\n",
       "119385    0\n",
       "119386    0\n",
       "119387    0\n",
       "119388    0\n",
       "119389    0\n",
       "Name: is_canceled, Length: 119205, dtype: int64"
      ]
     },
     "execution_count": 270,
     "metadata": {},
     "output_type": "execute_result"
    }
   ],
   "source": [
    "y"
   ]
  },
  {
   "cell_type": "markdown",
   "id": "0be7d6f6",
   "metadata": {},
   "source": [
    "### build the ML model"
   ]
  },
  {
   "cell_type": "code",
   "execution_count": 271,
   "id": "47732320",
   "metadata": {},
   "outputs": [],
   "source": [
    "from sklearn.model_selection import train_test_split"
   ]
  },
  {
   "cell_type": "code",
   "execution_count": 272,
   "id": "7a8c80ab",
   "metadata": {},
   "outputs": [],
   "source": [
    "X_train, X_test, y_train, y_test = train_test_split( x, y, test_size=0.25)"
   ]
  },
  {
   "cell_type": "code",
   "execution_count": 273,
   "id": "5348157b",
   "metadata": {},
   "outputs": [],
   "source": [
    "from sklearn.linear_model import LogisticRegression"
   ]
  },
  {
   "cell_type": "code",
   "execution_count": 274,
   "id": "cb371f9b",
   "metadata": {},
   "outputs": [],
   "source": [
    "logreg=LogisticRegression()"
   ]
  },
  {
   "cell_type": "code",
   "execution_count": 275,
   "id": "1e38f13b",
   "metadata": {},
   "outputs": [
    {
     "data": {
      "text/plain": [
       "LogisticRegression()"
      ]
     },
     "execution_count": 275,
     "metadata": {},
     "output_type": "execute_result"
    }
   ],
   "source": [
    "logreg.fit(X_train,y_train)"
   ]
  },
  {
   "cell_type": "code",
   "execution_count": 276,
   "id": "7e1a89b6",
   "metadata": {},
   "outputs": [],
   "source": [
    "pred=logreg.predict(X_test)"
   ]
  },
  {
   "cell_type": "code",
   "execution_count": 277,
   "id": "d82d2dc3",
   "metadata": {},
   "outputs": [
    {
     "data": {
      "text/plain": [
       "array([0, 0, 0, ..., 0, 1, 0], dtype=int64)"
      ]
     },
     "execution_count": 277,
     "metadata": {},
     "output_type": "execute_result"
    }
   ],
   "source": [
    "pred"
   ]
  },
  {
   "cell_type": "code",
   "execution_count": 278,
   "id": "ef92b8dd",
   "metadata": {},
   "outputs": [],
   "source": [
    "from sklearn.metrics import confusion_matrix"
   ]
  },
  {
   "cell_type": "code",
   "execution_count": 279,
   "id": "d9058663",
   "metadata": {},
   "outputs": [
    {
     "data": {
      "text/plain": [
       "array([[16693,  2028],\n",
       "       [ 4831,  6250]], dtype=int64)"
      ]
     },
     "execution_count": 279,
     "metadata": {},
     "output_type": "execute_result"
    }
   ],
   "source": [
    "confusion_matrix(y_test,pred)"
   ]
  },
  {
   "cell_type": "code",
   "execution_count": 280,
   "id": "8461578e",
   "metadata": {},
   "outputs": [],
   "source": [
    "from sklearn.metrics import accuracy_score"
   ]
  },
  {
   "cell_type": "code",
   "execution_count": 281,
   "id": "604ca991",
   "metadata": {},
   "outputs": [
    {
     "data": {
      "text/plain": [
       "0.7698476612307898"
      ]
     },
     "execution_count": 281,
     "metadata": {},
     "output_type": "execute_result"
    }
   ],
   "source": [
    "accuracy_score(y_test,pred)"
   ]
  },
  {
   "cell_type": "code",
   "execution_count": null,
   "id": "e8f68e6c",
   "metadata": {},
   "outputs": [],
   "source": []
  },
  {
   "cell_type": "code",
   "execution_count": null,
   "id": "b27625ac",
   "metadata": {},
   "outputs": [],
   "source": []
  },
  {
   "cell_type": "code",
   "execution_count": null,
   "id": "978d3e83",
   "metadata": {},
   "outputs": [],
   "source": []
  },
  {
   "cell_type": "code",
   "execution_count": null,
   "id": "b9054f68",
   "metadata": {},
   "outputs": [],
   "source": []
  },
  {
   "cell_type": "code",
   "execution_count": null,
   "id": "77688896",
   "metadata": {},
   "outputs": [],
   "source": []
  },
  {
   "cell_type": "code",
   "execution_count": 282,
   "id": "b817cf85",
   "metadata": {},
   "outputs": [],
   "source": [
    "def handle_outlier(col):\n",
    "    df4[col]=np.log1p(df4[col])"
   ]
  },
  {
   "cell_type": "code",
   "execution_count": 283,
   "id": "cf3bca5d",
   "metadata": {},
   "outputs": [],
   "source": [
    "handle_outlier('adr')"
   ]
  },
  {
   "cell_type": "code",
   "execution_count": 284,
   "id": "2c7dc646",
   "metadata": {},
   "outputs": [
    {
     "data": {
      "text/plain": [
       "hotel                             0\n",
       "arrival_date_month                0\n",
       "meal                              0\n",
       "country                           0\n",
       "market_segment                    0\n",
       "distribution_channel              0\n",
       "reserved_room_type                0\n",
       "assigned_room_type                0\n",
       "deposit_type                      0\n",
       "customer_type                     0\n",
       "reservation_status                0\n",
       "reservation_status_date           0\n",
       "weekend_or_weekday                0\n",
       "is_canceled                       0\n",
       "lead_time                         0\n",
       "arrival_date_year                 0\n",
       "arrival_date_week_number          0\n",
       "arrival_date_day_of_month         0\n",
       "is_repeated_guest                 0\n",
       "previous_cancellations            0\n",
       "previous_bookings_not_canceled    0\n",
       "booking_changes                   0\n",
       "days_in_waiting_list              0\n",
       "adr                               1\n",
       "required_car_parking_spaces       0\n",
       "total_of_special_requests         0\n",
       "is_family                         0\n",
       "total_customer                    0\n",
       "total_nights                      0\n",
       "dtype: int64"
      ]
     },
     "execution_count": 284,
     "metadata": {},
     "output_type": "execute_result"
    }
   ],
   "source": [
    "df4.isna().sum()"
   ]
  },
  {
   "cell_type": "code",
   "execution_count": 285,
   "id": "320be7e0",
   "metadata": {},
   "outputs": [],
   "source": [
    "df4= df4.dropna(subset=['adr'])"
   ]
  },
  {
   "cell_type": "code",
   "execution_count": 286,
   "id": "8fb2c889",
   "metadata": {},
   "outputs": [
    {
     "data": {
      "text/plain": [
       "hotel                             0\n",
       "arrival_date_month                0\n",
       "meal                              0\n",
       "country                           0\n",
       "market_segment                    0\n",
       "distribution_channel              0\n",
       "reserved_room_type                0\n",
       "assigned_room_type                0\n",
       "deposit_type                      0\n",
       "customer_type                     0\n",
       "reservation_status                0\n",
       "reservation_status_date           0\n",
       "weekend_or_weekday                0\n",
       "is_canceled                       0\n",
       "lead_time                         0\n",
       "arrival_date_year                 0\n",
       "arrival_date_week_number          0\n",
       "arrival_date_day_of_month         0\n",
       "is_repeated_guest                 0\n",
       "previous_cancellations            0\n",
       "previous_bookings_not_canceled    0\n",
       "booking_changes                   0\n",
       "days_in_waiting_list              0\n",
       "adr                               0\n",
       "required_car_parking_spaces       0\n",
       "total_of_special_requests         0\n",
       "is_family                         0\n",
       "total_customer                    0\n",
       "total_nights                      0\n",
       "dtype: int64"
      ]
     },
     "execution_count": 286,
     "metadata": {},
     "output_type": "execute_result"
    }
   ],
   "source": [
    "df4.isna().sum()"
   ]
  },
  {
   "cell_type": "code",
   "execution_count": 287,
   "id": "250d8708",
   "metadata": {},
   "outputs": [],
   "source": [
    "corr2=df4.corr()"
   ]
  },
  {
   "cell_type": "code",
   "execution_count": 288,
   "id": "0db3880a",
   "metadata": {},
   "outputs": [
    {
     "data": {
      "text/html": [
       "<div>\n",
       "<style scoped>\n",
       "    .dataframe tbody tr th:only-of-type {\n",
       "        vertical-align: middle;\n",
       "    }\n",
       "\n",
       "    .dataframe tbody tr th {\n",
       "        vertical-align: top;\n",
       "    }\n",
       "\n",
       "    .dataframe thead th {\n",
       "        text-align: right;\n",
       "    }\n",
       "</style>\n",
       "<table border=\"1\" class=\"dataframe\">\n",
       "  <thead>\n",
       "    <tr style=\"text-align: right;\">\n",
       "      <th></th>\n",
       "      <th>hotel</th>\n",
       "      <th>arrival_date_month</th>\n",
       "      <th>meal</th>\n",
       "      <th>country</th>\n",
       "      <th>market_segment</th>\n",
       "      <th>distribution_channel</th>\n",
       "      <th>reserved_room_type</th>\n",
       "      <th>assigned_room_type</th>\n",
       "      <th>deposit_type</th>\n",
       "      <th>customer_type</th>\n",
       "      <th>...</th>\n",
       "      <th>previous_cancellations</th>\n",
       "      <th>previous_bookings_not_canceled</th>\n",
       "      <th>booking_changes</th>\n",
       "      <th>days_in_waiting_list</th>\n",
       "      <th>adr</th>\n",
       "      <th>required_car_parking_spaces</th>\n",
       "      <th>total_of_special_requests</th>\n",
       "      <th>is_family</th>\n",
       "      <th>total_customer</th>\n",
       "      <th>total_nights</th>\n",
       "    </tr>\n",
       "  </thead>\n",
       "  <tbody>\n",
       "    <tr>\n",
       "      <th>hotel</th>\n",
       "      <td>1.000000</td>\n",
       "      <td>0.051206</td>\n",
       "      <td>0.061769</td>\n",
       "      <td>-0.040647</td>\n",
       "      <td>0.102600</td>\n",
       "      <td>0.182318</td>\n",
       "      <td>0.197609</td>\n",
       "      <td>0.280680</td>\n",
       "      <td>0.172805</td>\n",
       "      <td>-0.008372</td>\n",
       "      <td>...</td>\n",
       "      <td>-0.012260</td>\n",
       "      <td>-0.004450</td>\n",
       "      <td>-0.076561</td>\n",
       "      <td>0.072728</td>\n",
       "      <td>0.154101</td>\n",
       "      <td>-0.218962</td>\n",
       "      <td>-0.043509</td>\n",
       "      <td>NaN</td>\n",
       "      <td>-0.038772</td>\n",
       "      <td>-0.249728</td>\n",
       "    </tr>\n",
       "    <tr>\n",
       "      <th>arrival_date_month</th>\n",
       "      <td>0.051206</td>\n",
       "      <td>1.000000</td>\n",
       "      <td>-0.010171</td>\n",
       "      <td>-0.052399</td>\n",
       "      <td>0.047991</td>\n",
       "      <td>0.077025</td>\n",
       "      <td>-0.038548</td>\n",
       "      <td>0.015482</td>\n",
       "      <td>0.057638</td>\n",
       "      <td>-0.029665</td>\n",
       "      <td>...</td>\n",
       "      <td>0.008815</td>\n",
       "      <td>-0.021925</td>\n",
       "      <td>-0.011056</td>\n",
       "      <td>0.029234</td>\n",
       "      <td>0.227951</td>\n",
       "      <td>-0.021939</td>\n",
       "      <td>0.002620</td>\n",
       "      <td>NaN</td>\n",
       "      <td>0.078886</td>\n",
       "      <td>0.045575</td>\n",
       "    </tr>\n",
       "    <tr>\n",
       "      <th>meal</th>\n",
       "      <td>0.061769</td>\n",
       "      <td>-0.010171</td>\n",
       "      <td>1.000000</td>\n",
       "      <td>0.022441</td>\n",
       "      <td>-0.025998</td>\n",
       "      <td>-0.025393</td>\n",
       "      <td>0.010007</td>\n",
       "      <td>0.013953</td>\n",
       "      <td>0.047522</td>\n",
       "      <td>0.105777</td>\n",
       "      <td>...</td>\n",
       "      <td>0.103628</td>\n",
       "      <td>0.011090</td>\n",
       "      <td>-0.027180</td>\n",
       "      <td>-0.031566</td>\n",
       "      <td>-0.019868</td>\n",
       "      <td>0.003443</td>\n",
       "      <td>0.006879</td>\n",
       "      <td>NaN</td>\n",
       "      <td>-0.003443</td>\n",
       "      <td>-0.055667</td>\n",
       "    </tr>\n",
       "    <tr>\n",
       "      <th>country</th>\n",
       "      <td>-0.040647</td>\n",
       "      <td>-0.052399</td>\n",
       "      <td>0.022441</td>\n",
       "      <td>1.000000</td>\n",
       "      <td>0.078938</td>\n",
       "      <td>-0.130131</td>\n",
       "      <td>0.153238</td>\n",
       "      <td>0.125462</td>\n",
       "      <td>0.395722</td>\n",
       "      <td>-0.029274</td>\n",
       "      <td>...</td>\n",
       "      <td>0.093270</td>\n",
       "      <td>0.091810</td>\n",
       "      <td>-0.061480</td>\n",
       "      <td>0.067058</td>\n",
       "      <td>-0.160461</td>\n",
       "      <td>0.007620</td>\n",
       "      <td>-0.200866</td>\n",
       "      <td>NaN</td>\n",
       "      <td>-0.117366</td>\n",
       "      <td>-0.160740</td>\n",
       "    </tr>\n",
       "    <tr>\n",
       "      <th>market_segment</th>\n",
       "      <td>0.102600</td>\n",
       "      <td>0.047991</td>\n",
       "      <td>-0.025998</td>\n",
       "      <td>0.078938</td>\n",
       "      <td>1.000000</td>\n",
       "      <td>0.540376</td>\n",
       "      <td>0.183070</td>\n",
       "      <td>0.209403</td>\n",
       "      <td>0.396776</td>\n",
       "      <td>-0.265573</td>\n",
       "      <td>...</td>\n",
       "      <td>0.074736</td>\n",
       "      <td>-0.117546</td>\n",
       "      <td>-0.057621</td>\n",
       "      <td>0.096421</td>\n",
       "      <td>-0.003868</td>\n",
       "      <td>-0.145749</td>\n",
       "      <td>-0.155581</td>\n",
       "      <td>NaN</td>\n",
       "      <td>-0.023955</td>\n",
       "      <td>-0.004530</td>\n",
       "    </tr>\n",
       "    <tr>\n",
       "      <th>distribution_channel</th>\n",
       "      <td>0.182318</td>\n",
       "      <td>0.077025</td>\n",
       "      <td>-0.025393</td>\n",
       "      <td>-0.130131</td>\n",
       "      <td>0.540376</td>\n",
       "      <td>1.000000</td>\n",
       "      <td>0.070647</td>\n",
       "      <td>0.119162</td>\n",
       "      <td>0.115732</td>\n",
       "      <td>-0.023016</td>\n",
       "      <td>...</td>\n",
       "      <td>-0.003847</td>\n",
       "      <td>-0.142672</td>\n",
       "      <td>-0.118383</td>\n",
       "      <td>0.048054</td>\n",
       "      <td>0.126879</td>\n",
       "      <td>-0.146893</td>\n",
       "      <td>0.074785</td>\n",
       "      <td>NaN</td>\n",
       "      <td>0.087641</td>\n",
       "      <td>0.085072</td>\n",
       "    </tr>\n",
       "    <tr>\n",
       "      <th>reserved_room_type</th>\n",
       "      <td>0.197609</td>\n",
       "      <td>-0.038548</td>\n",
       "      <td>0.010007</td>\n",
       "      <td>0.153238</td>\n",
       "      <td>0.183070</td>\n",
       "      <td>0.070647</td>\n",
       "      <td>1.000000</td>\n",
       "      <td>0.722703</td>\n",
       "      <td>0.201841</td>\n",
       "      <td>-0.143124</td>\n",
       "      <td>...</td>\n",
       "      <td>0.049278</td>\n",
       "      <td>0.022541</td>\n",
       "      <td>-0.040433</td>\n",
       "      <td>0.068343</td>\n",
       "      <td>-0.185765</td>\n",
       "      <td>-0.093282</td>\n",
       "      <td>-0.161413</td>\n",
       "      <td>NaN</td>\n",
       "      <td>-0.246297</td>\n",
       "      <td>-0.188744</td>\n",
       "    </tr>\n",
       "    <tr>\n",
       "      <th>assigned_room_type</th>\n",
       "      <td>0.280680</td>\n",
       "      <td>0.015482</td>\n",
       "      <td>0.013953</td>\n",
       "      <td>0.125462</td>\n",
       "      <td>0.209403</td>\n",
       "      <td>0.119162</td>\n",
       "      <td>0.722703</td>\n",
       "      <td>1.000000</td>\n",
       "      <td>0.263324</td>\n",
       "      <td>-0.083977</td>\n",
       "      <td>...</td>\n",
       "      <td>0.063300</td>\n",
       "      <td>-0.003204</td>\n",
       "      <td>-0.096362</td>\n",
       "      <td>0.067079</td>\n",
       "      <td>-0.038394</td>\n",
       "      <td>-0.130990</td>\n",
       "      <td>-0.135278</td>\n",
       "      <td>NaN</td>\n",
       "      <td>-0.228985</td>\n",
       "      <td>-0.103496</td>\n",
       "    </tr>\n",
       "    <tr>\n",
       "      <th>deposit_type</th>\n",
       "      <td>0.172805</td>\n",
       "      <td>0.057638</td>\n",
       "      <td>0.047522</td>\n",
       "      <td>0.395722</td>\n",
       "      <td>0.396776</td>\n",
       "      <td>0.115732</td>\n",
       "      <td>0.201841</td>\n",
       "      <td>0.263324</td>\n",
       "      <td>1.000000</td>\n",
       "      <td>0.122325</td>\n",
       "      <td>...</td>\n",
       "      <td>0.143316</td>\n",
       "      <td>-0.031484</td>\n",
       "      <td>-0.120846</td>\n",
       "      <td>0.120156</td>\n",
       "      <td>-0.015217</td>\n",
       "      <td>-0.095169</td>\n",
       "      <td>-0.268058</td>\n",
       "      <td>NaN</td>\n",
       "      <td>-0.082648</td>\n",
       "      <td>-0.104886</td>\n",
       "    </tr>\n",
       "    <tr>\n",
       "      <th>customer_type</th>\n",
       "      <td>-0.008372</td>\n",
       "      <td>-0.029665</td>\n",
       "      <td>0.105777</td>\n",
       "      <td>-0.029274</td>\n",
       "      <td>-0.265573</td>\n",
       "      <td>-0.023016</td>\n",
       "      <td>-0.143124</td>\n",
       "      <td>-0.083977</td>\n",
       "      <td>0.122325</td>\n",
       "      <td>1.000000</td>\n",
       "      <td>...</td>\n",
       "      <td>-0.021364</td>\n",
       "      <td>0.024735</td>\n",
       "      <td>-0.095489</td>\n",
       "      <td>-0.101868</td>\n",
       "      <td>0.117494</td>\n",
       "      <td>0.061775</td>\n",
       "      <td>0.137189</td>\n",
       "      <td>NaN</td>\n",
       "      <td>0.124376</td>\n",
       "      <td>0.037782</td>\n",
       "    </tr>\n",
       "    <tr>\n",
       "      <th>reservation_status</th>\n",
       "      <td>0.137049</td>\n",
       "      <td>0.069870</td>\n",
       "      <td>0.050580</td>\n",
       "      <td>0.357197</td>\n",
       "      <td>0.266999</td>\n",
       "      <td>0.177082</td>\n",
       "      <td>0.072830</td>\n",
       "      <td>0.201642</td>\n",
       "      <td>0.481561</td>\n",
       "      <td>0.136696</td>\n",
       "      <td>...</td>\n",
       "      <td>0.110147</td>\n",
       "      <td>-0.057355</td>\n",
       "      <td>-0.144808</td>\n",
       "      <td>0.054308</td>\n",
       "      <td>0.081753</td>\n",
       "      <td>-0.195698</td>\n",
       "      <td>-0.234931</td>\n",
       "      <td>NaN</td>\n",
       "      <td>0.044811</td>\n",
       "      <td>0.018579</td>\n",
       "    </tr>\n",
       "    <tr>\n",
       "      <th>reservation_status_date</th>\n",
       "      <td>0.107498</td>\n",
       "      <td>-0.089383</td>\n",
       "      <td>0.038284</td>\n",
       "      <td>0.340369</td>\n",
       "      <td>0.276524</td>\n",
       "      <td>0.081399</td>\n",
       "      <td>0.148842</td>\n",
       "      <td>0.192014</td>\n",
       "      <td>0.555133</td>\n",
       "      <td>0.055987</td>\n",
       "      <td>...</td>\n",
       "      <td>0.183271</td>\n",
       "      <td>-0.007056</td>\n",
       "      <td>-0.111562</td>\n",
       "      <td>0.042958</td>\n",
       "      <td>-0.106117</td>\n",
       "      <td>-0.087897</td>\n",
       "      <td>-0.218870</td>\n",
       "      <td>NaN</td>\n",
       "      <td>-0.057508</td>\n",
       "      <td>-0.063202</td>\n",
       "    </tr>\n",
       "    <tr>\n",
       "      <th>weekend_or_weekday</th>\n",
       "      <td>0.029410</td>\n",
       "      <td>0.015512</td>\n",
       "      <td>-0.002754</td>\n",
       "      <td>-0.060631</td>\n",
       "      <td>0.068693</td>\n",
       "      <td>0.065991</td>\n",
       "      <td>-0.027074</td>\n",
       "      <td>0.057114</td>\n",
       "      <td>0.049018</td>\n",
       "      <td>-0.027126</td>\n",
       "      <td>...</td>\n",
       "      <td>-0.007082</td>\n",
       "      <td>-0.013361</td>\n",
       "      <td>0.003843</td>\n",
       "      <td>0.026655</td>\n",
       "      <td>0.339653</td>\n",
       "      <td>-0.015646</td>\n",
       "      <td>0.008202</td>\n",
       "      <td>NaN</td>\n",
       "      <td>0.044420</td>\n",
       "      <td>0.205772</td>\n",
       "    </tr>\n",
       "    <tr>\n",
       "      <th>is_canceled</th>\n",
       "      <td>0.137049</td>\n",
       "      <td>0.069870</td>\n",
       "      <td>0.050580</td>\n",
       "      <td>0.357197</td>\n",
       "      <td>0.266999</td>\n",
       "      <td>0.177082</td>\n",
       "      <td>0.072830</td>\n",
       "      <td>0.201642</td>\n",
       "      <td>0.481561</td>\n",
       "      <td>0.136696</td>\n",
       "      <td>...</td>\n",
       "      <td>0.110147</td>\n",
       "      <td>-0.057355</td>\n",
       "      <td>-0.144808</td>\n",
       "      <td>0.054308</td>\n",
       "      <td>0.081753</td>\n",
       "      <td>-0.195698</td>\n",
       "      <td>-0.234931</td>\n",
       "      <td>NaN</td>\n",
       "      <td>0.044811</td>\n",
       "      <td>0.018579</td>\n",
       "    </tr>\n",
       "    <tr>\n",
       "      <th>lead_time</th>\n",
       "      <td>0.076005</td>\n",
       "      <td>0.220675</td>\n",
       "      <td>-0.038213</td>\n",
       "      <td>0.046013</td>\n",
       "      <td>0.380503</td>\n",
       "      <td>0.217804</td>\n",
       "      <td>0.096872</td>\n",
       "      <td>0.173230</td>\n",
       "      <td>0.379887</td>\n",
       "      <td>-0.159487</td>\n",
       "      <td>...</td>\n",
       "      <td>0.086024</td>\n",
       "      <td>-0.073613</td>\n",
       "      <td>0.002200</td>\n",
       "      <td>0.170008</td>\n",
       "      <td>0.022744</td>\n",
       "      <td>-0.116632</td>\n",
       "      <td>-0.095920</td>\n",
       "      <td>NaN</td>\n",
       "      <td>0.070225</td>\n",
       "      <td>0.158279</td>\n",
       "    </tr>\n",
       "    <tr>\n",
       "      <th>arrival_date_year</th>\n",
       "      <td>0.035231</td>\n",
       "      <td>0.015608</td>\n",
       "      <td>-0.024550</td>\n",
       "      <td>-0.180624</td>\n",
       "      <td>-0.064428</td>\n",
       "      <td>0.014357</td>\n",
       "      <td>-0.092337</td>\n",
       "      <td>-0.025269</td>\n",
       "      <td>-0.065976</td>\n",
       "      <td>0.204653</td>\n",
       "      <td>...</td>\n",
       "      <td>-0.119916</td>\n",
       "      <td>0.029219</td>\n",
       "      <td>0.031372</td>\n",
       "      <td>-0.056356</td>\n",
       "      <td>0.159958</td>\n",
       "      <td>-0.013824</td>\n",
       "      <td>0.108671</td>\n",
       "      <td>NaN</td>\n",
       "      <td>0.052804</td>\n",
       "      <td>0.031764</td>\n",
       "    </tr>\n",
       "    <tr>\n",
       "      <th>arrival_date_week_number</th>\n",
       "      <td>0.001218</td>\n",
       "      <td>0.155373</td>\n",
       "      <td>0.015310</td>\n",
       "      <td>0.017297</td>\n",
       "      <td>0.009897</td>\n",
       "      <td>0.010853</td>\n",
       "      <td>0.010083</td>\n",
       "      <td>0.005837</td>\n",
       "      <td>0.007996</td>\n",
       "      <td>-0.067967</td>\n",
       "      <td>...</td>\n",
       "      <td>0.035494</td>\n",
       "      <td>-0.020995</td>\n",
       "      <td>0.006345</td>\n",
       "      <td>0.022677</td>\n",
       "      <td>0.036868</td>\n",
       "      <td>0.001981</td>\n",
       "      <td>0.026185</td>\n",
       "      <td>NaN</td>\n",
       "      <td>0.025748</td>\n",
       "      <td>0.019308</td>\n",
       "    </tr>\n",
       "    <tr>\n",
       "      <th>arrival_date_day_of_month</th>\n",
       "      <td>-0.001668</td>\n",
       "      <td>0.002248</td>\n",
       "      <td>-0.005735</td>\n",
       "      <td>0.001927</td>\n",
       "      <td>0.008175</td>\n",
       "      <td>-0.003699</td>\n",
       "      <td>-0.017019</td>\n",
       "      <td>-0.012018</td>\n",
       "      <td>-0.008974</td>\n",
       "      <td>-0.002096</td>\n",
       "      <td>...</td>\n",
       "      <td>-0.027032</td>\n",
       "      <td>-0.000296</td>\n",
       "      <td>0.011284</td>\n",
       "      <td>0.022527</td>\n",
       "      <td>0.021319</td>\n",
       "      <td>0.008558</td>\n",
       "      <td>0.003051</td>\n",
       "      <td>NaN</td>\n",
       "      <td>0.006653</td>\n",
       "      <td>-0.027527</td>\n",
       "    </tr>\n",
       "    <tr>\n",
       "      <th>is_repeated_guest</th>\n",
       "      <td>-0.052464</td>\n",
       "      <td>-0.057583</td>\n",
       "      <td>0.009795</td>\n",
       "      <td>0.153379</td>\n",
       "      <td>-0.169451</td>\n",
       "      <td>-0.206668</td>\n",
       "      <td>0.032525</td>\n",
       "      <td>-0.028248</td>\n",
       "      <td>-0.057928</td>\n",
       "      <td>0.002819</td>\n",
       "      <td>...</td>\n",
       "      <td>0.082755</td>\n",
       "      <td>0.420641</td>\n",
       "      <td>0.012914</td>\n",
       "      <td>-0.022055</td>\n",
       "      <td>-0.202744</td>\n",
       "      <td>0.077948</td>\n",
       "      <td>0.013004</td>\n",
       "      <td>NaN</td>\n",
       "      <td>-0.132026</td>\n",
       "      <td>-0.104988</td>\n",
       "    </tr>\n",
       "    <tr>\n",
       "      <th>previous_cancellations</th>\n",
       "      <td>-0.012260</td>\n",
       "      <td>0.008815</td>\n",
       "      <td>0.103628</td>\n",
       "      <td>0.093270</td>\n",
       "      <td>0.074736</td>\n",
       "      <td>-0.003847</td>\n",
       "      <td>0.049278</td>\n",
       "      <td>0.063300</td>\n",
       "      <td>0.143316</td>\n",
       "      <td>-0.021364</td>\n",
       "      <td>...</td>\n",
       "      <td>1.000000</td>\n",
       "      <td>0.152572</td>\n",
       "      <td>-0.027261</td>\n",
       "      <td>0.005941</td>\n",
       "      <td>-0.059319</td>\n",
       "      <td>-0.018541</td>\n",
       "      <td>-0.048486</td>\n",
       "      <td>NaN</td>\n",
       "      <td>-0.020408</td>\n",
       "      <td>-0.015436</td>\n",
       "    </tr>\n",
       "    <tr>\n",
       "      <th>previous_bookings_not_canceled</th>\n",
       "      <td>-0.004450</td>\n",
       "      <td>-0.021925</td>\n",
       "      <td>0.011090</td>\n",
       "      <td>0.091810</td>\n",
       "      <td>-0.117546</td>\n",
       "      <td>-0.142672</td>\n",
       "      <td>0.022541</td>\n",
       "      <td>-0.003204</td>\n",
       "      <td>-0.031484</td>\n",
       "      <td>0.024735</td>\n",
       "      <td>...</td>\n",
       "      <td>0.152572</td>\n",
       "      <td>1.000000</td>\n",
       "      <td>0.011933</td>\n",
       "      <td>-0.009415</td>\n",
       "      <td>-0.092918</td>\n",
       "      <td>0.047509</td>\n",
       "      <td>0.037786</td>\n",
       "      <td>NaN</td>\n",
       "      <td>-0.099681</td>\n",
       "      <td>-0.053309</td>\n",
       "    </tr>\n",
       "    <tr>\n",
       "      <th>booking_changes</th>\n",
       "      <td>-0.076561</td>\n",
       "      <td>-0.011056</td>\n",
       "      <td>-0.027180</td>\n",
       "      <td>-0.061480</td>\n",
       "      <td>-0.057621</td>\n",
       "      <td>-0.118383</td>\n",
       "      <td>-0.040433</td>\n",
       "      <td>-0.096362</td>\n",
       "      <td>-0.120846</td>\n",
       "      <td>-0.095489</td>\n",
       "      <td>...</td>\n",
       "      <td>-0.027261</td>\n",
       "      <td>0.011933</td>\n",
       "      <td>1.000000</td>\n",
       "      <td>-0.011915</td>\n",
       "      <td>-0.018552</td>\n",
       "      <td>0.067495</td>\n",
       "      <td>0.055033</td>\n",
       "      <td>NaN</td>\n",
       "      <td>0.006728</td>\n",
       "      <td>0.079351</td>\n",
       "    </tr>\n",
       "    <tr>\n",
       "      <th>days_in_waiting_list</th>\n",
       "      <td>0.072728</td>\n",
       "      <td>0.029234</td>\n",
       "      <td>-0.031566</td>\n",
       "      <td>0.067058</td>\n",
       "      <td>0.096421</td>\n",
       "      <td>0.048054</td>\n",
       "      <td>0.068343</td>\n",
       "      <td>0.067079</td>\n",
       "      <td>0.120156</td>\n",
       "      <td>-0.101868</td>\n",
       "      <td>...</td>\n",
       "      <td>0.005941</td>\n",
       "      <td>-0.009415</td>\n",
       "      <td>-0.011915</td>\n",
       "      <td>1.000000</td>\n",
       "      <td>-0.014127</td>\n",
       "      <td>-0.030603</td>\n",
       "      <td>-0.082753</td>\n",
       "      <td>NaN</td>\n",
       "      <td>-0.026604</td>\n",
       "      <td>-0.022818</td>\n",
       "    </tr>\n",
       "    <tr>\n",
       "      <th>adr</th>\n",
       "      <td>0.154101</td>\n",
       "      <td>0.227951</td>\n",
       "      <td>-0.019868</td>\n",
       "      <td>-0.160461</td>\n",
       "      <td>-0.003868</td>\n",
       "      <td>0.126879</td>\n",
       "      <td>-0.185765</td>\n",
       "      <td>-0.038394</td>\n",
       "      <td>-0.015217</td>\n",
       "      <td>0.117494</td>\n",
       "      <td>...</td>\n",
       "      <td>-0.059319</td>\n",
       "      <td>-0.092918</td>\n",
       "      <td>-0.018552</td>\n",
       "      <td>-0.014127</td>\n",
       "      <td>1.000000</td>\n",
       "      <td>0.022953</td>\n",
       "      <td>0.111513</td>\n",
       "      <td>NaN</td>\n",
       "      <td>0.238125</td>\n",
       "      <td>0.093787</td>\n",
       "    </tr>\n",
       "    <tr>\n",
       "      <th>required_car_parking_spaces</th>\n",
       "      <td>-0.218962</td>\n",
       "      <td>-0.021939</td>\n",
       "      <td>0.003443</td>\n",
       "      <td>0.007620</td>\n",
       "      <td>-0.145749</td>\n",
       "      <td>-0.146893</td>\n",
       "      <td>-0.093282</td>\n",
       "      <td>-0.130990</td>\n",
       "      <td>-0.095169</td>\n",
       "      <td>0.061775</td>\n",
       "      <td>...</td>\n",
       "      <td>-0.018541</td>\n",
       "      <td>0.047509</td>\n",
       "      <td>0.067495</td>\n",
       "      <td>-0.030603</td>\n",
       "      <td>0.022953</td>\n",
       "      <td>1.000000</td>\n",
       "      <td>0.082725</td>\n",
       "      <td>NaN</td>\n",
       "      <td>0.047833</td>\n",
       "      <td>-0.025868</td>\n",
       "    </tr>\n",
       "    <tr>\n",
       "      <th>total_of_special_requests</th>\n",
       "      <td>-0.043509</td>\n",
       "      <td>0.002620</td>\n",
       "      <td>0.006879</td>\n",
       "      <td>-0.200866</td>\n",
       "      <td>-0.155581</td>\n",
       "      <td>0.074785</td>\n",
       "      <td>-0.161413</td>\n",
       "      <td>-0.135278</td>\n",
       "      <td>-0.268058</td>\n",
       "      <td>0.137189</td>\n",
       "      <td>...</td>\n",
       "      <td>-0.048486</td>\n",
       "      <td>0.037786</td>\n",
       "      <td>0.055033</td>\n",
       "      <td>-0.082753</td>\n",
       "      <td>0.111513</td>\n",
       "      <td>0.082725</td>\n",
       "      <td>1.000000</td>\n",
       "      <td>NaN</td>\n",
       "      <td>0.157318</td>\n",
       "      <td>0.079996</td>\n",
       "    </tr>\n",
       "    <tr>\n",
       "      <th>is_family</th>\n",
       "      <td>NaN</td>\n",
       "      <td>NaN</td>\n",
       "      <td>NaN</td>\n",
       "      <td>NaN</td>\n",
       "      <td>NaN</td>\n",
       "      <td>NaN</td>\n",
       "      <td>NaN</td>\n",
       "      <td>NaN</td>\n",
       "      <td>NaN</td>\n",
       "      <td>NaN</td>\n",
       "      <td>...</td>\n",
       "      <td>NaN</td>\n",
       "      <td>NaN</td>\n",
       "      <td>NaN</td>\n",
       "      <td>NaN</td>\n",
       "      <td>NaN</td>\n",
       "      <td>NaN</td>\n",
       "      <td>NaN</td>\n",
       "      <td>NaN</td>\n",
       "      <td>NaN</td>\n",
       "      <td>NaN</td>\n",
       "    </tr>\n",
       "    <tr>\n",
       "      <th>total_customer</th>\n",
       "      <td>-0.038772</td>\n",
       "      <td>0.078886</td>\n",
       "      <td>-0.003443</td>\n",
       "      <td>-0.117366</td>\n",
       "      <td>-0.023955</td>\n",
       "      <td>0.087641</td>\n",
       "      <td>-0.246297</td>\n",
       "      <td>-0.228985</td>\n",
       "      <td>-0.082648</td>\n",
       "      <td>0.124376</td>\n",
       "      <td>...</td>\n",
       "      <td>-0.020408</td>\n",
       "      <td>-0.099681</td>\n",
       "      <td>0.006728</td>\n",
       "      <td>-0.026604</td>\n",
       "      <td>0.238125</td>\n",
       "      <td>0.047833</td>\n",
       "      <td>0.157318</td>\n",
       "      <td>NaN</td>\n",
       "      <td>1.000000</td>\n",
       "      <td>0.118765</td>\n",
       "    </tr>\n",
       "    <tr>\n",
       "      <th>total_nights</th>\n",
       "      <td>-0.249728</td>\n",
       "      <td>0.045575</td>\n",
       "      <td>-0.055667</td>\n",
       "      <td>-0.160740</td>\n",
       "      <td>-0.004530</td>\n",
       "      <td>0.085072</td>\n",
       "      <td>-0.188744</td>\n",
       "      <td>-0.103496</td>\n",
       "      <td>-0.104886</td>\n",
       "      <td>0.037782</td>\n",
       "      <td>...</td>\n",
       "      <td>-0.015436</td>\n",
       "      <td>-0.053309</td>\n",
       "      <td>0.079351</td>\n",
       "      <td>-0.022818</td>\n",
       "      <td>0.093787</td>\n",
       "      <td>-0.025868</td>\n",
       "      <td>0.079996</td>\n",
       "      <td>NaN</td>\n",
       "      <td>0.118765</td>\n",
       "      <td>1.000000</td>\n",
       "    </tr>\n",
       "  </tbody>\n",
       "</table>\n",
       "<p>29 rows × 29 columns</p>\n",
       "</div>"
      ],
      "text/plain": [
       "                                   hotel  arrival_date_month      meal   \n",
       "hotel                           1.000000            0.051206  0.061769  \\\n",
       "arrival_date_month              0.051206            1.000000 -0.010171   \n",
       "meal                            0.061769           -0.010171  1.000000   \n",
       "country                        -0.040647           -0.052399  0.022441   \n",
       "market_segment                  0.102600            0.047991 -0.025998   \n",
       "distribution_channel            0.182318            0.077025 -0.025393   \n",
       "reserved_room_type              0.197609           -0.038548  0.010007   \n",
       "assigned_room_type              0.280680            0.015482  0.013953   \n",
       "deposit_type                    0.172805            0.057638  0.047522   \n",
       "customer_type                  -0.008372           -0.029665  0.105777   \n",
       "reservation_status              0.137049            0.069870  0.050580   \n",
       "reservation_status_date         0.107498           -0.089383  0.038284   \n",
       "weekend_or_weekday              0.029410            0.015512 -0.002754   \n",
       "is_canceled                     0.137049            0.069870  0.050580   \n",
       "lead_time                       0.076005            0.220675 -0.038213   \n",
       "arrival_date_year               0.035231            0.015608 -0.024550   \n",
       "arrival_date_week_number        0.001218            0.155373  0.015310   \n",
       "arrival_date_day_of_month      -0.001668            0.002248 -0.005735   \n",
       "is_repeated_guest              -0.052464           -0.057583  0.009795   \n",
       "previous_cancellations         -0.012260            0.008815  0.103628   \n",
       "previous_bookings_not_canceled -0.004450           -0.021925  0.011090   \n",
       "booking_changes                -0.076561           -0.011056 -0.027180   \n",
       "days_in_waiting_list            0.072728            0.029234 -0.031566   \n",
       "adr                             0.154101            0.227951 -0.019868   \n",
       "required_car_parking_spaces    -0.218962           -0.021939  0.003443   \n",
       "total_of_special_requests      -0.043509            0.002620  0.006879   \n",
       "is_family                            NaN                 NaN       NaN   \n",
       "total_customer                 -0.038772            0.078886 -0.003443   \n",
       "total_nights                   -0.249728            0.045575 -0.055667   \n",
       "\n",
       "                                 country  market_segment   \n",
       "hotel                          -0.040647        0.102600  \\\n",
       "arrival_date_month             -0.052399        0.047991   \n",
       "meal                            0.022441       -0.025998   \n",
       "country                         1.000000        0.078938   \n",
       "market_segment                  0.078938        1.000000   \n",
       "distribution_channel           -0.130131        0.540376   \n",
       "reserved_room_type              0.153238        0.183070   \n",
       "assigned_room_type              0.125462        0.209403   \n",
       "deposit_type                    0.395722        0.396776   \n",
       "customer_type                  -0.029274       -0.265573   \n",
       "reservation_status              0.357197        0.266999   \n",
       "reservation_status_date         0.340369        0.276524   \n",
       "weekend_or_weekday             -0.060631        0.068693   \n",
       "is_canceled                     0.357197        0.266999   \n",
       "lead_time                       0.046013        0.380503   \n",
       "arrival_date_year              -0.180624       -0.064428   \n",
       "arrival_date_week_number        0.017297        0.009897   \n",
       "arrival_date_day_of_month       0.001927        0.008175   \n",
       "is_repeated_guest               0.153379       -0.169451   \n",
       "previous_cancellations          0.093270        0.074736   \n",
       "previous_bookings_not_canceled  0.091810       -0.117546   \n",
       "booking_changes                -0.061480       -0.057621   \n",
       "days_in_waiting_list            0.067058        0.096421   \n",
       "adr                            -0.160461       -0.003868   \n",
       "required_car_parking_spaces     0.007620       -0.145749   \n",
       "total_of_special_requests      -0.200866       -0.155581   \n",
       "is_family                            NaN             NaN   \n",
       "total_customer                 -0.117366       -0.023955   \n",
       "total_nights                   -0.160740       -0.004530   \n",
       "\n",
       "                                distribution_channel  reserved_room_type   \n",
       "hotel                                       0.182318            0.197609  \\\n",
       "arrival_date_month                          0.077025           -0.038548   \n",
       "meal                                       -0.025393            0.010007   \n",
       "country                                    -0.130131            0.153238   \n",
       "market_segment                              0.540376            0.183070   \n",
       "distribution_channel                        1.000000            0.070647   \n",
       "reserved_room_type                          0.070647            1.000000   \n",
       "assigned_room_type                          0.119162            0.722703   \n",
       "deposit_type                                0.115732            0.201841   \n",
       "customer_type                              -0.023016           -0.143124   \n",
       "reservation_status                          0.177082            0.072830   \n",
       "reservation_status_date                     0.081399            0.148842   \n",
       "weekend_or_weekday                          0.065991           -0.027074   \n",
       "is_canceled                                 0.177082            0.072830   \n",
       "lead_time                                   0.217804            0.096872   \n",
       "arrival_date_year                           0.014357           -0.092337   \n",
       "arrival_date_week_number                    0.010853            0.010083   \n",
       "arrival_date_day_of_month                  -0.003699           -0.017019   \n",
       "is_repeated_guest                          -0.206668            0.032525   \n",
       "previous_cancellations                     -0.003847            0.049278   \n",
       "previous_bookings_not_canceled             -0.142672            0.022541   \n",
       "booking_changes                            -0.118383           -0.040433   \n",
       "days_in_waiting_list                        0.048054            0.068343   \n",
       "adr                                         0.126879           -0.185765   \n",
       "required_car_parking_spaces                -0.146893           -0.093282   \n",
       "total_of_special_requests                   0.074785           -0.161413   \n",
       "is_family                                        NaN                 NaN   \n",
       "total_customer                              0.087641           -0.246297   \n",
       "total_nights                                0.085072           -0.188744   \n",
       "\n",
       "                                assigned_room_type  deposit_type   \n",
       "hotel                                     0.280680      0.172805  \\\n",
       "arrival_date_month                        0.015482      0.057638   \n",
       "meal                                      0.013953      0.047522   \n",
       "country                                   0.125462      0.395722   \n",
       "market_segment                            0.209403      0.396776   \n",
       "distribution_channel                      0.119162      0.115732   \n",
       "reserved_room_type                        0.722703      0.201841   \n",
       "assigned_room_type                        1.000000      0.263324   \n",
       "deposit_type                              0.263324      1.000000   \n",
       "customer_type                            -0.083977      0.122325   \n",
       "reservation_status                        0.201642      0.481561   \n",
       "reservation_status_date                   0.192014      0.555133   \n",
       "weekend_or_weekday                        0.057114      0.049018   \n",
       "is_canceled                               0.201642      0.481561   \n",
       "lead_time                                 0.173230      0.379887   \n",
       "arrival_date_year                        -0.025269     -0.065976   \n",
       "arrival_date_week_number                  0.005837      0.007996   \n",
       "arrival_date_day_of_month                -0.012018     -0.008974   \n",
       "is_repeated_guest                        -0.028248     -0.057928   \n",
       "previous_cancellations                    0.063300      0.143316   \n",
       "previous_bookings_not_canceled           -0.003204     -0.031484   \n",
       "booking_changes                          -0.096362     -0.120846   \n",
       "days_in_waiting_list                      0.067079      0.120156   \n",
       "adr                                      -0.038394     -0.015217   \n",
       "required_car_parking_spaces              -0.130990     -0.095169   \n",
       "total_of_special_requests                -0.135278     -0.268058   \n",
       "is_family                                      NaN           NaN   \n",
       "total_customer                           -0.228985     -0.082648   \n",
       "total_nights                             -0.103496     -0.104886   \n",
       "\n",
       "                                customer_type  ...  previous_cancellations   \n",
       "hotel                               -0.008372  ...               -0.012260  \\\n",
       "arrival_date_month                  -0.029665  ...                0.008815   \n",
       "meal                                 0.105777  ...                0.103628   \n",
       "country                             -0.029274  ...                0.093270   \n",
       "market_segment                      -0.265573  ...                0.074736   \n",
       "distribution_channel                -0.023016  ...               -0.003847   \n",
       "reserved_room_type                  -0.143124  ...                0.049278   \n",
       "assigned_room_type                  -0.083977  ...                0.063300   \n",
       "deposit_type                         0.122325  ...                0.143316   \n",
       "customer_type                        1.000000  ...               -0.021364   \n",
       "reservation_status                   0.136696  ...                0.110147   \n",
       "reservation_status_date              0.055987  ...                0.183271   \n",
       "weekend_or_weekday                  -0.027126  ...               -0.007082   \n",
       "is_canceled                          0.136696  ...                0.110147   \n",
       "lead_time                           -0.159487  ...                0.086024   \n",
       "arrival_date_year                    0.204653  ...               -0.119916   \n",
       "arrival_date_week_number            -0.067967  ...                0.035494   \n",
       "arrival_date_day_of_month           -0.002096  ...               -0.027032   \n",
       "is_repeated_guest                    0.002819  ...                0.082755   \n",
       "previous_cancellations              -0.021364  ...                1.000000   \n",
       "previous_bookings_not_canceled       0.024735  ...                0.152572   \n",
       "booking_changes                     -0.095489  ...               -0.027261   \n",
       "days_in_waiting_list                -0.101868  ...                0.005941   \n",
       "adr                                  0.117494  ...               -0.059319   \n",
       "required_car_parking_spaces          0.061775  ...               -0.018541   \n",
       "total_of_special_requests            0.137189  ...               -0.048486   \n",
       "is_family                                 NaN  ...                     NaN   \n",
       "total_customer                       0.124376  ...               -0.020408   \n",
       "total_nights                         0.037782  ...               -0.015436   \n",
       "\n",
       "                                previous_bookings_not_canceled   \n",
       "hotel                                                -0.004450  \\\n",
       "arrival_date_month                                   -0.021925   \n",
       "meal                                                  0.011090   \n",
       "country                                               0.091810   \n",
       "market_segment                                       -0.117546   \n",
       "distribution_channel                                 -0.142672   \n",
       "reserved_room_type                                    0.022541   \n",
       "assigned_room_type                                   -0.003204   \n",
       "deposit_type                                         -0.031484   \n",
       "customer_type                                         0.024735   \n",
       "reservation_status                                   -0.057355   \n",
       "reservation_status_date                              -0.007056   \n",
       "weekend_or_weekday                                   -0.013361   \n",
       "is_canceled                                          -0.057355   \n",
       "lead_time                                            -0.073613   \n",
       "arrival_date_year                                     0.029219   \n",
       "arrival_date_week_number                             -0.020995   \n",
       "arrival_date_day_of_month                            -0.000296   \n",
       "is_repeated_guest                                     0.420641   \n",
       "previous_cancellations                                0.152572   \n",
       "previous_bookings_not_canceled                        1.000000   \n",
       "booking_changes                                       0.011933   \n",
       "days_in_waiting_list                                 -0.009415   \n",
       "adr                                                  -0.092918   \n",
       "required_car_parking_spaces                           0.047509   \n",
       "total_of_special_requests                             0.037786   \n",
       "is_family                                                  NaN   \n",
       "total_customer                                       -0.099681   \n",
       "total_nights                                         -0.053309   \n",
       "\n",
       "                                booking_changes  days_in_waiting_list   \n",
       "hotel                                 -0.076561              0.072728  \\\n",
       "arrival_date_month                    -0.011056              0.029234   \n",
       "meal                                  -0.027180             -0.031566   \n",
       "country                               -0.061480              0.067058   \n",
       "market_segment                        -0.057621              0.096421   \n",
       "distribution_channel                  -0.118383              0.048054   \n",
       "reserved_room_type                    -0.040433              0.068343   \n",
       "assigned_room_type                    -0.096362              0.067079   \n",
       "deposit_type                          -0.120846              0.120156   \n",
       "customer_type                         -0.095489             -0.101868   \n",
       "reservation_status                    -0.144808              0.054308   \n",
       "reservation_status_date               -0.111562              0.042958   \n",
       "weekend_or_weekday                     0.003843              0.026655   \n",
       "is_canceled                           -0.144808              0.054308   \n",
       "lead_time                              0.002200              0.170008   \n",
       "arrival_date_year                      0.031372             -0.056356   \n",
       "arrival_date_week_number               0.006345              0.022677   \n",
       "arrival_date_day_of_month              0.011284              0.022527   \n",
       "is_repeated_guest                      0.012914             -0.022055   \n",
       "previous_cancellations                -0.027261              0.005941   \n",
       "previous_bookings_not_canceled         0.011933             -0.009415   \n",
       "booking_changes                        1.000000             -0.011915   \n",
       "days_in_waiting_list                  -0.011915              1.000000   \n",
       "adr                                   -0.018552             -0.014127   \n",
       "required_car_parking_spaces            0.067495             -0.030603   \n",
       "total_of_special_requests              0.055033             -0.082753   \n",
       "is_family                                   NaN                   NaN   \n",
       "total_customer                         0.006728             -0.026604   \n",
       "total_nights                           0.079351             -0.022818   \n",
       "\n",
       "                                     adr  required_car_parking_spaces   \n",
       "hotel                           0.154101                    -0.218962  \\\n",
       "arrival_date_month              0.227951                    -0.021939   \n",
       "meal                           -0.019868                     0.003443   \n",
       "country                        -0.160461                     0.007620   \n",
       "market_segment                 -0.003868                    -0.145749   \n",
       "distribution_channel            0.126879                    -0.146893   \n",
       "reserved_room_type             -0.185765                    -0.093282   \n",
       "assigned_room_type             -0.038394                    -0.130990   \n",
       "deposit_type                   -0.015217                    -0.095169   \n",
       "customer_type                   0.117494                     0.061775   \n",
       "reservation_status              0.081753                    -0.195698   \n",
       "reservation_status_date        -0.106117                    -0.087897   \n",
       "weekend_or_weekday              0.339653                    -0.015646   \n",
       "is_canceled                     0.081753                    -0.195698   \n",
       "lead_time                       0.022744                    -0.116632   \n",
       "arrival_date_year               0.159958                    -0.013824   \n",
       "arrival_date_week_number        0.036868                     0.001981   \n",
       "arrival_date_day_of_month       0.021319                     0.008558   \n",
       "is_repeated_guest              -0.202744                     0.077948   \n",
       "previous_cancellations         -0.059319                    -0.018541   \n",
       "previous_bookings_not_canceled -0.092918                     0.047509   \n",
       "booking_changes                -0.018552                     0.067495   \n",
       "days_in_waiting_list           -0.014127                    -0.030603   \n",
       "adr                             1.000000                     0.022953   \n",
       "required_car_parking_spaces     0.022953                     1.000000   \n",
       "total_of_special_requests       0.111513                     0.082725   \n",
       "is_family                            NaN                          NaN   \n",
       "total_customer                  0.238125                     0.047833   \n",
       "total_nights                    0.093787                    -0.025868   \n",
       "\n",
       "                                total_of_special_requests  is_family   \n",
       "hotel                                           -0.043509        NaN  \\\n",
       "arrival_date_month                               0.002620        NaN   \n",
       "meal                                             0.006879        NaN   \n",
       "country                                         -0.200866        NaN   \n",
       "market_segment                                  -0.155581        NaN   \n",
       "distribution_channel                             0.074785        NaN   \n",
       "reserved_room_type                              -0.161413        NaN   \n",
       "assigned_room_type                              -0.135278        NaN   \n",
       "deposit_type                                    -0.268058        NaN   \n",
       "customer_type                                    0.137189        NaN   \n",
       "reservation_status                              -0.234931        NaN   \n",
       "reservation_status_date                         -0.218870        NaN   \n",
       "weekend_or_weekday                               0.008202        NaN   \n",
       "is_canceled                                     -0.234931        NaN   \n",
       "lead_time                                       -0.095920        NaN   \n",
       "arrival_date_year                                0.108671        NaN   \n",
       "arrival_date_week_number                         0.026185        NaN   \n",
       "arrival_date_day_of_month                        0.003051        NaN   \n",
       "is_repeated_guest                                0.013004        NaN   \n",
       "previous_cancellations                          -0.048486        NaN   \n",
       "previous_bookings_not_canceled                   0.037786        NaN   \n",
       "booking_changes                                  0.055033        NaN   \n",
       "days_in_waiting_list                            -0.082753        NaN   \n",
       "adr                                              0.111513        NaN   \n",
       "required_car_parking_spaces                      0.082725        NaN   \n",
       "total_of_special_requests                        1.000000        NaN   \n",
       "is_family                                             NaN        NaN   \n",
       "total_customer                                   0.157318        NaN   \n",
       "total_nights                                     0.079996        NaN   \n",
       "\n",
       "                                total_customer  total_nights  \n",
       "hotel                                -0.038772     -0.249728  \n",
       "arrival_date_month                    0.078886      0.045575  \n",
       "meal                                 -0.003443     -0.055667  \n",
       "country                              -0.117366     -0.160740  \n",
       "market_segment                       -0.023955     -0.004530  \n",
       "distribution_channel                  0.087641      0.085072  \n",
       "reserved_room_type                   -0.246297     -0.188744  \n",
       "assigned_room_type                   -0.228985     -0.103496  \n",
       "deposit_type                         -0.082648     -0.104886  \n",
       "customer_type                         0.124376      0.037782  \n",
       "reservation_status                    0.044811      0.018579  \n",
       "reservation_status_date              -0.057508     -0.063202  \n",
       "weekend_or_weekday                    0.044420      0.205772  \n",
       "is_canceled                           0.044811      0.018579  \n",
       "lead_time                             0.070225      0.158279  \n",
       "arrival_date_year                     0.052804      0.031764  \n",
       "arrival_date_week_number              0.025748      0.019308  \n",
       "arrival_date_day_of_month             0.006653     -0.027527  \n",
       "is_repeated_guest                    -0.132026     -0.104988  \n",
       "previous_cancellations               -0.020408     -0.015436  \n",
       "previous_bookings_not_canceled       -0.099681     -0.053309  \n",
       "booking_changes                       0.006728      0.079351  \n",
       "days_in_waiting_list                 -0.026604     -0.022818  \n",
       "adr                                   0.238125      0.093787  \n",
       "required_car_parking_spaces           0.047833     -0.025868  \n",
       "total_of_special_requests             0.157318      0.079996  \n",
       "is_family                                  NaN           NaN  \n",
       "total_customer                        1.000000      0.118765  \n",
       "total_nights                          0.118765      1.000000  \n",
       "\n",
       "[29 rows x 29 columns]"
      ]
     },
     "execution_count": 288,
     "metadata": {},
     "output_type": "execute_result"
    }
   ],
   "source": [
    "corr2"
   ]
  },
  {
   "cell_type": "code",
   "execution_count": 289,
   "id": "7af00fe0",
   "metadata": {},
   "outputs": [
    {
     "data": {
      "text/plain": [
       "reservation_status                1.000000\n",
       "is_canceled                       1.000000\n",
       "reservation_status_date           0.488319\n",
       "deposit_type                      0.481561\n",
       "country                           0.357197\n",
       "lead_time                         0.292937\n",
       "market_segment                    0.266999\n",
       "assigned_room_type                0.201642\n",
       "distribution_channel              0.177082\n",
       "hotel                             0.137049\n",
       "customer_type                     0.136696\n",
       "previous_cancellations            0.110147\n",
       "adr                               0.081753\n",
       "weekend_or_weekday                0.073191\n",
       "reserved_room_type                0.072830\n",
       "arrival_date_month                0.069870\n",
       "days_in_waiting_list              0.054308\n",
       "meal                              0.050580\n",
       "total_customer                    0.044811\n",
       "total_nights                      0.018579\n",
       "arrival_date_year                 0.016702\n",
       "arrival_date_week_number          0.008291\n",
       "arrival_date_day_of_month        -0.005910\n",
       "previous_bookings_not_canceled   -0.057355\n",
       "is_repeated_guest                -0.083715\n",
       "booking_changes                  -0.144808\n",
       "required_car_parking_spaces      -0.195698\n",
       "total_of_special_requests        -0.234931\n",
       "is_family                              NaN\n",
       "Name: is_canceled, dtype: float64"
      ]
     },
     "execution_count": 289,
     "metadata": {},
     "output_type": "execute_result"
    }
   ],
   "source": [
    "corr2['is_canceled'].sort_values(ascending=False)"
   ]
  },
  {
   "cell_type": "code",
   "execution_count": 291,
   "id": "c9d304f3",
   "metadata": {},
   "outputs": [],
   "source": [
    "df4.drop(['reservation_status','deposit_type','is_family','total_of_special_requests','required_car_parking_spaces','booking_changes','is_repeated_guest','previous_bookings_not_canceled','arrival_date_day_of_month','arrival_date_day_of_month'], axis=1,inplace=True)"
   ]
  },
  {
   "cell_type": "code",
   "execution_count": 292,
   "id": "11aca61e",
   "metadata": {},
   "outputs": [],
   "source": [
    "x=df4.drop('is_canceled',axis=1)\n",
    "y=df4['is_canceled']"
   ]
  },
  {
   "cell_type": "code",
   "execution_count": 293,
   "id": "36bd8f0f",
   "metadata": {},
   "outputs": [],
   "source": [
    "from sklearn.linear_model import Lasso\n",
    "from sklearn.feature_selection import SelectFromModel"
   ]
  },
  {
   "cell_type": "code",
   "execution_count": 294,
   "id": "a11d597e",
   "metadata": {},
   "outputs": [
    {
     "data": {
      "text/plain": [
       "array([False, False, False,  True,  True, False, False, False, False,\n",
       "        True, False,  True,  True,  True,  True,  True,  True,  True,\n",
       "        True])"
      ]
     },
     "execution_count": 294,
     "metadata": {},
     "output_type": "execute_result"
    }
   ],
   "source": [
    "feature_sel_model=SelectFromModel(Lasso(alpha=0.005))\n",
    "feature_sel_model.fit(x,y)\n",
    "feature_sel_model.get_support()"
   ]
  },
  {
   "cell_type": "code",
   "execution_count": 295,
   "id": "f04d80f9",
   "metadata": {},
   "outputs": [],
   "source": [
    "cols=x.columns\n",
    "selected_feature=cols[feature_sel_model.get_support()]"
   ]
  },
  {
   "cell_type": "code",
   "execution_count": 296,
   "id": "bedf11e8",
   "metadata": {},
   "outputs": [],
   "source": [
    "x=x[selected_feature]\n"
   ]
  },
  {
   "cell_type": "code",
   "execution_count": 297,
   "id": "a43c7c40",
   "metadata": {},
   "outputs": [],
   "source": [
    "X_train, X_test, y_train, y_test = train_test_split( x, y, test_size=0.25)"
   ]
  },
  {
   "cell_type": "code",
   "execution_count": 298,
   "id": "e6f09b71",
   "metadata": {},
   "outputs": [],
   "source": [
    "from sklearn.linear_model import LogisticRegression"
   ]
  },
  {
   "cell_type": "code",
   "execution_count": 299,
   "id": "dd7bbbb7",
   "metadata": {},
   "outputs": [
    {
     "data": {
      "text/plain": [
       "LogisticRegression()"
      ]
     },
     "execution_count": 299,
     "metadata": {},
     "output_type": "execute_result"
    }
   ],
   "source": [
    "logreg=LogisticRegression()\n",
    "logreg.fit(X_train,y_train)"
   ]
  },
  {
   "cell_type": "code",
   "execution_count": 300,
   "id": "77c76c09",
   "metadata": {},
   "outputs": [],
   "source": [
    "pred=logreg.predict(X_test)"
   ]
  },
  {
   "cell_type": "code",
   "execution_count": 301,
   "id": "6953b52a",
   "metadata": {},
   "outputs": [
    {
     "data": {
      "text/plain": [
       "array([[16769,  2031],\n",
       "       [ 5169,  5833]], dtype=int64)"
      ]
     },
     "execution_count": 301,
     "metadata": {},
     "output_type": "execute_result"
    }
   ],
   "source": [
    "confusion_matrix(y_test,pred)"
   ]
  },
  {
   "cell_type": "code",
   "execution_count": 302,
   "id": "c96ee72a",
   "metadata": {},
   "outputs": [
    {
     "data": {
      "text/plain": [
       "0.7584054761425407"
      ]
     },
     "execution_count": 302,
     "metadata": {},
     "output_type": "execute_result"
    }
   ],
   "source": [
    "accuracy_score(y_test,pred)"
   ]
  },
  {
   "cell_type": "code",
   "execution_count": null,
   "id": "7f905567",
   "metadata": {},
   "outputs": [],
   "source": []
  }
 ],
 "metadata": {
  "kernelspec": {
   "display_name": "Python 3",
   "language": "python",
   "name": "python3"
  },
  "language_info": {
   "codemirror_mode": {
    "name": "ipython",
    "version": 3
   },
   "file_extension": ".py",
   "mimetype": "text/x-python",
   "name": "python",
   "nbconvert_exporter": "python",
   "pygments_lexer": "ipython3",
   "version": "3.8.8"
  }
 },
 "nbformat": 4,
 "nbformat_minor": 5
}
